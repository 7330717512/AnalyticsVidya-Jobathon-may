{
 "cells": [
  {
   "cell_type": "code",
   "execution_count": 1,
   "metadata": {},
   "outputs": [],
   "source": [
    "import numpy as np #numerical functions \n",
    "import pandas as pd #to read the dataset\n",
    "import matplotlib.pyplot as plt #for datavisualization\n",
    "import seaborn as sns "
   ]
  },
  {
   "cell_type": "code",
   "execution_count": 2,
   "metadata": {},
   "outputs": [],
   "source": [
    "df_train = pd.read_csv('C:/Users/vikas/Downloads/train_s3TEQDk.csv')"
   ]
  },
  {
   "cell_type": "code",
   "execution_count": 3,
   "metadata": {},
   "outputs": [
    {
     "data": {
      "text/html": [
       "<div>\n",
       "<style scoped>\n",
       "    .dataframe tbody tr th:only-of-type {\n",
       "        vertical-align: middle;\n",
       "    }\n",
       "\n",
       "    .dataframe tbody tr th {\n",
       "        vertical-align: top;\n",
       "    }\n",
       "\n",
       "    .dataframe thead th {\n",
       "        text-align: right;\n",
       "    }\n",
       "</style>\n",
       "<table border=\"1\" class=\"dataframe\">\n",
       "  <thead>\n",
       "    <tr style=\"text-align: right;\">\n",
       "      <th></th>\n",
       "      <th>ID</th>\n",
       "      <th>Gender</th>\n",
       "      <th>Age</th>\n",
       "      <th>Region_Code</th>\n",
       "      <th>Occupation</th>\n",
       "      <th>Channel_Code</th>\n",
       "      <th>Vintage</th>\n",
       "      <th>Credit_Product</th>\n",
       "      <th>Avg_Account_Balance</th>\n",
       "      <th>Is_Active</th>\n",
       "      <th>Is_Lead</th>\n",
       "    </tr>\n",
       "  </thead>\n",
       "  <tbody>\n",
       "    <tr>\n",
       "      <th>0</th>\n",
       "      <td>NNVBBKZB</td>\n",
       "      <td>Female</td>\n",
       "      <td>73</td>\n",
       "      <td>RG268</td>\n",
       "      <td>Other</td>\n",
       "      <td>X3</td>\n",
       "      <td>43</td>\n",
       "      <td>No</td>\n",
       "      <td>1045696</td>\n",
       "      <td>No</td>\n",
       "      <td>0</td>\n",
       "    </tr>\n",
       "    <tr>\n",
       "      <th>1</th>\n",
       "      <td>IDD62UNG</td>\n",
       "      <td>Female</td>\n",
       "      <td>30</td>\n",
       "      <td>RG277</td>\n",
       "      <td>Salaried</td>\n",
       "      <td>X1</td>\n",
       "      <td>32</td>\n",
       "      <td>No</td>\n",
       "      <td>581988</td>\n",
       "      <td>No</td>\n",
       "      <td>0</td>\n",
       "    </tr>\n",
       "    <tr>\n",
       "      <th>2</th>\n",
       "      <td>HD3DSEMC</td>\n",
       "      <td>Female</td>\n",
       "      <td>56</td>\n",
       "      <td>RG268</td>\n",
       "      <td>Self_Employed</td>\n",
       "      <td>X3</td>\n",
       "      <td>26</td>\n",
       "      <td>No</td>\n",
       "      <td>1484315</td>\n",
       "      <td>Yes</td>\n",
       "      <td>0</td>\n",
       "    </tr>\n",
       "    <tr>\n",
       "      <th>3</th>\n",
       "      <td>BF3NC7KV</td>\n",
       "      <td>Male</td>\n",
       "      <td>34</td>\n",
       "      <td>RG270</td>\n",
       "      <td>Salaried</td>\n",
       "      <td>X1</td>\n",
       "      <td>19</td>\n",
       "      <td>No</td>\n",
       "      <td>470454</td>\n",
       "      <td>No</td>\n",
       "      <td>0</td>\n",
       "    </tr>\n",
       "    <tr>\n",
       "      <th>4</th>\n",
       "      <td>TEASRWXV</td>\n",
       "      <td>Female</td>\n",
       "      <td>30</td>\n",
       "      <td>RG282</td>\n",
       "      <td>Salaried</td>\n",
       "      <td>X1</td>\n",
       "      <td>33</td>\n",
       "      <td>No</td>\n",
       "      <td>886787</td>\n",
       "      <td>No</td>\n",
       "      <td>0</td>\n",
       "    </tr>\n",
       "  </tbody>\n",
       "</table>\n",
       "</div>"
      ],
      "text/plain": [
       "         ID  Gender  Age Region_Code     Occupation Channel_Code  Vintage  \\\n",
       "0  NNVBBKZB  Female   73       RG268          Other           X3       43   \n",
       "1  IDD62UNG  Female   30       RG277       Salaried           X1       32   \n",
       "2  HD3DSEMC  Female   56       RG268  Self_Employed           X3       26   \n",
       "3  BF3NC7KV    Male   34       RG270       Salaried           X1       19   \n",
       "4  TEASRWXV  Female   30       RG282       Salaried           X1       33   \n",
       "\n",
       "  Credit_Product  Avg_Account_Balance Is_Active  Is_Lead  \n",
       "0             No              1045696        No        0  \n",
       "1             No               581988        No        0  \n",
       "2             No              1484315       Yes        0  \n",
       "3             No               470454        No        0  \n",
       "4             No               886787        No        0  "
      ]
     },
     "execution_count": 3,
     "metadata": {},
     "output_type": "execute_result"
    }
   ],
   "source": [
    "df_train.head()"
   ]
  },
  {
   "cell_type": "code",
   "execution_count": 4,
   "metadata": {},
   "outputs": [
    {
     "data": {
      "text/html": [
       "<div>\n",
       "<style scoped>\n",
       "    .dataframe tbody tr th:only-of-type {\n",
       "        vertical-align: middle;\n",
       "    }\n",
       "\n",
       "    .dataframe tbody tr th {\n",
       "        vertical-align: top;\n",
       "    }\n",
       "\n",
       "    .dataframe thead th {\n",
       "        text-align: right;\n",
       "    }\n",
       "</style>\n",
       "<table border=\"1\" class=\"dataframe\">\n",
       "  <thead>\n",
       "    <tr style=\"text-align: right;\">\n",
       "      <th></th>\n",
       "      <th>ID</th>\n",
       "      <th>Gender</th>\n",
       "      <th>Age</th>\n",
       "      <th>Region_Code</th>\n",
       "      <th>Occupation</th>\n",
       "      <th>Channel_Code</th>\n",
       "      <th>Vintage</th>\n",
       "      <th>Credit_Product</th>\n",
       "      <th>Avg_Account_Balance</th>\n",
       "      <th>Is_Active</th>\n",
       "      <th>Is_Lead</th>\n",
       "    </tr>\n",
       "  </thead>\n",
       "  <tbody>\n",
       "    <tr>\n",
       "      <th>66515</th>\n",
       "      <td>BTC4P9BT</td>\n",
       "      <td>Male</td>\n",
       "      <td>44</td>\n",
       "      <td>RG254</td>\n",
       "      <td>Self_Employed</td>\n",
       "      <td>X2</td>\n",
       "      <td>51</td>\n",
       "      <td>NaN</td>\n",
       "      <td>1536860</td>\n",
       "      <td>No</td>\n",
       "      <td>1</td>\n",
       "    </tr>\n",
       "    <tr>\n",
       "      <th>230283</th>\n",
       "      <td>QZNWH2YB</td>\n",
       "      <td>Male</td>\n",
       "      <td>44</td>\n",
       "      <td>RG268</td>\n",
       "      <td>Self_Employed</td>\n",
       "      <td>X3</td>\n",
       "      <td>87</td>\n",
       "      <td>NaN</td>\n",
       "      <td>2455830</td>\n",
       "      <td>Yes</td>\n",
       "      <td>0</td>\n",
       "    </tr>\n",
       "    <tr>\n",
       "      <th>199360</th>\n",
       "      <td>IKYAIVCT</td>\n",
       "      <td>Female</td>\n",
       "      <td>81</td>\n",
       "      <td>RG284</td>\n",
       "      <td>Other</td>\n",
       "      <td>X1</td>\n",
       "      <td>50</td>\n",
       "      <td>Yes</td>\n",
       "      <td>353285</td>\n",
       "      <td>No</td>\n",
       "      <td>1</td>\n",
       "    </tr>\n",
       "    <tr>\n",
       "      <th>230618</th>\n",
       "      <td>GVQ8TGEQ</td>\n",
       "      <td>Male</td>\n",
       "      <td>29</td>\n",
       "      <td>RG256</td>\n",
       "      <td>Salaried</td>\n",
       "      <td>X1</td>\n",
       "      <td>31</td>\n",
       "      <td>No</td>\n",
       "      <td>407878</td>\n",
       "      <td>No</td>\n",
       "      <td>0</td>\n",
       "    </tr>\n",
       "    <tr>\n",
       "      <th>211604</th>\n",
       "      <td>GQYUPKAH</td>\n",
       "      <td>Male</td>\n",
       "      <td>60</td>\n",
       "      <td>RG278</td>\n",
       "      <td>Self_Employed</td>\n",
       "      <td>X2</td>\n",
       "      <td>19</td>\n",
       "      <td>Yes</td>\n",
       "      <td>697048</td>\n",
       "      <td>No</td>\n",
       "      <td>0</td>\n",
       "    </tr>\n",
       "    <tr>\n",
       "      <th>83741</th>\n",
       "      <td>CAKQDNDD</td>\n",
       "      <td>Female</td>\n",
       "      <td>26</td>\n",
       "      <td>RG268</td>\n",
       "      <td>Other</td>\n",
       "      <td>X1</td>\n",
       "      <td>19</td>\n",
       "      <td>No</td>\n",
       "      <td>2636180</td>\n",
       "      <td>Yes</td>\n",
       "      <td>0</td>\n",
       "    </tr>\n",
       "    <tr>\n",
       "      <th>182093</th>\n",
       "      <td>XLOUJ9OV</td>\n",
       "      <td>Female</td>\n",
       "      <td>40</td>\n",
       "      <td>RG283</td>\n",
       "      <td>Self_Employed</td>\n",
       "      <td>X2</td>\n",
       "      <td>20</td>\n",
       "      <td>Yes</td>\n",
       "      <td>2295327</td>\n",
       "      <td>No</td>\n",
       "      <td>0</td>\n",
       "    </tr>\n",
       "    <tr>\n",
       "      <th>235222</th>\n",
       "      <td>GVPQHCCP</td>\n",
       "      <td>Male</td>\n",
       "      <td>42</td>\n",
       "      <td>RG259</td>\n",
       "      <td>Self_Employed</td>\n",
       "      <td>X2</td>\n",
       "      <td>37</td>\n",
       "      <td>Yes</td>\n",
       "      <td>126353</td>\n",
       "      <td>No</td>\n",
       "      <td>0</td>\n",
       "    </tr>\n",
       "    <tr>\n",
       "      <th>99937</th>\n",
       "      <td>MQXT9UTW</td>\n",
       "      <td>Female</td>\n",
       "      <td>33</td>\n",
       "      <td>RG273</td>\n",
       "      <td>Salaried</td>\n",
       "      <td>X1</td>\n",
       "      <td>15</td>\n",
       "      <td>No</td>\n",
       "      <td>256213</td>\n",
       "      <td>No</td>\n",
       "      <td>0</td>\n",
       "    </tr>\n",
       "    <tr>\n",
       "      <th>894</th>\n",
       "      <td>4ZTAHXQG</td>\n",
       "      <td>Male</td>\n",
       "      <td>36</td>\n",
       "      <td>RG269</td>\n",
       "      <td>Self_Employed</td>\n",
       "      <td>X2</td>\n",
       "      <td>14</td>\n",
       "      <td>No</td>\n",
       "      <td>355288</td>\n",
       "      <td>Yes</td>\n",
       "      <td>1</td>\n",
       "    </tr>\n",
       "  </tbody>\n",
       "</table>\n",
       "</div>"
      ],
      "text/plain": [
       "              ID  Gender  Age Region_Code     Occupation Channel_Code  \\\n",
       "66515   BTC4P9BT    Male   44       RG254  Self_Employed           X2   \n",
       "230283  QZNWH2YB    Male   44       RG268  Self_Employed           X3   \n",
       "199360  IKYAIVCT  Female   81       RG284          Other           X1   \n",
       "230618  GVQ8TGEQ    Male   29       RG256       Salaried           X1   \n",
       "211604  GQYUPKAH    Male   60       RG278  Self_Employed           X2   \n",
       "83741   CAKQDNDD  Female   26       RG268          Other           X1   \n",
       "182093  XLOUJ9OV  Female   40       RG283  Self_Employed           X2   \n",
       "235222  GVPQHCCP    Male   42       RG259  Self_Employed           X2   \n",
       "99937   MQXT9UTW  Female   33       RG273       Salaried           X1   \n",
       "894     4ZTAHXQG    Male   36       RG269  Self_Employed           X2   \n",
       "\n",
       "        Vintage Credit_Product  Avg_Account_Balance Is_Active  Is_Lead  \n",
       "66515        51            NaN              1536860        No        1  \n",
       "230283       87            NaN              2455830       Yes        0  \n",
       "199360       50            Yes               353285        No        1  \n",
       "230618       31             No               407878        No        0  \n",
       "211604       19            Yes               697048        No        0  \n",
       "83741        19             No              2636180       Yes        0  \n",
       "182093       20            Yes              2295327        No        0  \n",
       "235222       37            Yes               126353        No        0  \n",
       "99937        15             No               256213        No        0  \n",
       "894          14             No               355288       Yes        1  "
      ]
     },
     "execution_count": 4,
     "metadata": {},
     "output_type": "execute_result"
    }
   ],
   "source": [
    "df_train.sample(10)"
   ]
  },
  {
   "cell_type": "code",
   "execution_count": 5,
   "metadata": {},
   "outputs": [
    {
     "data": {
      "text/plain": [
       "(245725, 11)"
      ]
     },
     "execution_count": 5,
     "metadata": {},
     "output_type": "execute_result"
    }
   ],
   "source": [
    "df_train.shape"
   ]
  },
  {
   "cell_type": "code",
   "execution_count": 6,
   "metadata": {},
   "outputs": [
    {
     "data": {
      "text/plain": [
       "ID                         0\n",
       "Gender                     0\n",
       "Age                        0\n",
       "Region_Code                0\n",
       "Occupation                 0\n",
       "Channel_Code               0\n",
       "Vintage                    0\n",
       "Credit_Product         29325\n",
       "Avg_Account_Balance        0\n",
       "Is_Active                  0\n",
       "Is_Lead                    0\n",
       "dtype: int64"
      ]
     },
     "execution_count": 6,
     "metadata": {},
     "output_type": "execute_result"
    }
   ],
   "source": [
    "df_train.isnull().sum()"
   ]
  },
  {
   "cell_type": "code",
   "execution_count": 7,
   "metadata": {},
   "outputs": [
    {
     "data": {
      "text/plain": [
       "0"
      ]
     },
     "execution_count": 7,
     "metadata": {},
     "output_type": "execute_result"
    }
   ],
   "source": [
    "df_train['ID'].duplicated().sum()"
   ]
  },
  {
   "cell_type": "code",
   "execution_count": 8,
   "metadata": {},
   "outputs": [
    {
     "data": {
      "text/plain": [
       "ID                     245725\n",
       "Gender                      2\n",
       "Age                        63\n",
       "Region_Code                35\n",
       "Occupation                  4\n",
       "Channel_Code                4\n",
       "Vintage                    66\n",
       "Credit_Product              2\n",
       "Avg_Account_Balance    135292\n",
       "Is_Active                   2\n",
       "Is_Lead                     2\n",
       "dtype: int64"
      ]
     },
     "execution_count": 8,
     "metadata": {},
     "output_type": "execute_result"
    }
   ],
   "source": [
    "df_train.nunique()"
   ]
  },
  {
   "cell_type": "code",
   "execution_count": 9,
   "metadata": {},
   "outputs": [
    {
     "data": {
      "text/html": [
       "<div>\n",
       "<style scoped>\n",
       "    .dataframe tbody tr th:only-of-type {\n",
       "        vertical-align: middle;\n",
       "    }\n",
       "\n",
       "    .dataframe tbody tr th {\n",
       "        vertical-align: top;\n",
       "    }\n",
       "\n",
       "    .dataframe thead th {\n",
       "        text-align: right;\n",
       "    }\n",
       "</style>\n",
       "<table border=\"1\" class=\"dataframe\">\n",
       "  <thead>\n",
       "    <tr style=\"text-align: right;\">\n",
       "      <th></th>\n",
       "      <th>ID</th>\n",
       "      <th>Gender</th>\n",
       "      <th>Age</th>\n",
       "      <th>Region_Code</th>\n",
       "      <th>Occupation</th>\n",
       "      <th>Channel_Code</th>\n",
       "      <th>Vintage</th>\n",
       "      <th>Credit_Product</th>\n",
       "      <th>Avg_Account_Balance</th>\n",
       "      <th>Is_Active</th>\n",
       "      <th>Is_Lead</th>\n",
       "    </tr>\n",
       "  </thead>\n",
       "  <tbody>\n",
       "    <tr>\n",
       "      <th>6</th>\n",
       "      <td>ETQCZFEJ</td>\n",
       "      <td>Male</td>\n",
       "      <td>62</td>\n",
       "      <td>RG282</td>\n",
       "      <td>Other</td>\n",
       "      <td>X3</td>\n",
       "      <td>20</td>\n",
       "      <td>NaN</td>\n",
       "      <td>1056750</td>\n",
       "      <td>Yes</td>\n",
       "      <td>1</td>\n",
       "    </tr>\n",
       "    <tr>\n",
       "      <th>15</th>\n",
       "      <td>UJ2NJKKL</td>\n",
       "      <td>Male</td>\n",
       "      <td>33</td>\n",
       "      <td>RG268</td>\n",
       "      <td>Self_Employed</td>\n",
       "      <td>X2</td>\n",
       "      <td>69</td>\n",
       "      <td>NaN</td>\n",
       "      <td>517063</td>\n",
       "      <td>Yes</td>\n",
       "      <td>1</td>\n",
       "    </tr>\n",
       "    <tr>\n",
       "      <th>31</th>\n",
       "      <td>ABPMK4WU</td>\n",
       "      <td>Female</td>\n",
       "      <td>32</td>\n",
       "      <td>RG279</td>\n",
       "      <td>Salaried</td>\n",
       "      <td>X4</td>\n",
       "      <td>15</td>\n",
       "      <td>NaN</td>\n",
       "      <td>1072850</td>\n",
       "      <td>Yes</td>\n",
       "      <td>1</td>\n",
       "    </tr>\n",
       "    <tr>\n",
       "      <th>36</th>\n",
       "      <td>MTEIXMB9</td>\n",
       "      <td>Female</td>\n",
       "      <td>41</td>\n",
       "      <td>RG268</td>\n",
       "      <td>Self_Employed</td>\n",
       "      <td>X3</td>\n",
       "      <td>62</td>\n",
       "      <td>NaN</td>\n",
       "      <td>962383</td>\n",
       "      <td>No</td>\n",
       "      <td>1</td>\n",
       "    </tr>\n",
       "    <tr>\n",
       "      <th>40</th>\n",
       "      <td>6WX9JDVK</td>\n",
       "      <td>Female</td>\n",
       "      <td>63</td>\n",
       "      <td>RG254</td>\n",
       "      <td>Other</td>\n",
       "      <td>X3</td>\n",
       "      <td>103</td>\n",
       "      <td>NaN</td>\n",
       "      <td>1249319</td>\n",
       "      <td>Yes</td>\n",
       "      <td>1</td>\n",
       "    </tr>\n",
       "    <tr>\n",
       "      <th>...</th>\n",
       "      <td>...</td>\n",
       "      <td>...</td>\n",
       "      <td>...</td>\n",
       "      <td>...</td>\n",
       "      <td>...</td>\n",
       "      <td>...</td>\n",
       "      <td>...</td>\n",
       "      <td>...</td>\n",
       "      <td>...</td>\n",
       "      <td>...</td>\n",
       "      <td>...</td>\n",
       "    </tr>\n",
       "    <tr>\n",
       "      <th>245684</th>\n",
       "      <td>WVJFPREY</td>\n",
       "      <td>Female</td>\n",
       "      <td>51</td>\n",
       "      <td>RG281</td>\n",
       "      <td>Entrepreneur</td>\n",
       "      <td>X3</td>\n",
       "      <td>99</td>\n",
       "      <td>NaN</td>\n",
       "      <td>552992</td>\n",
       "      <td>No</td>\n",
       "      <td>1</td>\n",
       "    </tr>\n",
       "    <tr>\n",
       "      <th>245694</th>\n",
       "      <td>WIZBXYQZ</td>\n",
       "      <td>Female</td>\n",
       "      <td>50</td>\n",
       "      <td>RG277</td>\n",
       "      <td>Self_Employed</td>\n",
       "      <td>X2</td>\n",
       "      <td>92</td>\n",
       "      <td>NaN</td>\n",
       "      <td>1385124</td>\n",
       "      <td>No</td>\n",
       "      <td>1</td>\n",
       "    </tr>\n",
       "    <tr>\n",
       "      <th>245699</th>\n",
       "      <td>MARTXU7T</td>\n",
       "      <td>Male</td>\n",
       "      <td>53</td>\n",
       "      <td>RG254</td>\n",
       "      <td>Other</td>\n",
       "      <td>X2</td>\n",
       "      <td>19</td>\n",
       "      <td>NaN</td>\n",
       "      <td>1141825</td>\n",
       "      <td>Yes</td>\n",
       "      <td>1</td>\n",
       "    </tr>\n",
       "    <tr>\n",
       "      <th>245714</th>\n",
       "      <td>KSCFGXV3</td>\n",
       "      <td>Female</td>\n",
       "      <td>46</td>\n",
       "      <td>RG268</td>\n",
       "      <td>Self_Employed</td>\n",
       "      <td>X2</td>\n",
       "      <td>19</td>\n",
       "      <td>NaN</td>\n",
       "      <td>993195</td>\n",
       "      <td>No</td>\n",
       "      <td>1</td>\n",
       "    </tr>\n",
       "    <tr>\n",
       "      <th>245720</th>\n",
       "      <td>BPAWWXZN</td>\n",
       "      <td>Male</td>\n",
       "      <td>51</td>\n",
       "      <td>RG284</td>\n",
       "      <td>Self_Employed</td>\n",
       "      <td>X3</td>\n",
       "      <td>109</td>\n",
       "      <td>NaN</td>\n",
       "      <td>1925586</td>\n",
       "      <td>No</td>\n",
       "      <td>0</td>\n",
       "    </tr>\n",
       "  </tbody>\n",
       "</table>\n",
       "<p>29325 rows × 11 columns</p>\n",
       "</div>"
      ],
      "text/plain": [
       "              ID  Gender  Age Region_Code     Occupation Channel_Code  \\\n",
       "6       ETQCZFEJ    Male   62       RG282          Other           X3   \n",
       "15      UJ2NJKKL    Male   33       RG268  Self_Employed           X2   \n",
       "31      ABPMK4WU  Female   32       RG279       Salaried           X4   \n",
       "36      MTEIXMB9  Female   41       RG268  Self_Employed           X3   \n",
       "40      6WX9JDVK  Female   63       RG254          Other           X3   \n",
       "...          ...     ...  ...         ...            ...          ...   \n",
       "245684  WVJFPREY  Female   51       RG281   Entrepreneur           X3   \n",
       "245694  WIZBXYQZ  Female   50       RG277  Self_Employed           X2   \n",
       "245699  MARTXU7T    Male   53       RG254          Other           X2   \n",
       "245714  KSCFGXV3  Female   46       RG268  Self_Employed           X2   \n",
       "245720  BPAWWXZN    Male   51       RG284  Self_Employed           X3   \n",
       "\n",
       "        Vintage Credit_Product  Avg_Account_Balance Is_Active  Is_Lead  \n",
       "6            20            NaN              1056750       Yes        1  \n",
       "15           69            NaN               517063       Yes        1  \n",
       "31           15            NaN              1072850       Yes        1  \n",
       "36           62            NaN               962383        No        1  \n",
       "40          103            NaN              1249319       Yes        1  \n",
       "...         ...            ...                  ...       ...      ...  \n",
       "245684       99            NaN               552992        No        1  \n",
       "245694       92            NaN              1385124        No        1  \n",
       "245699       19            NaN              1141825       Yes        1  \n",
       "245714       19            NaN               993195        No        1  \n",
       "245720      109            NaN              1925586        No        0  \n",
       "\n",
       "[29325 rows x 11 columns]"
      ]
     },
     "execution_count": 9,
     "metadata": {},
     "output_type": "execute_result"
    }
   ],
   "source": [
    "df_train[df_train['Credit_Product'].isnull()]"
   ]
  },
  {
   "cell_type": "code",
   "execution_count": 10,
   "metadata": {},
   "outputs": [
    {
     "data": {
      "text/plain": [
       "No     144357\n",
       "Yes     72043\n",
       "Name: Credit_Product, dtype: int64"
      ]
     },
     "execution_count": 10,
     "metadata": {},
     "output_type": "execute_result"
    }
   ],
   "source": [
    "df_train['Credit_Product'].value_counts()"
   ]
  },
  {
   "cell_type": "code",
   "execution_count": 11,
   "metadata": {},
   "outputs": [
    {
     "data": {
      "text/plain": [
       "Int64Index([     6,     15,     31,     36,     40,     43,     56,     60,\n",
       "                61,     66,\n",
       "            ...\n",
       "            245649, 245668, 245671, 245673, 245683, 245684, 245694, 245699,\n",
       "            245714, 245720],\n",
       "           dtype='int64', length=29325)"
      ]
     },
     "execution_count": 11,
     "metadata": {},
     "output_type": "execute_result"
    }
   ],
   "source": [
    "df_train[df_train['Credit_Product'].isna()].index"
   ]
  },
  {
   "cell_type": "code",
   "execution_count": 12,
   "metadata": {},
   "outputs": [],
   "source": [
    "df_train['Credit_Product'].fillna(\"Yes\",inplace=True)"
   ]
  },
  {
   "cell_type": "code",
   "execution_count": 13,
   "metadata": {},
   "outputs": [
    {
     "data": {
      "text/plain": [
       "ID                     0\n",
       "Gender                 0\n",
       "Age                    0\n",
       "Region_Code            0\n",
       "Occupation             0\n",
       "Channel_Code           0\n",
       "Vintage                0\n",
       "Credit_Product         0\n",
       "Avg_Account_Balance    0\n",
       "Is_Active              0\n",
       "Is_Lead                0\n",
       "dtype: int64"
      ]
     },
     "execution_count": 13,
     "metadata": {},
     "output_type": "execute_result"
    }
   ],
   "source": [
    "df_train.isnull().sum()"
   ]
  },
  {
   "cell_type": "code",
   "execution_count": 14,
   "metadata": {},
   "outputs": [
    {
     "data": {
      "text/plain": [
       "No     144357\n",
       "Yes    101368\n",
       "Name: Credit_Product, dtype: int64"
      ]
     },
     "execution_count": 14,
     "metadata": {},
     "output_type": "execute_result"
    }
   ],
   "source": [
    "df_train['Credit_Product'].value_counts()"
   ]
  },
  {
   "cell_type": "code",
   "execution_count": 15,
   "metadata": {},
   "outputs": [],
   "source": [
    "df_creditproduct_islead = df_train.groupby(['Credit_Product'])['Is_Lead'].count().reset_index()"
   ]
  },
  {
   "cell_type": "code",
   "execution_count": 16,
   "metadata": {},
   "outputs": [
    {
     "data": {
      "text/html": [
       "<div>\n",
       "<style scoped>\n",
       "    .dataframe tbody tr th:only-of-type {\n",
       "        vertical-align: middle;\n",
       "    }\n",
       "\n",
       "    .dataframe tbody tr th {\n",
       "        vertical-align: top;\n",
       "    }\n",
       "\n",
       "    .dataframe thead th {\n",
       "        text-align: right;\n",
       "    }\n",
       "</style>\n",
       "<table border=\"1\" class=\"dataframe\">\n",
       "  <thead>\n",
       "    <tr style=\"text-align: right;\">\n",
       "      <th></th>\n",
       "      <th>Credit_Product</th>\n",
       "      <th>Is_Lead</th>\n",
       "    </tr>\n",
       "  </thead>\n",
       "  <tbody>\n",
       "    <tr>\n",
       "      <th>0</th>\n",
       "      <td>No</td>\n",
       "      <td>144357</td>\n",
       "    </tr>\n",
       "    <tr>\n",
       "      <th>1</th>\n",
       "      <td>Yes</td>\n",
       "      <td>101368</td>\n",
       "    </tr>\n",
       "  </tbody>\n",
       "</table>\n",
       "</div>"
      ],
      "text/plain": [
       "  Credit_Product  Is_Lead\n",
       "0             No   144357\n",
       "1            Yes   101368"
      ]
     },
     "execution_count": 16,
     "metadata": {},
     "output_type": "execute_result"
    }
   ],
   "source": [
    "df_creditproduct_islead"
   ]
  },
  {
   "cell_type": "code",
   "execution_count": 17,
   "metadata": {},
   "outputs": [
    {
     "data": {
      "text/plain": [
       "<matplotlib.axes._subplots.AxesSubplot at 0x1ad1874f370>"
      ]
     },
     "execution_count": 17,
     "metadata": {},
     "output_type": "execute_result"
    },
    {
     "data": {
      "image/png": "[encoded data removed]",
      "text/plain": [
       "<Figure size 432x288 with 1 Axes>"
      ]
     },
     "metadata": {
      "needs_background": "light"
     },
     "output_type": "display_data"
    }
   ],
   "source": [
    "sns.barplot(x='Credit_Product', y='Is_Lead',data=df_creditproduct_islead)"
   ]
  },
  {
   "cell_type": "code",
   "execution_count": 18,
   "metadata": {},
   "outputs": [],
   "source": [
    "df_gender = pd.DataFrame(df_train.Gender.value_counts())"
   ]
  },
  {
   "cell_type": "code",
   "execution_count": 19,
   "metadata": {},
   "outputs": [
    {
     "data": {
      "text/plain": [
       "<matplotlib.axes._subplots.AxesSubplot at 0x1ad1902e6d0>"
      ]
     },
     "execution_count": 19,
     "metadata": {},
     "output_type": "execute_result"
    },
    {
     "data": {
      "image/png": "[encoded data removed]",
      "text/plain": [
       "<Figure size 432x288 with 1 Axes>"
      ]
     },
     "metadata": {
      "needs_background": "light"
     },
     "output_type": "display_data"
    }
   ],
   "source": [
    "sns.barplot(x=df_gender.index,y='Gender',data=df_gender)"
   ]
  },
  {
   "cell_type": "code",
   "execution_count": 20,
   "metadata": {},
   "outputs": [
    {
     "name": "stderr",
     "output_type": "stream",
     "text": [
      "C:\\Users\\vikas\\anaconda3\\lib\\site-packages\\seaborn\\distributions.py:2557: FutureWarning: `distplot` is a deprecated function and will be removed in a future version. Please adapt your code to use either `displot` (a figure-level function with similar flexibility) or `histplot` (an axes-level function for histograms).\n",
      "  warnings.warn(msg, FutureWarning)\n"
     ]
    },
    {
     "data": {
      "text/plain": [
       "<matplotlib.axes._subplots.AxesSubplot at 0x1ad19082ca0>"
      ]
     },
     "execution_count": 20,
     "metadata": {},
     "output_type": "execute_result"
    },
    {
     "data": {
      "image/png": "[encoded data removed]",
      "text/plain": [
       "<Figure size 432x288 with 1 Axes>"
      ]
     },
     "metadata": {
      "needs_background": "light"
     },
     "output_type": "display_data"
    }
   ],
   "source": [
    "sns.distplot(df_train['Age'])"
   ]
  },
  {
   "cell_type": "code",
   "execution_count": 21,
   "metadata": {},
   "outputs": [
    {
     "name": "stderr",
     "output_type": "stream",
     "text": [
      "C:\\Users\\vikas\\anaconda3\\lib\\site-packages\\seaborn\\_decorators.py:36: FutureWarning: Pass the following variable as a keyword arg: x. From version 0.12, the only valid positional argument will be `data`, and passing other arguments without an explicit keyword will result in an error or misinterpretation.\n",
      "  warnings.warn(\n"
     ]
    },
    {
     "data": {
      "text/plain": [
       "<matplotlib.axes._subplots.AxesSubplot at 0x1ad191e63a0>"
      ]
     },
     "execution_count": 21,
     "metadata": {},
     "output_type": "execute_result"
    },
    {
     "data": {
      "image/png": "[encoded data removed]",
      "text/plain": [
       "<Figure size 432x288 with 1 Axes>"
      ]
     },
     "metadata": {
      "needs_background": "light"
     },
     "output_type": "display_data"
    }
   ],
   "source": [
    "sns.boxplot('Age',data=df_train)"
   ]
  },
  {
   "cell_type": "code",
   "execution_count": 22,
   "metadata": {},
   "outputs": [],
   "source": [
    "df_Occupation = df_train.groupby('Occupation')['ID'].count().reset_index()"
   ]
  },
  {
   "cell_type": "code",
   "execution_count": 23,
   "metadata": {},
   "outputs": [
    {
     "data": {
      "text/html": [
       "<div>\n",
       "<style scoped>\n",
       "    .dataframe tbody tr th:only-of-type {\n",
       "        vertical-align: middle;\n",
       "    }\n",
       "\n",
       "    .dataframe tbody tr th {\n",
       "        vertical-align: top;\n",
       "    }\n",
       "\n",
       "    .dataframe thead th {\n",
       "        text-align: right;\n",
       "    }\n",
       "</style>\n",
       "<table border=\"1\" class=\"dataframe\">\n",
       "  <thead>\n",
       "    <tr style=\"text-align: right;\">\n",
       "      <th></th>\n",
       "      <th>Occupation</th>\n",
       "      <th>ID</th>\n",
       "    </tr>\n",
       "  </thead>\n",
       "  <tbody>\n",
       "    <tr>\n",
       "      <th>0</th>\n",
       "      <td>Entrepreneur</td>\n",
       "      <td>2667</td>\n",
       "    </tr>\n",
       "    <tr>\n",
       "      <th>1</th>\n",
       "      <td>Other</td>\n",
       "      <td>70173</td>\n",
       "    </tr>\n",
       "    <tr>\n",
       "      <th>2</th>\n",
       "      <td>Salaried</td>\n",
       "      <td>71999</td>\n",
       "    </tr>\n",
       "    <tr>\n",
       "      <th>3</th>\n",
       "      <td>Self_Employed</td>\n",
       "      <td>100886</td>\n",
       "    </tr>\n",
       "  </tbody>\n",
       "</table>\n",
       "</div>"
      ],
      "text/plain": [
       "      Occupation      ID\n",
       "0   Entrepreneur    2667\n",
       "1          Other   70173\n",
       "2       Salaried   71999\n",
       "3  Self_Employed  100886"
      ]
     },
     "execution_count": 23,
     "metadata": {},
     "output_type": "execute_result"
    }
   ],
   "source": [
    "df_Occupation"
   ]
  },
  {
   "cell_type": "code",
   "execution_count": 24,
   "metadata": {},
   "outputs": [
    {
     "data": {
      "text/plain": [
       "<matplotlib.axes._subplots.AxesSubplot at 0x1ad184e0c10>"
      ]
     },
     "execution_count": 24,
     "metadata": {},
     "output_type": "execute_result"
    },
    {
     "data": {
      "image/png": "[encoded data removed]",
      "text/plain": [
       "<Figure size 432x288 with 1 Axes>"
      ]
     },
     "metadata": {
      "needs_background": "light"
     },
     "output_type": "display_data"
    }
   ],
   "source": [
    "sns.barplot(x='Occupation',y='ID',data=df_Occupation)"
   ]
  },
  {
   "cell_type": "code",
   "execution_count": 25,
   "metadata": {},
   "outputs": [
    {
     "data": {
      "text/plain": [
       "<matplotlib.axes._subplots.AxesSubplot at 0x1ad192c06a0>"
      ]
     },
     "execution_count": 25,
     "metadata": {},
     "output_type": "execute_result"
    },
    {
     "data": {
      "image/png": "[encoded data removed]",
      "text/plain": [
       "<Figure size 432x288 with 1 Axes>"
      ]
     },
     "metadata": {
      "needs_background": "light"
     },
     "output_type": "display_data"
    }
   ],
   "source": [
    "sns.countplot(x='Channel_Code',data=df_train)"
   ]
  },
  {
   "cell_type": "code",
   "execution_count": 26,
   "metadata": {},
   "outputs": [
    {
     "data": {
      "text/plain": [
       "<matplotlib.axes._subplots.AxesSubplot at 0x1ad199c05b0>"
      ]
     },
     "execution_count": 26,
     "metadata": {},
     "output_type": "execute_result"
    },
    {
     "data": {
      "image/png": "[encoded data removed]",
      "text/plain": [
       "<Figure size 432x288 with 1 Axes>"
      ]
     },
     "metadata": {
      "needs_background": "light"
     },
     "output_type": "display_data"
    }
   ],
   "source": [
    "df_train['Vintage'].hist(bins=10)"
   ]
  },
  {
   "cell_type": "code",
   "execution_count": 27,
   "metadata": {},
   "outputs": [
    {
     "data": {
      "text/plain": [
       "<matplotlib.axes._subplots.AxesSubplot at 0x1ad19a455b0>"
      ]
     },
     "execution_count": 27,
     "metadata": {},
     "output_type": "execute_result"
    },
    {
     "data": {
      "image/png": "[encoded data removed]",
      "text/plain": [
       "<Figure size 432x288 with 1 Axes>"
      ]
     },
     "metadata": {
      "needs_background": "light"
     },
     "output_type": "display_data"
    }
   ],
   "source": [
    "sns.boxplot(x='Vintage',data=df_train)"
   ]
  },
  {
   "cell_type": "code",
   "execution_count": 28,
   "metadata": {},
   "outputs": [
    {
     "data": {
      "text/plain": [
       "<matplotlib.axes._subplots.AxesSubplot at 0x1ad19a92550>"
      ]
     },
     "execution_count": 28,
     "metadata": {},
     "output_type": "execute_result"
    },
    {
     "data": {
      "image/png": "[encoded data removed]",
      "text/plain": [
       "<Figure size 432x288 with 1 Axes>"
      ]
     },
     "metadata": {
      "needs_background": "light"
     },
     "output_type": "display_data"
    }
   ],
   "source": [
    "sns.boxplot(x='Avg_Account_Balance',data=df_train,orient=\"h\")"
   ]
  },
  {
   "cell_type": "code",
   "execution_count": 29,
   "metadata": {},
   "outputs": [
    {
     "data": {
      "text/plain": [
       "0    187437\n",
       "1     58288\n",
       "Name: Is_Lead, dtype: int64"
      ]
     },
     "execution_count": 29,
     "metadata": {},
     "output_type": "execute_result"
    }
   ],
   "source": [
    "df_train.Is_Lead.value_counts()"
   ]
  },
  {
   "cell_type": "code",
   "execution_count": 30,
   "metadata": {},
   "outputs": [],
   "source": [
    "df_train.set_index(\"ID\",inplace=True)"
   ]
  },
  {
   "cell_type": "code",
   "execution_count": 31,
   "metadata": {},
   "outputs": [],
   "source": [
    "train = df_train.copy()"
   ]
  },
  {
   "cell_type": "code",
   "execution_count": 32,
   "metadata": {
    "scrolled": true
   },
   "outputs": [
    {
     "data": {
      "text/html": [
       "<div>\n",
       "<style scoped>\n",
       "    .dataframe tbody tr th:only-of-type {\n",
       "        vertical-align: middle;\n",
       "    }\n",
       "\n",
       "    .dataframe tbody tr th {\n",
       "        vertical-align: top;\n",
       "    }\n",
       "\n",
       "    .dataframe thead th {\n",
       "        text-align: right;\n",
       "    }\n",
       "</style>\n",
       "<table border=\"1\" class=\"dataframe\">\n",
       "  <thead>\n",
       "    <tr style=\"text-align: right;\">\n",
       "      <th></th>\n",
       "      <th>Gender</th>\n",
       "      <th>Age</th>\n",
       "      <th>Region_Code</th>\n",
       "      <th>Occupation</th>\n",
       "      <th>Channel_Code</th>\n",
       "      <th>Vintage</th>\n",
       "      <th>Credit_Product</th>\n",
       "      <th>Avg_Account_Balance</th>\n",
       "      <th>Is_Active</th>\n",
       "      <th>Is_Lead</th>\n",
       "    </tr>\n",
       "    <tr>\n",
       "      <th>ID</th>\n",
       "      <th></th>\n",
       "      <th></th>\n",
       "      <th></th>\n",
       "      <th></th>\n",
       "      <th></th>\n",
       "      <th></th>\n",
       "      <th></th>\n",
       "      <th></th>\n",
       "      <th></th>\n",
       "      <th></th>\n",
       "    </tr>\n",
       "  </thead>\n",
       "  <tbody>\n",
       "    <tr>\n",
       "      <th>NNVBBKZB</th>\n",
       "      <td>Female</td>\n",
       "      <td>73</td>\n",
       "      <td>RG268</td>\n",
       "      <td>Other</td>\n",
       "      <td>X3</td>\n",
       "      <td>43</td>\n",
       "      <td>No</td>\n",
       "      <td>1045696</td>\n",
       "      <td>No</td>\n",
       "      <td>0</td>\n",
       "    </tr>\n",
       "    <tr>\n",
       "      <th>IDD62UNG</th>\n",
       "      <td>Female</td>\n",
       "      <td>30</td>\n",
       "      <td>RG277</td>\n",
       "      <td>Salaried</td>\n",
       "      <td>X1</td>\n",
       "      <td>32</td>\n",
       "      <td>No</td>\n",
       "      <td>581988</td>\n",
       "      <td>No</td>\n",
       "      <td>0</td>\n",
       "    </tr>\n",
       "    <tr>\n",
       "      <th>HD3DSEMC</th>\n",
       "      <td>Female</td>\n",
       "      <td>56</td>\n",
       "      <td>RG268</td>\n",
       "      <td>Self_Employed</td>\n",
       "      <td>X3</td>\n",
       "      <td>26</td>\n",
       "      <td>No</td>\n",
       "      <td>1484315</td>\n",
       "      <td>Yes</td>\n",
       "      <td>0</td>\n",
       "    </tr>\n",
       "    <tr>\n",
       "      <th>BF3NC7KV</th>\n",
       "      <td>Male</td>\n",
       "      <td>34</td>\n",
       "      <td>RG270</td>\n",
       "      <td>Salaried</td>\n",
       "      <td>X1</td>\n",
       "      <td>19</td>\n",
       "      <td>No</td>\n",
       "      <td>470454</td>\n",
       "      <td>No</td>\n",
       "      <td>0</td>\n",
       "    </tr>\n",
       "    <tr>\n",
       "      <th>TEASRWXV</th>\n",
       "      <td>Female</td>\n",
       "      <td>30</td>\n",
       "      <td>RG282</td>\n",
       "      <td>Salaried</td>\n",
       "      <td>X1</td>\n",
       "      <td>33</td>\n",
       "      <td>No</td>\n",
       "      <td>886787</td>\n",
       "      <td>No</td>\n",
       "      <td>0</td>\n",
       "    </tr>\n",
       "  </tbody>\n",
       "</table>\n",
       "</div>"
      ],
      "text/plain": [
       "          Gender  Age Region_Code     Occupation Channel_Code  Vintage  \\\n",
       "ID                                                                       \n",
       "NNVBBKZB  Female   73       RG268          Other           X3       43   \n",
       "IDD62UNG  Female   30       RG277       Salaried           X1       32   \n",
       "HD3DSEMC  Female   56       RG268  Self_Employed           X3       26   \n",
       "BF3NC7KV    Male   34       RG270       Salaried           X1       19   \n",
       "TEASRWXV  Female   30       RG282       Salaried           X1       33   \n",
       "\n",
       "         Credit_Product  Avg_Account_Balance Is_Active  Is_Lead  \n",
       "ID                                                               \n",
       "NNVBBKZB             No              1045696        No        0  \n",
       "IDD62UNG             No               581988        No        0  \n",
       "HD3DSEMC             No              1484315       Yes        0  \n",
       "BF3NC7KV             No               470454        No        0  \n",
       "TEASRWXV             No               886787        No        0  "
      ]
     },
     "execution_count": 32,
     "metadata": {},
     "output_type": "execute_result"
    }
   ],
   "source": [
    "train.head()"
   ]
  },
  {
   "cell_type": "code",
   "execution_count": 303,
   "metadata": {},
   "outputs": [
    {
     "data": {
      "text/plain": [
       "35"
      ]
     },
     "execution_count": 303,
     "metadata": {},
     "output_type": "execute_result"
    }
   ],
   "source": [
    "train['Region_Code'].nunique()"
   ]
  },
  {
   "cell_type": "code",
   "execution_count": 33,
   "metadata": {},
   "outputs": [],
   "source": [
    "df_dummy = pd.get_dummies(train[[\"Gender\",\"Occupation\",\"Channel_Code\",\"Credit_Product\",\"Is_Active\"]],drop_first=True)"
   ]
  },
  {
   "cell_type": "code",
   "execution_count": 34,
   "metadata": {},
   "outputs": [],
   "source": [
    "train_dummy = pd.concat([train,df_dummy],axis=1)"
   ]
  },
  {
   "cell_type": "code",
   "execution_count": 35,
   "metadata": {},
   "outputs": [
    {
     "data": {
      "text/html": [
       "<div>\n",
       "<style scoped>\n",
       "    .dataframe tbody tr th:only-of-type {\n",
       "        vertical-align: middle;\n",
       "    }\n",
       "\n",
       "    .dataframe tbody tr th {\n",
       "        vertical-align: top;\n",
       "    }\n",
       "\n",
       "    .dataframe thead th {\n",
       "        text-align: right;\n",
       "    }\n",
       "</style>\n",
       "<table border=\"1\" class=\"dataframe\">\n",
       "  <thead>\n",
       "    <tr style=\"text-align: right;\">\n",
       "      <th></th>\n",
       "      <th>Gender</th>\n",
       "      <th>Age</th>\n",
       "      <th>Region_Code</th>\n",
       "      <th>Occupation</th>\n",
       "      <th>Channel_Code</th>\n",
       "      <th>Vintage</th>\n",
       "      <th>Credit_Product</th>\n",
       "      <th>Avg_Account_Balance</th>\n",
       "      <th>Is_Active</th>\n",
       "      <th>Is_Lead</th>\n",
       "      <th>Gender_Male</th>\n",
       "      <th>Occupation_Other</th>\n",
       "      <th>Occupation_Salaried</th>\n",
       "      <th>Occupation_Self_Employed</th>\n",
       "      <th>Channel_Code_X2</th>\n",
       "      <th>Channel_Code_X3</th>\n",
       "      <th>Channel_Code_X4</th>\n",
       "      <th>Credit_Product_Yes</th>\n",
       "      <th>Is_Active_Yes</th>\n",
       "    </tr>\n",
       "    <tr>\n",
       "      <th>ID</th>\n",
       "      <th></th>\n",
       "      <th></th>\n",
       "      <th></th>\n",
       "      <th></th>\n",
       "      <th></th>\n",
       "      <th></th>\n",
       "      <th></th>\n",
       "      <th></th>\n",
       "      <th></th>\n",
       "      <th></th>\n",
       "      <th></th>\n",
       "      <th></th>\n",
       "      <th></th>\n",
       "      <th></th>\n",
       "      <th></th>\n",
       "      <th></th>\n",
       "      <th></th>\n",
       "      <th></th>\n",
       "      <th></th>\n",
       "    </tr>\n",
       "  </thead>\n",
       "  <tbody>\n",
       "    <tr>\n",
       "      <th>NNVBBKZB</th>\n",
       "      <td>Female</td>\n",
       "      <td>73</td>\n",
       "      <td>RG268</td>\n",
       "      <td>Other</td>\n",
       "      <td>X3</td>\n",
       "      <td>43</td>\n",
       "      <td>No</td>\n",
       "      <td>1045696</td>\n",
       "      <td>No</td>\n",
       "      <td>0</td>\n",
       "      <td>0</td>\n",
       "      <td>1</td>\n",
       "      <td>0</td>\n",
       "      <td>0</td>\n",
       "      <td>0</td>\n",
       "      <td>1</td>\n",
       "      <td>0</td>\n",
       "      <td>0</td>\n",
       "      <td>0</td>\n",
       "    </tr>\n",
       "    <tr>\n",
       "      <th>IDD62UNG</th>\n",
       "      <td>Female</td>\n",
       "      <td>30</td>\n",
       "      <td>RG277</td>\n",
       "      <td>Salaried</td>\n",
       "      <td>X1</td>\n",
       "      <td>32</td>\n",
       "      <td>No</td>\n",
       "      <td>581988</td>\n",
       "      <td>No</td>\n",
       "      <td>0</td>\n",
       "      <td>0</td>\n",
       "      <td>0</td>\n",
       "      <td>1</td>\n",
       "      <td>0</td>\n",
       "      <td>0</td>\n",
       "      <td>0</td>\n",
       "      <td>0</td>\n",
       "      <td>0</td>\n",
       "      <td>0</td>\n",
       "    </tr>\n",
       "    <tr>\n",
       "      <th>HD3DSEMC</th>\n",
       "      <td>Female</td>\n",
       "      <td>56</td>\n",
       "      <td>RG268</td>\n",
       "      <td>Self_Employed</td>\n",
       "      <td>X3</td>\n",
       "      <td>26</td>\n",
       "      <td>No</td>\n",
       "      <td>1484315</td>\n",
       "      <td>Yes</td>\n",
       "      <td>0</td>\n",
       "      <td>0</td>\n",
       "      <td>0</td>\n",
       "      <td>0</td>\n",
       "      <td>1</td>\n",
       "      <td>0</td>\n",
       "      <td>1</td>\n",
       "      <td>0</td>\n",
       "      <td>0</td>\n",
       "      <td>1</td>\n",
       "    </tr>\n",
       "    <tr>\n",
       "      <th>BF3NC7KV</th>\n",
       "      <td>Male</td>\n",
       "      <td>34</td>\n",
       "      <td>RG270</td>\n",
       "      <td>Salaried</td>\n",
       "      <td>X1</td>\n",
       "      <td>19</td>\n",
       "      <td>No</td>\n",
       "      <td>470454</td>\n",
       "      <td>No</td>\n",
       "      <td>0</td>\n",
       "      <td>1</td>\n",
       "      <td>0</td>\n",
       "      <td>1</td>\n",
       "      <td>0</td>\n",
       "      <td>0</td>\n",
       "      <td>0</td>\n",
       "      <td>0</td>\n",
       "      <td>0</td>\n",
       "      <td>0</td>\n",
       "    </tr>\n",
       "    <tr>\n",
       "      <th>TEASRWXV</th>\n",
       "      <td>Female</td>\n",
       "      <td>30</td>\n",
       "      <td>RG282</td>\n",
       "      <td>Salaried</td>\n",
       "      <td>X1</td>\n",
       "      <td>33</td>\n",
       "      <td>No</td>\n",
       "      <td>886787</td>\n",
       "      <td>No</td>\n",
       "      <td>0</td>\n",
       "      <td>0</td>\n",
       "      <td>0</td>\n",
       "      <td>1</td>\n",
       "      <td>0</td>\n",
       "      <td>0</td>\n",
       "      <td>0</td>\n",
       "      <td>0</td>\n",
       "      <td>0</td>\n",
       "      <td>0</td>\n",
       "    </tr>\n",
       "  </tbody>\n",
       "</table>\n",
       "</div>"
      ],
      "text/plain": [
       "          Gender  Age Region_Code     Occupation Channel_Code  Vintage  \\\n",
       "ID                                                                       \n",
       "NNVBBKZB  Female   73       RG268          Other           X3       43   \n",
       "IDD62UNG  Female   30       RG277       Salaried           X1       32   \n",
       "HD3DSEMC  Female   56       RG268  Self_Employed           X3       26   \n",
       "BF3NC7KV    Male   34       RG270       Salaried           X1       19   \n",
       "TEASRWXV  Female   30       RG282       Salaried           X1       33   \n",
       "\n",
       "         Credit_Product  Avg_Account_Balance Is_Active  Is_Lead  Gender_Male  \\\n",
       "ID                                                                             \n",
       "NNVBBKZB             No              1045696        No        0            0   \n",
       "IDD62UNG             No               581988        No        0            0   \n",
       "HD3DSEMC             No              1484315       Yes        0            0   \n",
       "BF3NC7KV             No               470454        No        0            1   \n",
       "TEASRWXV             No               886787        No        0            0   \n",
       "\n",
       "          Occupation_Other  Occupation_Salaried  Occupation_Self_Employed  \\\n",
       "ID                                                                          \n",
       "NNVBBKZB                 1                    0                         0   \n",
       "IDD62UNG                 0                    1                         0   \n",
       "HD3DSEMC                 0                    0                         1   \n",
       "BF3NC7KV                 0                    1                         0   \n",
       "TEASRWXV                 0                    1                         0   \n",
       "\n",
       "          Channel_Code_X2  Channel_Code_X3  Channel_Code_X4  \\\n",
       "ID                                                            \n",
       "NNVBBKZB                0                1                0   \n",
       "IDD62UNG                0                0                0   \n",
       "HD3DSEMC                0                1                0   \n",
       "BF3NC7KV                0                0                0   \n",
       "TEASRWXV                0                0                0   \n",
       "\n",
       "          Credit_Product_Yes  Is_Active_Yes  \n",
       "ID                                           \n",
       "NNVBBKZB                   0              0  \n",
       "IDD62UNG                   0              0  \n",
       "HD3DSEMC                   0              1  \n",
       "BF3NC7KV                   0              0  \n",
       "TEASRWXV                   0              0  "
      ]
     },
     "execution_count": 35,
     "metadata": {},
     "output_type": "execute_result"
    }
   ],
   "source": [
    "train_dummy.head()"
   ]
  },
  {
   "cell_type": "code",
   "execution_count": 36,
   "metadata": {},
   "outputs": [
    {
     "data": {
      "text/plain": [
       "<matplotlib.axes._subplots.AxesSubplot at 0x1ad18faf7f0>"
      ]
     },
     "execution_count": 36,
     "metadata": {},
     "output_type": "execute_result"
    },
    {
     "data": {
      "image/png": "[encoded data removed]",
      "text/plain": [
       "<Figure size 1152x720 with 2 Axes>"
      ]
     },
     "metadata": {
      "needs_background": "light"
     },
     "output_type": "display_data"
    }
   ],
   "source": [
    "plt.figure(figsize=(16,10))\n",
    "sns.heatmap(train_dummy.corr(),annot=True)"
   ]
  },
  {
   "cell_type": "code",
   "execution_count": 37,
   "metadata": {},
   "outputs": [],
   "source": [
    "f_train = train_dummy.drop(columns=[\"Gender\",\"Region_Code\",\"Occupation\",\"Channel_Code\",\"Credit_Product\",\"Is_Active\"])"
   ]
  },
  {
   "cell_type": "code",
   "execution_count": 38,
   "metadata": {
    "scrolled": true
   },
   "outputs": [
    {
     "data": {
      "text/html": [
       "<div>\n",
       "<style scoped>\n",
       "    .dataframe tbody tr th:only-of-type {\n",
       "        vertical-align: middle;\n",
       "    }\n",
       "\n",
       "    .dataframe tbody tr th {\n",
       "        vertical-align: top;\n",
       "    }\n",
       "\n",
       "    .dataframe thead th {\n",
       "        text-align: right;\n",
       "    }\n",
       "</style>\n",
       "<table border=\"1\" class=\"dataframe\">\n",
       "  <thead>\n",
       "    <tr style=\"text-align: right;\">\n",
       "      <th></th>\n",
       "      <th>Age</th>\n",
       "      <th>Vintage</th>\n",
       "      <th>Avg_Account_Balance</th>\n",
       "      <th>Is_Lead</th>\n",
       "      <th>Gender_Male</th>\n",
       "      <th>Occupation_Other</th>\n",
       "      <th>Occupation_Salaried</th>\n",
       "      <th>Occupation_Self_Employed</th>\n",
       "      <th>Channel_Code_X2</th>\n",
       "      <th>Channel_Code_X3</th>\n",
       "      <th>Channel_Code_X4</th>\n",
       "      <th>Credit_Product_Yes</th>\n",
       "      <th>Is_Active_Yes</th>\n",
       "    </tr>\n",
       "    <tr>\n",
       "      <th>ID</th>\n",
       "      <th></th>\n",
       "      <th></th>\n",
       "      <th></th>\n",
       "      <th></th>\n",
       "      <th></th>\n",
       "      <th></th>\n",
       "      <th></th>\n",
       "      <th></th>\n",
       "      <th></th>\n",
       "      <th></th>\n",
       "      <th></th>\n",
       "      <th></th>\n",
       "      <th></th>\n",
       "    </tr>\n",
       "  </thead>\n",
       "  <tbody>\n",
       "    <tr>\n",
       "      <th>SEYVDA3X</th>\n",
       "      <td>33</td>\n",
       "      <td>27</td>\n",
       "      <td>1006821</td>\n",
       "      <td>0</td>\n",
       "      <td>0</td>\n",
       "      <td>0</td>\n",
       "      <td>0</td>\n",
       "      <td>1</td>\n",
       "      <td>1</td>\n",
       "      <td>0</td>\n",
       "      <td>0</td>\n",
       "      <td>0</td>\n",
       "      <td>0</td>\n",
       "    </tr>\n",
       "    <tr>\n",
       "      <th>UBHQ5IUL</th>\n",
       "      <td>38</td>\n",
       "      <td>21</td>\n",
       "      <td>334551</td>\n",
       "      <td>0</td>\n",
       "      <td>0</td>\n",
       "      <td>0</td>\n",
       "      <td>0</td>\n",
       "      <td>1</td>\n",
       "      <td>1</td>\n",
       "      <td>0</td>\n",
       "      <td>0</td>\n",
       "      <td>0</td>\n",
       "      <td>0</td>\n",
       "    </tr>\n",
       "    <tr>\n",
       "      <th>FFJJNLAJ</th>\n",
       "      <td>39</td>\n",
       "      <td>85</td>\n",
       "      <td>606704</td>\n",
       "      <td>1</td>\n",
       "      <td>0</td>\n",
       "      <td>0</td>\n",
       "      <td>0</td>\n",
       "      <td>1</td>\n",
       "      <td>1</td>\n",
       "      <td>0</td>\n",
       "      <td>0</td>\n",
       "      <td>0</td>\n",
       "      <td>1</td>\n",
       "    </tr>\n",
       "    <tr>\n",
       "      <th>HBJYKRVN</th>\n",
       "      <td>55</td>\n",
       "      <td>69</td>\n",
       "      <td>1853522</td>\n",
       "      <td>0</td>\n",
       "      <td>1</td>\n",
       "      <td>0</td>\n",
       "      <td>0</td>\n",
       "      <td>1</td>\n",
       "      <td>0</td>\n",
       "      <td>1</td>\n",
       "      <td>0</td>\n",
       "      <td>0</td>\n",
       "      <td>0</td>\n",
       "    </tr>\n",
       "    <tr>\n",
       "      <th>BRABJA6W</th>\n",
       "      <td>47</td>\n",
       "      <td>68</td>\n",
       "      <td>696238</td>\n",
       "      <td>1</td>\n",
       "      <td>1</td>\n",
       "      <td>0</td>\n",
       "      <td>0</td>\n",
       "      <td>1</td>\n",
       "      <td>1</td>\n",
       "      <td>0</td>\n",
       "      <td>0</td>\n",
       "      <td>1</td>\n",
       "      <td>0</td>\n",
       "    </tr>\n",
       "    <tr>\n",
       "      <th>2L6ZMXEL</th>\n",
       "      <td>59</td>\n",
       "      <td>99</td>\n",
       "      <td>921328</td>\n",
       "      <td>1</td>\n",
       "      <td>0</td>\n",
       "      <td>0</td>\n",
       "      <td>0</td>\n",
       "      <td>1</td>\n",
       "      <td>1</td>\n",
       "      <td>0</td>\n",
       "      <td>0</td>\n",
       "      <td>0</td>\n",
       "      <td>1</td>\n",
       "    </tr>\n",
       "    <tr>\n",
       "      <th>CG2XYVDI</th>\n",
       "      <td>28</td>\n",
       "      <td>19</td>\n",
       "      <td>1419194</td>\n",
       "      <td>1</td>\n",
       "      <td>1</td>\n",
       "      <td>0</td>\n",
       "      <td>1</td>\n",
       "      <td>0</td>\n",
       "      <td>0</td>\n",
       "      <td>0</td>\n",
       "      <td>0</td>\n",
       "      <td>1</td>\n",
       "      <td>0</td>\n",
       "    </tr>\n",
       "    <tr>\n",
       "      <th>VTQNCPEB</th>\n",
       "      <td>50</td>\n",
       "      <td>49</td>\n",
       "      <td>1091451</td>\n",
       "      <td>0</td>\n",
       "      <td>0</td>\n",
       "      <td>0</td>\n",
       "      <td>0</td>\n",
       "      <td>1</td>\n",
       "      <td>0</td>\n",
       "      <td>1</td>\n",
       "      <td>0</td>\n",
       "      <td>0</td>\n",
       "      <td>0</td>\n",
       "    </tr>\n",
       "    <tr>\n",
       "      <th>FUDOYSS7</th>\n",
       "      <td>54</td>\n",
       "      <td>55</td>\n",
       "      <td>1251811</td>\n",
       "      <td>0</td>\n",
       "      <td>1</td>\n",
       "      <td>0</td>\n",
       "      <td>0</td>\n",
       "      <td>1</td>\n",
       "      <td>1</td>\n",
       "      <td>0</td>\n",
       "      <td>0</td>\n",
       "      <td>0</td>\n",
       "      <td>1</td>\n",
       "    </tr>\n",
       "    <tr>\n",
       "      <th>H6DQQ2C8</th>\n",
       "      <td>33</td>\n",
       "      <td>32</td>\n",
       "      <td>2482485</td>\n",
       "      <td>0</td>\n",
       "      <td>0</td>\n",
       "      <td>0</td>\n",
       "      <td>1</td>\n",
       "      <td>0</td>\n",
       "      <td>0</td>\n",
       "      <td>0</td>\n",
       "      <td>0</td>\n",
       "      <td>0</td>\n",
       "      <td>0</td>\n",
       "    </tr>\n",
       "  </tbody>\n",
       "</table>\n",
       "</div>"
      ],
      "text/plain": [
       "          Age  Vintage  Avg_Account_Balance  Is_Lead  Gender_Male  \\\n",
       "ID                                                                  \n",
       "SEYVDA3X   33       27              1006821        0            0   \n",
       "UBHQ5IUL   38       21               334551        0            0   \n",
       "FFJJNLAJ   39       85               606704        1            0   \n",
       "HBJYKRVN   55       69              1853522        0            1   \n",
       "BRABJA6W   47       68               696238        1            1   \n",
       "2L6ZMXEL   59       99               921328        1            0   \n",
       "CG2XYVDI   28       19              1419194        1            1   \n",
       "VTQNCPEB   50       49              1091451        0            0   \n",
       "FUDOYSS7   54       55              1251811        0            1   \n",
       "H6DQQ2C8   33       32              2482485        0            0   \n",
       "\n",
       "          Occupation_Other  Occupation_Salaried  Occupation_Self_Employed  \\\n",
       "ID                                                                          \n",
       "SEYVDA3X                 0                    0                         1   \n",
       "UBHQ5IUL                 0                    0                         1   \n",
       "FFJJNLAJ                 0                    0                         1   \n",
       "HBJYKRVN                 0                    0                         1   \n",
       "BRABJA6W                 0                    0                         1   \n",
       "2L6ZMXEL                 0                    0                         1   \n",
       "CG2XYVDI                 0                    1                         0   \n",
       "VTQNCPEB                 0                    0                         1   \n",
       "FUDOYSS7                 0                    0                         1   \n",
       "H6DQQ2C8                 0                    1                         0   \n",
       "\n",
       "          Channel_Code_X2  Channel_Code_X3  Channel_Code_X4  \\\n",
       "ID                                                            \n",
       "SEYVDA3X                1                0                0   \n",
       "UBHQ5IUL                1                0                0   \n",
       "FFJJNLAJ                1                0                0   \n",
       "HBJYKRVN                0                1                0   \n",
       "BRABJA6W                1                0                0   \n",
       "2L6ZMXEL                1                0                0   \n",
       "CG2XYVDI                0                0                0   \n",
       "VTQNCPEB                0                1                0   \n",
       "FUDOYSS7                1                0                0   \n",
       "H6DQQ2C8                0                0                0   \n",
       "\n",
       "          Credit_Product_Yes  Is_Active_Yes  \n",
       "ID                                           \n",
       "SEYVDA3X                   0              0  \n",
       "UBHQ5IUL                   0              0  \n",
       "FFJJNLAJ                   0              1  \n",
       "HBJYKRVN                   0              0  \n",
       "BRABJA6W                   1              0  \n",
       "2L6ZMXEL                   0              1  \n",
       "CG2XYVDI                   1              0  \n",
       "VTQNCPEB                   0              0  \n",
       "FUDOYSS7                   0              1  \n",
       "H6DQQ2C8                   0              0  "
      ]
     },
     "execution_count": 38,
     "metadata": {},
     "output_type": "execute_result"
    }
   ],
   "source": [
    "f_train.sample(10)"
   ]
  },
  {
   "cell_type": "code",
   "execution_count": 39,
   "metadata": {},
   "outputs": [
    {
     "name": "stderr",
     "output_type": "stream",
     "text": [
      "C:\\Users\\vikas\\anaconda3\\lib\\site-packages\\seaborn\\distributions.py:2557: FutureWarning: `distplot` is a deprecated function and will be removed in a future version. Please adapt your code to use either `displot` (a figure-level function with similar flexibility) or `histplot` (an axes-level function for histograms).\n",
      "  warnings.warn(msg, FutureWarning)\n"
     ]
    },
    {
     "data": {
      "text/plain": [
       "<matplotlib.axes._subplots.AxesSubplot at 0x1ad1f9cd580>"
      ]
     },
     "execution_count": 39,
     "metadata": {},
     "output_type": "execute_result"
    },
    {
     "data": {
      "image/png": "[encoded data removed]",
      "text/plain": [
       "<Figure size 432x288 with 1 Axes>"
      ]
     },
     "metadata": {
      "needs_background": "light"
     },
     "output_type": "display_data"
    }
   ],
   "source": [
    "sns.distplot(f_train['Vintage'],bins=10)"
   ]
  },
  {
   "cell_type": "code",
   "execution_count": 40,
   "metadata": {},
   "outputs": [
    {
     "name": "stderr",
     "output_type": "stream",
     "text": [
      "C:\\Users\\vikas\\anaconda3\\lib\\site-packages\\seaborn\\distributions.py:2557: FutureWarning: `distplot` is a deprecated function and will be removed in a future version. Please adapt your code to use either `displot` (a figure-level function with similar flexibility) or `histplot` (an axes-level function for histograms).\n",
      "  warnings.warn(msg, FutureWarning)\n"
     ]
    },
    {
     "data": {
      "text/plain": [
       "<matplotlib.axes._subplots.AxesSubplot at 0x1ad213fd820>"
      ]
     },
     "execution_count": 40,
     "metadata": {},
     "output_type": "execute_result"
    },
    {
     "data": {
      "image/png": "[encoded data removed]",
      "text/plain": [
       "<Figure size 432x288 with 1 Axes>"
      ]
     },
     "metadata": {
      "needs_background": "light"
     },
     "output_type": "display_data"
    }
   ],
   "source": [
    "sns.distplot(f_train['Avg_Account_Balance'],bins=10)"
   ]
  },
  {
   "cell_type": "code",
   "execution_count": 41,
   "metadata": {},
   "outputs": [],
   "source": [
    "X = f_train.drop(\"Is_Lead\",axis=1)\n",
    "y = f_train[\"Is_Lead\"]"
   ]
  },
  {
   "cell_type": "code",
   "execution_count": 42,
   "metadata": {},
   "outputs": [
    {
     "data": {
      "text/html": [
       "<div>\n",
       "<style scoped>\n",
       "    .dataframe tbody tr th:only-of-type {\n",
       "        vertical-align: middle;\n",
       "    }\n",
       "\n",
       "    .dataframe tbody tr th {\n",
       "        vertical-align: top;\n",
       "    }\n",
       "\n",
       "    .dataframe thead th {\n",
       "        text-align: right;\n",
       "    }\n",
       "</style>\n",
       "<table border=\"1\" class=\"dataframe\">\n",
       "  <thead>\n",
       "    <tr style=\"text-align: right;\">\n",
       "      <th></th>\n",
       "      <th>Age</th>\n",
       "      <th>Vintage</th>\n",
       "      <th>Avg_Account_Balance</th>\n",
       "      <th>Gender_Male</th>\n",
       "      <th>Occupation_Other</th>\n",
       "      <th>Occupation_Salaried</th>\n",
       "      <th>Occupation_Self_Employed</th>\n",
       "      <th>Channel_Code_X2</th>\n",
       "      <th>Channel_Code_X3</th>\n",
       "      <th>Channel_Code_X4</th>\n",
       "      <th>Credit_Product_Yes</th>\n",
       "      <th>Is_Active_Yes</th>\n",
       "    </tr>\n",
       "    <tr>\n",
       "      <th>ID</th>\n",
       "      <th></th>\n",
       "      <th></th>\n",
       "      <th></th>\n",
       "      <th></th>\n",
       "      <th></th>\n",
       "      <th></th>\n",
       "      <th></th>\n",
       "      <th></th>\n",
       "      <th></th>\n",
       "      <th></th>\n",
       "      <th></th>\n",
       "      <th></th>\n",
       "    </tr>\n",
       "  </thead>\n",
       "  <tbody>\n",
       "    <tr>\n",
       "      <th>NNVBBKZB</th>\n",
       "      <td>73</td>\n",
       "      <td>43</td>\n",
       "      <td>1045696</td>\n",
       "      <td>0</td>\n",
       "      <td>1</td>\n",
       "      <td>0</td>\n",
       "      <td>0</td>\n",
       "      <td>0</td>\n",
       "      <td>1</td>\n",
       "      <td>0</td>\n",
       "      <td>0</td>\n",
       "      <td>0</td>\n",
       "    </tr>\n",
       "    <tr>\n",
       "      <th>IDD62UNG</th>\n",
       "      <td>30</td>\n",
       "      <td>32</td>\n",
       "      <td>581988</td>\n",
       "      <td>0</td>\n",
       "      <td>0</td>\n",
       "      <td>1</td>\n",
       "      <td>0</td>\n",
       "      <td>0</td>\n",
       "      <td>0</td>\n",
       "      <td>0</td>\n",
       "      <td>0</td>\n",
       "      <td>0</td>\n",
       "    </tr>\n",
       "    <tr>\n",
       "      <th>HD3DSEMC</th>\n",
       "      <td>56</td>\n",
       "      <td>26</td>\n",
       "      <td>1484315</td>\n",
       "      <td>0</td>\n",
       "      <td>0</td>\n",
       "      <td>0</td>\n",
       "      <td>1</td>\n",
       "      <td>0</td>\n",
       "      <td>1</td>\n",
       "      <td>0</td>\n",
       "      <td>0</td>\n",
       "      <td>1</td>\n",
       "    </tr>\n",
       "    <tr>\n",
       "      <th>BF3NC7KV</th>\n",
       "      <td>34</td>\n",
       "      <td>19</td>\n",
       "      <td>470454</td>\n",
       "      <td>1</td>\n",
       "      <td>0</td>\n",
       "      <td>1</td>\n",
       "      <td>0</td>\n",
       "      <td>0</td>\n",
       "      <td>0</td>\n",
       "      <td>0</td>\n",
       "      <td>0</td>\n",
       "      <td>0</td>\n",
       "    </tr>\n",
       "    <tr>\n",
       "      <th>TEASRWXV</th>\n",
       "      <td>30</td>\n",
       "      <td>33</td>\n",
       "      <td>886787</td>\n",
       "      <td>0</td>\n",
       "      <td>0</td>\n",
       "      <td>1</td>\n",
       "      <td>0</td>\n",
       "      <td>0</td>\n",
       "      <td>0</td>\n",
       "      <td>0</td>\n",
       "      <td>0</td>\n",
       "      <td>0</td>\n",
       "    </tr>\n",
       "  </tbody>\n",
       "</table>\n",
       "</div>"
      ],
      "text/plain": [
       "          Age  Vintage  Avg_Account_Balance  Gender_Male  Occupation_Other  \\\n",
       "ID                                                                           \n",
       "NNVBBKZB   73       43              1045696            0                 1   \n",
       "IDD62UNG   30       32               581988            0                 0   \n",
       "HD3DSEMC   56       26              1484315            0                 0   \n",
       "BF3NC7KV   34       19               470454            1                 0   \n",
       "TEASRWXV   30       33               886787            0                 0   \n",
       "\n",
       "          Occupation_Salaried  Occupation_Self_Employed  Channel_Code_X2  \\\n",
       "ID                                                                         \n",
       "NNVBBKZB                    0                         0                0   \n",
       "IDD62UNG                    1                         0                0   \n",
       "HD3DSEMC                    0                         1                0   \n",
       "BF3NC7KV                    1                         0                0   \n",
       "TEASRWXV                    1                         0                0   \n",
       "\n",
       "          Channel_Code_X3  Channel_Code_X4  Credit_Product_Yes  Is_Active_Yes  \n",
       "ID                                                                             \n",
       "NNVBBKZB                1                0                   0              0  \n",
       "IDD62UNG                0                0                   0              0  \n",
       "HD3DSEMC                1                0                   0              1  \n",
       "BF3NC7KV                0                0                   0              0  \n",
       "TEASRWXV                0                0                   0              0  "
      ]
     },
     "execution_count": 42,
     "metadata": {},
     "output_type": "execute_result"
    }
   ],
   "source": [
    "X.head()"
   ]
  },
  {
   "cell_type": "code",
   "execution_count": 43,
   "metadata": {},
   "outputs": [
    {
     "data": {
      "text/plain": [
       "ID\n",
       "NNVBBKZB    0\n",
       "IDD62UNG    0\n",
       "HD3DSEMC    0\n",
       "BF3NC7KV    0\n",
       "TEASRWXV    0\n",
       "           ..\n",
       "BPAWWXZN    0\n",
       "HFNB7JY8    0\n",
       "GEHAUCWT    0\n",
       "GE7V8SAH    0\n",
       "BOCZSWLJ    0\n",
       "Name: Is_Lead, Length: 245725, dtype: int64"
      ]
     },
     "execution_count": 43,
     "metadata": {},
     "output_type": "execute_result"
    }
   ],
   "source": [
    "y"
   ]
  },
  {
   "cell_type": "code",
   "execution_count": 44,
   "metadata": {},
   "outputs": [],
   "source": [
    "from sklearn.model_selection import train_test_split\n",
    "X_train, X_test, y_train, y_test = train_test_split(X,y,test_size=0.2, random_state=42)"
   ]
  },
  {
   "cell_type": "code",
   "execution_count": 45,
   "metadata": {},
   "outputs": [
    {
     "data": {
      "text/html": [
       "<div>\n",
       "<style scoped>\n",
       "    .dataframe tbody tr th:only-of-type {\n",
       "        vertical-align: middle;\n",
       "    }\n",
       "\n",
       "    .dataframe tbody tr th {\n",
       "        vertical-align: top;\n",
       "    }\n",
       "\n",
       "    .dataframe thead th {\n",
       "        text-align: right;\n",
       "    }\n",
       "</style>\n",
       "<table border=\"1\" class=\"dataframe\">\n",
       "  <thead>\n",
       "    <tr style=\"text-align: right;\">\n",
       "      <th></th>\n",
       "      <th>Age</th>\n",
       "      <th>Vintage</th>\n",
       "      <th>Avg_Account_Balance</th>\n",
       "      <th>Gender_Male</th>\n",
       "      <th>Occupation_Other</th>\n",
       "      <th>Occupation_Salaried</th>\n",
       "      <th>Occupation_Self_Employed</th>\n",
       "      <th>Channel_Code_X2</th>\n",
       "      <th>Channel_Code_X3</th>\n",
       "      <th>Channel_Code_X4</th>\n",
       "      <th>Credit_Product_Yes</th>\n",
       "      <th>Is_Active_Yes</th>\n",
       "    </tr>\n",
       "    <tr>\n",
       "      <th>ID</th>\n",
       "      <th></th>\n",
       "      <th></th>\n",
       "      <th></th>\n",
       "      <th></th>\n",
       "      <th></th>\n",
       "      <th></th>\n",
       "      <th></th>\n",
       "      <th></th>\n",
       "      <th></th>\n",
       "      <th></th>\n",
       "      <th></th>\n",
       "      <th></th>\n",
       "    </tr>\n",
       "  </thead>\n",
       "  <tbody>\n",
       "    <tr>\n",
       "      <th>DYPRUJEZ</th>\n",
       "      <td>48</td>\n",
       "      <td>15</td>\n",
       "      <td>1895201</td>\n",
       "      <td>0</td>\n",
       "      <td>0</td>\n",
       "      <td>0</td>\n",
       "      <td>1</td>\n",
       "      <td>0</td>\n",
       "      <td>1</td>\n",
       "      <td>0</td>\n",
       "      <td>1</td>\n",
       "      <td>0</td>\n",
       "    </tr>\n",
       "    <tr>\n",
       "      <th>CMMNPGBX</th>\n",
       "      <td>72</td>\n",
       "      <td>32</td>\n",
       "      <td>614812</td>\n",
       "      <td>0</td>\n",
       "      <td>1</td>\n",
       "      <td>0</td>\n",
       "      <td>0</td>\n",
       "      <td>0</td>\n",
       "      <td>0</td>\n",
       "      <td>0</td>\n",
       "      <td>0</td>\n",
       "      <td>0</td>\n",
       "    </tr>\n",
       "    <tr>\n",
       "      <th>7GPR8FDR</th>\n",
       "      <td>29</td>\n",
       "      <td>21</td>\n",
       "      <td>1057115</td>\n",
       "      <td>1</td>\n",
       "      <td>0</td>\n",
       "      <td>1</td>\n",
       "      <td>0</td>\n",
       "      <td>0</td>\n",
       "      <td>0</td>\n",
       "      <td>0</td>\n",
       "      <td>0</td>\n",
       "      <td>1</td>\n",
       "    </tr>\n",
       "    <tr>\n",
       "      <th>PNIHQCNJ</th>\n",
       "      <td>37</td>\n",
       "      <td>38</td>\n",
       "      <td>762471</td>\n",
       "      <td>1</td>\n",
       "      <td>0</td>\n",
       "      <td>0</td>\n",
       "      <td>1</td>\n",
       "      <td>1</td>\n",
       "      <td>0</td>\n",
       "      <td>0</td>\n",
       "      <td>0</td>\n",
       "      <td>1</td>\n",
       "    </tr>\n",
       "    <tr>\n",
       "      <th>VKRGQFTM</th>\n",
       "      <td>57</td>\n",
       "      <td>20</td>\n",
       "      <td>441991</td>\n",
       "      <td>0</td>\n",
       "      <td>0</td>\n",
       "      <td>0</td>\n",
       "      <td>1</td>\n",
       "      <td>0</td>\n",
       "      <td>0</td>\n",
       "      <td>0</td>\n",
       "      <td>0</td>\n",
       "      <td>0</td>\n",
       "    </tr>\n",
       "  </tbody>\n",
       "</table>\n",
       "</div>"
      ],
      "text/plain": [
       "          Age  Vintage  Avg_Account_Balance  Gender_Male  Occupation_Other  \\\n",
       "ID                                                                           \n",
       "DYPRUJEZ   48       15              1895201            0                 0   \n",
       "CMMNPGBX   72       32               614812            0                 1   \n",
       "7GPR8FDR   29       21              1057115            1                 0   \n",
       "PNIHQCNJ   37       38               762471            1                 0   \n",
       "VKRGQFTM   57       20               441991            0                 0   \n",
       "\n",
       "          Occupation_Salaried  Occupation_Self_Employed  Channel_Code_X2  \\\n",
       "ID                                                                         \n",
       "DYPRUJEZ                    0                         1                0   \n",
       "CMMNPGBX                    0                         0                0   \n",
       "7GPR8FDR                    1                         0                0   \n",
       "PNIHQCNJ                    0                         1                1   \n",
       "VKRGQFTM                    0                         1                0   \n",
       "\n",
       "          Channel_Code_X3  Channel_Code_X4  Credit_Product_Yes  Is_Active_Yes  \n",
       "ID                                                                             \n",
       "DYPRUJEZ                1                0                   1              0  \n",
       "CMMNPGBX                0                0                   0              0  \n",
       "7GPR8FDR                0                0                   0              1  \n",
       "PNIHQCNJ                0                0                   0              1  \n",
       "VKRGQFTM                0                0                   0              0  "
      ]
     },
     "execution_count": 45,
     "metadata": {},
     "output_type": "execute_result"
    }
   ],
   "source": [
    "X_train.head()"
   ]
  },
  {
   "cell_type": "code",
   "execution_count": 46,
   "metadata": {},
   "outputs": [
    {
     "data": {
      "text/plain": [
       "ID\n",
       "DYPRUJEZ    0\n",
       "CMMNPGBX    0\n",
       "7GPR8FDR    0\n",
       "PNIHQCNJ    0\n",
       "VKRGQFTM    0\n",
       "Name: Is_Lead, dtype: int64"
      ]
     },
     "execution_count": 46,
     "metadata": {},
     "output_type": "execute_result"
    }
   ],
   "source": [
    "y_train.head()"
   ]
  },
  {
   "cell_type": "code",
   "execution_count": 47,
   "metadata": {},
   "outputs": [
    {
     "data": {
      "text/plain": [
       "((196580, 12), (49145, 12), (196580,), (49145,))"
      ]
     },
     "execution_count": 47,
     "metadata": {},
     "output_type": "execute_result"
    }
   ],
   "source": [
    "X_train.shape, X_test.shape, y_train.shape, y_test.shape"
   ]
  },
  {
   "cell_type": "code",
   "execution_count": 48,
   "metadata": {},
   "outputs": [
    {
     "name": "stderr",
     "output_type": "stream",
     "text": [
      "C:\\Users\\vikas\\anaconda3\\lib\\site-packages\\pandas\\core\\indexing.py:1738: SettingWithCopyWarning: \n",
      "A value is trying to be set on a copy of a slice from a DataFrame.\n",
      "Try using .loc[row_indexer,col_indexer] = value instead\n",
      "\n",
      "See the caveats in the documentation: https://pandas.pydata.org/pandas-docs/stable/user_guide/indexing.html#returning-a-view-versus-a-copy\n",
      "  self._setitem_single_column(loc, value[:, i].tolist(), pi)\n"
     ]
    }
   ],
   "source": [
    "from sklearn.preprocessing import MinMaxScaler\n",
    "scaler = MinMaxScaler()\n",
    "X_train.iloc[:,0:3] = scaler.fit_transform(X_train.iloc[:,0:3])"
   ]
  },
  {
   "cell_type": "code",
   "execution_count": 49,
   "metadata": {},
   "outputs": [
    {
     "data": {
      "text/html": [
       "<div>\n",
       "<style scoped>\n",
       "    .dataframe tbody tr th:only-of-type {\n",
       "        vertical-align: middle;\n",
       "    }\n",
       "\n",
       "    .dataframe tbody tr th {\n",
       "        vertical-align: top;\n",
       "    }\n",
       "\n",
       "    .dataframe thead th {\n",
       "        text-align: right;\n",
       "    }\n",
       "</style>\n",
       "<table border=\"1\" class=\"dataframe\">\n",
       "  <thead>\n",
       "    <tr style=\"text-align: right;\">\n",
       "      <th></th>\n",
       "      <th>Age</th>\n",
       "      <th>Vintage</th>\n",
       "      <th>Avg_Account_Balance</th>\n",
       "      <th>Gender_Male</th>\n",
       "      <th>Occupation_Other</th>\n",
       "      <th>Occupation_Salaried</th>\n",
       "      <th>Occupation_Self_Employed</th>\n",
       "      <th>Channel_Code_X2</th>\n",
       "      <th>Channel_Code_X3</th>\n",
       "      <th>Channel_Code_X4</th>\n",
       "      <th>Credit_Product_Yes</th>\n",
       "      <th>Is_Active_Yes</th>\n",
       "    </tr>\n",
       "    <tr>\n",
       "      <th>ID</th>\n",
       "      <th></th>\n",
       "      <th></th>\n",
       "      <th></th>\n",
       "      <th></th>\n",
       "      <th></th>\n",
       "      <th></th>\n",
       "      <th></th>\n",
       "      <th></th>\n",
       "      <th></th>\n",
       "      <th></th>\n",
       "      <th></th>\n",
       "      <th></th>\n",
       "    </tr>\n",
       "  </thead>\n",
       "  <tbody>\n",
       "    <tr>\n",
       "      <th>DYPRUJEZ</th>\n",
       "      <td>0.403226</td>\n",
       "      <td>0.062500</td>\n",
       "      <td>0.179457</td>\n",
       "      <td>0</td>\n",
       "      <td>0</td>\n",
       "      <td>0</td>\n",
       "      <td>1</td>\n",
       "      <td>0</td>\n",
       "      <td>1</td>\n",
       "      <td>0</td>\n",
       "      <td>1</td>\n",
       "      <td>0</td>\n",
       "    </tr>\n",
       "    <tr>\n",
       "      <th>CMMNPGBX</th>\n",
       "      <td>0.790323</td>\n",
       "      <td>0.195312</td>\n",
       "      <td>0.055224</td>\n",
       "      <td>0</td>\n",
       "      <td>1</td>\n",
       "      <td>0</td>\n",
       "      <td>0</td>\n",
       "      <td>0</td>\n",
       "      <td>0</td>\n",
       "      <td>0</td>\n",
       "      <td>0</td>\n",
       "      <td>0</td>\n",
       "    </tr>\n",
       "    <tr>\n",
       "      <th>7GPR8FDR</th>\n",
       "      <td>0.096774</td>\n",
       "      <td>0.109375</td>\n",
       "      <td>0.098139</td>\n",
       "      <td>1</td>\n",
       "      <td>0</td>\n",
       "      <td>1</td>\n",
       "      <td>0</td>\n",
       "      <td>0</td>\n",
       "      <td>0</td>\n",
       "      <td>0</td>\n",
       "      <td>0</td>\n",
       "      <td>1</td>\n",
       "    </tr>\n",
       "    <tr>\n",
       "      <th>PNIHQCNJ</th>\n",
       "      <td>0.225806</td>\n",
       "      <td>0.242188</td>\n",
       "      <td>0.069551</td>\n",
       "      <td>1</td>\n",
       "      <td>0</td>\n",
       "      <td>0</td>\n",
       "      <td>1</td>\n",
       "      <td>1</td>\n",
       "      <td>0</td>\n",
       "      <td>0</td>\n",
       "      <td>0</td>\n",
       "      <td>1</td>\n",
       "    </tr>\n",
       "    <tr>\n",
       "      <th>VKRGQFTM</th>\n",
       "      <td>0.548387</td>\n",
       "      <td>0.101562</td>\n",
       "      <td>0.038455</td>\n",
       "      <td>0</td>\n",
       "      <td>0</td>\n",
       "      <td>0</td>\n",
       "      <td>1</td>\n",
       "      <td>0</td>\n",
       "      <td>0</td>\n",
       "      <td>0</td>\n",
       "      <td>0</td>\n",
       "      <td>0</td>\n",
       "    </tr>\n",
       "  </tbody>\n",
       "</table>\n",
       "</div>"
      ],
      "text/plain": [
       "               Age   Vintage  Avg_Account_Balance  Gender_Male  \\\n",
       "ID                                                               \n",
       "DYPRUJEZ  0.403226  0.062500             0.179457            0   \n",
       "CMMNPGBX  0.790323  0.195312             0.055224            0   \n",
       "7GPR8FDR  0.096774  0.109375             0.098139            1   \n",
       "PNIHQCNJ  0.225806  0.242188             0.069551            1   \n",
       "VKRGQFTM  0.548387  0.101562             0.038455            0   \n",
       "\n",
       "          Occupation_Other  Occupation_Salaried  Occupation_Self_Employed  \\\n",
       "ID                                                                          \n",
       "DYPRUJEZ                 0                    0                         1   \n",
       "CMMNPGBX                 1                    0                         0   \n",
       "7GPR8FDR                 0                    1                         0   \n",
       "PNIHQCNJ                 0                    0                         1   \n",
       "VKRGQFTM                 0                    0                         1   \n",
       "\n",
       "          Channel_Code_X2  Channel_Code_X3  Channel_Code_X4  \\\n",
       "ID                                                            \n",
       "DYPRUJEZ                0                1                0   \n",
       "CMMNPGBX                0                0                0   \n",
       "7GPR8FDR                0                0                0   \n",
       "PNIHQCNJ                1                0                0   \n",
       "VKRGQFTM                0                0                0   \n",
       "\n",
       "          Credit_Product_Yes  Is_Active_Yes  \n",
       "ID                                           \n",
       "DYPRUJEZ                   1              0  \n",
       "CMMNPGBX                   0              0  \n",
       "7GPR8FDR                   0              1  \n",
       "PNIHQCNJ                   0              1  \n",
       "VKRGQFTM                   0              0  "
      ]
     },
     "execution_count": 49,
     "metadata": {},
     "output_type": "execute_result"
    }
   ],
   "source": [
    "X_train.head()"
   ]
  },
  {
   "cell_type": "code",
   "execution_count": 50,
   "metadata": {},
   "outputs": [
    {
     "data": {
      "text/html": [
       "<div>\n",
       "<style scoped>\n",
       "    .dataframe tbody tr th:only-of-type {\n",
       "        vertical-align: middle;\n",
       "    }\n",
       "\n",
       "    .dataframe tbody tr th {\n",
       "        vertical-align: top;\n",
       "    }\n",
       "\n",
       "    .dataframe thead th {\n",
       "        text-align: right;\n",
       "    }\n",
       "</style>\n",
       "<table border=\"1\" class=\"dataframe\">\n",
       "  <thead>\n",
       "    <tr style=\"text-align: right;\">\n",
       "      <th></th>\n",
       "      <th>Age</th>\n",
       "      <th>Vintage</th>\n",
       "      <th>Avg_Account_Balance</th>\n",
       "      <th>Gender_Male</th>\n",
       "      <th>Occupation_Other</th>\n",
       "      <th>Occupation_Salaried</th>\n",
       "      <th>Occupation_Self_Employed</th>\n",
       "      <th>Channel_Code_X2</th>\n",
       "      <th>Channel_Code_X3</th>\n",
       "      <th>Channel_Code_X4</th>\n",
       "      <th>Credit_Product_Yes</th>\n",
       "      <th>Is_Active_Yes</th>\n",
       "    </tr>\n",
       "    <tr>\n",
       "      <th>ID</th>\n",
       "      <th></th>\n",
       "      <th></th>\n",
       "      <th></th>\n",
       "      <th></th>\n",
       "      <th></th>\n",
       "      <th></th>\n",
       "      <th></th>\n",
       "      <th></th>\n",
       "      <th></th>\n",
       "      <th></th>\n",
       "      <th></th>\n",
       "      <th></th>\n",
       "    </tr>\n",
       "  </thead>\n",
       "  <tbody>\n",
       "    <tr>\n",
       "      <th>FO27LBAN</th>\n",
       "      <td>82</td>\n",
       "      <td>51</td>\n",
       "      <td>441769</td>\n",
       "      <td>0</td>\n",
       "      <td>1</td>\n",
       "      <td>0</td>\n",
       "      <td>0</td>\n",
       "      <td>1</td>\n",
       "      <td>0</td>\n",
       "      <td>0</td>\n",
       "      <td>1</td>\n",
       "      <td>0</td>\n",
       "    </tr>\n",
       "    <tr>\n",
       "      <th>AJ9PANHI</th>\n",
       "      <td>52</td>\n",
       "      <td>62</td>\n",
       "      <td>661554</td>\n",
       "      <td>1</td>\n",
       "      <td>0</td>\n",
       "      <td>0</td>\n",
       "      <td>1</td>\n",
       "      <td>0</td>\n",
       "      <td>1</td>\n",
       "      <td>0</td>\n",
       "      <td>0</td>\n",
       "      <td>0</td>\n",
       "    </tr>\n",
       "    <tr>\n",
       "      <th>HY8ZRRB9</th>\n",
       "      <td>31</td>\n",
       "      <td>25</td>\n",
       "      <td>2151922</td>\n",
       "      <td>1</td>\n",
       "      <td>0</td>\n",
       "      <td>1</td>\n",
       "      <td>0</td>\n",
       "      <td>0</td>\n",
       "      <td>0</td>\n",
       "      <td>0</td>\n",
       "      <td>1</td>\n",
       "      <td>0</td>\n",
       "    </tr>\n",
       "    <tr>\n",
       "      <th>ORLPS7JG</th>\n",
       "      <td>33</td>\n",
       "      <td>27</td>\n",
       "      <td>2525072</td>\n",
       "      <td>0</td>\n",
       "      <td>0</td>\n",
       "      <td>0</td>\n",
       "      <td>1</td>\n",
       "      <td>0</td>\n",
       "      <td>0</td>\n",
       "      <td>0</td>\n",
       "      <td>0</td>\n",
       "      <td>0</td>\n",
       "    </tr>\n",
       "    <tr>\n",
       "      <th>D2JZQYRX</th>\n",
       "      <td>30</td>\n",
       "      <td>19</td>\n",
       "      <td>2156763</td>\n",
       "      <td>1</td>\n",
       "      <td>0</td>\n",
       "      <td>1</td>\n",
       "      <td>0</td>\n",
       "      <td>0</td>\n",
       "      <td>0</td>\n",
       "      <td>0</td>\n",
       "      <td>0</td>\n",
       "      <td>0</td>\n",
       "    </tr>\n",
       "  </tbody>\n",
       "</table>\n",
       "</div>"
      ],
      "text/plain": [
       "          Age  Vintage  Avg_Account_Balance  Gender_Male  Occupation_Other  \\\n",
       "ID                                                                           \n",
       "FO27LBAN   82       51               441769            0                 1   \n",
       "AJ9PANHI   52       62               661554            1                 0   \n",
       "HY8ZRRB9   31       25              2151922            1                 0   \n",
       "ORLPS7JG   33       27              2525072            0                 0   \n",
       "D2JZQYRX   30       19              2156763            1                 0   \n",
       "\n",
       "          Occupation_Salaried  Occupation_Self_Employed  Channel_Code_X2  \\\n",
       "ID                                                                         \n",
       "FO27LBAN                    0                         0                1   \n",
       "AJ9PANHI                    0                         1                0   \n",
       "HY8ZRRB9                    1                         0                0   \n",
       "ORLPS7JG                    0                         1                0   \n",
       "D2JZQYRX                    1                         0                0   \n",
       "\n",
       "          Channel_Code_X3  Channel_Code_X4  Credit_Product_Yes  Is_Active_Yes  \n",
       "ID                                                                             \n",
       "FO27LBAN                0                0                   1              0  \n",
       "AJ9PANHI                1                0                   0              0  \n",
       "HY8ZRRB9                0                0                   1              0  \n",
       "ORLPS7JG                0                0                   0              0  \n",
       "D2JZQYRX                0                0                   0              0  "
      ]
     },
     "execution_count": 50,
     "metadata": {},
     "output_type": "execute_result"
    }
   ],
   "source": [
    "X_test.head()"
   ]
  },
  {
   "cell_type": "code",
   "execution_count": 51,
   "metadata": {},
   "outputs": [],
   "source": [
    "from sklearn.linear_model import LogisticRegressionCV\n",
    "log_r = LogisticRegressionCV(cv=5)"
   ]
  },
  {
   "cell_type": "code",
   "execution_count": 52,
   "metadata": {},
   "outputs": [
    {
     "data": {
      "text/plain": [
       "LogisticRegressionCV(cv=5)"
      ]
     },
     "execution_count": 52,
     "metadata": {},
     "output_type": "execute_result"
    }
   ],
   "source": [
    "log_r.fit(X_train,y_train)"
   ]
  },
  {
   "cell_type": "code",
   "execution_count": 53,
   "metadata": {},
   "outputs": [
    {
     "data": {
      "text/plain": [
       "0.8086987486010785"
      ]
     },
     "execution_count": 53,
     "metadata": {},
     "output_type": "execute_result"
    }
   ],
   "source": [
    "log_r.score(X_train,y_train)"
   ]
  },
  {
   "cell_type": "code",
   "execution_count": 54,
   "metadata": {},
   "outputs": [
    {
     "data": {
      "text/plain": [
       "0.7634550819004985"
      ]
     },
     "execution_count": 54,
     "metadata": {},
     "output_type": "execute_result"
    }
   ],
   "source": [
    "log_r.score(X_test,y_test)"
   ]
  },
  {
   "cell_type": "code",
   "execution_count": 55,
   "metadata": {},
   "outputs": [],
   "source": [
    "from sklearn.metrics import confusion_matrix, classification_report, roc_auc_score"
   ]
  },
  {
   "cell_type": "code",
   "execution_count": 56,
   "metadata": {},
   "outputs": [],
   "source": [
    "log_pred = log_r.predict(X_test)"
   ]
  },
  {
   "cell_type": "code",
   "execution_count": 57,
   "metadata": {},
   "outputs": [
    {
     "data": {
      "text/plain": [
       "array([[37520,     0],\n",
       "       [11625,     0]], dtype=int64)"
      ]
     },
     "execution_count": 57,
     "metadata": {},
     "output_type": "execute_result"
    }
   ],
   "source": [
    "confusion_matrix(y_test,log_pred)"
   ]
  },
  {
   "cell_type": "code",
   "execution_count": 58,
   "metadata": {},
   "outputs": [
    {
     "name": "stdout",
     "output_type": "stream",
     "text": [
      "              precision    recall  f1-score   support\n",
      "\n",
      "           0       0.76      1.00      0.87     37520\n",
      "           1       0.00      0.00      0.00     11625\n",
      "\n",
      "    accuracy                           0.76     49145\n",
      "   macro avg       0.38      0.50      0.43     49145\n",
      "weighted avg       0.58      0.76      0.66     49145\n",
      "\n"
     ]
    },
    {
     "name": "stderr",
     "output_type": "stream",
     "text": [
      "C:\\Users\\vikas\\anaconda3\\lib\\site-packages\\sklearn\\metrics\\_classification.py:1248: UndefinedMetricWarning: Precision and F-score are ill-defined and being set to 0.0 in labels with no predicted samples. Use `zero_division` parameter to control this behavior.\n",
      "  _warn_prf(average, modifier, msg_start, len(result))\n",
      "C:\\Users\\vikas\\anaconda3\\lib\\site-packages\\sklearn\\metrics\\_classification.py:1248: UndefinedMetricWarning: Precision and F-score are ill-defined and being set to 0.0 in labels with no predicted samples. Use `zero_division` parameter to control this behavior.\n",
      "  _warn_prf(average, modifier, msg_start, len(result))\n",
      "C:\\Users\\vikas\\anaconda3\\lib\\site-packages\\sklearn\\metrics\\_classification.py:1248: UndefinedMetricWarning: Precision and F-score are ill-defined and being set to 0.0 in labels with no predicted samples. Use `zero_division` parameter to control this behavior.\n",
      "  _warn_prf(average, modifier, msg_start, len(result))\n"
     ]
    }
   ],
   "source": [
    "print(classification_report(y_test,log_pred))"
   ]
  },
  {
   "cell_type": "code",
   "execution_count": 59,
   "metadata": {},
   "outputs": [
    {
     "data": {
      "text/plain": [
       "0.5"
      ]
     },
     "execution_count": 59,
     "metadata": {},
     "output_type": "execute_result"
    }
   ],
   "source": [
    "roc_auc_score(y_test,log_pred)"
   ]
  },
  {
   "cell_type": "code",
   "execution_count": 60,
   "metadata": {},
   "outputs": [
    {
     "data": {
      "text/plain": [
       "RandomForestClassifier()"
      ]
     },
     "execution_count": 60,
     "metadata": {},
     "output_type": "execute_result"
    }
   ],
   "source": [
    "from sklearn.ensemble import RandomForestClassifier\n",
    "rfc = RandomForestClassifier()\n",
    "rfc.fit(X_train,y_train)"
   ]
  },
  {
   "cell_type": "code",
   "execution_count": 61,
   "metadata": {},
   "outputs": [
    {
     "data": {
      "text/plain": [
       "0.9998626513378777"
      ]
     },
     "execution_count": 61,
     "metadata": {},
     "output_type": "execute_result"
    }
   ],
   "source": [
    "rfc.score(X_train,y_train)"
   ]
  },
  {
   "cell_type": "code",
   "execution_count": 62,
   "metadata": {},
   "outputs": [
    {
     "data": {
      "text/plain": [
       "0.5398718079153525"
      ]
     },
     "execution_count": 62,
     "metadata": {},
     "output_type": "execute_result"
    }
   ],
   "source": [
    "rfc.score(X_test,y_test)"
   ]
  },
  {
   "cell_type": "code",
   "execution_count": 63,
   "metadata": {},
   "outputs": [],
   "source": [
    "rfc_pred = rfc.predict(X_test)"
   ]
  },
  {
   "cell_type": "code",
   "execution_count": 64,
   "metadata": {},
   "outputs": [
    {
     "data": {
      "text/plain": [
       "array([[22011, 15509],\n",
       "       [ 7104,  4521]], dtype=int64)"
      ]
     },
     "execution_count": 64,
     "metadata": {},
     "output_type": "execute_result"
    }
   ],
   "source": [
    "confusion_matrix(y_test,rfc_pred)"
   ]
  },
  {
   "cell_type": "code",
   "execution_count": 65,
   "metadata": {},
   "outputs": [
    {
     "name": "stdout",
     "output_type": "stream",
     "text": [
      "              precision    recall  f1-score   support\n",
      "\n",
      "           0       0.76      0.59      0.66     37520\n",
      "           1       0.23      0.39      0.29     11625\n",
      "\n",
      "    accuracy                           0.54     49145\n",
      "   macro avg       0.49      0.49      0.47     49145\n",
      "weighted avg       0.63      0.54      0.57     49145\n",
      "\n"
     ]
    }
   ],
   "source": [
    "print(classification_report(y_test,rfc_pred))"
   ]
  },
  {
   "cell_type": "code",
   "execution_count": 66,
   "metadata": {},
   "outputs": [
    {
     "data": {
      "text/plain": [
       "0.48777517367081635"
      ]
     },
     "execution_count": 66,
     "metadata": {},
     "output_type": "execute_result"
    }
   ],
   "source": [
    "roc_auc_score(y_test,rfc_pred)"
   ]
  },
  {
   "cell_type": "code",
   "execution_count": 67,
   "metadata": {},
   "outputs": [
    {
     "data": {
      "text/plain": [
       "AdaBoostClassifier()"
      ]
     },
     "execution_count": 67,
     "metadata": {},
     "output_type": "execute_result"
    }
   ],
   "source": [
    "from sklearn.ensemble import AdaBoostClassifier\n",
    "adab = AdaBoostClassifier()\n",
    "adab.fit(X_train,y_train)"
   ]
  },
  {
   "cell_type": "code",
   "execution_count": 68,
   "metadata": {},
   "outputs": [
    {
     "data": {
      "text/plain": [
       "0.8165683182419371"
      ]
     },
     "execution_count": 68,
     "metadata": {},
     "output_type": "execute_result"
    }
   ],
   "source": [
    "adab.score(X_train,y_train)"
   ]
  },
  {
   "cell_type": "code",
   "execution_count": 69,
   "metadata": {},
   "outputs": [
    {
     "data": {
      "text/plain": [
       "0.7770271645131753"
      ]
     },
     "execution_count": 69,
     "metadata": {},
     "output_type": "execute_result"
    }
   ],
   "source": [
    "adab.score(X_test,y_test)"
   ]
  },
  {
   "cell_type": "code",
   "execution_count": 70,
   "metadata": {},
   "outputs": [
    {
     "name": "stdout",
     "output_type": "stream",
     "text": [
      "Requirement already satisfied: imblearn in c:\\users\\vikas\\anaconda3\\lib\\site-packages (0.0)\n",
      "Requirement already satisfied: imbalanced-learn in c:\\users\\vikas\\anaconda3\\lib\\site-packages (from imblearn) (0.8.0)\n",
      "Requirement already satisfied: scikit-learn>=0.24 in c:\\users\\vikas\\anaconda3\\lib\\site-packages (from imbalanced-learn->imblearn) (0.24.2)\n",
      "Requirement already satisfied: joblib>=0.11 in c:\\users\\vikas\\anaconda3\\lib\\site-packages (from imbalanced-learn->imblearn) (0.16.0)\n",
      "Requirement already satisfied: numpy>=1.13.3 in c:\\users\\vikas\\anaconda3\\lib\\site-packages (from imbalanced-learn->imblearn) (1.20.1)\n",
      "Requirement already satisfied: scipy>=0.19.1 in c:\\users\\vikas\\anaconda3\\lib\\site-packages (from imbalanced-learn->imblearn) (1.6.2)\n",
      "Requirement already satisfied: threadpoolctl>=2.0.0 in c:\\users\\vikas\\anaconda3\\lib\\site-packages (from scikit-learn>=0.24->imbalanced-learn->imblearn) (2.1.0)\n",
      "Note: you may need to restart the kernel to use updated packages.\n"
     ]
    }
   ],
   "source": [
    "pip install imblearn"
   ]
  },
  {
   "cell_type": "code",
   "execution_count": 71,
   "metadata": {},
   "outputs": [],
   "source": [
    "##Ovelsampling\n",
    "from imblearn.over_sampling import RandomOverSampler"
   ]
  },
  {
   "cell_type": "code",
   "execution_count": 72,
   "metadata": {},
   "outputs": [],
   "source": [
    "os = RandomOverSampler(random_state=42)"
   ]
  },
  {
   "cell_type": "code",
   "execution_count": 73,
   "metadata": {},
   "outputs": [],
   "source": [
    "X_train_res, y_train_res = os.fit_resample(X,y)"
   ]
  },
  {
   "cell_type": "code",
   "execution_count": 74,
   "metadata": {},
   "outputs": [
    {
     "data": {
      "text/plain": [
       "((374874, 12), (374874,))"
      ]
     },
     "execution_count": 74,
     "metadata": {},
     "output_type": "execute_result"
    }
   ],
   "source": [
    "X_train_res.shape, y_train_res.shape"
   ]
  },
  {
   "cell_type": "code",
   "execution_count": 198,
   "metadata": {},
   "outputs": [],
   "source": [
    "X_train_resample,X_test_resample,y_train_resample,y_test_resample = train_test_split(X_train_res,y_train_res,random_state=42,test_size=0.2)"
   ]
  },
  {
   "cell_type": "code",
   "execution_count": 201,
   "metadata": {},
   "outputs": [
    {
     "data": {
      "text/plain": [
       "((299899, 12), (299899,), (74975, 12), (74975,))"
      ]
     },
     "execution_count": 201,
     "metadata": {},
     "output_type": "execute_result"
    }
   ],
   "source": [
    "X_train_resample.shape, y_train_resample.shape, X_test_resample.shape, y_test_resample.shape"
   ]
  },
  {
   "cell_type": "code",
   "execution_count": 76,
   "metadata": {},
   "outputs": [
    {
     "name": "stdout",
     "output_type": "stream",
     "text": [
      "Original dataset shape Counter({0: 187437, 1: 58288})\n",
      "Resampled dataset shape Counter({0: 187437, 1: 187437})\n"
     ]
    }
   ],
   "source": [
    "from collections import Counter\n",
    "print('Original dataset shape {}'.format(Counter(y)))\n",
    "print('Resampled dataset shape {}'.format(Counter(y_train_res)))"
   ]
  },
  {
   "cell_type": "code",
   "execution_count": 202,
   "metadata": {},
   "outputs": [
    {
     "data": {
      "text/plain": [
       "LogisticRegressionCV(cv=5)"
      ]
     },
     "execution_count": 202,
     "metadata": {},
     "output_type": "execute_result"
    }
   ],
   "source": [
    "log_r.fit(X_train_resample,y_train_resample)"
   ]
  },
  {
   "cell_type": "code",
   "execution_count": 203,
   "metadata": {},
   "outputs": [
    {
     "data": {
      "text/plain": [
       "0.5686695565188397"
      ]
     },
     "execution_count": 203,
     "metadata": {},
     "output_type": "execute_result"
    }
   ],
   "source": [
    "log_r.score(X_test_resample,y_test_resample)"
   ]
  },
  {
   "cell_type": "code",
   "execution_count": 204,
   "metadata": {},
   "outputs": [
    {
     "data": {
      "text/plain": [
       "0.5684747198223402"
      ]
     },
     "execution_count": 204,
     "metadata": {},
     "output_type": "execute_result"
    }
   ],
   "source": [
    "log_r.score(X_train_resample,y_train_resample)"
   ]
  },
  {
   "cell_type": "code",
   "execution_count": 205,
   "metadata": {},
   "outputs": [
    {
     "data": {
      "text/plain": [
       "RandomForestClassifier()"
      ]
     },
     "execution_count": 205,
     "metadata": {},
     "output_type": "execute_result"
    }
   ],
   "source": [
    "rfc.fit(X_train_resample,y_train_resample)"
   ]
  },
  {
   "cell_type": "code",
   "execution_count": 207,
   "metadata": {},
   "outputs": [
    {
     "data": {
      "text/plain": [
       "0.899619873291097"
      ]
     },
     "execution_count": 207,
     "metadata": {},
     "output_type": "execute_result"
    }
   ],
   "source": [
    "rfc.score(X_test_resample,y_test_resample)"
   ]
  },
  {
   "cell_type": "code",
   "execution_count": 208,
   "metadata": {},
   "outputs": [
    {
     "data": {
      "text/plain": [
       "0.9999499831609976"
      ]
     },
     "execution_count": 208,
     "metadata": {},
     "output_type": "execute_result"
    }
   ],
   "source": [
    "rfc.score(X_train_resample,y_train_resample)"
   ]
  },
  {
   "cell_type": "code",
   "execution_count": 209,
   "metadata": {},
   "outputs": [],
   "source": [
    "rfc_pred_res = rfc.predict(X_test_resample)"
   ]
  },
  {
   "cell_type": "code",
   "execution_count": 210,
   "metadata": {},
   "outputs": [
    {
     "name": "stdout",
     "output_type": "stream",
     "text": [
      "              precision    recall  f1-score   support\n",
      "\n",
      "           0       0.97      0.83      0.89     37559\n",
      "           1       0.85      0.97      0.91     37416\n",
      "\n",
      "    accuracy                           0.90     74975\n",
      "   macro avg       0.91      0.90      0.90     74975\n",
      "weighted avg       0.91      0.90      0.90     74975\n",
      "\n"
     ]
    }
   ],
   "source": [
    "print(classification_report(y_test_resample,rfc_pred_res))"
   ]
  },
  {
   "cell_type": "code",
   "execution_count": 211,
   "metadata": {},
   "outputs": [
    {
     "data": {
      "text/plain": [
       "array([[31107,  6452],\n",
       "       [ 1074, 36342]], dtype=int64)"
      ]
     },
     "execution_count": 211,
     "metadata": {},
     "output_type": "execute_result"
    }
   ],
   "source": [
    "confusion_matrix(y_test_resample,rfc_pred_res)"
   ]
  },
  {
   "cell_type": "code",
   "execution_count": 212,
   "metadata": {},
   "outputs": [
    {
     "data": {
      "text/plain": [
       "0.8997563205282273"
      ]
     },
     "execution_count": 212,
     "metadata": {},
     "output_type": "execute_result"
    }
   ],
   "source": [
    "roc_auc_score(y_test_resample,rfc_pred_res)"
   ]
  },
  {
   "cell_type": "code",
   "execution_count": 213,
   "metadata": {},
   "outputs": [
    {
     "data": {
      "text/plain": [
       "DecisionTreeClassifier()"
      ]
     },
     "execution_count": 213,
     "metadata": {},
     "output_type": "execute_result"
    }
   ],
   "source": [
    "from sklearn.tree import DecisionTreeClassifier\n",
    "dtc = DecisionTreeClassifier()\n",
    "dtc.fit(X_train_resample,y_train_resample)"
   ]
  },
  {
   "cell_type": "code",
   "execution_count": 214,
   "metadata": {},
   "outputs": [
    {
     "data": {
      "text/plain": [
       "0.8890430143381127"
      ]
     },
     "execution_count": 214,
     "metadata": {},
     "output_type": "execute_result"
    }
   ],
   "source": [
    "dtc.score(X_test_resample,y_test_resample)"
   ]
  },
  {
   "cell_type": "code",
   "execution_count": 215,
   "metadata": {},
   "outputs": [
    {
     "data": {
      "text/plain": [
       "0.999966655440665"
      ]
     },
     "execution_count": 215,
     "metadata": {},
     "output_type": "execute_result"
    }
   ],
   "source": [
    "dtc.score(X_train_resample,y_train_resample)"
   ]
  },
  {
   "cell_type": "code",
   "execution_count": 216,
   "metadata": {},
   "outputs": [],
   "source": [
    "dtc_pred = dtc.predict(X_test_resample)"
   ]
  },
  {
   "cell_type": "code",
   "execution_count": 217,
   "metadata": {},
   "outputs": [
    {
     "data": {
      "text/plain": [
       "0.8891848416633847"
      ]
     },
     "execution_count": 217,
     "metadata": {},
     "output_type": "execute_result"
    }
   ],
   "source": [
    "roc_auc_score(y_test_resample,dtc_pred)"
   ]
  },
  {
   "cell_type": "code",
   "execution_count": 320,
   "metadata": {},
   "outputs": [],
   "source": [
    "#Gradient boosting\n",
    "from sklearn.ensemble import GradientBoostingClassifier"
   ]
  },
  {
   "cell_type": "code",
   "execution_count": 321,
   "metadata": {},
   "outputs": [
    {
     "data": {
      "text/plain": [
       "GradientBoostingClassifier(learning_rate=0.01, random_state=42)"
      ]
     },
     "execution_count": 321,
     "metadata": {},
     "output_type": "execute_result"
    }
   ],
   "source": [
    "gbc = GradientBoostingClassifier(learning_rate=0.01,random_state=42)\n",
    "gbc.fit(X_train_resample,y_train_resample)"
   ]
  },
  {
   "cell_type": "code",
   "execution_count": 322,
   "metadata": {},
   "outputs": [
    {
     "data": {
      "text/plain": [
       "0.7827809269756586"
      ]
     },
     "execution_count": 322,
     "metadata": {},
     "output_type": "execute_result"
    }
   ],
   "source": [
    "gbc.score(X_test_resample,y_test_resample)"
   ]
  },
  {
   "cell_type": "code",
   "execution_count": 346,
   "metadata": {},
   "outputs": [],
   "source": [
    "##stacking\n",
    "def Stacking(model,train,y,test,n_fold):\n",
    "   folds=StratifiedKFold(n_splits=n_fold,shuffle=True)\n",
    "   test_pred=np.empty((test.shape[0],1),float)\n",
    "   train_pred=np.empty((0,1),float)\n",
    "   for train_indices,val_indices in folds.split(train,y.values):\n",
    "      x_train,x_val=train.iloc[train_indices],train.iloc[val_indices]\n",
    "      y_train,y_val=y.iloc[train_indices],y.iloc[val_indices]\n",
    "\n",
    "      model.fit(X=x_train,y=y_train)\n",
    "      train_pred=np.append(train_pred,model.predict(x_val))\n",
    "      test_pred=np.append(test_pred,model.predict(test))\n",
    "    \n",
    "   return test_pred(-1,1),train_pred"
   ]
  },
  {
   "cell_type": "code",
   "execution_count": 347,
   "metadata": {},
   "outputs": [],
   "source": [
    "from sklearn.model_selection import StratifiedKFold"
   ]
  },
  {
   "cell_type": "code",
   "execution_count": 348,
   "metadata": {},
   "outputs": [],
   "source": [
    "model1 = DecisionTreeClassifier(random_state=1)\n",
    "\n",
    "test_pred1 ,train_pred1=Stacking(model=model1,n_fold=10, train=X_train_resample,test=X_test_resample,y=y_train_resample)\n",
    "\n",
    "train_pred1=pd.DataFrame(train_pred1)\n",
    "test_pred1=pd.DataFrame(test_pred1)"
   ]
  },
  {
   "cell_type": "code",
   "execution_count": 349,
   "metadata": {},
   "outputs": [],
   "source": [
    "model2 = KNeighborsClassifier()\n",
    "\n",
    "test_pred2 ,train_pred2=Stacking(model=model2,n_fold=10,train=X_train_resample,test=X_test_resample,y=y_train_resample)\n",
    "\n",
    "train_pred2=pd.DataFrame(train_pred2)\n",
    "test_pred2=pd.DataFrame(test_pred2)"
   ]
  },
  {
   "cell_type": "code",
   "execution_count": 350,
   "metadata": {},
   "outputs": [],
   "source": [
    "from sklearn.linear_model import LogisticRegression"
   ]
  },
  {
   "cell_type": "code",
   "execution_count": 343,
   "metadata": {},
   "outputs": [
    {
     "data": {
      "text/plain": [
       "((299899, 2), (299899,))"
      ]
     },
     "execution_count": 343,
     "metadata": {},
     "output_type": "execute_result"
    }
   ],
   "source": [
    "df.shape, y_train_resample.shape"
   ]
  },
  {
   "cell_type": "code",
   "execution_count": 342,
   "metadata": {},
   "outputs": [
    {
     "data": {
      "text/plain": [
       "((824725, 2), (74975,))"
      ]
     },
     "execution_count": 342,
     "metadata": {},
     "output_type": "execute_result"
    }
   ],
   "source": [
    "df_test.shape, y_test_resample.shape"
   ]
  },
  {
   "cell_type": "code",
   "execution_count": 352,
   "metadata": {},
   "outputs": [
    {
     "ename": "ValueError",
     "evalue": "Found input variables with inconsistent numbers of samples: [49145, 824725]",
     "output_type": "error",
     "traceback": [
      "\u001b[1;31m---------------------------------------------------------------------------\u001b[0m",
      "\u001b[1;31mValueError\u001b[0m                                Traceback (most recent call last)",
      "\u001b[1;32m<ipython-input-352-67d87aca624d>\u001b[0m in \u001b[0;36m<module>\u001b[1;34m\u001b[0m\n\u001b[0;32m      4\u001b[0m \u001b[0mmodel\u001b[0m \u001b[1;33m=\u001b[0m \u001b[0mLogisticRegression\u001b[0m\u001b[1;33m(\u001b[0m\u001b[0mrandom_state\u001b[0m\u001b[1;33m=\u001b[0m\u001b[1;36m1\u001b[0m\u001b[1;33m)\u001b[0m\u001b[1;33m\u001b[0m\u001b[1;33m\u001b[0m\u001b[0m\n\u001b[0;32m      5\u001b[0m \u001b[0mmodel\u001b[0m\u001b[1;33m.\u001b[0m\u001b[0mfit\u001b[0m\u001b[1;33m(\u001b[0m\u001b[0mdf\u001b[0m\u001b[1;33m,\u001b[0m\u001b[0my_train_resample\u001b[0m\u001b[1;33m)\u001b[0m\u001b[1;33m\u001b[0m\u001b[1;33m\u001b[0m\u001b[0m\n\u001b[1;32m----> 6\u001b[1;33m \u001b[0mmodel\u001b[0m\u001b[1;33m.\u001b[0m\u001b[0mscore\u001b[0m\u001b[1;33m(\u001b[0m\u001b[0mdf_test\u001b[0m\u001b[1;33m,\u001b[0m \u001b[0my_test\u001b[0m\u001b[1;33m)\u001b[0m\u001b[1;33m\u001b[0m\u001b[1;33m\u001b[0m\u001b[0m\n\u001b[0m",
      "\u001b[1;32m~\\anaconda3\\lib\\site-packages\\sklearn\\base.py\u001b[0m in \u001b[0;36mscore\u001b[1;34m(self, X, y, sample_weight)\u001b[0m\n\u001b[0;32m    498\u001b[0m         \"\"\"\n\u001b[0;32m    499\u001b[0m         \u001b[1;32mfrom\u001b[0m \u001b[1;33m.\u001b[0m\u001b[0mmetrics\u001b[0m \u001b[1;32mimport\u001b[0m \u001b[0maccuracy_score\u001b[0m\u001b[1;33m\u001b[0m\u001b[1;33m\u001b[0m\u001b[0m\n\u001b[1;32m--> 500\u001b[1;33m         \u001b[1;32mreturn\u001b[0m \u001b[0maccuracy_score\u001b[0m\u001b[1;33m(\u001b[0m\u001b[0my\u001b[0m\u001b[1;33m,\u001b[0m \u001b[0mself\u001b[0m\u001b[1;33m.\u001b[0m\u001b[0mpredict\u001b[0m\u001b[1;33m(\u001b[0m\u001b[0mX\u001b[0m\u001b[1;33m)\u001b[0m\u001b[1;33m,\u001b[0m \u001b[0msample_weight\u001b[0m\u001b[1;33m=\u001b[0m\u001b[0msample_weight\u001b[0m\u001b[1;33m)\u001b[0m\u001b[1;33m\u001b[0m\u001b[1;33m\u001b[0m\u001b[0m\n\u001b[0m\u001b[0;32m    501\u001b[0m \u001b[1;33m\u001b[0m\u001b[0m\n\u001b[0;32m    502\u001b[0m     \u001b[1;32mdef\u001b[0m \u001b[0m_more_tags\u001b[0m\u001b[1;33m(\u001b[0m\u001b[0mself\u001b[0m\u001b[1;33m)\u001b[0m\u001b[1;33m:\u001b[0m\u001b[1;33m\u001b[0m\u001b[1;33m\u001b[0m\u001b[0m\n",
      "\u001b[1;32m~\\anaconda3\\lib\\site-packages\\sklearn\\utils\\validation.py\u001b[0m in \u001b[0;36minner_f\u001b[1;34m(*args, **kwargs)\u001b[0m\n\u001b[0;32m     61\u001b[0m             \u001b[0mextra_args\u001b[0m \u001b[1;33m=\u001b[0m \u001b[0mlen\u001b[0m\u001b[1;33m(\u001b[0m\u001b[0margs\u001b[0m\u001b[1;33m)\u001b[0m \u001b[1;33m-\u001b[0m \u001b[0mlen\u001b[0m\u001b[1;33m(\u001b[0m\u001b[0mall_args\u001b[0m\u001b[1;33m)\u001b[0m\u001b[1;33m\u001b[0m\u001b[1;33m\u001b[0m\u001b[0m\n\u001b[0;32m     62\u001b[0m             \u001b[1;32mif\u001b[0m \u001b[0mextra_args\u001b[0m \u001b[1;33m<=\u001b[0m \u001b[1;36m0\u001b[0m\u001b[1;33m:\u001b[0m\u001b[1;33m\u001b[0m\u001b[1;33m\u001b[0m\u001b[0m\n\u001b[1;32m---> 63\u001b[1;33m                 \u001b[1;32mreturn\u001b[0m \u001b[0mf\u001b[0m\u001b[1;33m(\u001b[0m\u001b[1;33m*\u001b[0m\u001b[0margs\u001b[0m\u001b[1;33m,\u001b[0m \u001b[1;33m**\u001b[0m\u001b[0mkwargs\u001b[0m\u001b[1;33m)\u001b[0m\u001b[1;33m\u001b[0m\u001b[1;33m\u001b[0m\u001b[0m\n\u001b[0m\u001b[0;32m     64\u001b[0m \u001b[1;33m\u001b[0m\u001b[0m\n\u001b[0;32m     65\u001b[0m             \u001b[1;31m# extra_args > 0\u001b[0m\u001b[1;33m\u001b[0m\u001b[1;33m\u001b[0m\u001b[1;33m\u001b[0m\u001b[0m\n",
      "\u001b[1;32m~\\anaconda3\\lib\\site-packages\\sklearn\\metrics\\_classification.py\u001b[0m in \u001b[0;36maccuracy_score\u001b[1;34m(y_true, y_pred, normalize, sample_weight)\u001b[0m\n\u001b[0;32m    200\u001b[0m \u001b[1;33m\u001b[0m\u001b[0m\n\u001b[0;32m    201\u001b[0m     \u001b[1;31m# Compute accuracy for each possible representation\u001b[0m\u001b[1;33m\u001b[0m\u001b[1;33m\u001b[0m\u001b[1;33m\u001b[0m\u001b[0m\n\u001b[1;32m--> 202\u001b[1;33m     \u001b[0my_type\u001b[0m\u001b[1;33m,\u001b[0m \u001b[0my_true\u001b[0m\u001b[1;33m,\u001b[0m \u001b[0my_pred\u001b[0m \u001b[1;33m=\u001b[0m \u001b[0m_check_targets\u001b[0m\u001b[1;33m(\u001b[0m\u001b[0my_true\u001b[0m\u001b[1;33m,\u001b[0m \u001b[0my_pred\u001b[0m\u001b[1;33m)\u001b[0m\u001b[1;33m\u001b[0m\u001b[1;33m\u001b[0m\u001b[0m\n\u001b[0m\u001b[0;32m    203\u001b[0m     \u001b[0mcheck_consistent_length\u001b[0m\u001b[1;33m(\u001b[0m\u001b[0my_true\u001b[0m\u001b[1;33m,\u001b[0m \u001b[0my_pred\u001b[0m\u001b[1;33m,\u001b[0m \u001b[0msample_weight\u001b[0m\u001b[1;33m)\u001b[0m\u001b[1;33m\u001b[0m\u001b[1;33m\u001b[0m\u001b[0m\n\u001b[0;32m    204\u001b[0m     \u001b[1;32mif\u001b[0m \u001b[0my_type\u001b[0m\u001b[1;33m.\u001b[0m\u001b[0mstartswith\u001b[0m\u001b[1;33m(\u001b[0m\u001b[1;34m'multilabel'\u001b[0m\u001b[1;33m)\u001b[0m\u001b[1;33m:\u001b[0m\u001b[1;33m\u001b[0m\u001b[1;33m\u001b[0m\u001b[0m\n",
      "\u001b[1;32m~\\anaconda3\\lib\\site-packages\\sklearn\\metrics\\_classification.py\u001b[0m in \u001b[0;36m_check_targets\u001b[1;34m(y_true, y_pred)\u001b[0m\n\u001b[0;32m     81\u001b[0m     \u001b[0my_pred\u001b[0m \u001b[1;33m:\u001b[0m \u001b[0marray\u001b[0m \u001b[1;32mor\u001b[0m \u001b[0mindicator\u001b[0m \u001b[0mmatrix\u001b[0m\u001b[1;33m\u001b[0m\u001b[1;33m\u001b[0m\u001b[0m\n\u001b[0;32m     82\u001b[0m     \"\"\"\n\u001b[1;32m---> 83\u001b[1;33m     \u001b[0mcheck_consistent_length\u001b[0m\u001b[1;33m(\u001b[0m\u001b[0my_true\u001b[0m\u001b[1;33m,\u001b[0m \u001b[0my_pred\u001b[0m\u001b[1;33m)\u001b[0m\u001b[1;33m\u001b[0m\u001b[1;33m\u001b[0m\u001b[0m\n\u001b[0m\u001b[0;32m     84\u001b[0m     \u001b[0mtype_true\u001b[0m \u001b[1;33m=\u001b[0m \u001b[0mtype_of_target\u001b[0m\u001b[1;33m(\u001b[0m\u001b[0my_true\u001b[0m\u001b[1;33m)\u001b[0m\u001b[1;33m\u001b[0m\u001b[1;33m\u001b[0m\u001b[0m\n\u001b[0;32m     85\u001b[0m     \u001b[0mtype_pred\u001b[0m \u001b[1;33m=\u001b[0m \u001b[0mtype_of_target\u001b[0m\u001b[1;33m(\u001b[0m\u001b[0my_pred\u001b[0m\u001b[1;33m)\u001b[0m\u001b[1;33m\u001b[0m\u001b[1;33m\u001b[0m\u001b[0m\n",
      "\u001b[1;32m~\\anaconda3\\lib\\site-packages\\sklearn\\utils\\validation.py\u001b[0m in \u001b[0;36mcheck_consistent_length\u001b[1;34m(*arrays)\u001b[0m\n\u001b[0;32m    317\u001b[0m     \u001b[0muniques\u001b[0m \u001b[1;33m=\u001b[0m \u001b[0mnp\u001b[0m\u001b[1;33m.\u001b[0m\u001b[0munique\u001b[0m\u001b[1;33m(\u001b[0m\u001b[0mlengths\u001b[0m\u001b[1;33m)\u001b[0m\u001b[1;33m\u001b[0m\u001b[1;33m\u001b[0m\u001b[0m\n\u001b[0;32m    318\u001b[0m     \u001b[1;32mif\u001b[0m \u001b[0mlen\u001b[0m\u001b[1;33m(\u001b[0m\u001b[0muniques\u001b[0m\u001b[1;33m)\u001b[0m \u001b[1;33m>\u001b[0m \u001b[1;36m1\u001b[0m\u001b[1;33m:\u001b[0m\u001b[1;33m\u001b[0m\u001b[1;33m\u001b[0m\u001b[0m\n\u001b[1;32m--> 319\u001b[1;33m         raise ValueError(\"Found input variables with inconsistent numbers of\"\n\u001b[0m\u001b[0;32m    320\u001b[0m                          \" samples: %r\" % [int(l) for l in lengths])\n\u001b[0;32m    321\u001b[0m \u001b[1;33m\u001b[0m\u001b[0m\n",
      "\u001b[1;31mValueError\u001b[0m: Found input variables with inconsistent numbers of samples: [49145, 824725]"
     ]
    }
   ],
   "source": [
    "df = pd.concat([train_pred1, train_pred2], axis=1)\n",
    "df_test = pd.concat([test_pred1, test_pred2], axis=1)\n",
    "\n",
    "model = LogisticRegression(random_state=1)\n",
    "model.fit(df,y_train_resample)\n",
    "model.score(df_test, y_test)"
   ]
  },
  {
   "cell_type": "code",
   "execution_count": null,
   "metadata": {},
   "outputs": [],
   "source": []
  },
  {
   "cell_type": "code",
   "execution_count": null,
   "metadata": {},
   "outputs": [],
   "source": []
  },
  {
   "cell_type": "code",
   "execution_count": null,
   "metadata": {},
   "outputs": [],
   "source": []
  },
  {
   "cell_type": "code",
   "execution_count": null,
   "metadata": {},
   "outputs": [],
   "source": []
  },
  {
   "cell_type": "code",
   "execution_count": 92,
   "metadata": {},
   "outputs": [],
   "source": [
    "import xgboost as xgb"
   ]
  },
  {
   "cell_type": "code",
   "execution_count": 93,
   "metadata": {},
   "outputs": [],
   "source": [
    "xgboost = xgb.XGBClassifier(random_state=42,learning_rate=0.01)"
   ]
  },
  {
   "cell_type": "code",
   "execution_count": 218,
   "metadata": {},
   "outputs": [
    {
     "data": {
      "text/plain": [
       "XGBClassifier(base_score=0.5, booster='gbtree', colsample_bylevel=1,\n",
       "              colsample_bynode=1, colsample_bytree=1, gamma=0, gpu_id=-1,\n",
       "              importance_type='gain', interaction_constraints='',\n",
       "              learning_rate=0.01, max_delta_step=0, max_depth=6,\n",
       "              min_child_weight=1, missing=nan, monotone_constraints='()',\n",
       "              n_estimators=100, n_jobs=0, num_parallel_tree=1, random_state=42,\n",
       "              reg_alpha=0, reg_lambda=1, scale_pos_weight=1, subsample=1,\n",
       "              tree_method='exact', validate_parameters=1, verbosity=None)"
      ]
     },
     "execution_count": 218,
     "metadata": {},
     "output_type": "execute_result"
    }
   ],
   "source": [
    "xgboost.fit(X_train_resample,y_train_resample)"
   ]
  },
  {
   "cell_type": "code",
   "execution_count": 219,
   "metadata": {},
   "outputs": [
    {
     "data": {
      "text/plain": [
       "0.7853551183727909"
      ]
     },
     "execution_count": 219,
     "metadata": {},
     "output_type": "execute_result"
    }
   ],
   "source": [
    "xgboost.score(X_test_resample,y_test_resample)"
   ]
  },
  {
   "cell_type": "code",
   "execution_count": 220,
   "metadata": {},
   "outputs": [
    {
     "data": {
      "text/plain": [
       "0.788445443299244"
      ]
     },
     "execution_count": 220,
     "metadata": {},
     "output_type": "execute_result"
    }
   ],
   "source": [
    "xgboost.score(X_train_resample,y_train_resample)"
   ]
  },
  {
   "cell_type": "code",
   "execution_count": 221,
   "metadata": {},
   "outputs": [],
   "source": [
    "xgb_pred = xgboost.predict(X_test_resample)"
   ]
  },
  {
   "cell_type": "code",
   "execution_count": 222,
   "metadata": {},
   "outputs": [
    {
     "name": "stdout",
     "output_type": "stream",
     "text": [
      "              precision    recall  f1-score   support\n",
      "\n",
      "           0       0.80      0.77      0.78     37559\n",
      "           1       0.77      0.80      0.79     37416\n",
      "\n",
      "    accuracy                           0.79     74975\n",
      "   macro avg       0.79      0.79      0.79     74975\n",
      "weighted avg       0.79      0.79      0.79     74975\n",
      "\n"
     ]
    }
   ],
   "source": [
    "print(classification_report(y_test_resample,xgb_pred))"
   ]
  },
  {
   "cell_type": "code",
   "execution_count": 223,
   "metadata": {},
   "outputs": [
    {
     "data": {
      "text/plain": [
       "0.7853921148522631"
      ]
     },
     "execution_count": 223,
     "metadata": {},
     "output_type": "execute_result"
    }
   ],
   "source": [
    "roc_auc_score(y_test_resample,xgb_pred)"
   ]
  },
  {
   "cell_type": "code",
   "execution_count": 297,
   "metadata": {},
   "outputs": [],
   "source": [
    "new_xbg_model = xgb.XGBClassifier(base_score=0.2, booster='gbtree', colsample_bylevel=0.5,\n",
    "                              colsample_bynode=0.5, colsample_bytree=0.5, gamma=0, gpu_id=-1,\n",
    "                              importance_type='gain', interaction_constraints='',\n",
    "                              learning_rate=0.1, max_delta_step=0, max_depth=3,\n",
    "                              min_child_weight=1, monotone_constraints='()',\n",
    "                              n_estimators=1000, n_jobs=0, num_parallel_tree=1,\n",
    "                              objective='binary:logistic', random_state=211, reg_alpha=0,\n",
    "                              reg_lambda=1, scale_pos_weight=1, subsample=1,\n",
    "                              tree_method='exact', validate_parameters=1, verbosity=None)"
   ]
  },
  {
   "cell_type": "code",
   "execution_count": 298,
   "metadata": {},
   "outputs": [
    {
     "data": {
      "text/plain": [
       "XGBClassifier(base_score=0.2, booster='gbtree', colsample_bylevel=0.5,\n",
       "              colsample_bynode=0.5, colsample_bytree=0.5, gamma=0, gpu_id=-1,\n",
       "              importance_type='gain', interaction_constraints='',\n",
       "              learning_rate=0.1, max_delta_step=0, max_depth=3,\n",
       "              min_child_weight=1, missing=nan, monotone_constraints='()',\n",
       "              n_estimators=1000, n_jobs=0, num_parallel_tree=1,\n",
       "              random_state=211, reg_alpha=0, reg_lambda=1, scale_pos_weight=1,\n",
       "              subsample=1, tree_method='exact', validate_parameters=1,\n",
       "              verbosity=None)"
      ]
     },
     "execution_count": 298,
     "metadata": {},
     "output_type": "execute_result"
    }
   ],
   "source": [
    "new_xbg_model.fit(X_train_resample,y_train_resample)"
   ]
  },
  {
   "cell_type": "code",
   "execution_count": 299,
   "metadata": {},
   "outputs": [
    {
     "data": {
      "text/plain": [
       "0.7870223407802601"
      ]
     },
     "execution_count": 299,
     "metadata": {},
     "output_type": "execute_result"
    }
   ],
   "source": [
    "new_xbg_model.score(X_test_resample,y_test_resample)"
   ]
  },
  {
   "cell_type": "code",
   "execution_count": 300,
   "metadata": {},
   "outputs": [],
   "source": [
    "new_xgb_predict = new_xbg_model.predict(X_test_resample)"
   ]
  },
  {
   "cell_type": "code",
   "execution_count": 301,
   "metadata": {},
   "outputs": [
    {
     "data": {
      "text/plain": [
       "0.7870290960310963"
      ]
     },
     "execution_count": 301,
     "metadata": {},
     "output_type": "execute_result"
    }
   ],
   "source": [
    "roc_auc_score(y_test_resample,new_xgb_predict)"
   ]
  },
  {
   "cell_type": "code",
   "execution_count": null,
   "metadata": {},
   "outputs": [],
   "source": []
  },
  {
   "cell_type": "code",
   "execution_count": null,
   "metadata": {},
   "outputs": [],
   "source": []
  },
  {
   "cell_type": "code",
   "execution_count": null,
   "metadata": {},
   "outputs": [],
   "source": []
  },
  {
   "cell_type": "code",
   "execution_count": null,
   "metadata": {},
   "outputs": [],
   "source": []
  },
  {
   "cell_type": "code",
   "execution_count": 224,
   "metadata": {},
   "outputs": [
    {
     "data": {
      "text/plain": [
       "AdaBoostClassifier()"
      ]
     },
     "execution_count": 224,
     "metadata": {},
     "output_type": "execute_result"
    }
   ],
   "source": [
    "adab.fit(X_train_resample,y_train_resample)"
   ]
  },
  {
   "cell_type": "code",
   "execution_count": 225,
   "metadata": {},
   "outputs": [
    {
     "data": {
      "text/plain": [
       "0.7730176725575192"
      ]
     },
     "execution_count": 225,
     "metadata": {},
     "output_type": "execute_result"
    }
   ],
   "source": [
    "adab.score(X_test_resample,y_test_resample)"
   ]
  },
  {
   "cell_type": "code",
   "execution_count": 101,
   "metadata": {},
   "outputs": [],
   "source": [
    "import lightgbm as lgb"
   ]
  },
  {
   "cell_type": "code",
   "execution_count": 226,
   "metadata": {},
   "outputs": [
    {
     "name": "stdout",
     "output_type": "stream",
     "text": [
      "[LightGBM] [Warning] Auto-choosing row-wise multi-threading, the overhead of testing was 0.011521 seconds.\n",
      "You can set `force_row_wise=true` to remove the overhead.\n",
      "And if memory is not enough, you can set `force_col_wise=true`.\n",
      "[LightGBM] [Info] Total Bins 403\n",
      "[LightGBM] [Info] Number of data points in the train set: 299899, number of used features: 12\n",
      "[LightGBM] [Info] Start training from score 0.500238\n"
     ]
    }
   ],
   "source": [
    "train_data = lgb.Dataset(X_train_resample,label=y_train_resample)\n",
    "params = {'learning_rate':0.001}\n",
    "lgbc = lgb.train(params, train_data, 100)"
   ]
  },
  {
   "cell_type": "code",
   "execution_count": 227,
   "metadata": {},
   "outputs": [],
   "source": [
    "lgb_pred = lgbc.predict(X_test_resample)"
   ]
  },
  {
   "cell_type": "code",
   "execution_count": 228,
   "metadata": {},
   "outputs": [
    {
     "data": {
      "text/plain": [
       "0.8432633661290584"
      ]
     },
     "execution_count": 228,
     "metadata": {},
     "output_type": "execute_result"
    }
   ],
   "source": [
    "roc_auc_score(y_test_resample,lgb_pred)"
   ]
  },
  {
   "cell_type": "code",
   "execution_count": 105,
   "metadata": {},
   "outputs": [],
   "source": [
    "from catboost import CatBoostClassifier"
   ]
  },
  {
   "cell_type": "code",
   "execution_count": 251,
   "metadata": {},
   "outputs": [],
   "source": [
    "catboost = CatBoostClassifier(iterations=1000,learning_rate=1,loss_function=\"Logloss\")"
   ]
  },
  {
   "cell_type": "code",
   "execution_count": 252,
   "metadata": {},
   "outputs": [
    {
     "name": "stdout",
     "output_type": "stream",
     "text": [
      "0:\tlearn: 0.4851963\ttest: 0.4892035\tbest: 0.4892035 (0)\ttotal: 142ms\tremaining: 2m 21s\n",
      "1:\tlearn: 0.4792590\ttest: 0.4833836\tbest: 0.4833836 (1)\ttotal: 253ms\tremaining: 2m 6s\n",
      "2:\tlearn: 0.4771555\ttest: 0.4810199\tbest: 0.4810199 (2)\ttotal: 390ms\tremaining: 2m 9s\n",
      "3:\tlearn: 0.4760894\ttest: 0.4800984\tbest: 0.4800984 (3)\ttotal: 534ms\tremaining: 2m 13s\n",
      "4:\tlearn: 0.4753311\ttest: 0.4795591\tbest: 0.4795591 (4)\ttotal: 658ms\tremaining: 2m 10s\n",
      "5:\tlearn: 0.4748090\ttest: 0.4790511\tbest: 0.4790511 (5)\ttotal: 798ms\tremaining: 2m 12s\n",
      "6:\tlearn: 0.4743042\ttest: 0.4785979\tbest: 0.4785979 (6)\ttotal: 928ms\tremaining: 2m 11s\n",
      "7:\tlearn: 0.4739592\ttest: 0.4782528\tbest: 0.4782528 (7)\ttotal: 1.07s\tremaining: 2m 12s\n",
      "8:\tlearn: 0.4734994\ttest: 0.4778569\tbest: 0.4778569 (8)\ttotal: 1.23s\tremaining: 2m 15s\n",
      "9:\tlearn: 0.4733410\ttest: 0.4778788\tbest: 0.4778569 (8)\ttotal: 1.35s\tremaining: 2m 13s\n",
      "10:\tlearn: 0.4731036\ttest: 0.4777277\tbest: 0.4777277 (10)\ttotal: 1.46s\tremaining: 2m 11s\n",
      "11:\tlearn: 0.4726927\ttest: 0.4775147\tbest: 0.4775147 (11)\ttotal: 1.6s\tremaining: 2m 11s\n",
      "12:\tlearn: 0.4724342\ttest: 0.4773999\tbest: 0.4773999 (12)\ttotal: 1.73s\tremaining: 2m 11s\n",
      "13:\tlearn: 0.4721792\ttest: 0.4773792\tbest: 0.4773792 (13)\ttotal: 1.87s\tremaining: 2m 11s\n",
      "14:\tlearn: 0.4718693\ttest: 0.4773350\tbest: 0.4773350 (14)\ttotal: 2.02s\tremaining: 2m 12s\n",
      "15:\tlearn: 0.4715221\ttest: 0.4773358\tbest: 0.4773350 (14)\ttotal: 2.16s\tremaining: 2m 13s\n",
      "16:\tlearn: 0.4711840\ttest: 0.4772225\tbest: 0.4772225 (16)\ttotal: 2.31s\tremaining: 2m 13s\n",
      "17:\tlearn: 0.4709401\ttest: 0.4772580\tbest: 0.4772225 (16)\ttotal: 2.44s\tremaining: 2m 12s\n",
      "18:\tlearn: 0.4705901\ttest: 0.4770128\tbest: 0.4770128 (18)\ttotal: 2.56s\tremaining: 2m 12s\n",
      "19:\tlearn: 0.4702100\ttest: 0.4766823\tbest: 0.4766823 (19)\ttotal: 2.69s\tremaining: 2m 11s\n",
      "20:\tlearn: 0.4698911\ttest: 0.4765275\tbest: 0.4765275 (20)\ttotal: 2.86s\tremaining: 2m 13s\n",
      "21:\tlearn: 0.4695626\ttest: 0.4762145\tbest: 0.4762145 (21)\ttotal: 2.98s\tremaining: 2m 12s\n",
      "22:\tlearn: 0.4693683\ttest: 0.4762220\tbest: 0.4762145 (21)\ttotal: 3.13s\tremaining: 2m 13s\n",
      "23:\tlearn: 0.4691661\ttest: 0.4761487\tbest: 0.4761487 (23)\ttotal: 3.26s\tremaining: 2m 12s\n",
      "24:\tlearn: 0.4690036\ttest: 0.4761554\tbest: 0.4761487 (23)\ttotal: 3.39s\tremaining: 2m 12s\n",
      "25:\tlearn: 0.4687814\ttest: 0.4762326\tbest: 0.4761487 (23)\ttotal: 3.52s\tremaining: 2m 12s\n",
      "26:\tlearn: 0.4685991\ttest: 0.4762501\tbest: 0.4761487 (23)\ttotal: 3.67s\tremaining: 2m 12s\n",
      "27:\tlearn: 0.4684401\ttest: 0.4762560\tbest: 0.4761487 (23)\ttotal: 3.81s\tremaining: 2m 12s\n",
      "28:\tlearn: 0.4681524\ttest: 0.4763449\tbest: 0.4761487 (23)\ttotal: 3.97s\tremaining: 2m 12s\n",
      "29:\tlearn: 0.4679145\ttest: 0.4763644\tbest: 0.4761487 (23)\ttotal: 4.12s\tremaining: 2m 13s\n",
      "30:\tlearn: 0.4676607\ttest: 0.4763458\tbest: 0.4761487 (23)\ttotal: 4.28s\tremaining: 2m 13s\n",
      "31:\tlearn: 0.4674202\ttest: 0.4761349\tbest: 0.4761349 (31)\ttotal: 4.42s\tremaining: 2m 13s\n",
      "32:\tlearn: 0.4672236\ttest: 0.4762060\tbest: 0.4761349 (31)\ttotal: 4.59s\tremaining: 2m 14s\n",
      "33:\tlearn: 0.4670039\ttest: 0.4762610\tbest: 0.4761349 (31)\ttotal: 4.72s\tremaining: 2m 14s\n",
      "34:\tlearn: 0.4668072\ttest: 0.4761780\tbest: 0.4761349 (31)\ttotal: 4.86s\tremaining: 2m 14s\n",
      "35:\tlearn: 0.4665055\ttest: 0.4758871\tbest: 0.4758871 (35)\ttotal: 5s\tremaining: 2m 13s\n",
      "36:\tlearn: 0.4662016\ttest: 0.4758131\tbest: 0.4758131 (36)\ttotal: 5.15s\tremaining: 2m 14s\n",
      "37:\tlearn: 0.4660509\ttest: 0.4757495\tbest: 0.4757495 (37)\ttotal: 5.28s\tremaining: 2m 13s\n",
      "38:\tlearn: 0.4658664\ttest: 0.4757167\tbest: 0.4757167 (38)\ttotal: 5.42s\tremaining: 2m 13s\n",
      "39:\tlearn: 0.4656049\ttest: 0.4756164\tbest: 0.4756164 (39)\ttotal: 5.55s\tremaining: 2m 13s\n",
      "40:\tlearn: 0.4654336\ttest: 0.4754980\tbest: 0.4754980 (40)\ttotal: 5.71s\tremaining: 2m 13s\n",
      "41:\tlearn: 0.4652939\ttest: 0.4754529\tbest: 0.4754529 (41)\ttotal: 5.84s\tremaining: 2m 13s\n",
      "42:\tlearn: 0.4650783\ttest: 0.4752426\tbest: 0.4752426 (42)\ttotal: 5.98s\tremaining: 2m 13s\n",
      "43:\tlearn: 0.4649132\ttest: 0.4752436\tbest: 0.4752426 (42)\ttotal: 6.12s\tremaining: 2m 13s\n",
      "44:\tlearn: 0.4647619\ttest: 0.4752017\tbest: 0.4752017 (44)\ttotal: 6.26s\tremaining: 2m 12s\n",
      "45:\tlearn: 0.4645619\ttest: 0.4752071\tbest: 0.4752017 (44)\ttotal: 6.4s\tremaining: 2m 12s\n",
      "46:\tlearn: 0.4643510\ttest: 0.4752276\tbest: 0.4752017 (44)\ttotal: 6.54s\tremaining: 2m 12s\n",
      "47:\tlearn: 0.4641520\ttest: 0.4751724\tbest: 0.4751724 (47)\ttotal: 6.67s\tremaining: 2m 12s\n",
      "48:\tlearn: 0.4640045\ttest: 0.4751095\tbest: 0.4751095 (48)\ttotal: 6.81s\tremaining: 2m 12s\n",
      "49:\tlearn: 0.4638579\ttest: 0.4751123\tbest: 0.4751095 (48)\ttotal: 6.94s\tremaining: 2m 11s\n",
      "50:\tlearn: 0.4636961\ttest: 0.4750496\tbest: 0.4750496 (50)\ttotal: 7.09s\tremaining: 2m 11s\n",
      "51:\tlearn: 0.4635800\ttest: 0.4750727\tbest: 0.4750496 (50)\ttotal: 7.22s\tremaining: 2m 11s\n",
      "52:\tlearn: 0.4633098\ttest: 0.4751267\tbest: 0.4750496 (50)\ttotal: 7.36s\tremaining: 2m 11s\n",
      "53:\tlearn: 0.4631541\ttest: 0.4751369\tbest: 0.4750496 (50)\ttotal: 7.5s\tremaining: 2m 11s\n",
      "54:\tlearn: 0.4629430\ttest: 0.4751132\tbest: 0.4750496 (50)\ttotal: 7.64s\tremaining: 2m 11s\n",
      "55:\tlearn: 0.4627981\ttest: 0.4751128\tbest: 0.4750496 (50)\ttotal: 7.78s\tremaining: 2m 11s\n",
      "56:\tlearn: 0.4626173\ttest: 0.4751404\tbest: 0.4750496 (50)\ttotal: 7.92s\tremaining: 2m 10s\n",
      "57:\tlearn: 0.4623902\ttest: 0.4750228\tbest: 0.4750228 (57)\ttotal: 8.06s\tremaining: 2m 10s\n",
      "58:\tlearn: 0.4622080\ttest: 0.4749769\tbest: 0.4749769 (58)\ttotal: 8.21s\tremaining: 2m 10s\n",
      "59:\tlearn: 0.4620660\ttest: 0.4748745\tbest: 0.4748745 (59)\ttotal: 8.34s\tremaining: 2m 10s\n",
      "60:\tlearn: 0.4619531\ttest: 0.4749187\tbest: 0.4748745 (59)\ttotal: 8.47s\tremaining: 2m 10s\n",
      "61:\tlearn: 0.4618039\ttest: 0.4748190\tbest: 0.4748190 (61)\ttotal: 8.61s\tremaining: 2m 10s\n",
      "62:\tlearn: 0.4616772\ttest: 0.4747286\tbest: 0.4747286 (62)\ttotal: 8.77s\tremaining: 2m 10s\n",
      "63:\tlearn: 0.4615016\ttest: 0.4747871\tbest: 0.4747286 (62)\ttotal: 8.9s\tremaining: 2m 10s\n",
      "64:\tlearn: 0.4613522\ttest: 0.4747506\tbest: 0.4747286 (62)\ttotal: 9.06s\tremaining: 2m 10s\n",
      "65:\tlearn: 0.4611975\ttest: 0.4746681\tbest: 0.4746681 (65)\ttotal: 9.22s\tremaining: 2m 10s\n",
      "66:\tlearn: 0.4610481\ttest: 0.4747455\tbest: 0.4746681 (65)\ttotal: 9.38s\tremaining: 2m 10s\n",
      "67:\tlearn: 0.4608661\ttest: 0.4746923\tbest: 0.4746681 (65)\ttotal: 9.53s\tremaining: 2m 10s\n",
      "68:\tlearn: 0.4606224\ttest: 0.4746354\tbest: 0.4746354 (68)\ttotal: 9.71s\tremaining: 2m 11s\n",
      "69:\tlearn: 0.4604565\ttest: 0.4745338\tbest: 0.4745338 (69)\ttotal: 9.84s\tremaining: 2m 10s\n",
      "70:\tlearn: 0.4603222\ttest: 0.4743845\tbest: 0.4743845 (70)\ttotal: 9.97s\tremaining: 2m 10s\n",
      "71:\tlearn: 0.4601800\ttest: 0.4744381\tbest: 0.4743845 (70)\ttotal: 10.1s\tremaining: 2m 10s\n",
      "72:\tlearn: 0.4600288\ttest: 0.4745639\tbest: 0.4743845 (70)\ttotal: 10.3s\tremaining: 2m 10s\n",
      "73:\tlearn: 0.4599026\ttest: 0.4746590\tbest: 0.4743845 (70)\ttotal: 10.4s\tremaining: 2m 10s\n",
      "74:\tlearn: 0.4597385\ttest: 0.4745005\tbest: 0.4743845 (70)\ttotal: 10.5s\tremaining: 2m 9s\n",
      "75:\tlearn: 0.4595824\ttest: 0.4743040\tbest: 0.4743040 (75)\ttotal: 10.7s\tremaining: 2m 9s\n",
      "76:\tlearn: 0.4594776\ttest: 0.4743196\tbest: 0.4743040 (75)\ttotal: 10.8s\tremaining: 2m 9s\n",
      "77:\tlearn: 0.4593491\ttest: 0.4742659\tbest: 0.4742659 (77)\ttotal: 11s\tremaining: 2m 9s\n",
      "78:\tlearn: 0.4592194\ttest: 0.4742741\tbest: 0.4742659 (77)\ttotal: 11.1s\tremaining: 2m 9s\n",
      "79:\tlearn: 0.4590290\ttest: 0.4741747\tbest: 0.4741747 (79)\ttotal: 11.2s\tremaining: 2m 9s\n",
      "80:\tlearn: 0.4588176\ttest: 0.4740103\tbest: 0.4740103 (80)\ttotal: 11.4s\tremaining: 2m 9s\n",
      "81:\tlearn: 0.4586747\ttest: 0.4740169\tbest: 0.4740103 (80)\ttotal: 11.5s\tremaining: 2m 8s\n",
      "82:\tlearn: 0.4584871\ttest: 0.4741008\tbest: 0.4740103 (80)\ttotal: 11.7s\tremaining: 2m 8s\n",
      "83:\tlearn: 0.4583519\ttest: 0.4740965\tbest: 0.4740103 (80)\ttotal: 11.8s\tremaining: 2m 8s\n",
      "84:\tlearn: 0.4582178\ttest: 0.4740938\tbest: 0.4740103 (80)\ttotal: 12s\tremaining: 2m 8s\n",
      "85:\tlearn: 0.4580996\ttest: 0.4740863\tbest: 0.4740103 (80)\ttotal: 12.1s\tremaining: 2m 8s\n",
      "86:\tlearn: 0.4579295\ttest: 0.4739918\tbest: 0.4739918 (86)\ttotal: 12.3s\tremaining: 2m 8s\n",
      "87:\tlearn: 0.4577819\ttest: 0.4739888\tbest: 0.4739888 (87)\ttotal: 12.4s\tremaining: 2m 8s\n",
      "88:\tlearn: 0.4576532\ttest: 0.4740432\tbest: 0.4739888 (87)\ttotal: 12.6s\tremaining: 2m 8s\n",
      "89:\tlearn: 0.4575371\ttest: 0.4739721\tbest: 0.4739721 (89)\ttotal: 12.7s\tremaining: 2m 8s\n",
      "90:\tlearn: 0.4574016\ttest: 0.4739211\tbest: 0.4739211 (90)\ttotal: 12.9s\tremaining: 2m 8s\n",
      "91:\tlearn: 0.4572797\ttest: 0.4738335\tbest: 0.4738335 (91)\ttotal: 13.1s\tremaining: 2m 8s\n",
      "92:\tlearn: 0.4571445\ttest: 0.4736976\tbest: 0.4736976 (92)\ttotal: 13.2s\tremaining: 2m 8s\n",
      "93:\tlearn: 0.4570105\ttest: 0.4735993\tbest: 0.4735993 (93)\ttotal: 13.3s\tremaining: 2m 8s\n"
     ]
    },
    {
     "name": "stdout",
     "output_type": "stream",
     "text": [
      "94:\tlearn: 0.4568959\ttest: 0.4735819\tbest: 0.4735819 (94)\ttotal: 13.5s\tremaining: 2m 8s\n",
      "95:\tlearn: 0.4567350\ttest: 0.4734867\tbest: 0.4734867 (95)\ttotal: 13.6s\tremaining: 2m 8s\n",
      "96:\tlearn: 0.4565690\ttest: 0.4734901\tbest: 0.4734867 (95)\ttotal: 13.8s\tremaining: 2m 8s\n",
      "97:\tlearn: 0.4564146\ttest: 0.4734874\tbest: 0.4734867 (95)\ttotal: 13.9s\tremaining: 2m 7s\n",
      "98:\tlearn: 0.4563031\ttest: 0.4735116\tbest: 0.4734867 (95)\ttotal: 14.1s\tremaining: 2m 8s\n",
      "99:\tlearn: 0.4561459\ttest: 0.4734750\tbest: 0.4734750 (99)\ttotal: 14.2s\tremaining: 2m 7s\n",
      "100:\tlearn: 0.4560749\ttest: 0.4734720\tbest: 0.4734720 (100)\ttotal: 14.3s\tremaining: 2m 7s\n",
      "101:\tlearn: 0.4559003\ttest: 0.4734138\tbest: 0.4734138 (101)\ttotal: 14.5s\tremaining: 2m 7s\n",
      "102:\tlearn: 0.4557566\ttest: 0.4733975\tbest: 0.4733975 (102)\ttotal: 14.7s\tremaining: 2m 7s\n",
      "103:\tlearn: 0.4555839\ttest: 0.4734172\tbest: 0.4733975 (102)\ttotal: 14.8s\tremaining: 2m 7s\n",
      "104:\tlearn: 0.4554402\ttest: 0.4733830\tbest: 0.4733830 (104)\ttotal: 15s\tremaining: 2m 7s\n",
      "105:\tlearn: 0.4552826\ttest: 0.4733750\tbest: 0.4733750 (105)\ttotal: 15.2s\tremaining: 2m 7s\n",
      "106:\tlearn: 0.4551572\ttest: 0.4734042\tbest: 0.4733750 (105)\ttotal: 15.3s\tremaining: 2m 7s\n",
      "107:\tlearn: 0.4550280\ttest: 0.4733884\tbest: 0.4733750 (105)\ttotal: 15.5s\tremaining: 2m 7s\n",
      "108:\tlearn: 0.4547928\ttest: 0.4734742\tbest: 0.4733750 (105)\ttotal: 15.6s\tremaining: 2m 7s\n",
      "109:\tlearn: 0.4546328\ttest: 0.4734243\tbest: 0.4733750 (105)\ttotal: 15.8s\tremaining: 2m 7s\n",
      "110:\tlearn: 0.4544993\ttest: 0.4734199\tbest: 0.4733750 (105)\ttotal: 16s\tremaining: 2m 7s\n",
      "111:\tlearn: 0.4543536\ttest: 0.4734174\tbest: 0.4733750 (105)\ttotal: 16.1s\tremaining: 2m 7s\n",
      "112:\tlearn: 0.4541645\ttest: 0.4733532\tbest: 0.4733532 (112)\ttotal: 16.3s\tremaining: 2m 7s\n",
      "113:\tlearn: 0.4540217\ttest: 0.4733257\tbest: 0.4733257 (113)\ttotal: 16.5s\tremaining: 2m 7s\n",
      "114:\tlearn: 0.4539399\ttest: 0.4732766\tbest: 0.4732766 (114)\ttotal: 16.6s\tremaining: 2m 7s\n",
      "115:\tlearn: 0.4538551\ttest: 0.4731967\tbest: 0.4731967 (115)\ttotal: 16.7s\tremaining: 2m 7s\n",
      "116:\tlearn: 0.4537294\ttest: 0.4732413\tbest: 0.4731967 (115)\ttotal: 16.9s\tremaining: 2m 7s\n",
      "117:\tlearn: 0.4535888\ttest: 0.4732733\tbest: 0.4731967 (115)\ttotal: 17s\tremaining: 2m 7s\n",
      "118:\tlearn: 0.4534277\ttest: 0.4733055\tbest: 0.4731967 (115)\ttotal: 17.1s\tremaining: 2m 6s\n",
      "119:\tlearn: 0.4532885\ttest: 0.4733563\tbest: 0.4731967 (115)\ttotal: 17.3s\tremaining: 2m 6s\n",
      "120:\tlearn: 0.4531916\ttest: 0.4732793\tbest: 0.4731967 (115)\ttotal: 17.4s\tremaining: 2m 6s\n",
      "121:\tlearn: 0.4530635\ttest: 0.4731748\tbest: 0.4731748 (121)\ttotal: 17.5s\tremaining: 2m 6s\n",
      "122:\tlearn: 0.4529621\ttest: 0.4732392\tbest: 0.4731748 (121)\ttotal: 17.6s\tremaining: 2m 5s\n",
      "123:\tlearn: 0.4528152\ttest: 0.4731628\tbest: 0.4731628 (123)\ttotal: 17.8s\tremaining: 2m 5s\n",
      "124:\tlearn: 0.4526888\ttest: 0.4731642\tbest: 0.4731628 (123)\ttotal: 17.9s\tremaining: 2m 5s\n",
      "125:\tlearn: 0.4526088\ttest: 0.4731735\tbest: 0.4731628 (123)\ttotal: 18.1s\tremaining: 2m 5s\n",
      "126:\tlearn: 0.4524360\ttest: 0.4731078\tbest: 0.4731078 (126)\ttotal: 18.2s\tremaining: 2m 4s\n",
      "127:\tlearn: 0.4523282\ttest: 0.4730323\tbest: 0.4730323 (127)\ttotal: 18.3s\tremaining: 2m 4s\n",
      "128:\tlearn: 0.4521929\ttest: 0.4730655\tbest: 0.4730323 (127)\ttotal: 18.4s\tremaining: 2m 4s\n",
      "129:\tlearn: 0.4520611\ttest: 0.4730289\tbest: 0.4730289 (129)\ttotal: 18.6s\tremaining: 2m 4s\n",
      "130:\tlearn: 0.4519509\ttest: 0.4729992\tbest: 0.4729992 (130)\ttotal: 18.7s\tremaining: 2m 4s\n",
      "131:\tlearn: 0.4517944\ttest: 0.4729263\tbest: 0.4729263 (131)\ttotal: 18.9s\tremaining: 2m 4s\n",
      "132:\tlearn: 0.4516462\ttest: 0.4728170\tbest: 0.4728170 (132)\ttotal: 19s\tremaining: 2m 4s\n",
      "133:\tlearn: 0.4515055\ttest: 0.4728253\tbest: 0.4728170 (132)\ttotal: 19.2s\tremaining: 2m 4s\n",
      "134:\tlearn: 0.4514040\ttest: 0.4727498\tbest: 0.4727498 (134)\ttotal: 19.4s\tremaining: 2m 4s\n",
      "135:\tlearn: 0.4512614\ttest: 0.4726862\tbest: 0.4726862 (135)\ttotal: 19.5s\tremaining: 2m 4s\n",
      "136:\tlearn: 0.4511380\ttest: 0.4727892\tbest: 0.4726862 (135)\ttotal: 19.7s\tremaining: 2m 3s\n",
      "137:\tlearn: 0.4510085\ttest: 0.4727977\tbest: 0.4726862 (135)\ttotal: 19.8s\tremaining: 2m 3s\n",
      "138:\tlearn: 0.4508595\ttest: 0.4728179\tbest: 0.4726862 (135)\ttotal: 20s\tremaining: 2m 3s\n",
      "139:\tlearn: 0.4507316\ttest: 0.4726755\tbest: 0.4726755 (139)\ttotal: 20.1s\tremaining: 2m 3s\n",
      "140:\tlearn: 0.4506104\ttest: 0.4726748\tbest: 0.4726748 (140)\ttotal: 20.2s\tremaining: 2m 3s\n",
      "141:\tlearn: 0.4504632\ttest: 0.4727417\tbest: 0.4726748 (140)\ttotal: 20.4s\tremaining: 2m 3s\n",
      "142:\tlearn: 0.4503518\ttest: 0.4726880\tbest: 0.4726748 (140)\ttotal: 20.5s\tremaining: 2m 2s\n",
      "143:\tlearn: 0.4502076\ttest: 0.4727371\tbest: 0.4726748 (140)\ttotal: 20.7s\tremaining: 2m 2s\n",
      "144:\tlearn: 0.4500719\ttest: 0.4727481\tbest: 0.4726748 (140)\ttotal: 20.8s\tremaining: 2m 2s\n",
      "145:\tlearn: 0.4499156\ttest: 0.4727559\tbest: 0.4726748 (140)\ttotal: 20.9s\tremaining: 2m 2s\n",
      "146:\tlearn: 0.4498155\ttest: 0.4727476\tbest: 0.4726748 (140)\ttotal: 21.1s\tremaining: 2m 2s\n",
      "147:\tlearn: 0.4497046\ttest: 0.4727063\tbest: 0.4726748 (140)\ttotal: 21.2s\tremaining: 2m 2s\n",
      "148:\tlearn: 0.4495810\ttest: 0.4726704\tbest: 0.4726704 (148)\ttotal: 21.4s\tremaining: 2m 1s\n",
      "149:\tlearn: 0.4494677\ttest: 0.4726415\tbest: 0.4726415 (149)\ttotal: 21.5s\tremaining: 2m 1s\n",
      "150:\tlearn: 0.4493555\ttest: 0.4727275\tbest: 0.4726415 (149)\ttotal: 21.6s\tremaining: 2m 1s\n",
      "151:\tlearn: 0.4491992\ttest: 0.4727680\tbest: 0.4726415 (149)\ttotal: 21.8s\tremaining: 2m 1s\n",
      "152:\tlearn: 0.4490663\ttest: 0.4728918\tbest: 0.4726415 (149)\ttotal: 21.9s\tremaining: 2m 1s\n",
      "153:\tlearn: 0.4489563\ttest: 0.4729046\tbest: 0.4726415 (149)\ttotal: 22.1s\tremaining: 2m 1s\n",
      "154:\tlearn: 0.4488228\ttest: 0.4729490\tbest: 0.4726415 (149)\ttotal: 22.3s\tremaining: 2m 1s\n",
      "155:\tlearn: 0.4486853\ttest: 0.4729515\tbest: 0.4726415 (149)\ttotal: 22.4s\tremaining: 2m 1s\n",
      "156:\tlearn: 0.4486270\ttest: 0.4729787\tbest: 0.4726415 (149)\ttotal: 22.5s\tremaining: 2m 1s\n",
      "157:\tlearn: 0.4485163\ttest: 0.4730903\tbest: 0.4726415 (149)\ttotal: 22.7s\tremaining: 2m\n",
      "158:\tlearn: 0.4484216\ttest: 0.4730879\tbest: 0.4726415 (149)\ttotal: 22.8s\tremaining: 2m\n",
      "159:\tlearn: 0.4483364\ttest: 0.4731277\tbest: 0.4726415 (149)\ttotal: 23s\tremaining: 2m\n",
      "160:\tlearn: 0.4481615\ttest: 0.4731043\tbest: 0.4726415 (149)\ttotal: 23.1s\tremaining: 2m\n",
      "161:\tlearn: 0.4480369\ttest: 0.4731027\tbest: 0.4726415 (149)\ttotal: 23.3s\tremaining: 2m\n",
      "162:\tlearn: 0.4479650\ttest: 0.4730301\tbest: 0.4726415 (149)\ttotal: 23.4s\tremaining: 2m\n",
      "163:\tlearn: 0.4478218\ttest: 0.4730644\tbest: 0.4726415 (149)\ttotal: 23.5s\tremaining: 1m 59s\n",
      "164:\tlearn: 0.4476827\ttest: 0.4730011\tbest: 0.4726415 (149)\ttotal: 23.7s\tremaining: 1m 59s\n",
      "165:\tlearn: 0.4475616\ttest: 0.4729698\tbest: 0.4726415 (149)\ttotal: 23.8s\tremaining: 1m 59s\n",
      "166:\tlearn: 0.4474427\ttest: 0.4729114\tbest: 0.4726415 (149)\ttotal: 23.9s\tremaining: 1m 59s\n",
      "167:\tlearn: 0.4473481\ttest: 0.4730005\tbest: 0.4726415 (149)\ttotal: 24.1s\tremaining: 1m 59s\n",
      "168:\tlearn: 0.4471805\ttest: 0.4729330\tbest: 0.4726415 (149)\ttotal: 24.2s\tremaining: 1m 59s\n",
      "169:\tlearn: 0.4470523\ttest: 0.4729793\tbest: 0.4726415 (149)\ttotal: 24.4s\tremaining: 1m 58s\n",
      "170:\tlearn: 0.4469232\ttest: 0.4729014\tbest: 0.4726415 (149)\ttotal: 24.5s\tremaining: 1m 58s\n",
      "171:\tlearn: 0.4468074\ttest: 0.4729927\tbest: 0.4726415 (149)\ttotal: 24.7s\tremaining: 1m 58s\n",
      "172:\tlearn: 0.4466908\ttest: 0.4729655\tbest: 0.4726415 (149)\ttotal: 24.8s\tremaining: 1m 58s\n",
      "173:\tlearn: 0.4465566\ttest: 0.4728461\tbest: 0.4726415 (149)\ttotal: 24.9s\tremaining: 1m 58s\n",
      "174:\tlearn: 0.4464698\ttest: 0.4728575\tbest: 0.4726415 (149)\ttotal: 25.1s\tremaining: 1m 58s\n",
      "175:\tlearn: 0.4463310\ttest: 0.4729141\tbest: 0.4726415 (149)\ttotal: 25.2s\tremaining: 1m 58s\n",
      "176:\tlearn: 0.4462214\ttest: 0.4729105\tbest: 0.4726415 (149)\ttotal: 25.3s\tremaining: 1m 57s\n",
      "177:\tlearn: 0.4461105\ttest: 0.4729969\tbest: 0.4726415 (149)\ttotal: 25.5s\tremaining: 1m 57s\n",
      "178:\tlearn: 0.4459868\ttest: 0.4729064\tbest: 0.4726415 (149)\ttotal: 25.6s\tremaining: 1m 57s\n",
      "179:\tlearn: 0.4458951\ttest: 0.4729477\tbest: 0.4726415 (149)\ttotal: 25.7s\tremaining: 1m 57s\n",
      "180:\tlearn: 0.4457626\ttest: 0.4728116\tbest: 0.4726415 (149)\ttotal: 25.9s\tremaining: 1m 57s\n",
      "181:\tlearn: 0.4455663\ttest: 0.4726693\tbest: 0.4726415 (149)\ttotal: 26s\tremaining: 1m 57s\n",
      "182:\tlearn: 0.4454074\ttest: 0.4726407\tbest: 0.4726407 (182)\ttotal: 26.2s\tremaining: 1m 57s\n",
      "183:\tlearn: 0.4453521\ttest: 0.4725510\tbest: 0.4725510 (183)\ttotal: 26.4s\tremaining: 1m 57s\n",
      "184:\tlearn: 0.4451743\ttest: 0.4725042\tbest: 0.4725042 (184)\ttotal: 26.6s\tremaining: 1m 57s\n",
      "185:\tlearn: 0.4450430\ttest: 0.4723802\tbest: 0.4723802 (185)\ttotal: 26.7s\tremaining: 1m 56s\n"
     ]
    },
    {
     "name": "stdout",
     "output_type": "stream",
     "text": [
      "186:\tlearn: 0.4449589\ttest: 0.4723006\tbest: 0.4723006 (186)\ttotal: 26.9s\tremaining: 1m 56s\n",
      "187:\tlearn: 0.4448180\ttest: 0.4722364\tbest: 0.4722364 (187)\ttotal: 27s\tremaining: 1m 56s\n",
      "188:\tlearn: 0.4446845\ttest: 0.4721851\tbest: 0.4721851 (188)\ttotal: 27.1s\tremaining: 1m 56s\n",
      "189:\tlearn: 0.4445800\ttest: 0.4722017\tbest: 0.4721851 (188)\ttotal: 27.3s\tremaining: 1m 56s\n",
      "190:\tlearn: 0.4444359\ttest: 0.4722080\tbest: 0.4721851 (188)\ttotal: 27.5s\tremaining: 1m 56s\n",
      "191:\tlearn: 0.4443222\ttest: 0.4722244\tbest: 0.4721851 (188)\ttotal: 27.6s\tremaining: 1m 56s\n",
      "192:\tlearn: 0.4442337\ttest: 0.4722058\tbest: 0.4721851 (188)\ttotal: 27.8s\tremaining: 1m 56s\n",
      "193:\tlearn: 0.4440944\ttest: 0.4722893\tbest: 0.4721851 (188)\ttotal: 27.9s\tremaining: 1m 55s\n",
      "194:\tlearn: 0.4439673\ttest: 0.4722954\tbest: 0.4721851 (188)\ttotal: 28s\tremaining: 1m 55s\n",
      "195:\tlearn: 0.4438262\ttest: 0.4723331\tbest: 0.4721851 (188)\ttotal: 28.2s\tremaining: 1m 55s\n",
      "196:\tlearn: 0.4437300\ttest: 0.4721872\tbest: 0.4721851 (188)\ttotal: 28.3s\tremaining: 1m 55s\n",
      "197:\tlearn: 0.4435768\ttest: 0.4722070\tbest: 0.4721851 (188)\ttotal: 28.4s\tremaining: 1m 55s\n",
      "198:\tlearn: 0.4434449\ttest: 0.4722315\tbest: 0.4721851 (188)\ttotal: 28.6s\tremaining: 1m 55s\n",
      "199:\tlearn: 0.4433627\ttest: 0.4722232\tbest: 0.4721851 (188)\ttotal: 28.7s\tremaining: 1m 54s\n",
      "200:\tlearn: 0.4432346\ttest: 0.4721945\tbest: 0.4721851 (188)\ttotal: 28.9s\tremaining: 1m 54s\n",
      "201:\tlearn: 0.4431609\ttest: 0.4722170\tbest: 0.4721851 (188)\ttotal: 29s\tremaining: 1m 54s\n",
      "202:\tlearn: 0.4430964\ttest: 0.4722382\tbest: 0.4721851 (188)\ttotal: 29.2s\tremaining: 1m 54s\n",
      "203:\tlearn: 0.4429671\ttest: 0.4721361\tbest: 0.4721361 (203)\ttotal: 29.3s\tremaining: 1m 54s\n",
      "204:\tlearn: 0.4428262\ttest: 0.4720414\tbest: 0.4720414 (204)\ttotal: 29.5s\tremaining: 1m 54s\n",
      "205:\tlearn: 0.4427324\ttest: 0.4720252\tbest: 0.4720252 (205)\ttotal: 29.6s\tremaining: 1m 54s\n",
      "206:\tlearn: 0.4426607\ttest: 0.4720121\tbest: 0.4720121 (206)\ttotal: 29.8s\tremaining: 1m 54s\n",
      "207:\tlearn: 0.4425445\ttest: 0.4719293\tbest: 0.4719293 (207)\ttotal: 30s\tremaining: 1m 54s\n",
      "208:\tlearn: 0.4424811\ttest: 0.4718731\tbest: 0.4718731 (208)\ttotal: 30.1s\tremaining: 1m 53s\n",
      "209:\tlearn: 0.4424078\ttest: 0.4717895\tbest: 0.4717895 (209)\ttotal: 30.2s\tremaining: 1m 53s\n",
      "210:\tlearn: 0.4423513\ttest: 0.4716938\tbest: 0.4716938 (210)\ttotal: 30.3s\tremaining: 1m 53s\n",
      "211:\tlearn: 0.4421908\ttest: 0.4716955\tbest: 0.4716938 (210)\ttotal: 30.5s\tremaining: 1m 53s\n",
      "212:\tlearn: 0.4420619\ttest: 0.4716147\tbest: 0.4716147 (212)\ttotal: 30.6s\tremaining: 1m 53s\n",
      "213:\tlearn: 0.4419595\ttest: 0.4716302\tbest: 0.4716147 (212)\ttotal: 30.7s\tremaining: 1m 52s\n",
      "214:\tlearn: 0.4418395\ttest: 0.4715530\tbest: 0.4715530 (214)\ttotal: 30.9s\tremaining: 1m 52s\n",
      "215:\tlearn: 0.4417027\ttest: 0.4713771\tbest: 0.4713771 (215)\ttotal: 31s\tremaining: 1m 52s\n",
      "216:\tlearn: 0.4416005\ttest: 0.4713696\tbest: 0.4713696 (216)\ttotal: 31.2s\tremaining: 1m 52s\n",
      "217:\tlearn: 0.4415366\ttest: 0.4713809\tbest: 0.4713696 (216)\ttotal: 31.3s\tremaining: 1m 52s\n",
      "218:\tlearn: 0.4414601\ttest: 0.4713169\tbest: 0.4713169 (218)\ttotal: 31.4s\tremaining: 1m 52s\n",
      "219:\tlearn: 0.4413532\ttest: 0.4712988\tbest: 0.4712988 (219)\ttotal: 31.6s\tremaining: 1m 51s\n",
      "220:\tlearn: 0.4412478\ttest: 0.4711331\tbest: 0.4711331 (220)\ttotal: 31.7s\tremaining: 1m 51s\n",
      "221:\tlearn: 0.4411375\ttest: 0.4710721\tbest: 0.4710721 (221)\ttotal: 31.8s\tremaining: 1m 51s\n",
      "222:\tlearn: 0.4410488\ttest: 0.4711192\tbest: 0.4710721 (221)\ttotal: 32s\tremaining: 1m 51s\n",
      "223:\tlearn: 0.4409651\ttest: 0.4710745\tbest: 0.4710721 (221)\ttotal: 32.1s\tremaining: 1m 51s\n",
      "224:\tlearn: 0.4408288\ttest: 0.4710827\tbest: 0.4710721 (221)\ttotal: 32.3s\tremaining: 1m 51s\n",
      "225:\tlearn: 0.4407307\ttest: 0.4712099\tbest: 0.4710721 (221)\ttotal: 32.4s\tremaining: 1m 50s\n",
      "226:\tlearn: 0.4406078\ttest: 0.4711985\tbest: 0.4710721 (221)\ttotal: 32.6s\tremaining: 1m 50s\n",
      "227:\tlearn: 0.4404319\ttest: 0.4712110\tbest: 0.4710721 (221)\ttotal: 32.7s\tremaining: 1m 50s\n",
      "228:\tlearn: 0.4403352\ttest: 0.4712732\tbest: 0.4710721 (221)\ttotal: 32.9s\tremaining: 1m 50s\n",
      "229:\tlearn: 0.4402766\ttest: 0.4712245\tbest: 0.4710721 (221)\ttotal: 33s\tremaining: 1m 50s\n",
      "230:\tlearn: 0.4401443\ttest: 0.4711651\tbest: 0.4710721 (221)\ttotal: 33.2s\tremaining: 1m 50s\n",
      "231:\tlearn: 0.4400323\ttest: 0.4712525\tbest: 0.4710721 (221)\ttotal: 33.3s\tremaining: 1m 50s\n",
      "232:\tlearn: 0.4399221\ttest: 0.4713032\tbest: 0.4710721 (221)\ttotal: 33.5s\tremaining: 1m 50s\n",
      "233:\tlearn: 0.4397994\ttest: 0.4712400\tbest: 0.4710721 (221)\ttotal: 33.6s\tremaining: 1m 50s\n",
      "234:\tlearn: 0.4396784\ttest: 0.4712771\tbest: 0.4710721 (221)\ttotal: 33.8s\tremaining: 1m 49s\n",
      "235:\tlearn: 0.4395417\ttest: 0.4712164\tbest: 0.4710721 (221)\ttotal: 33.9s\tremaining: 1m 49s\n",
      "236:\tlearn: 0.4394565\ttest: 0.4711323\tbest: 0.4710721 (221)\ttotal: 34s\tremaining: 1m 49s\n",
      "237:\tlearn: 0.4393659\ttest: 0.4711464\tbest: 0.4710721 (221)\ttotal: 34.2s\tremaining: 1m 49s\n",
      "238:\tlearn: 0.4392631\ttest: 0.4711840\tbest: 0.4710721 (221)\ttotal: 34.3s\tremaining: 1m 49s\n",
      "239:\tlearn: 0.4391852\ttest: 0.4711178\tbest: 0.4710721 (221)\ttotal: 34.5s\tremaining: 1m 49s\n",
      "240:\tlearn: 0.4391093\ttest: 0.4710675\tbest: 0.4710675 (240)\ttotal: 34.6s\tremaining: 1m 49s\n",
      "241:\tlearn: 0.4390111\ttest: 0.4712061\tbest: 0.4710675 (240)\ttotal: 34.7s\tremaining: 1m 48s\n",
      "242:\tlearn: 0.4388563\ttest: 0.4711234\tbest: 0.4710675 (240)\ttotal: 34.9s\tremaining: 1m 48s\n",
      "243:\tlearn: 0.4387475\ttest: 0.4711076\tbest: 0.4710675 (240)\ttotal: 35s\tremaining: 1m 48s\n",
      "244:\tlearn: 0.4387130\ttest: 0.4711660\tbest: 0.4710675 (240)\ttotal: 35.1s\tremaining: 1m 48s\n",
      "245:\tlearn: 0.4386307\ttest: 0.4711138\tbest: 0.4710675 (240)\ttotal: 35.3s\tremaining: 1m 48s\n",
      "246:\tlearn: 0.4385331\ttest: 0.4710265\tbest: 0.4710265 (246)\ttotal: 35.5s\tremaining: 1m 48s\n",
      "247:\tlearn: 0.4383964\ttest: 0.4709270\tbest: 0.4709270 (247)\ttotal: 35.6s\tremaining: 1m 48s\n",
      "248:\tlearn: 0.4382462\ttest: 0.4708977\tbest: 0.4708977 (248)\ttotal: 35.8s\tremaining: 1m 47s\n",
      "249:\tlearn: 0.4381279\ttest: 0.4709479\tbest: 0.4708977 (248)\ttotal: 36s\tremaining: 1m 47s\n",
      "250:\tlearn: 0.4380413\ttest: 0.4709501\tbest: 0.4708977 (248)\ttotal: 36.1s\tremaining: 1m 47s\n",
      "251:\tlearn: 0.4379279\ttest: 0.4710650\tbest: 0.4708977 (248)\ttotal: 36.3s\tremaining: 1m 47s\n",
      "252:\tlearn: 0.4378228\ttest: 0.4711437\tbest: 0.4708977 (248)\ttotal: 36.5s\tremaining: 1m 47s\n",
      "253:\tlearn: 0.4377132\ttest: 0.4711383\tbest: 0.4708977 (248)\ttotal: 36.6s\tremaining: 1m 47s\n",
      "254:\tlearn: 0.4375882\ttest: 0.4710670\tbest: 0.4708977 (248)\ttotal: 36.8s\tremaining: 1m 47s\n",
      "255:\tlearn: 0.4374844\ttest: 0.4709390\tbest: 0.4708977 (248)\ttotal: 36.9s\tremaining: 1m 47s\n",
      "256:\tlearn: 0.4373518\ttest: 0.4709683\tbest: 0.4708977 (248)\ttotal: 37s\tremaining: 1m 47s\n",
      "257:\tlearn: 0.4372300\ttest: 0.4709580\tbest: 0.4708977 (248)\ttotal: 37.2s\tremaining: 1m 46s\n",
      "258:\tlearn: 0.4371074\ttest: 0.4709400\tbest: 0.4708977 (248)\ttotal: 37.3s\tremaining: 1m 46s\n",
      "259:\tlearn: 0.4370258\ttest: 0.4709198\tbest: 0.4708977 (248)\ttotal: 37.5s\tremaining: 1m 46s\n",
      "260:\tlearn: 0.4368659\ttest: 0.4707893\tbest: 0.4707893 (260)\ttotal: 37.6s\tremaining: 1m 46s\n",
      "261:\tlearn: 0.4367199\ttest: 0.4708252\tbest: 0.4707893 (260)\ttotal: 37.7s\tremaining: 1m 46s\n",
      "262:\tlearn: 0.4366278\ttest: 0.4707984\tbest: 0.4707893 (260)\ttotal: 37.9s\tremaining: 1m 46s\n",
      "263:\tlearn: 0.4365120\ttest: 0.4707022\tbest: 0.4707022 (263)\ttotal: 38.1s\tremaining: 1m 46s\n",
      "264:\tlearn: 0.4364228\ttest: 0.4707039\tbest: 0.4707022 (263)\ttotal: 38.2s\tremaining: 1m 45s\n",
      "265:\tlearn: 0.4363238\ttest: 0.4706474\tbest: 0.4706474 (265)\ttotal: 38.3s\tremaining: 1m 45s\n",
      "266:\tlearn: 0.4362249\ttest: 0.4706523\tbest: 0.4706474 (265)\ttotal: 38.5s\tremaining: 1m 45s\n",
      "267:\tlearn: 0.4361385\ttest: 0.4705613\tbest: 0.4705613 (267)\ttotal: 38.6s\tremaining: 1m 45s\n",
      "268:\tlearn: 0.4360390\ttest: 0.4704930\tbest: 0.4704930 (268)\ttotal: 38.7s\tremaining: 1m 45s\n",
      "269:\tlearn: 0.4359066\ttest: 0.4705942\tbest: 0.4704930 (268)\ttotal: 38.9s\tremaining: 1m 45s\n",
      "270:\tlearn: 0.4357883\ttest: 0.4706676\tbest: 0.4704930 (268)\ttotal: 39.1s\tremaining: 1m 45s\n",
      "271:\tlearn: 0.4356969\ttest: 0.4705353\tbest: 0.4704930 (268)\ttotal: 39.2s\tremaining: 1m 45s\n",
      "272:\tlearn: 0.4356152\ttest: 0.4704369\tbest: 0.4704369 (272)\ttotal: 39.4s\tremaining: 1m 44s\n",
      "273:\tlearn: 0.4355397\ttest: 0.4704393\tbest: 0.4704369 (272)\ttotal: 39.5s\tremaining: 1m 44s\n",
      "274:\tlearn: 0.4354432\ttest: 0.4703177\tbest: 0.4703177 (274)\ttotal: 39.7s\tremaining: 1m 44s\n",
      "275:\tlearn: 0.4353793\ttest: 0.4703757\tbest: 0.4703177 (274)\ttotal: 39.8s\tremaining: 1m 44s\n",
      "276:\tlearn: 0.4353105\ttest: 0.4703738\tbest: 0.4703177 (274)\ttotal: 40s\tremaining: 1m 44s\n"
     ]
    },
    {
     "name": "stdout",
     "output_type": "stream",
     "text": [
      "277:\tlearn: 0.4352006\ttest: 0.4704027\tbest: 0.4703177 (274)\ttotal: 40.1s\tremaining: 1m 44s\n",
      "278:\tlearn: 0.4351460\ttest: 0.4704600\tbest: 0.4703177 (274)\ttotal: 40.3s\tremaining: 1m 44s\n",
      "279:\tlearn: 0.4350602\ttest: 0.4704764\tbest: 0.4703177 (274)\ttotal: 40.5s\tremaining: 1m 44s\n",
      "280:\tlearn: 0.4349669\ttest: 0.4704161\tbest: 0.4703177 (274)\ttotal: 40.7s\tremaining: 1m 44s\n",
      "281:\tlearn: 0.4348831\ttest: 0.4703447\tbest: 0.4703177 (274)\ttotal: 40.8s\tremaining: 1m 43s\n",
      "282:\tlearn: 0.4347847\ttest: 0.4703298\tbest: 0.4703177 (274)\ttotal: 40.9s\tremaining: 1m 43s\n",
      "283:\tlearn: 0.4346586\ttest: 0.4703383\tbest: 0.4703177 (274)\ttotal: 41.1s\tremaining: 1m 43s\n",
      "284:\tlearn: 0.4345504\ttest: 0.4702798\tbest: 0.4702798 (284)\ttotal: 41.2s\tremaining: 1m 43s\n",
      "285:\tlearn: 0.4344381\ttest: 0.4703140\tbest: 0.4702798 (284)\ttotal: 41.4s\tremaining: 1m 43s\n",
      "286:\tlearn: 0.4343799\ttest: 0.4703324\tbest: 0.4702798 (284)\ttotal: 41.5s\tremaining: 1m 43s\n",
      "287:\tlearn: 0.4342624\ttest: 0.4702853\tbest: 0.4702798 (284)\ttotal: 41.6s\tremaining: 1m 42s\n",
      "288:\tlearn: 0.4342002\ttest: 0.4702014\tbest: 0.4702014 (288)\ttotal: 41.8s\tremaining: 1m 42s\n",
      "289:\tlearn: 0.4340349\ttest: 0.4702520\tbest: 0.4702014 (288)\ttotal: 41.9s\tremaining: 1m 42s\n",
      "290:\tlearn: 0.4339120\ttest: 0.4703131\tbest: 0.4702014 (288)\ttotal: 42.1s\tremaining: 1m 42s\n",
      "291:\tlearn: 0.4338101\ttest: 0.4703324\tbest: 0.4702014 (288)\ttotal: 42.2s\tremaining: 1m 42s\n",
      "292:\tlearn: 0.4336921\ttest: 0.4701819\tbest: 0.4701819 (292)\ttotal: 42.3s\tremaining: 1m 42s\n",
      "293:\tlearn: 0.4336029\ttest: 0.4702117\tbest: 0.4701819 (292)\ttotal: 42.5s\tremaining: 1m 42s\n",
      "294:\tlearn: 0.4335029\ttest: 0.4702505\tbest: 0.4701819 (292)\ttotal: 42.6s\tremaining: 1m 41s\n",
      "295:\tlearn: 0.4334162\ttest: 0.4701271\tbest: 0.4701271 (295)\ttotal: 42.8s\tremaining: 1m 41s\n",
      "296:\tlearn: 0.4333201\ttest: 0.4699856\tbest: 0.4699856 (296)\ttotal: 42.9s\tremaining: 1m 41s\n",
      "297:\tlearn: 0.4332442\ttest: 0.4700950\tbest: 0.4699856 (296)\ttotal: 43.1s\tremaining: 1m 41s\n",
      "298:\tlearn: 0.4331497\ttest: 0.4701673\tbest: 0.4699856 (296)\ttotal: 43.2s\tremaining: 1m 41s\n",
      "299:\tlearn: 0.4330664\ttest: 0.4701576\tbest: 0.4699856 (296)\ttotal: 43.3s\tremaining: 1m 41s\n",
      "300:\tlearn: 0.4329672\ttest: 0.4702778\tbest: 0.4699856 (296)\ttotal: 43.4s\tremaining: 1m 40s\n",
      "301:\tlearn: 0.4328514\ttest: 0.4702239\tbest: 0.4699856 (296)\ttotal: 43.6s\tremaining: 1m 40s\n",
      "302:\tlearn: 0.4327493\ttest: 0.4701113\tbest: 0.4699856 (296)\ttotal: 43.7s\tremaining: 1m 40s\n",
      "303:\tlearn: 0.4326255\ttest: 0.4701180\tbest: 0.4699856 (296)\ttotal: 43.8s\tremaining: 1m 40s\n",
      "304:\tlearn: 0.4325541\ttest: 0.4700052\tbest: 0.4699856 (296)\ttotal: 44s\tremaining: 1m 40s\n",
      "305:\tlearn: 0.4324820\ttest: 0.4699789\tbest: 0.4699789 (305)\ttotal: 44.1s\tremaining: 1m 40s\n",
      "306:\tlearn: 0.4323578\ttest: 0.4700150\tbest: 0.4699789 (305)\ttotal: 44.2s\tremaining: 1m 39s\n",
      "307:\tlearn: 0.4322925\ttest: 0.4699581\tbest: 0.4699581 (307)\ttotal: 44.4s\tremaining: 1m 39s\n",
      "308:\tlearn: 0.4321789\ttest: 0.4699469\tbest: 0.4699469 (308)\ttotal: 44.5s\tremaining: 1m 39s\n",
      "309:\tlearn: 0.4320675\ttest: 0.4698778\tbest: 0.4698778 (309)\ttotal: 44.7s\tremaining: 1m 39s\n",
      "310:\tlearn: 0.4319581\ttest: 0.4699126\tbest: 0.4698778 (309)\ttotal: 44.8s\tremaining: 1m 39s\n",
      "311:\tlearn: 0.4318465\ttest: 0.4698012\tbest: 0.4698012 (311)\ttotal: 44.9s\tremaining: 1m 39s\n",
      "312:\tlearn: 0.4317926\ttest: 0.4698239\tbest: 0.4698012 (311)\ttotal: 45.1s\tremaining: 1m 38s\n",
      "313:\tlearn: 0.4316605\ttest: 0.4697403\tbest: 0.4697403 (313)\ttotal: 45.2s\tremaining: 1m 38s\n",
      "314:\tlearn: 0.4315337\ttest: 0.4698271\tbest: 0.4697403 (313)\ttotal: 45.3s\tremaining: 1m 38s\n",
      "315:\tlearn: 0.4314807\ttest: 0.4698845\tbest: 0.4697403 (313)\ttotal: 45.5s\tremaining: 1m 38s\n",
      "316:\tlearn: 0.4313545\ttest: 0.4698608\tbest: 0.4697403 (313)\ttotal: 45.6s\tremaining: 1m 38s\n",
      "317:\tlearn: 0.4312988\ttest: 0.4698671\tbest: 0.4697403 (313)\ttotal: 45.7s\tremaining: 1m 38s\n",
      "318:\tlearn: 0.4311367\ttest: 0.4700782\tbest: 0.4697403 (313)\ttotal: 45.9s\tremaining: 1m 37s\n",
      "319:\tlearn: 0.4310514\ttest: 0.4700199\tbest: 0.4697403 (313)\ttotal: 46s\tremaining: 1m 37s\n",
      "320:\tlearn: 0.4309667\ttest: 0.4699855\tbest: 0.4697403 (313)\ttotal: 46.1s\tremaining: 1m 37s\n",
      "321:\tlearn: 0.4308531\ttest: 0.4699885\tbest: 0.4697403 (313)\ttotal: 46.3s\tremaining: 1m 37s\n",
      "322:\tlearn: 0.4307800\ttest: 0.4700071\tbest: 0.4697403 (313)\ttotal: 46.4s\tremaining: 1m 37s\n",
      "323:\tlearn: 0.4306776\ttest: 0.4700440\tbest: 0.4697403 (313)\ttotal: 46.5s\tremaining: 1m 37s\n",
      "324:\tlearn: 0.4305769\ttest: 0.4700008\tbest: 0.4697403 (313)\ttotal: 46.7s\tremaining: 1m 36s\n",
      "325:\tlearn: 0.4305384\ttest: 0.4700513\tbest: 0.4697403 (313)\ttotal: 46.8s\tremaining: 1m 36s\n",
      "326:\tlearn: 0.4304273\ttest: 0.4700384\tbest: 0.4697403 (313)\ttotal: 46.9s\tremaining: 1m 36s\n",
      "327:\tlearn: 0.4303162\ttest: 0.4699648\tbest: 0.4697403 (313)\ttotal: 47.1s\tremaining: 1m 36s\n",
      "328:\tlearn: 0.4301795\ttest: 0.4698743\tbest: 0.4697403 (313)\ttotal: 47.2s\tremaining: 1m 36s\n",
      "329:\tlearn: 0.4300925\ttest: 0.4698601\tbest: 0.4697403 (313)\ttotal: 47.3s\tremaining: 1m 36s\n",
      "330:\tlearn: 0.4300033\ttest: 0.4697880\tbest: 0.4697403 (313)\ttotal: 47.5s\tremaining: 1m 35s\n",
      "331:\tlearn: 0.4299215\ttest: 0.4698734\tbest: 0.4697403 (313)\ttotal: 47.6s\tremaining: 1m 35s\n",
      "332:\tlearn: 0.4297613\ttest: 0.4697509\tbest: 0.4697403 (313)\ttotal: 47.7s\tremaining: 1m 35s\n",
      "333:\tlearn: 0.4296819\ttest: 0.4697717\tbest: 0.4697403 (313)\ttotal: 47.9s\tremaining: 1m 35s\n",
      "334:\tlearn: 0.4296042\ttest: 0.4697265\tbest: 0.4697265 (334)\ttotal: 48.1s\tremaining: 1m 35s\n",
      "335:\tlearn: 0.4295072\ttest: 0.4697085\tbest: 0.4697085 (335)\ttotal: 48.2s\tremaining: 1m 35s\n",
      "336:\tlearn: 0.4294162\ttest: 0.4696449\tbest: 0.4696449 (336)\ttotal: 48.4s\tremaining: 1m 35s\n",
      "337:\tlearn: 0.4292932\ttest: 0.4695629\tbest: 0.4695629 (337)\ttotal: 48.5s\tremaining: 1m 35s\n",
      "338:\tlearn: 0.4292615\ttest: 0.4695249\tbest: 0.4695249 (338)\ttotal: 48.7s\tremaining: 1m 34s\n",
      "339:\tlearn: 0.4291087\ttest: 0.4696165\tbest: 0.4695249 (338)\ttotal: 48.8s\tremaining: 1m 34s\n",
      "340:\tlearn: 0.4289919\ttest: 0.4695200\tbest: 0.4695200 (340)\ttotal: 48.9s\tremaining: 1m 34s\n",
      "341:\tlearn: 0.4289119\ttest: 0.4696121\tbest: 0.4695200 (340)\ttotal: 49.1s\tremaining: 1m 34s\n",
      "342:\tlearn: 0.4287896\ttest: 0.4696704\tbest: 0.4695200 (340)\ttotal: 49.2s\tremaining: 1m 34s\n",
      "343:\tlearn: 0.4286767\ttest: 0.4696691\tbest: 0.4695200 (340)\ttotal: 49.3s\tremaining: 1m 34s\n",
      "344:\tlearn: 0.4285958\ttest: 0.4695958\tbest: 0.4695200 (340)\ttotal: 49.5s\tremaining: 1m 33s\n",
      "345:\tlearn: 0.4285201\ttest: 0.4695341\tbest: 0.4695200 (340)\ttotal: 49.7s\tremaining: 1m 33s\n",
      "346:\tlearn: 0.4284227\ttest: 0.4695303\tbest: 0.4695200 (340)\ttotal: 49.8s\tremaining: 1m 33s\n",
      "347:\tlearn: 0.4282913\ttest: 0.4693221\tbest: 0.4693221 (347)\ttotal: 50s\tremaining: 1m 33s\n",
      "348:\tlearn: 0.4281928\ttest: 0.4693780\tbest: 0.4693221 (347)\ttotal: 50.1s\tremaining: 1m 33s\n",
      "349:\tlearn: 0.4281118\ttest: 0.4694123\tbest: 0.4693221 (347)\ttotal: 50.2s\tremaining: 1m 33s\n",
      "350:\tlearn: 0.4280056\ttest: 0.4693753\tbest: 0.4693221 (347)\ttotal: 50.4s\tremaining: 1m 33s\n",
      "351:\tlearn: 0.4279124\ttest: 0.4693819\tbest: 0.4693221 (347)\ttotal: 50.5s\tremaining: 1m 32s\n",
      "352:\tlearn: 0.4277945\ttest: 0.4693835\tbest: 0.4693221 (347)\ttotal: 50.6s\tremaining: 1m 32s\n",
      "353:\tlearn: 0.4277274\ttest: 0.4693965\tbest: 0.4693221 (347)\ttotal: 50.8s\tremaining: 1m 32s\n",
      "354:\tlearn: 0.4276363\ttest: 0.4692864\tbest: 0.4692864 (354)\ttotal: 50.9s\tremaining: 1m 32s\n",
      "355:\tlearn: 0.4275049\ttest: 0.4692603\tbest: 0.4692603 (355)\ttotal: 51s\tremaining: 1m 32s\n",
      "356:\tlearn: 0.4274097\ttest: 0.4692222\tbest: 0.4692222 (356)\ttotal: 51.2s\tremaining: 1m 32s\n",
      "357:\tlearn: 0.4272833\ttest: 0.4692411\tbest: 0.4692222 (356)\ttotal: 51.3s\tremaining: 1m 32s\n",
      "358:\tlearn: 0.4271883\ttest: 0.4691839\tbest: 0.4691839 (358)\ttotal: 51.5s\tremaining: 1m 31s\n",
      "359:\tlearn: 0.4271064\ttest: 0.4691686\tbest: 0.4691686 (359)\ttotal: 51.7s\tremaining: 1m 31s\n",
      "360:\tlearn: 0.4269896\ttest: 0.4691222\tbest: 0.4691222 (360)\ttotal: 51.9s\tremaining: 1m 31s\n",
      "361:\tlearn: 0.4268679\ttest: 0.4691800\tbest: 0.4691222 (360)\ttotal: 52s\tremaining: 1m 31s\n",
      "362:\tlearn: 0.4267362\ttest: 0.4690847\tbest: 0.4690847 (362)\ttotal: 52.2s\tremaining: 1m 31s\n",
      "363:\tlearn: 0.4266504\ttest: 0.4691021\tbest: 0.4690847 (362)\ttotal: 52.3s\tremaining: 1m 31s\n",
      "364:\tlearn: 0.4265403\ttest: 0.4690730\tbest: 0.4690730 (364)\ttotal: 52.5s\tremaining: 1m 31s\n",
      "365:\tlearn: 0.4264148\ttest: 0.4690407\tbest: 0.4690407 (365)\ttotal: 52.7s\tremaining: 1m 31s\n",
      "366:\tlearn: 0.4263326\ttest: 0.4690003\tbest: 0.4690003 (366)\ttotal: 52.9s\tremaining: 1m 31s\n",
      "367:\tlearn: 0.4262139\ttest: 0.4690042\tbest: 0.4690003 (366)\ttotal: 53s\tremaining: 1m 31s\n"
     ]
    },
    {
     "name": "stdout",
     "output_type": "stream",
     "text": [
      "368:\tlearn: 0.4261500\ttest: 0.4690764\tbest: 0.4690003 (366)\ttotal: 53.2s\tremaining: 1m 30s\n",
      "369:\tlearn: 0.4259937\ttest: 0.4690587\tbest: 0.4690003 (366)\ttotal: 53.4s\tremaining: 1m 30s\n",
      "370:\tlearn: 0.4259345\ttest: 0.4690878\tbest: 0.4690003 (366)\ttotal: 53.6s\tremaining: 1m 30s\n",
      "371:\tlearn: 0.4258380\ttest: 0.4689845\tbest: 0.4689845 (371)\ttotal: 53.7s\tremaining: 1m 30s\n",
      "372:\tlearn: 0.4257490\ttest: 0.4688891\tbest: 0.4688891 (372)\ttotal: 53.9s\tremaining: 1m 30s\n",
      "373:\tlearn: 0.4257057\ttest: 0.4688974\tbest: 0.4688891 (372)\ttotal: 54s\tremaining: 1m 30s\n",
      "374:\tlearn: 0.4256386\ttest: 0.4688704\tbest: 0.4688704 (374)\ttotal: 54.2s\tremaining: 1m 30s\n",
      "375:\tlearn: 0.4255270\ttest: 0.4688310\tbest: 0.4688310 (375)\ttotal: 54.3s\tremaining: 1m 30s\n",
      "376:\tlearn: 0.4254607\ttest: 0.4688716\tbest: 0.4688310 (375)\ttotal: 54.5s\tremaining: 1m 30s\n",
      "377:\tlearn: 0.4253738\ttest: 0.4688255\tbest: 0.4688255 (377)\ttotal: 54.6s\tremaining: 1m 29s\n",
      "378:\tlearn: 0.4252952\ttest: 0.4687616\tbest: 0.4687616 (378)\ttotal: 54.8s\tremaining: 1m 29s\n",
      "379:\tlearn: 0.4251545\ttest: 0.4686397\tbest: 0.4686397 (379)\ttotal: 55s\tremaining: 1m 29s\n",
      "380:\tlearn: 0.4250863\ttest: 0.4685390\tbest: 0.4685390 (380)\ttotal: 55.1s\tremaining: 1m 29s\n",
      "381:\tlearn: 0.4249995\ttest: 0.4684382\tbest: 0.4684382 (381)\ttotal: 55.2s\tremaining: 1m 29s\n",
      "382:\tlearn: 0.4248509\ttest: 0.4684327\tbest: 0.4684327 (382)\ttotal: 55.4s\tremaining: 1m 29s\n",
      "383:\tlearn: 0.4247555\ttest: 0.4684362\tbest: 0.4684327 (382)\ttotal: 55.5s\tremaining: 1m 29s\n",
      "384:\tlearn: 0.4246641\ttest: 0.4684114\tbest: 0.4684114 (384)\ttotal: 55.7s\tremaining: 1m 28s\n",
      "385:\tlearn: 0.4245777\ttest: 0.4684487\tbest: 0.4684114 (384)\ttotal: 55.8s\tremaining: 1m 28s\n",
      "386:\tlearn: 0.4245294\ttest: 0.4683629\tbest: 0.4683629 (386)\ttotal: 55.9s\tremaining: 1m 28s\n",
      "387:\tlearn: 0.4244564\ttest: 0.4683739\tbest: 0.4683629 (386)\ttotal: 56s\tremaining: 1m 28s\n",
      "388:\tlearn: 0.4244175\ttest: 0.4683545\tbest: 0.4683545 (388)\ttotal: 56.2s\tremaining: 1m 28s\n",
      "389:\tlearn: 0.4242964\ttest: 0.4681684\tbest: 0.4681684 (389)\ttotal: 56.3s\tremaining: 1m 28s\n",
      "390:\tlearn: 0.4242332\ttest: 0.4682155\tbest: 0.4681684 (389)\ttotal: 56.5s\tremaining: 1m 27s\n",
      "391:\tlearn: 0.4241376\ttest: 0.4682218\tbest: 0.4681684 (389)\ttotal: 56.6s\tremaining: 1m 27s\n",
      "392:\tlearn: 0.4240750\ttest: 0.4681678\tbest: 0.4681678 (392)\ttotal: 56.7s\tremaining: 1m 27s\n",
      "393:\tlearn: 0.4240172\ttest: 0.4681905\tbest: 0.4681678 (392)\ttotal: 56.9s\tremaining: 1m 27s\n",
      "394:\tlearn: 0.4239240\ttest: 0.4682736\tbest: 0.4681678 (392)\ttotal: 57s\tremaining: 1m 27s\n",
      "395:\tlearn: 0.4238678\ttest: 0.4683162\tbest: 0.4681678 (392)\ttotal: 57.1s\tremaining: 1m 27s\n",
      "396:\tlearn: 0.4237846\ttest: 0.4683312\tbest: 0.4681678 (392)\ttotal: 57.3s\tremaining: 1m 26s\n",
      "397:\tlearn: 0.4237095\ttest: 0.4683145\tbest: 0.4681678 (392)\ttotal: 57.4s\tremaining: 1m 26s\n",
      "398:\tlearn: 0.4235815\ttest: 0.4682206\tbest: 0.4681678 (392)\ttotal: 57.6s\tremaining: 1m 26s\n",
      "399:\tlearn: 0.4235137\ttest: 0.4682309\tbest: 0.4681678 (392)\ttotal: 57.7s\tremaining: 1m 26s\n",
      "400:\tlearn: 0.4234524\ttest: 0.4683335\tbest: 0.4681678 (392)\ttotal: 57.8s\tremaining: 1m 26s\n",
      "401:\tlearn: 0.4233178\ttest: 0.4683585\tbest: 0.4681678 (392)\ttotal: 57.9s\tremaining: 1m 26s\n",
      "402:\tlearn: 0.4231678\ttest: 0.4682150\tbest: 0.4681678 (392)\ttotal: 58.1s\tremaining: 1m 26s\n",
      "403:\tlearn: 0.4230883\ttest: 0.4682202\tbest: 0.4681678 (392)\ttotal: 58.2s\tremaining: 1m 25s\n",
      "404:\tlearn: 0.4229931\ttest: 0.4681618\tbest: 0.4681618 (404)\ttotal: 58.4s\tremaining: 1m 25s\n",
      "405:\tlearn: 0.4229188\ttest: 0.4681440\tbest: 0.4681440 (405)\ttotal: 58.5s\tremaining: 1m 25s\n",
      "406:\tlearn: 0.4228121\ttest: 0.4680986\tbest: 0.4680986 (406)\ttotal: 58.6s\tremaining: 1m 25s\n",
      "407:\tlearn: 0.4227152\ttest: 0.4679548\tbest: 0.4679548 (407)\ttotal: 58.8s\tremaining: 1m 25s\n",
      "408:\tlearn: 0.4226552\ttest: 0.4679317\tbest: 0.4679317 (408)\ttotal: 58.9s\tremaining: 1m 25s\n",
      "409:\tlearn: 0.4225755\ttest: 0.4679118\tbest: 0.4679118 (409)\ttotal: 59s\tremaining: 1m 24s\n",
      "410:\tlearn: 0.4224888\ttest: 0.4680096\tbest: 0.4679118 (409)\ttotal: 59.2s\tremaining: 1m 24s\n",
      "411:\tlearn: 0.4223270\ttest: 0.4679452\tbest: 0.4679118 (409)\ttotal: 59.3s\tremaining: 1m 24s\n",
      "412:\tlearn: 0.4221921\ttest: 0.4678661\tbest: 0.4678661 (412)\ttotal: 59.5s\tremaining: 1m 24s\n",
      "413:\tlearn: 0.4220869\ttest: 0.4678484\tbest: 0.4678484 (413)\ttotal: 59.6s\tremaining: 1m 24s\n",
      "414:\tlearn: 0.4220046\ttest: 0.4678114\tbest: 0.4678114 (414)\ttotal: 59.7s\tremaining: 1m 24s\n",
      "415:\tlearn: 0.4218702\ttest: 0.4677713\tbest: 0.4677713 (415)\ttotal: 59.9s\tremaining: 1m 24s\n",
      "416:\tlearn: 0.4217879\ttest: 0.4676961\tbest: 0.4676961 (416)\ttotal: 60s\tremaining: 1m 23s\n",
      "417:\tlearn: 0.4217319\ttest: 0.4677096\tbest: 0.4676961 (416)\ttotal: 1m\tremaining: 1m 23s\n",
      "418:\tlearn: 0.4216207\ttest: 0.4676962\tbest: 0.4676961 (416)\ttotal: 1m\tremaining: 1m 23s\n",
      "419:\tlearn: 0.4215162\ttest: 0.4676148\tbest: 0.4676148 (419)\ttotal: 1m\tremaining: 1m 23s\n",
      "420:\tlearn: 0.4214521\ttest: 0.4675981\tbest: 0.4675981 (420)\ttotal: 1m\tremaining: 1m 23s\n",
      "421:\tlearn: 0.4213792\ttest: 0.4675862\tbest: 0.4675862 (421)\ttotal: 1m\tremaining: 1m 23s\n",
      "422:\tlearn: 0.4212866\ttest: 0.4675898\tbest: 0.4675862 (421)\ttotal: 1m\tremaining: 1m 22s\n",
      "423:\tlearn: 0.4211819\ttest: 0.4675889\tbest: 0.4675862 (421)\ttotal: 1m\tremaining: 1m 22s\n",
      "424:\tlearn: 0.4211148\ttest: 0.4676051\tbest: 0.4675862 (421)\ttotal: 1m 1s\tremaining: 1m 22s\n",
      "425:\tlearn: 0.4210001\ttest: 0.4676317\tbest: 0.4675862 (421)\ttotal: 1m 1s\tremaining: 1m 22s\n",
      "426:\tlearn: 0.4209183\ttest: 0.4675383\tbest: 0.4675383 (426)\ttotal: 1m 1s\tremaining: 1m 22s\n",
      "427:\tlearn: 0.4208459\ttest: 0.4675471\tbest: 0.4675383 (426)\ttotal: 1m 1s\tremaining: 1m 22s\n",
      "428:\tlearn: 0.4207752\ttest: 0.4675185\tbest: 0.4675185 (428)\ttotal: 1m 1s\tremaining: 1m 21s\n",
      "429:\tlearn: 0.4206926\ttest: 0.4675316\tbest: 0.4675185 (428)\ttotal: 1m 1s\tremaining: 1m 21s\n",
      "430:\tlearn: 0.4206136\ttest: 0.4674664\tbest: 0.4674664 (430)\ttotal: 1m 1s\tremaining: 1m 21s\n",
      "431:\tlearn: 0.4205506\ttest: 0.4675062\tbest: 0.4674664 (430)\ttotal: 1m 1s\tremaining: 1m 21s\n",
      "432:\tlearn: 0.4204478\ttest: 0.4675044\tbest: 0.4674664 (430)\ttotal: 1m 2s\tremaining: 1m 21s\n",
      "433:\tlearn: 0.4203447\ttest: 0.4673638\tbest: 0.4673638 (433)\ttotal: 1m 2s\tremaining: 1m 21s\n",
      "434:\tlearn: 0.4202657\ttest: 0.4674105\tbest: 0.4673638 (433)\ttotal: 1m 2s\tremaining: 1m 21s\n",
      "435:\tlearn: 0.4201803\ttest: 0.4673683\tbest: 0.4673638 (433)\ttotal: 1m 2s\tremaining: 1m 20s\n",
      "436:\tlearn: 0.4201220\ttest: 0.4673826\tbest: 0.4673638 (433)\ttotal: 1m 2s\tremaining: 1m 20s\n",
      "437:\tlearn: 0.4200491\ttest: 0.4674603\tbest: 0.4673638 (433)\ttotal: 1m 2s\tremaining: 1m 20s\n",
      "438:\tlearn: 0.4199227\ttest: 0.4675214\tbest: 0.4673638 (433)\ttotal: 1m 2s\tremaining: 1m 20s\n",
      "439:\tlearn: 0.4198303\ttest: 0.4674272\tbest: 0.4673638 (433)\ttotal: 1m 3s\tremaining: 1m 20s\n",
      "440:\tlearn: 0.4197592\ttest: 0.4674087\tbest: 0.4673638 (433)\ttotal: 1m 3s\tremaining: 1m 20s\n",
      "441:\tlearn: 0.4196849\ttest: 0.4673493\tbest: 0.4673493 (441)\ttotal: 1m 3s\tremaining: 1m 19s\n",
      "442:\tlearn: 0.4195808\ttest: 0.4674249\tbest: 0.4673493 (441)\ttotal: 1m 3s\tremaining: 1m 19s\n",
      "443:\tlearn: 0.4194496\ttest: 0.4673359\tbest: 0.4673359 (443)\ttotal: 1m 3s\tremaining: 1m 19s\n",
      "444:\tlearn: 0.4193421\ttest: 0.4672948\tbest: 0.4672948 (444)\ttotal: 1m 3s\tremaining: 1m 19s\n",
      "445:\tlearn: 0.4192542\ttest: 0.4673246\tbest: 0.4672948 (444)\ttotal: 1m 3s\tremaining: 1m 19s\n",
      "446:\tlearn: 0.4191666\ttest: 0.4673679\tbest: 0.4672948 (444)\ttotal: 1m 4s\tremaining: 1m 19s\n",
      "447:\tlearn: 0.4190715\ttest: 0.4674892\tbest: 0.4672948 (444)\ttotal: 1m 4s\tremaining: 1m 19s\n",
      "448:\tlearn: 0.4189700\ttest: 0.4675547\tbest: 0.4672948 (444)\ttotal: 1m 4s\tremaining: 1m 18s\n",
      "449:\tlearn: 0.4188777\ttest: 0.4675857\tbest: 0.4672948 (444)\ttotal: 1m 4s\tremaining: 1m 18s\n",
      "450:\tlearn: 0.4187953\ttest: 0.4675328\tbest: 0.4672948 (444)\ttotal: 1m 4s\tremaining: 1m 18s\n",
      "451:\tlearn: 0.4187100\ttest: 0.4675331\tbest: 0.4672948 (444)\ttotal: 1m 4s\tremaining: 1m 18s\n",
      "452:\tlearn: 0.4186302\ttest: 0.4675341\tbest: 0.4672948 (444)\ttotal: 1m 4s\tremaining: 1m 18s\n",
      "453:\tlearn: 0.4185567\ttest: 0.4675426\tbest: 0.4672948 (444)\ttotal: 1m 5s\tremaining: 1m 18s\n",
      "454:\tlearn: 0.4184553\ttest: 0.4675479\tbest: 0.4672948 (444)\ttotal: 1m 5s\tremaining: 1m 18s\n",
      "455:\tlearn: 0.4183793\ttest: 0.4675646\tbest: 0.4672948 (444)\ttotal: 1m 5s\tremaining: 1m 17s\n",
      "456:\tlearn: 0.4183332\ttest: 0.4675274\tbest: 0.4672948 (444)\ttotal: 1m 5s\tremaining: 1m 17s\n",
      "457:\tlearn: 0.4182393\ttest: 0.4674135\tbest: 0.4672948 (444)\ttotal: 1m 5s\tremaining: 1m 17s\n",
      "458:\tlearn: 0.4181417\ttest: 0.4674214\tbest: 0.4672948 (444)\ttotal: 1m 5s\tremaining: 1m 17s\n",
      "459:\tlearn: 0.4180435\ttest: 0.4673691\tbest: 0.4672948 (444)\ttotal: 1m 5s\tremaining: 1m 17s\n"
     ]
    },
    {
     "name": "stdout",
     "output_type": "stream",
     "text": [
      "460:\tlearn: 0.4179751\ttest: 0.4673726\tbest: 0.4672948 (444)\ttotal: 1m 5s\tremaining: 1m 17s\n",
      "461:\tlearn: 0.4178794\ttest: 0.4673016\tbest: 0.4672948 (444)\ttotal: 1m 6s\tremaining: 1m 16s\n",
      "462:\tlearn: 0.4178038\ttest: 0.4672966\tbest: 0.4672948 (444)\ttotal: 1m 6s\tremaining: 1m 16s\n",
      "463:\tlearn: 0.4177072\ttest: 0.4673693\tbest: 0.4672948 (444)\ttotal: 1m 6s\tremaining: 1m 16s\n",
      "464:\tlearn: 0.4175888\ttest: 0.4673149\tbest: 0.4672948 (444)\ttotal: 1m 6s\tremaining: 1m 16s\n",
      "465:\tlearn: 0.4174803\ttest: 0.4672399\tbest: 0.4672399 (465)\ttotal: 1m 6s\tremaining: 1m 16s\n",
      "466:\tlearn: 0.4174185\ttest: 0.4673198\tbest: 0.4672399 (465)\ttotal: 1m 6s\tremaining: 1m 16s\n",
      "467:\tlearn: 0.4173464\ttest: 0.4673640\tbest: 0.4672399 (465)\ttotal: 1m 7s\tremaining: 1m 16s\n",
      "468:\tlearn: 0.4172599\ttest: 0.4674194\tbest: 0.4672399 (465)\ttotal: 1m 7s\tremaining: 1m 16s\n",
      "469:\tlearn: 0.4171889\ttest: 0.4674455\tbest: 0.4672399 (465)\ttotal: 1m 7s\tremaining: 1m 15s\n",
      "470:\tlearn: 0.4171022\ttest: 0.4675067\tbest: 0.4672399 (465)\ttotal: 1m 7s\tremaining: 1m 15s\n",
      "471:\tlearn: 0.4170388\ttest: 0.4675780\tbest: 0.4672399 (465)\ttotal: 1m 7s\tremaining: 1m 15s\n",
      "472:\tlearn: 0.4169542\ttest: 0.4675687\tbest: 0.4672399 (465)\ttotal: 1m 7s\tremaining: 1m 15s\n",
      "473:\tlearn: 0.4168649\ttest: 0.4676064\tbest: 0.4672399 (465)\ttotal: 1m 8s\tremaining: 1m 15s\n",
      "474:\tlearn: 0.4167888\ttest: 0.4677161\tbest: 0.4672399 (465)\ttotal: 1m 8s\tremaining: 1m 15s\n",
      "475:\tlearn: 0.4166785\ttest: 0.4677591\tbest: 0.4672399 (465)\ttotal: 1m 8s\tremaining: 1m 15s\n",
      "476:\tlearn: 0.4165817\ttest: 0.4677894\tbest: 0.4672399 (465)\ttotal: 1m 8s\tremaining: 1m 15s\n",
      "477:\tlearn: 0.4165189\ttest: 0.4678050\tbest: 0.4672399 (465)\ttotal: 1m 8s\tremaining: 1m 14s\n",
      "478:\tlearn: 0.4164110\ttest: 0.4677253\tbest: 0.4672399 (465)\ttotal: 1m 8s\tremaining: 1m 14s\n",
      "479:\tlearn: 0.4163192\ttest: 0.4676550\tbest: 0.4672399 (465)\ttotal: 1m 8s\tremaining: 1m 14s\n",
      "480:\tlearn: 0.4162875\ttest: 0.4676094\tbest: 0.4672399 (465)\ttotal: 1m 8s\tremaining: 1m 14s\n",
      "481:\tlearn: 0.4162282\ttest: 0.4674817\tbest: 0.4672399 (465)\ttotal: 1m 9s\tremaining: 1m 14s\n",
      "482:\tlearn: 0.4161598\ttest: 0.4674099\tbest: 0.4672399 (465)\ttotal: 1m 9s\tremaining: 1m 14s\n",
      "483:\tlearn: 0.4160825\ttest: 0.4674574\tbest: 0.4672399 (465)\ttotal: 1m 9s\tremaining: 1m 14s\n",
      "484:\tlearn: 0.4159657\ttest: 0.4674603\tbest: 0.4672399 (465)\ttotal: 1m 9s\tremaining: 1m 13s\n",
      "485:\tlearn: 0.4158739\ttest: 0.4674229\tbest: 0.4672399 (465)\ttotal: 1m 9s\tremaining: 1m 13s\n",
      "486:\tlearn: 0.4157571\ttest: 0.4673938\tbest: 0.4672399 (465)\ttotal: 1m 9s\tremaining: 1m 13s\n",
      "487:\tlearn: 0.4156694\ttest: 0.4673940\tbest: 0.4672399 (465)\ttotal: 1m 9s\tremaining: 1m 13s\n",
      "488:\tlearn: 0.4156026\ttest: 0.4674501\tbest: 0.4672399 (465)\ttotal: 1m 10s\tremaining: 1m 13s\n",
      "489:\tlearn: 0.4154906\ttest: 0.4674545\tbest: 0.4672399 (465)\ttotal: 1m 10s\tremaining: 1m 13s\n",
      "490:\tlearn: 0.4154560\ttest: 0.4675115\tbest: 0.4672399 (465)\ttotal: 1m 10s\tremaining: 1m 12s\n",
      "491:\tlearn: 0.4153570\ttest: 0.4675492\tbest: 0.4672399 (465)\ttotal: 1m 10s\tremaining: 1m 12s\n",
      "492:\tlearn: 0.4152913\ttest: 0.4674209\tbest: 0.4672399 (465)\ttotal: 1m 10s\tremaining: 1m 12s\n",
      "493:\tlearn: 0.4152193\ttest: 0.4673989\tbest: 0.4672399 (465)\ttotal: 1m 10s\tremaining: 1m 12s\n",
      "494:\tlearn: 0.4151356\ttest: 0.4672889\tbest: 0.4672399 (465)\ttotal: 1m 11s\tremaining: 1m 12s\n",
      "495:\tlearn: 0.4150232\ttest: 0.4671908\tbest: 0.4671908 (495)\ttotal: 1m 11s\tremaining: 1m 12s\n",
      "496:\tlearn: 0.4149398\ttest: 0.4672095\tbest: 0.4671908 (495)\ttotal: 1m 11s\tremaining: 1m 12s\n",
      "497:\tlearn: 0.4148760\ttest: 0.4672404\tbest: 0.4671908 (495)\ttotal: 1m 11s\tremaining: 1m 12s\n",
      "498:\tlearn: 0.4147774\ttest: 0.4672107\tbest: 0.4671908 (495)\ttotal: 1m 11s\tremaining: 1m 12s\n",
      "499:\tlearn: 0.4147001\ttest: 0.4671680\tbest: 0.4671680 (499)\ttotal: 1m 11s\tremaining: 1m 11s\n",
      "500:\tlearn: 0.4146265\ttest: 0.4672504\tbest: 0.4671680 (499)\ttotal: 1m 12s\tremaining: 1m 11s\n",
      "501:\tlearn: 0.4145218\ttest: 0.4672150\tbest: 0.4671680 (499)\ttotal: 1m 12s\tremaining: 1m 11s\n",
      "502:\tlearn: 0.4144436\ttest: 0.4671658\tbest: 0.4671658 (502)\ttotal: 1m 12s\tremaining: 1m 11s\n",
      "503:\tlearn: 0.4143696\ttest: 0.4671250\tbest: 0.4671250 (503)\ttotal: 1m 12s\tremaining: 1m 11s\n",
      "504:\tlearn: 0.4142837\ttest: 0.4671076\tbest: 0.4671076 (504)\ttotal: 1m 12s\tremaining: 1m 11s\n",
      "505:\tlearn: 0.4142164\ttest: 0.4671697\tbest: 0.4671076 (504)\ttotal: 1m 12s\tremaining: 1m 11s\n",
      "506:\tlearn: 0.4141340\ttest: 0.4671261\tbest: 0.4671076 (504)\ttotal: 1m 12s\tremaining: 1m 10s\n",
      "507:\tlearn: 0.4139628\ttest: 0.4670720\tbest: 0.4670720 (507)\ttotal: 1m 13s\tremaining: 1m 10s\n",
      "508:\tlearn: 0.4138661\ttest: 0.4669646\tbest: 0.4669646 (508)\ttotal: 1m 13s\tremaining: 1m 10s\n",
      "509:\tlearn: 0.4137714\ttest: 0.4668727\tbest: 0.4668727 (509)\ttotal: 1m 13s\tremaining: 1m 10s\n",
      "510:\tlearn: 0.4137078\ttest: 0.4668307\tbest: 0.4668307 (510)\ttotal: 1m 13s\tremaining: 1m 10s\n",
      "511:\tlearn: 0.4136466\ttest: 0.4668074\tbest: 0.4668074 (511)\ttotal: 1m 13s\tremaining: 1m 10s\n",
      "512:\tlearn: 0.4135865\ttest: 0.4668830\tbest: 0.4668074 (511)\ttotal: 1m 13s\tremaining: 1m 10s\n",
      "513:\tlearn: 0.4135155\ttest: 0.4668750\tbest: 0.4668074 (511)\ttotal: 1m 14s\tremaining: 1m 10s\n",
      "514:\tlearn: 0.4134678\ttest: 0.4668253\tbest: 0.4668074 (511)\ttotal: 1m 14s\tremaining: 1m 9s\n",
      "515:\tlearn: 0.4133832\ttest: 0.4668056\tbest: 0.4668056 (515)\ttotal: 1m 14s\tremaining: 1m 9s\n",
      "516:\tlearn: 0.4133058\ttest: 0.4668771\tbest: 0.4668056 (515)\ttotal: 1m 14s\tremaining: 1m 9s\n",
      "517:\tlearn: 0.4132498\ttest: 0.4668784\tbest: 0.4668056 (515)\ttotal: 1m 14s\tremaining: 1m 9s\n",
      "518:\tlearn: 0.4131418\ttest: 0.4668524\tbest: 0.4668056 (515)\ttotal: 1m 14s\tremaining: 1m 9s\n",
      "519:\tlearn: 0.4130686\ttest: 0.4668813\tbest: 0.4668056 (515)\ttotal: 1m 15s\tremaining: 1m 9s\n",
      "520:\tlearn: 0.4130139\ttest: 0.4668233\tbest: 0.4668056 (515)\ttotal: 1m 15s\tremaining: 1m 9s\n",
      "521:\tlearn: 0.4129200\ttest: 0.4668084\tbest: 0.4668056 (515)\ttotal: 1m 15s\tremaining: 1m 8s\n",
      "522:\tlearn: 0.4128226\ttest: 0.4667324\tbest: 0.4667324 (522)\ttotal: 1m 15s\tremaining: 1m 8s\n",
      "523:\tlearn: 0.4127319\ttest: 0.4667355\tbest: 0.4667324 (522)\ttotal: 1m 15s\tremaining: 1m 8s\n",
      "524:\tlearn: 0.4126623\ttest: 0.4666737\tbest: 0.4666737 (524)\ttotal: 1m 15s\tremaining: 1m 8s\n",
      "525:\tlearn: 0.4126004\ttest: 0.4667096\tbest: 0.4666737 (524)\ttotal: 1m 15s\tremaining: 1m 8s\n",
      "526:\tlearn: 0.4125163\ttest: 0.4667379\tbest: 0.4666737 (524)\ttotal: 1m 16s\tremaining: 1m 8s\n",
      "527:\tlearn: 0.4124148\ttest: 0.4667687\tbest: 0.4666737 (524)\ttotal: 1m 16s\tremaining: 1m 8s\n",
      "528:\tlearn: 0.4123252\ttest: 0.4667492\tbest: 0.4666737 (524)\ttotal: 1m 16s\tremaining: 1m 7s\n",
      "529:\tlearn: 0.4122246\ttest: 0.4667785\tbest: 0.4666737 (524)\ttotal: 1m 16s\tremaining: 1m 7s\n",
      "530:\tlearn: 0.4121353\ttest: 0.4668181\tbest: 0.4666737 (524)\ttotal: 1m 16s\tremaining: 1m 7s\n",
      "531:\tlearn: 0.4120478\ttest: 0.4667333\tbest: 0.4666737 (524)\ttotal: 1m 16s\tremaining: 1m 7s\n",
      "532:\tlearn: 0.4119538\ttest: 0.4666809\tbest: 0.4666737 (524)\ttotal: 1m 16s\tremaining: 1m 7s\n",
      "533:\tlearn: 0.4118804\ttest: 0.4667146\tbest: 0.4666737 (524)\ttotal: 1m 16s\tremaining: 1m 7s\n",
      "534:\tlearn: 0.4118175\ttest: 0.4666697\tbest: 0.4666697 (534)\ttotal: 1m 17s\tremaining: 1m 7s\n",
      "535:\tlearn: 0.4116941\ttest: 0.4664919\tbest: 0.4664919 (535)\ttotal: 1m 17s\tremaining: 1m 6s\n",
      "536:\tlearn: 0.4116007\ttest: 0.4665211\tbest: 0.4664919 (535)\ttotal: 1m 17s\tremaining: 1m 6s\n",
      "537:\tlearn: 0.4115124\ttest: 0.4664658\tbest: 0.4664658 (537)\ttotal: 1m 17s\tremaining: 1m 6s\n",
      "538:\tlearn: 0.4114122\ttest: 0.4664725\tbest: 0.4664658 (537)\ttotal: 1m 17s\tremaining: 1m 6s\n",
      "539:\tlearn: 0.4113609\ttest: 0.4665319\tbest: 0.4664658 (537)\ttotal: 1m 17s\tremaining: 1m 6s\n",
      "540:\tlearn: 0.4112523\ttest: 0.4664333\tbest: 0.4664333 (540)\ttotal: 1m 17s\tremaining: 1m 6s\n",
      "541:\tlearn: 0.4111975\ttest: 0.4664133\tbest: 0.4664133 (541)\ttotal: 1m 17s\tremaining: 1m 5s\n",
      "542:\tlearn: 0.4110895\ttest: 0.4663188\tbest: 0.4663188 (542)\ttotal: 1m 18s\tremaining: 1m 5s\n",
      "543:\tlearn: 0.4110054\ttest: 0.4662663\tbest: 0.4662663 (543)\ttotal: 1m 18s\tremaining: 1m 5s\n",
      "544:\tlearn: 0.4109333\ttest: 0.4661993\tbest: 0.4661993 (544)\ttotal: 1m 18s\tremaining: 1m 5s\n",
      "545:\tlearn: 0.4108361\ttest: 0.4662113\tbest: 0.4661993 (544)\ttotal: 1m 18s\tremaining: 1m 5s\n",
      "546:\tlearn: 0.4107513\ttest: 0.4661992\tbest: 0.4661992 (546)\ttotal: 1m 18s\tremaining: 1m 5s\n",
      "547:\tlearn: 0.4106859\ttest: 0.4661843\tbest: 0.4661843 (547)\ttotal: 1m 18s\tremaining: 1m 4s\n",
      "548:\tlearn: 0.4106095\ttest: 0.4661896\tbest: 0.4661843 (547)\ttotal: 1m 18s\tremaining: 1m 4s\n",
      "549:\tlearn: 0.4105202\ttest: 0.4662391\tbest: 0.4661843 (547)\ttotal: 1m 19s\tremaining: 1m 4s\n",
      "550:\tlearn: 0.4104690\ttest: 0.4663394\tbest: 0.4661843 (547)\ttotal: 1m 19s\tremaining: 1m 4s\n"
     ]
    },
    {
     "name": "stdout",
     "output_type": "stream",
     "text": [
      "551:\tlearn: 0.4103366\ttest: 0.4662989\tbest: 0.4661843 (547)\ttotal: 1m 19s\tremaining: 1m 4s\n",
      "552:\tlearn: 0.4102384\ttest: 0.4662123\tbest: 0.4661843 (547)\ttotal: 1m 19s\tremaining: 1m 4s\n",
      "553:\tlearn: 0.4101878\ttest: 0.4662464\tbest: 0.4661843 (547)\ttotal: 1m 19s\tremaining: 1m 4s\n",
      "554:\tlearn: 0.4101019\ttest: 0.4662645\tbest: 0.4661843 (547)\ttotal: 1m 19s\tremaining: 1m 4s\n",
      "555:\tlearn: 0.4099667\ttest: 0.4661821\tbest: 0.4661821 (555)\ttotal: 1m 20s\tremaining: 1m 3s\n",
      "556:\tlearn: 0.4098785\ttest: 0.4662655\tbest: 0.4661821 (555)\ttotal: 1m 20s\tremaining: 1m 3s\n",
      "557:\tlearn: 0.4098021\ttest: 0.4662382\tbest: 0.4661821 (555)\ttotal: 1m 20s\tremaining: 1m 3s\n",
      "558:\tlearn: 0.4097057\ttest: 0.4662243\tbest: 0.4661821 (555)\ttotal: 1m 20s\tremaining: 1m 3s\n",
      "559:\tlearn: 0.4096191\ttest: 0.4661729\tbest: 0.4661729 (559)\ttotal: 1m 20s\tremaining: 1m 3s\n",
      "560:\tlearn: 0.4095266\ttest: 0.4661455\tbest: 0.4661455 (560)\ttotal: 1m 20s\tremaining: 1m 3s\n",
      "561:\tlearn: 0.4094122\ttest: 0.4661089\tbest: 0.4661089 (561)\ttotal: 1m 20s\tremaining: 1m 3s\n",
      "562:\tlearn: 0.4093359\ttest: 0.4661278\tbest: 0.4661089 (561)\ttotal: 1m 21s\tremaining: 1m 2s\n",
      "563:\tlearn: 0.4092771\ttest: 0.4661223\tbest: 0.4661089 (561)\ttotal: 1m 21s\tremaining: 1m 2s\n",
      "564:\tlearn: 0.4091784\ttest: 0.4660329\tbest: 0.4660329 (564)\ttotal: 1m 21s\tremaining: 1m 2s\n",
      "565:\tlearn: 0.4090900\ttest: 0.4658919\tbest: 0.4658919 (565)\ttotal: 1m 21s\tremaining: 1m 2s\n",
      "566:\tlearn: 0.4089830\ttest: 0.4659692\tbest: 0.4658919 (565)\ttotal: 1m 21s\tremaining: 1m 2s\n",
      "567:\tlearn: 0.4089263\ttest: 0.4659633\tbest: 0.4658919 (565)\ttotal: 1m 21s\tremaining: 1m 2s\n",
      "568:\tlearn: 0.4088792\ttest: 0.4659068\tbest: 0.4658919 (565)\ttotal: 1m 21s\tremaining: 1m 2s\n",
      "569:\tlearn: 0.4087697\ttest: 0.4658983\tbest: 0.4658919 (565)\ttotal: 1m 22s\tremaining: 1m 1s\n",
      "570:\tlearn: 0.4086993\ttest: 0.4658242\tbest: 0.4658242 (570)\ttotal: 1m 22s\tremaining: 1m 1s\n",
      "571:\tlearn: 0.4085880\ttest: 0.4658961\tbest: 0.4658242 (570)\ttotal: 1m 22s\tremaining: 1m 1s\n",
      "572:\tlearn: 0.4085100\ttest: 0.4658916\tbest: 0.4658242 (570)\ttotal: 1m 22s\tremaining: 1m 1s\n",
      "573:\tlearn: 0.4084502\ttest: 0.4659092\tbest: 0.4658242 (570)\ttotal: 1m 22s\tremaining: 1m 1s\n",
      "574:\tlearn: 0.4083707\ttest: 0.4659084\tbest: 0.4658242 (570)\ttotal: 1m 22s\tremaining: 1m 1s\n",
      "575:\tlearn: 0.4083114\ttest: 0.4658086\tbest: 0.4658086 (575)\ttotal: 1m 22s\tremaining: 1m 1s\n",
      "576:\tlearn: 0.4082620\ttest: 0.4658721\tbest: 0.4658086 (575)\ttotal: 1m 23s\tremaining: 1m 1s\n",
      "577:\tlearn: 0.4081988\ttest: 0.4658438\tbest: 0.4658086 (575)\ttotal: 1m 23s\tremaining: 1m\n",
      "578:\tlearn: 0.4081409\ttest: 0.4657073\tbest: 0.4657073 (578)\ttotal: 1m 23s\tremaining: 1m\n",
      "579:\tlearn: 0.4080441\ttest: 0.4656652\tbest: 0.4656652 (579)\ttotal: 1m 23s\tremaining: 1m\n",
      "580:\tlearn: 0.4079518\ttest: 0.4656499\tbest: 0.4656499 (580)\ttotal: 1m 23s\tremaining: 1m\n",
      "581:\tlearn: 0.4078796\ttest: 0.4656054\tbest: 0.4656054 (581)\ttotal: 1m 24s\tremaining: 1m\n",
      "582:\tlearn: 0.4077859\ttest: 0.4656405\tbest: 0.4656054 (581)\ttotal: 1m 24s\tremaining: 1m\n",
      "583:\tlearn: 0.4077336\ttest: 0.4655287\tbest: 0.4655287 (583)\ttotal: 1m 24s\tremaining: 1m\n",
      "584:\tlearn: 0.4076731\ttest: 0.4655052\tbest: 0.4655052 (584)\ttotal: 1m 24s\tremaining: 59.9s\n",
      "585:\tlearn: 0.4075883\ttest: 0.4654707\tbest: 0.4654707 (585)\ttotal: 1m 24s\tremaining: 59.8s\n",
      "586:\tlearn: 0.4075013\ttest: 0.4655421\tbest: 0.4654707 (585)\ttotal: 1m 24s\tremaining: 59.7s\n",
      "587:\tlearn: 0.4074444\ttest: 0.4655582\tbest: 0.4654707 (585)\ttotal: 1m 24s\tremaining: 59.5s\n",
      "588:\tlearn: 0.4073352\ttest: 0.4655666\tbest: 0.4654707 (585)\ttotal: 1m 25s\tremaining: 59.3s\n",
      "589:\tlearn: 0.4072518\ttest: 0.4655180\tbest: 0.4654707 (585)\ttotal: 1m 25s\tremaining: 59.2s\n",
      "590:\tlearn: 0.4072002\ttest: 0.4654861\tbest: 0.4654707 (585)\ttotal: 1m 25s\tremaining: 59.1s\n",
      "591:\tlearn: 0.4071237\ttest: 0.4653573\tbest: 0.4653573 (591)\ttotal: 1m 25s\tremaining: 58.9s\n",
      "592:\tlearn: 0.4070164\ttest: 0.4653385\tbest: 0.4653385 (592)\ttotal: 1m 25s\tremaining: 58.8s\n",
      "593:\tlearn: 0.4069631\ttest: 0.4653128\tbest: 0.4653128 (593)\ttotal: 1m 25s\tremaining: 58.7s\n",
      "594:\tlearn: 0.4068729\ttest: 0.4653080\tbest: 0.4653080 (594)\ttotal: 1m 26s\tremaining: 58.7s\n",
      "595:\tlearn: 0.4068305\ttest: 0.4653145\tbest: 0.4653080 (594)\ttotal: 1m 26s\tremaining: 58.6s\n",
      "596:\tlearn: 0.4067598\ttest: 0.4652107\tbest: 0.4652107 (596)\ttotal: 1m 26s\tremaining: 58.5s\n",
      "597:\tlearn: 0.4066686\ttest: 0.4652517\tbest: 0.4652107 (596)\ttotal: 1m 26s\tremaining: 58.4s\n",
      "598:\tlearn: 0.4066125\ttest: 0.4651671\tbest: 0.4651671 (598)\ttotal: 1m 27s\tremaining: 58.3s\n",
      "599:\tlearn: 0.4065339\ttest: 0.4651415\tbest: 0.4651415 (599)\ttotal: 1m 27s\tremaining: 58.2s\n",
      "600:\tlearn: 0.4063830\ttest: 0.4650919\tbest: 0.4650919 (600)\ttotal: 1m 27s\tremaining: 58s\n",
      "601:\tlearn: 0.4062702\ttest: 0.4651686\tbest: 0.4650919 (600)\ttotal: 1m 27s\tremaining: 57.9s\n",
      "602:\tlearn: 0.4061883\ttest: 0.4651773\tbest: 0.4650919 (600)\ttotal: 1m 27s\tremaining: 57.7s\n",
      "603:\tlearn: 0.4061007\ttest: 0.4652152\tbest: 0.4650919 (600)\ttotal: 1m 27s\tremaining: 57.6s\n",
      "604:\tlearn: 0.4060203\ttest: 0.4651854\tbest: 0.4650919 (600)\ttotal: 1m 28s\tremaining: 57.5s\n",
      "605:\tlearn: 0.4059813\ttest: 0.4651849\tbest: 0.4650919 (600)\ttotal: 1m 28s\tremaining: 57.3s\n",
      "606:\tlearn: 0.4059193\ttest: 0.4652961\tbest: 0.4650919 (600)\ttotal: 1m 28s\tremaining: 57.2s\n",
      "607:\tlearn: 0.4058648\ttest: 0.4652265\tbest: 0.4650919 (600)\ttotal: 1m 28s\tremaining: 57s\n",
      "608:\tlearn: 0.4057457\ttest: 0.4652656\tbest: 0.4650919 (600)\ttotal: 1m 28s\tremaining: 56.8s\n",
      "609:\tlearn: 0.4056694\ttest: 0.4652060\tbest: 0.4650919 (600)\ttotal: 1m 28s\tremaining: 56.7s\n",
      "610:\tlearn: 0.4055748\ttest: 0.4651840\tbest: 0.4650919 (600)\ttotal: 1m 28s\tremaining: 56.6s\n",
      "611:\tlearn: 0.4055452\ttest: 0.4651982\tbest: 0.4650919 (600)\ttotal: 1m 29s\tremaining: 56.4s\n",
      "612:\tlearn: 0.4054475\ttest: 0.4651060\tbest: 0.4650919 (600)\ttotal: 1m 29s\tremaining: 56.3s\n",
      "613:\tlearn: 0.4053671\ttest: 0.4651013\tbest: 0.4650919 (600)\ttotal: 1m 29s\tremaining: 56.2s\n",
      "614:\tlearn: 0.4053009\ttest: 0.4650925\tbest: 0.4650919 (600)\ttotal: 1m 29s\tremaining: 56s\n",
      "615:\tlearn: 0.4052190\ttest: 0.4651358\tbest: 0.4650919 (600)\ttotal: 1m 29s\tremaining: 55.9s\n",
      "616:\tlearn: 0.4051334\ttest: 0.4651655\tbest: 0.4650919 (600)\ttotal: 1m 29s\tremaining: 55.7s\n",
      "617:\tlearn: 0.4050306\ttest: 0.4650780\tbest: 0.4650780 (617)\ttotal: 1m 29s\tremaining: 55.6s\n",
      "618:\tlearn: 0.4049716\ttest: 0.4651336\tbest: 0.4650780 (617)\ttotal: 1m 30s\tremaining: 55.4s\n",
      "619:\tlearn: 0.4048459\ttest: 0.4650378\tbest: 0.4650378 (619)\ttotal: 1m 30s\tremaining: 55.3s\n",
      "620:\tlearn: 0.4047727\ttest: 0.4650609\tbest: 0.4650378 (619)\ttotal: 1m 30s\tremaining: 55.2s\n",
      "621:\tlearn: 0.4047061\ttest: 0.4650045\tbest: 0.4650045 (621)\ttotal: 1m 30s\tremaining: 55s\n",
      "622:\tlearn: 0.4046243\ttest: 0.4649724\tbest: 0.4649724 (622)\ttotal: 1m 30s\tremaining: 54.9s\n",
      "623:\tlearn: 0.4045607\ttest: 0.4649124\tbest: 0.4649124 (623)\ttotal: 1m 30s\tremaining: 54.7s\n",
      "624:\tlearn: 0.4044919\ttest: 0.4648613\tbest: 0.4648613 (624)\ttotal: 1m 30s\tremaining: 54.6s\n",
      "625:\tlearn: 0.4044302\ttest: 0.4648695\tbest: 0.4648613 (624)\ttotal: 1m 31s\tremaining: 54.4s\n",
      "626:\tlearn: 0.4043505\ttest: 0.4648758\tbest: 0.4648613 (624)\ttotal: 1m 31s\tremaining: 54.3s\n",
      "627:\tlearn: 0.4042475\ttest: 0.4648405\tbest: 0.4648405 (627)\ttotal: 1m 31s\tremaining: 54.2s\n",
      "628:\tlearn: 0.4041787\ttest: 0.4647870\tbest: 0.4647870 (628)\ttotal: 1m 31s\tremaining: 54s\n",
      "629:\tlearn: 0.4040849\ttest: 0.4647014\tbest: 0.4647014 (629)\ttotal: 1m 31s\tremaining: 53.9s\n",
      "630:\tlearn: 0.4040075\ttest: 0.4647386\tbest: 0.4647014 (629)\ttotal: 1m 31s\tremaining: 53.7s\n",
      "631:\tlearn: 0.4039204\ttest: 0.4647615\tbest: 0.4647014 (629)\ttotal: 1m 32s\tremaining: 53.6s\n",
      "632:\tlearn: 0.4038578\ttest: 0.4647907\tbest: 0.4647014 (629)\ttotal: 1m 32s\tremaining: 53.4s\n",
      "633:\tlearn: 0.4038063\ttest: 0.4647465\tbest: 0.4647014 (629)\ttotal: 1m 32s\tremaining: 53.3s\n",
      "634:\tlearn: 0.4037483\ttest: 0.4647911\tbest: 0.4647014 (629)\ttotal: 1m 32s\tremaining: 53.1s\n",
      "635:\tlearn: 0.4036755\ttest: 0.4646841\tbest: 0.4646841 (635)\ttotal: 1m 32s\tremaining: 52.9s\n",
      "636:\tlearn: 0.4035972\ttest: 0.4646978\tbest: 0.4646841 (635)\ttotal: 1m 32s\tremaining: 52.8s\n",
      "637:\tlearn: 0.4035384\ttest: 0.4645818\tbest: 0.4645818 (637)\ttotal: 1m 32s\tremaining: 52.7s\n",
      "638:\tlearn: 0.4034957\ttest: 0.4645726\tbest: 0.4645726 (638)\ttotal: 1m 32s\tremaining: 52.5s\n",
      "639:\tlearn: 0.4034204\ttest: 0.4645870\tbest: 0.4645726 (638)\ttotal: 1m 33s\tremaining: 52.4s\n",
      "640:\tlearn: 0.4033540\ttest: 0.4646559\tbest: 0.4645726 (638)\ttotal: 1m 33s\tremaining: 52.2s\n",
      "641:\tlearn: 0.4032670\ttest: 0.4646655\tbest: 0.4645726 (638)\ttotal: 1m 33s\tremaining: 52.1s\n",
      "642:\tlearn: 0.4031562\ttest: 0.4646158\tbest: 0.4645726 (638)\ttotal: 1m 33s\tremaining: 51.9s\n"
     ]
    },
    {
     "name": "stdout",
     "output_type": "stream",
     "text": [
      "643:\tlearn: 0.4030955\ttest: 0.4646070\tbest: 0.4645726 (638)\ttotal: 1m 33s\tremaining: 51.8s\n",
      "644:\tlearn: 0.4029982\ttest: 0.4645533\tbest: 0.4645533 (644)\ttotal: 1m 33s\tremaining: 51.7s\n",
      "645:\tlearn: 0.4029212\ttest: 0.4645037\tbest: 0.4645037 (645)\ttotal: 1m 34s\tremaining: 51.6s\n",
      "646:\tlearn: 0.4028395\ttest: 0.4644928\tbest: 0.4644928 (646)\ttotal: 1m 34s\tremaining: 51.4s\n",
      "647:\tlearn: 0.4027204\ttest: 0.4643537\tbest: 0.4643537 (647)\ttotal: 1m 34s\tremaining: 51.2s\n",
      "648:\tlearn: 0.4026210\ttest: 0.4643017\tbest: 0.4643017 (648)\ttotal: 1m 34s\tremaining: 51.1s\n",
      "649:\tlearn: 0.4025535\ttest: 0.4642354\tbest: 0.4642354 (649)\ttotal: 1m 34s\tremaining: 50.9s\n",
      "650:\tlearn: 0.4024447\ttest: 0.4642187\tbest: 0.4642187 (650)\ttotal: 1m 34s\tremaining: 50.8s\n",
      "651:\tlearn: 0.4023656\ttest: 0.4642338\tbest: 0.4642187 (650)\ttotal: 1m 34s\tremaining: 50.6s\n",
      "652:\tlearn: 0.4023097\ttest: 0.4642179\tbest: 0.4642179 (652)\ttotal: 1m 35s\tremaining: 50.5s\n",
      "653:\tlearn: 0.4022535\ttest: 0.4641699\tbest: 0.4641699 (653)\ttotal: 1m 35s\tremaining: 50.3s\n",
      "654:\tlearn: 0.4021890\ttest: 0.4641353\tbest: 0.4641353 (654)\ttotal: 1m 35s\tremaining: 50.2s\n",
      "655:\tlearn: 0.4021011\ttest: 0.4641037\tbest: 0.4641037 (655)\ttotal: 1m 35s\tremaining: 50s\n",
      "656:\tlearn: 0.4020365\ttest: 0.4640887\tbest: 0.4640887 (656)\ttotal: 1m 35s\tremaining: 49.9s\n",
      "657:\tlearn: 0.4019581\ttest: 0.4641040\tbest: 0.4640887 (656)\ttotal: 1m 35s\tremaining: 49.7s\n",
      "658:\tlearn: 0.4018847\ttest: 0.4640803\tbest: 0.4640803 (658)\ttotal: 1m 35s\tremaining: 49.5s\n",
      "659:\tlearn: 0.4018465\ttest: 0.4640852\tbest: 0.4640803 (658)\ttotal: 1m 35s\tremaining: 49.4s\n",
      "660:\tlearn: 0.4017228\ttest: 0.4640687\tbest: 0.4640687 (660)\ttotal: 1m 36s\tremaining: 49.2s\n",
      "661:\tlearn: 0.4016347\ttest: 0.4640423\tbest: 0.4640423 (661)\ttotal: 1m 36s\tremaining: 49.1s\n",
      "662:\tlearn: 0.4015635\ttest: 0.4639839\tbest: 0.4639839 (662)\ttotal: 1m 36s\tremaining: 48.9s\n",
      "663:\tlearn: 0.4014693\ttest: 0.4640374\tbest: 0.4639839 (662)\ttotal: 1m 36s\tremaining: 48.8s\n",
      "664:\tlearn: 0.4013780\ttest: 0.4639844\tbest: 0.4639839 (662)\ttotal: 1m 36s\tremaining: 48.6s\n",
      "665:\tlearn: 0.4012974\ttest: 0.4639963\tbest: 0.4639839 (662)\ttotal: 1m 36s\tremaining: 48.5s\n",
      "666:\tlearn: 0.4012165\ttest: 0.4639500\tbest: 0.4639500 (666)\ttotal: 1m 36s\tremaining: 48.3s\n",
      "667:\tlearn: 0.4011598\ttest: 0.4639697\tbest: 0.4639500 (666)\ttotal: 1m 36s\tremaining: 48.2s\n",
      "668:\tlearn: 0.4010873\ttest: 0.4639928\tbest: 0.4639500 (666)\ttotal: 1m 37s\tremaining: 48s\n",
      "669:\tlearn: 0.4010041\ttest: 0.4640403\tbest: 0.4639500 (666)\ttotal: 1m 37s\tremaining: 47.9s\n",
      "670:\tlearn: 0.4009145\ttest: 0.4640628\tbest: 0.4639500 (666)\ttotal: 1m 37s\tremaining: 47.7s\n",
      "671:\tlearn: 0.4008673\ttest: 0.4640687\tbest: 0.4639500 (666)\ttotal: 1m 37s\tremaining: 47.5s\n",
      "672:\tlearn: 0.4007857\ttest: 0.4640308\tbest: 0.4639500 (666)\ttotal: 1m 37s\tremaining: 47.4s\n",
      "673:\tlearn: 0.4007279\ttest: 0.4641543\tbest: 0.4639500 (666)\ttotal: 1m 37s\tremaining: 47.2s\n",
      "674:\tlearn: 0.4006734\ttest: 0.4641653\tbest: 0.4639500 (666)\ttotal: 1m 37s\tremaining: 47.1s\n",
      "675:\tlearn: 0.4005679\ttest: 0.4639549\tbest: 0.4639500 (666)\ttotal: 1m 37s\tremaining: 47s\n",
      "676:\tlearn: 0.4004724\ttest: 0.4639159\tbest: 0.4639159 (676)\ttotal: 1m 38s\tremaining: 46.8s\n",
      "677:\tlearn: 0.4003828\ttest: 0.4639361\tbest: 0.4639159 (676)\ttotal: 1m 38s\tremaining: 46.7s\n",
      "678:\tlearn: 0.4003286\ttest: 0.4638264\tbest: 0.4638264 (678)\ttotal: 1m 38s\tremaining: 46.5s\n",
      "679:\tlearn: 0.4002601\ttest: 0.4638177\tbest: 0.4638177 (679)\ttotal: 1m 38s\tremaining: 46.4s\n",
      "680:\tlearn: 0.4002214\ttest: 0.4638342\tbest: 0.4638177 (679)\ttotal: 1m 38s\tremaining: 46.2s\n",
      "681:\tlearn: 0.4001499\ttest: 0.4637598\tbest: 0.4637598 (681)\ttotal: 1m 38s\tremaining: 46.1s\n",
      "682:\tlearn: 0.4000785\ttest: 0.4636730\tbest: 0.4636730 (682)\ttotal: 1m 38s\tremaining: 45.9s\n",
      "683:\tlearn: 0.3999846\ttest: 0.4635459\tbest: 0.4635459 (683)\ttotal: 1m 39s\tremaining: 45.8s\n",
      "684:\tlearn: 0.3999087\ttest: 0.4635652\tbest: 0.4635459 (683)\ttotal: 1m 39s\tremaining: 45.7s\n",
      "685:\tlearn: 0.3998361\ttest: 0.4635321\tbest: 0.4635321 (685)\ttotal: 1m 39s\tremaining: 45.6s\n",
      "686:\tlearn: 0.3997772\ttest: 0.4635481\tbest: 0.4635321 (685)\ttotal: 1m 39s\tremaining: 45.5s\n",
      "687:\tlearn: 0.3996645\ttest: 0.4634934\tbest: 0.4634934 (687)\ttotal: 1m 40s\tremaining: 45.4s\n",
      "688:\tlearn: 0.3995897\ttest: 0.4636585\tbest: 0.4634934 (687)\ttotal: 1m 40s\tremaining: 45.2s\n",
      "689:\tlearn: 0.3995434\ttest: 0.4635634\tbest: 0.4634934 (687)\ttotal: 1m 40s\tremaining: 45.1s\n",
      "690:\tlearn: 0.3994852\ttest: 0.4635584\tbest: 0.4634934 (687)\ttotal: 1m 40s\tremaining: 44.9s\n",
      "691:\tlearn: 0.3994311\ttest: 0.4635461\tbest: 0.4634934 (687)\ttotal: 1m 40s\tremaining: 44.8s\n",
      "692:\tlearn: 0.3993536\ttest: 0.4634945\tbest: 0.4634934 (687)\ttotal: 1m 40s\tremaining: 44.7s\n",
      "693:\tlearn: 0.3992941\ttest: 0.4633589\tbest: 0.4633589 (693)\ttotal: 1m 41s\tremaining: 44.6s\n",
      "694:\tlearn: 0.3992160\ttest: 0.4634122\tbest: 0.4633589 (693)\ttotal: 1m 41s\tremaining: 44.5s\n",
      "695:\tlearn: 0.3991581\ttest: 0.4633303\tbest: 0.4633303 (695)\ttotal: 1m 41s\tremaining: 44.4s\n",
      "696:\tlearn: 0.3990815\ttest: 0.4633301\tbest: 0.4633301 (696)\ttotal: 1m 41s\tremaining: 44.3s\n",
      "697:\tlearn: 0.3990042\ttest: 0.4633575\tbest: 0.4633301 (696)\ttotal: 1m 42s\tremaining: 44.1s\n",
      "698:\tlearn: 0.3988847\ttest: 0.4633643\tbest: 0.4633301 (696)\ttotal: 1m 42s\tremaining: 44s\n",
      "699:\tlearn: 0.3988168\ttest: 0.4633774\tbest: 0.4633301 (696)\ttotal: 1m 42s\tremaining: 43.9s\n",
      "700:\tlearn: 0.3987781\ttest: 0.4633452\tbest: 0.4633301 (696)\ttotal: 1m 42s\tremaining: 43.7s\n",
      "701:\tlearn: 0.3987127\ttest: 0.4633377\tbest: 0.4633301 (696)\ttotal: 1m 42s\tremaining: 43.6s\n",
      "702:\tlearn: 0.3986559\ttest: 0.4633247\tbest: 0.4633247 (702)\ttotal: 1m 42s\tremaining: 43.5s\n",
      "703:\tlearn: 0.3986122\ttest: 0.4633379\tbest: 0.4633247 (702)\ttotal: 1m 43s\tremaining: 43.3s\n",
      "704:\tlearn: 0.3984987\ttest: 0.4634648\tbest: 0.4633247 (702)\ttotal: 1m 43s\tremaining: 43.2s\n",
      "705:\tlearn: 0.3984343\ttest: 0.4634283\tbest: 0.4633247 (702)\ttotal: 1m 43s\tremaining: 43s\n",
      "706:\tlearn: 0.3983793\ttest: 0.4634465\tbest: 0.4633247 (702)\ttotal: 1m 43s\tremaining: 42.9s\n",
      "707:\tlearn: 0.3983160\ttest: 0.4634375\tbest: 0.4633247 (702)\ttotal: 1m 43s\tremaining: 42.7s\n",
      "708:\tlearn: 0.3982438\ttest: 0.4634436\tbest: 0.4633247 (702)\ttotal: 1m 43s\tremaining: 42.6s\n",
      "709:\tlearn: 0.3981754\ttest: 0.4633647\tbest: 0.4633247 (702)\ttotal: 1m 43s\tremaining: 42.4s\n",
      "710:\tlearn: 0.3980686\ttest: 0.4633546\tbest: 0.4633247 (702)\ttotal: 1m 43s\tremaining: 42.3s\n",
      "711:\tlearn: 0.3979634\ttest: 0.4632424\tbest: 0.4632424 (711)\ttotal: 1m 44s\tremaining: 42.1s\n",
      "712:\tlearn: 0.3978458\ttest: 0.4632807\tbest: 0.4632424 (711)\ttotal: 1m 44s\tremaining: 42s\n",
      "713:\tlearn: 0.3977635\ttest: 0.4632222\tbest: 0.4632222 (713)\ttotal: 1m 44s\tremaining: 41.8s\n",
      "714:\tlearn: 0.3976750\ttest: 0.4632198\tbest: 0.4632198 (714)\ttotal: 1m 44s\tremaining: 41.6s\n",
      "715:\tlearn: 0.3975874\ttest: 0.4632257\tbest: 0.4632198 (714)\ttotal: 1m 44s\tremaining: 41.5s\n",
      "716:\tlearn: 0.3975401\ttest: 0.4632015\tbest: 0.4632015 (716)\ttotal: 1m 44s\tremaining: 41.4s\n",
      "717:\tlearn: 0.3974409\ttest: 0.4631499\tbest: 0.4631499 (717)\ttotal: 1m 44s\tremaining: 41.2s\n",
      "718:\tlearn: 0.3973647\ttest: 0.4631535\tbest: 0.4631499 (717)\ttotal: 1m 45s\tremaining: 41.1s\n",
      "719:\tlearn: 0.3973169\ttest: 0.4631356\tbest: 0.4631356 (719)\ttotal: 1m 45s\tremaining: 40.9s\n",
      "720:\tlearn: 0.3972523\ttest: 0.4631018\tbest: 0.4631018 (720)\ttotal: 1m 45s\tremaining: 40.8s\n",
      "721:\tlearn: 0.3972090\ttest: 0.4630396\tbest: 0.4630396 (721)\ttotal: 1m 45s\tremaining: 40.6s\n",
      "722:\tlearn: 0.3971532\ttest: 0.4631424\tbest: 0.4630396 (721)\ttotal: 1m 45s\tremaining: 40.5s\n",
      "723:\tlearn: 0.3970698\ttest: 0.4631568\tbest: 0.4630396 (721)\ttotal: 1m 45s\tremaining: 40.3s\n",
      "724:\tlearn: 0.3970123\ttest: 0.4631378\tbest: 0.4630396 (721)\ttotal: 1m 45s\tremaining: 40.1s\n",
      "725:\tlearn: 0.3968847\ttest: 0.4630682\tbest: 0.4630396 (721)\ttotal: 1m 45s\tremaining: 40s\n",
      "726:\tlearn: 0.3967420\ttest: 0.4630362\tbest: 0.4630362 (726)\ttotal: 1m 46s\tremaining: 39.8s\n",
      "727:\tlearn: 0.3966696\ttest: 0.4629952\tbest: 0.4629952 (727)\ttotal: 1m 46s\tremaining: 39.7s\n",
      "728:\tlearn: 0.3966040\ttest: 0.4629666\tbest: 0.4629666 (728)\ttotal: 1m 46s\tremaining: 39.5s\n",
      "729:\tlearn: 0.3965495\ttest: 0.4630076\tbest: 0.4629666 (728)\ttotal: 1m 46s\tremaining: 39.4s\n",
      "730:\tlearn: 0.3965030\ttest: 0.4629932\tbest: 0.4629666 (728)\ttotal: 1m 46s\tremaining: 39.2s\n",
      "731:\tlearn: 0.3964670\ttest: 0.4630513\tbest: 0.4629666 (728)\ttotal: 1m 46s\tremaining: 39.1s\n",
      "732:\tlearn: 0.3964172\ttest: 0.4630675\tbest: 0.4629666 (728)\ttotal: 1m 46s\tremaining: 38.9s\n",
      "733:\tlearn: 0.3963261\ttest: 0.4630357\tbest: 0.4629666 (728)\ttotal: 1m 46s\tremaining: 38.8s\n"
     ]
    },
    {
     "name": "stdout",
     "output_type": "stream",
     "text": [
      "734:\tlearn: 0.3962165\ttest: 0.4631451\tbest: 0.4629666 (728)\ttotal: 1m 47s\tremaining: 38.6s\n",
      "735:\tlearn: 0.3961111\ttest: 0.4629781\tbest: 0.4629666 (728)\ttotal: 1m 47s\tremaining: 38.5s\n",
      "736:\tlearn: 0.3960339\ttest: 0.4629155\tbest: 0.4629155 (736)\ttotal: 1m 47s\tremaining: 38.3s\n",
      "737:\tlearn: 0.3959690\ttest: 0.4628939\tbest: 0.4628939 (737)\ttotal: 1m 47s\tremaining: 38.2s\n",
      "738:\tlearn: 0.3959039\ttest: 0.4628538\tbest: 0.4628538 (738)\ttotal: 1m 47s\tremaining: 38s\n",
      "739:\tlearn: 0.3958517\ttest: 0.4628093\tbest: 0.4628093 (739)\ttotal: 1m 47s\tremaining: 37.9s\n",
      "740:\tlearn: 0.3957798\ttest: 0.4627633\tbest: 0.4627633 (740)\ttotal: 1m 48s\tremaining: 37.8s\n",
      "741:\tlearn: 0.3956896\ttest: 0.4627576\tbest: 0.4627576 (741)\ttotal: 1m 48s\tremaining: 37.6s\n",
      "742:\tlearn: 0.3955893\ttest: 0.4627435\tbest: 0.4627435 (742)\ttotal: 1m 48s\tremaining: 37.5s\n",
      "743:\tlearn: 0.3955049\ttest: 0.4626738\tbest: 0.4626738 (743)\ttotal: 1m 48s\tremaining: 37.3s\n",
      "744:\tlearn: 0.3954214\ttest: 0.4626745\tbest: 0.4626738 (743)\ttotal: 1m 48s\tremaining: 37.2s\n",
      "745:\tlearn: 0.3953703\ttest: 0.4627044\tbest: 0.4626738 (743)\ttotal: 1m 48s\tremaining: 37s\n",
      "746:\tlearn: 0.3952818\ttest: 0.4626856\tbest: 0.4626738 (743)\ttotal: 1m 48s\tremaining: 36.9s\n",
      "747:\tlearn: 0.3951912\ttest: 0.4627610\tbest: 0.4626738 (743)\ttotal: 1m 49s\tremaining: 36.8s\n",
      "748:\tlearn: 0.3951416\ttest: 0.4627562\tbest: 0.4626738 (743)\ttotal: 1m 49s\tremaining: 36.6s\n",
      "749:\tlearn: 0.3950437\ttest: 0.4626927\tbest: 0.4626738 (743)\ttotal: 1m 49s\tremaining: 36.4s\n",
      "750:\tlearn: 0.3949665\ttest: 0.4626500\tbest: 0.4626500 (750)\ttotal: 1m 49s\tremaining: 36.3s\n",
      "751:\tlearn: 0.3948849\ttest: 0.4625651\tbest: 0.4625651 (751)\ttotal: 1m 49s\tremaining: 36.1s\n",
      "752:\tlearn: 0.3947849\ttest: 0.4624753\tbest: 0.4624753 (752)\ttotal: 1m 49s\tremaining: 36s\n",
      "753:\tlearn: 0.3947330\ttest: 0.4624203\tbest: 0.4624203 (753)\ttotal: 1m 49s\tremaining: 35.8s\n",
      "754:\tlearn: 0.3946694\ttest: 0.4624765\tbest: 0.4624203 (753)\ttotal: 1m 50s\tremaining: 35.7s\n",
      "755:\tlearn: 0.3945818\ttest: 0.4624551\tbest: 0.4624203 (753)\ttotal: 1m 50s\tremaining: 35.5s\n",
      "756:\tlearn: 0.3945008\ttest: 0.4625466\tbest: 0.4624203 (753)\ttotal: 1m 50s\tremaining: 35.4s\n",
      "757:\tlearn: 0.3943769\ttest: 0.4624805\tbest: 0.4624203 (753)\ttotal: 1m 50s\tremaining: 35.3s\n",
      "758:\tlearn: 0.3942953\ttest: 0.4625420\tbest: 0.4624203 (753)\ttotal: 1m 50s\tremaining: 35.1s\n",
      "759:\tlearn: 0.3942107\ttest: 0.4624401\tbest: 0.4624203 (753)\ttotal: 1m 50s\tremaining: 35s\n",
      "760:\tlearn: 0.3941674\ttest: 0.4623587\tbest: 0.4623587 (760)\ttotal: 1m 50s\tremaining: 34.8s\n",
      "761:\tlearn: 0.3940688\ttest: 0.4623873\tbest: 0.4623587 (760)\ttotal: 1m 51s\tremaining: 34.7s\n",
      "762:\tlearn: 0.3939911\ttest: 0.4624422\tbest: 0.4623587 (760)\ttotal: 1m 51s\tremaining: 34.6s\n",
      "763:\tlearn: 0.3939242\ttest: 0.4624210\tbest: 0.4623587 (760)\ttotal: 1m 51s\tremaining: 34.4s\n",
      "764:\tlearn: 0.3938705\ttest: 0.4625044\tbest: 0.4623587 (760)\ttotal: 1m 51s\tremaining: 34.3s\n",
      "765:\tlearn: 0.3937760\ttest: 0.4624377\tbest: 0.4623587 (760)\ttotal: 1m 51s\tremaining: 34.1s\n",
      "766:\tlearn: 0.3937028\ttest: 0.4624622\tbest: 0.4623587 (760)\ttotal: 1m 51s\tremaining: 34s\n",
      "767:\tlearn: 0.3936409\ttest: 0.4624734\tbest: 0.4623587 (760)\ttotal: 1m 51s\tremaining: 33.8s\n",
      "768:\tlearn: 0.3935861\ttest: 0.4625077\tbest: 0.4623587 (760)\ttotal: 1m 52s\tremaining: 33.7s\n",
      "769:\tlearn: 0.3934713\ttest: 0.4624910\tbest: 0.4623587 (760)\ttotal: 1m 52s\tremaining: 33.5s\n",
      "770:\tlearn: 0.3934139\ttest: 0.4624954\tbest: 0.4623587 (760)\ttotal: 1m 52s\tremaining: 33.4s\n",
      "771:\tlearn: 0.3933393\ttest: 0.4624498\tbest: 0.4623587 (760)\ttotal: 1m 52s\tremaining: 33.2s\n",
      "772:\tlearn: 0.3932430\ttest: 0.4624038\tbest: 0.4623587 (760)\ttotal: 1m 52s\tremaining: 33.1s\n",
      "773:\tlearn: 0.3931876\ttest: 0.4623686\tbest: 0.4623587 (760)\ttotal: 1m 52s\tremaining: 32.9s\n",
      "774:\tlearn: 0.3931533\ttest: 0.4623552\tbest: 0.4623552 (774)\ttotal: 1m 52s\tremaining: 32.8s\n",
      "775:\tlearn: 0.3931004\ttest: 0.4623405\tbest: 0.4623405 (775)\ttotal: 1m 53s\tremaining: 32.6s\n",
      "776:\tlearn: 0.3930076\ttest: 0.4623785\tbest: 0.4623405 (775)\ttotal: 1m 53s\tremaining: 32.5s\n",
      "777:\tlearn: 0.3929557\ttest: 0.4623622\tbest: 0.4623405 (775)\ttotal: 1m 53s\tremaining: 32.3s\n",
      "778:\tlearn: 0.3929046\ttest: 0.4622816\tbest: 0.4622816 (778)\ttotal: 1m 53s\tremaining: 32.2s\n",
      "779:\tlearn: 0.3928346\ttest: 0.4623260\tbest: 0.4622816 (778)\ttotal: 1m 53s\tremaining: 32s\n",
      "780:\tlearn: 0.3927826\ttest: 0.4623015\tbest: 0.4622816 (778)\ttotal: 1m 53s\tremaining: 31.9s\n",
      "781:\tlearn: 0.3927378\ttest: 0.4623016\tbest: 0.4622816 (778)\ttotal: 1m 53s\tremaining: 31.7s\n",
      "782:\tlearn: 0.3926460\ttest: 0.4622503\tbest: 0.4622503 (782)\ttotal: 1m 53s\tremaining: 31.6s\n",
      "783:\tlearn: 0.3926001\ttest: 0.4622006\tbest: 0.4622006 (783)\ttotal: 1m 54s\tremaining: 31.4s\n",
      "784:\tlearn: 0.3925245\ttest: 0.4621987\tbest: 0.4621987 (784)\ttotal: 1m 54s\tremaining: 31.3s\n",
      "785:\tlearn: 0.3924709\ttest: 0.4622643\tbest: 0.4621987 (784)\ttotal: 1m 54s\tremaining: 31.1s\n",
      "786:\tlearn: 0.3923789\ttest: 0.4622296\tbest: 0.4621987 (784)\ttotal: 1m 54s\tremaining: 31s\n",
      "787:\tlearn: 0.3923016\ttest: 0.4621498\tbest: 0.4621498 (787)\ttotal: 1m 54s\tremaining: 30.8s\n",
      "788:\tlearn: 0.3922197\ttest: 0.4621450\tbest: 0.4621450 (788)\ttotal: 1m 54s\tremaining: 30.7s\n",
      "789:\tlearn: 0.3921449\ttest: 0.4620486\tbest: 0.4620486 (789)\ttotal: 1m 54s\tremaining: 30.5s\n",
      "790:\tlearn: 0.3921038\ttest: 0.4621138\tbest: 0.4620486 (789)\ttotal: 1m 54s\tremaining: 30.4s\n",
      "791:\tlearn: 0.3920319\ttest: 0.4621063\tbest: 0.4620486 (789)\ttotal: 1m 55s\tremaining: 30.2s\n",
      "792:\tlearn: 0.3919217\ttest: 0.4621046\tbest: 0.4620486 (789)\ttotal: 1m 55s\tremaining: 30.1s\n",
      "793:\tlearn: 0.3918614\ttest: 0.4621083\tbest: 0.4620486 (789)\ttotal: 1m 55s\tremaining: 29.9s\n",
      "794:\tlearn: 0.3917787\ttest: 0.4621084\tbest: 0.4620486 (789)\ttotal: 1m 55s\tremaining: 29.8s\n",
      "795:\tlearn: 0.3917073\ttest: 0.4621246\tbest: 0.4620486 (789)\ttotal: 1m 55s\tremaining: 29.6s\n",
      "796:\tlearn: 0.3916539\ttest: 0.4619979\tbest: 0.4619979 (796)\ttotal: 1m 55s\tremaining: 29.5s\n",
      "797:\tlearn: 0.3916020\ttest: 0.4619905\tbest: 0.4619905 (797)\ttotal: 1m 55s\tremaining: 29.3s\n",
      "798:\tlearn: 0.3915347\ttest: 0.4619747\tbest: 0.4619747 (798)\ttotal: 1m 55s\tremaining: 29.2s\n",
      "799:\tlearn: 0.3914877\ttest: 0.4620977\tbest: 0.4619747 (798)\ttotal: 1m 56s\tremaining: 29s\n",
      "800:\tlearn: 0.3914159\ttest: 0.4620895\tbest: 0.4619747 (798)\ttotal: 1m 56s\tremaining: 28.9s\n",
      "801:\tlearn: 0.3913706\ttest: 0.4620879\tbest: 0.4619747 (798)\ttotal: 1m 56s\tremaining: 28.7s\n",
      "802:\tlearn: 0.3912907\ttest: 0.4621636\tbest: 0.4619747 (798)\ttotal: 1m 56s\tremaining: 28.6s\n",
      "803:\tlearn: 0.3912373\ttest: 0.4621132\tbest: 0.4619747 (798)\ttotal: 1m 56s\tremaining: 28.4s\n",
      "804:\tlearn: 0.3911680\ttest: 0.4620959\tbest: 0.4619747 (798)\ttotal: 1m 56s\tremaining: 28.3s\n",
      "805:\tlearn: 0.3911073\ttest: 0.4621244\tbest: 0.4619747 (798)\ttotal: 1m 56s\tremaining: 28.1s\n",
      "806:\tlearn: 0.3910291\ttest: 0.4621711\tbest: 0.4619747 (798)\ttotal: 1m 57s\tremaining: 28s\n",
      "807:\tlearn: 0.3909592\ttest: 0.4622004\tbest: 0.4619747 (798)\ttotal: 1m 57s\tremaining: 27.8s\n",
      "808:\tlearn: 0.3908753\ttest: 0.4622126\tbest: 0.4619747 (798)\ttotal: 1m 57s\tremaining: 27.7s\n",
      "809:\tlearn: 0.3908233\ttest: 0.4621920\tbest: 0.4619747 (798)\ttotal: 1m 57s\tremaining: 27.6s\n",
      "810:\tlearn: 0.3907496\ttest: 0.4621618\tbest: 0.4619747 (798)\ttotal: 1m 57s\tremaining: 27.4s\n",
      "811:\tlearn: 0.3907159\ttest: 0.4621060\tbest: 0.4619747 (798)\ttotal: 1m 57s\tremaining: 27.3s\n",
      "812:\tlearn: 0.3906426\ttest: 0.4620951\tbest: 0.4619747 (798)\ttotal: 1m 57s\tremaining: 27.1s\n",
      "813:\tlearn: 0.3905809\ttest: 0.4621358\tbest: 0.4619747 (798)\ttotal: 1m 58s\tremaining: 27s\n",
      "814:\tlearn: 0.3904616\ttest: 0.4620229\tbest: 0.4619747 (798)\ttotal: 1m 58s\tremaining: 26.8s\n",
      "815:\tlearn: 0.3903923\ttest: 0.4619949\tbest: 0.4619747 (798)\ttotal: 1m 58s\tremaining: 26.7s\n",
      "816:\tlearn: 0.3903394\ttest: 0.4620117\tbest: 0.4619747 (798)\ttotal: 1m 58s\tremaining: 26.5s\n",
      "817:\tlearn: 0.3902701\ttest: 0.4619679\tbest: 0.4619679 (817)\ttotal: 1m 58s\tremaining: 26.4s\n",
      "818:\tlearn: 0.3901900\ttest: 0.4620536\tbest: 0.4619679 (817)\ttotal: 1m 58s\tremaining: 26.2s\n",
      "819:\tlearn: 0.3901681\ttest: 0.4620312\tbest: 0.4619679 (817)\ttotal: 1m 58s\tremaining: 26.1s\n",
      "820:\tlearn: 0.3901119\ttest: 0.4619452\tbest: 0.4619452 (820)\ttotal: 1m 59s\tremaining: 26s\n",
      "821:\tlearn: 0.3900647\ttest: 0.4618676\tbest: 0.4618676 (821)\ttotal: 1m 59s\tremaining: 25.8s\n",
      "822:\tlearn: 0.3899982\ttest: 0.4619114\tbest: 0.4618676 (821)\ttotal: 1m 59s\tremaining: 25.7s\n",
      "823:\tlearn: 0.3899324\ttest: 0.4618810\tbest: 0.4618676 (821)\ttotal: 1m 59s\tremaining: 25.5s\n",
      "824:\tlearn: 0.3898525\ttest: 0.4618430\tbest: 0.4618430 (824)\ttotal: 1m 59s\tremaining: 25.4s\n",
      "825:\tlearn: 0.3898097\ttest: 0.4618427\tbest: 0.4618427 (825)\ttotal: 1m 59s\tremaining: 25.2s\n"
     ]
    },
    {
     "name": "stdout",
     "output_type": "stream",
     "text": [
      "826:\tlearn: 0.3897237\ttest: 0.4617641\tbest: 0.4617641 (826)\ttotal: 1m 59s\tremaining: 25.1s\n",
      "827:\tlearn: 0.3896053\ttest: 0.4617334\tbest: 0.4617334 (827)\ttotal: 2m\tremaining: 24.9s\n",
      "828:\tlearn: 0.3895239\ttest: 0.4617372\tbest: 0.4617334 (827)\ttotal: 2m\tremaining: 24.8s\n",
      "829:\tlearn: 0.3894827\ttest: 0.4617255\tbest: 0.4617255 (829)\ttotal: 2m\tremaining: 24.6s\n",
      "830:\tlearn: 0.3894435\ttest: 0.4616996\tbest: 0.4616996 (830)\ttotal: 2m\tremaining: 24.5s\n",
      "831:\tlearn: 0.3893780\ttest: 0.4615715\tbest: 0.4615715 (831)\ttotal: 2m\tremaining: 24.4s\n",
      "832:\tlearn: 0.3893106\ttest: 0.4615601\tbest: 0.4615601 (832)\ttotal: 2m\tremaining: 24.2s\n",
      "833:\tlearn: 0.3892450\ttest: 0.4615185\tbest: 0.4615185 (833)\ttotal: 2m\tremaining: 24.1s\n",
      "834:\tlearn: 0.3891914\ttest: 0.4615678\tbest: 0.4615185 (833)\ttotal: 2m 1s\tremaining: 23.9s\n",
      "835:\tlearn: 0.3891253\ttest: 0.4615758\tbest: 0.4615185 (833)\ttotal: 2m 1s\tremaining: 23.8s\n",
      "836:\tlearn: 0.3890429\ttest: 0.4615423\tbest: 0.4615185 (833)\ttotal: 2m 1s\tremaining: 23.6s\n",
      "837:\tlearn: 0.3889842\ttest: 0.4615309\tbest: 0.4615185 (833)\ttotal: 2m 1s\tremaining: 23.5s\n",
      "838:\tlearn: 0.3889006\ttest: 0.4615303\tbest: 0.4615185 (833)\ttotal: 2m 1s\tremaining: 23.4s\n",
      "839:\tlearn: 0.3888488\ttest: 0.4615412\tbest: 0.4615185 (833)\ttotal: 2m 1s\tremaining: 23.2s\n",
      "840:\tlearn: 0.3887542\ttest: 0.4615226\tbest: 0.4615185 (833)\ttotal: 2m 2s\tremaining: 23.1s\n",
      "841:\tlearn: 0.3886903\ttest: 0.4614215\tbest: 0.4614215 (841)\ttotal: 2m 2s\tremaining: 22.9s\n",
      "842:\tlearn: 0.3886171\ttest: 0.4614012\tbest: 0.4614012 (842)\ttotal: 2m 2s\tremaining: 22.8s\n",
      "843:\tlearn: 0.3885318\ttest: 0.4614105\tbest: 0.4614012 (842)\ttotal: 2m 2s\tremaining: 22.6s\n",
      "844:\tlearn: 0.3884802\ttest: 0.4615107\tbest: 0.4614012 (842)\ttotal: 2m 2s\tremaining: 22.5s\n",
      "845:\tlearn: 0.3884041\ttest: 0.4615489\tbest: 0.4614012 (842)\ttotal: 2m 2s\tremaining: 22.3s\n",
      "846:\tlearn: 0.3883284\ttest: 0.4615584\tbest: 0.4614012 (842)\ttotal: 2m 2s\tremaining: 22.2s\n",
      "847:\tlearn: 0.3882654\ttest: 0.4615839\tbest: 0.4614012 (842)\ttotal: 2m 3s\tremaining: 22.1s\n",
      "848:\tlearn: 0.3882128\ttest: 0.4616142\tbest: 0.4614012 (842)\ttotal: 2m 3s\tremaining: 21.9s\n",
      "849:\tlearn: 0.3881468\ttest: 0.4616009\tbest: 0.4614012 (842)\ttotal: 2m 3s\tremaining: 21.8s\n",
      "850:\tlearn: 0.3880582\ttest: 0.4617028\tbest: 0.4614012 (842)\ttotal: 2m 3s\tremaining: 21.6s\n",
      "851:\tlearn: 0.3880166\ttest: 0.4616300\tbest: 0.4614012 (842)\ttotal: 2m 3s\tremaining: 21.5s\n",
      "852:\tlearn: 0.3879763\ttest: 0.4615484\tbest: 0.4614012 (842)\ttotal: 2m 3s\tremaining: 21.3s\n",
      "853:\tlearn: 0.3879116\ttest: 0.4615464\tbest: 0.4614012 (842)\ttotal: 2m 3s\tremaining: 21.2s\n",
      "854:\tlearn: 0.3877820\ttest: 0.4616021\tbest: 0.4614012 (842)\ttotal: 2m 3s\tremaining: 21s\n",
      "855:\tlearn: 0.3877281\ttest: 0.4614601\tbest: 0.4614012 (842)\ttotal: 2m 4s\tremaining: 20.9s\n",
      "856:\tlearn: 0.3876896\ttest: 0.4614247\tbest: 0.4614012 (842)\ttotal: 2m 4s\tremaining: 20.7s\n",
      "857:\tlearn: 0.3876293\ttest: 0.4613733\tbest: 0.4613733 (857)\ttotal: 2m 4s\tremaining: 20.6s\n",
      "858:\tlearn: 0.3875930\ttest: 0.4613220\tbest: 0.4613220 (858)\ttotal: 2m 4s\tremaining: 20.4s\n",
      "859:\tlearn: 0.3875579\ttest: 0.4612947\tbest: 0.4612947 (859)\ttotal: 2m 4s\tremaining: 20.3s\n",
      "860:\tlearn: 0.3874448\ttest: 0.4612937\tbest: 0.4612937 (860)\ttotal: 2m 4s\tremaining: 20.1s\n",
      "861:\tlearn: 0.3873384\ttest: 0.4612495\tbest: 0.4612495 (861)\ttotal: 2m 4s\tremaining: 20s\n",
      "862:\tlearn: 0.3872374\ttest: 0.4612482\tbest: 0.4612482 (862)\ttotal: 2m 5s\tremaining: 19.8s\n",
      "863:\tlearn: 0.3871973\ttest: 0.4611912\tbest: 0.4611912 (863)\ttotal: 2m 5s\tremaining: 19.7s\n",
      "864:\tlearn: 0.3871549\ttest: 0.4611493\tbest: 0.4611493 (864)\ttotal: 2m 5s\tremaining: 19.5s\n",
      "865:\tlearn: 0.3870993\ttest: 0.4611353\tbest: 0.4611353 (865)\ttotal: 2m 5s\tremaining: 19.4s\n",
      "866:\tlearn: 0.3870220\ttest: 0.4611531\tbest: 0.4611353 (865)\ttotal: 2m 5s\tremaining: 19.3s\n",
      "867:\tlearn: 0.3869453\ttest: 0.4611188\tbest: 0.4611188 (867)\ttotal: 2m 5s\tremaining: 19.1s\n",
      "868:\tlearn: 0.3868764\ttest: 0.4610415\tbest: 0.4610415 (868)\ttotal: 2m 5s\tremaining: 19s\n",
      "869:\tlearn: 0.3868148\ttest: 0.4610929\tbest: 0.4610415 (868)\ttotal: 2m 5s\tremaining: 18.8s\n",
      "870:\tlearn: 0.3867696\ttest: 0.4610735\tbest: 0.4610415 (868)\ttotal: 2m 6s\tremaining: 18.7s\n",
      "871:\tlearn: 0.3867130\ttest: 0.4610953\tbest: 0.4610415 (868)\ttotal: 2m 6s\tremaining: 18.5s\n",
      "872:\tlearn: 0.3866587\ttest: 0.4610811\tbest: 0.4610415 (868)\ttotal: 2m 6s\tremaining: 18.4s\n",
      "873:\tlearn: 0.3865968\ttest: 0.4610585\tbest: 0.4610415 (868)\ttotal: 2m 6s\tremaining: 18.2s\n",
      "874:\tlearn: 0.3865606\ttest: 0.4610357\tbest: 0.4610357 (874)\ttotal: 2m 6s\tremaining: 18.1s\n",
      "875:\tlearn: 0.3865358\ttest: 0.4610971\tbest: 0.4610357 (874)\ttotal: 2m 6s\tremaining: 17.9s\n",
      "876:\tlearn: 0.3864760\ttest: 0.4610455\tbest: 0.4610357 (874)\ttotal: 2m 6s\tremaining: 17.8s\n",
      "877:\tlearn: 0.3864071\ttest: 0.4610525\tbest: 0.4610357 (874)\ttotal: 2m 6s\tremaining: 17.6s\n",
      "878:\tlearn: 0.3863504\ttest: 0.4610840\tbest: 0.4610357 (874)\ttotal: 2m 7s\tremaining: 17.5s\n",
      "879:\tlearn: 0.3863067\ttest: 0.4610948\tbest: 0.4610357 (874)\ttotal: 2m 7s\tremaining: 17.3s\n",
      "880:\tlearn: 0.3862497\ttest: 0.4610507\tbest: 0.4610357 (874)\ttotal: 2m 7s\tremaining: 17.2s\n",
      "881:\tlearn: 0.3862165\ttest: 0.4610939\tbest: 0.4610357 (874)\ttotal: 2m 7s\tremaining: 17.1s\n",
      "882:\tlearn: 0.3861746\ttest: 0.4611500\tbest: 0.4610357 (874)\ttotal: 2m 7s\tremaining: 16.9s\n",
      "883:\tlearn: 0.3860978\ttest: 0.4611493\tbest: 0.4610357 (874)\ttotal: 2m 7s\tremaining: 16.8s\n",
      "884:\tlearn: 0.3860222\ttest: 0.4610938\tbest: 0.4610357 (874)\ttotal: 2m 7s\tremaining: 16.6s\n",
      "885:\tlearn: 0.3859374\ttest: 0.4610950\tbest: 0.4610357 (874)\ttotal: 2m 7s\tremaining: 16.5s\n",
      "886:\tlearn: 0.3858646\ttest: 0.4611483\tbest: 0.4610357 (874)\ttotal: 2m 8s\tremaining: 16.3s\n",
      "887:\tlearn: 0.3858045\ttest: 0.4611780\tbest: 0.4610357 (874)\ttotal: 2m 8s\tremaining: 16.2s\n",
      "888:\tlearn: 0.3857556\ttest: 0.4611490\tbest: 0.4610357 (874)\ttotal: 2m 8s\tremaining: 16s\n",
      "889:\tlearn: 0.3856948\ttest: 0.4611250\tbest: 0.4610357 (874)\ttotal: 2m 8s\tremaining: 15.9s\n",
      "890:\tlearn: 0.3856124\ttest: 0.4610708\tbest: 0.4610357 (874)\ttotal: 2m 8s\tremaining: 15.7s\n",
      "891:\tlearn: 0.3855366\ttest: 0.4610258\tbest: 0.4610258 (891)\ttotal: 2m 8s\tremaining: 15.6s\n",
      "892:\tlearn: 0.3854435\ttest: 0.4610008\tbest: 0.4610008 (892)\ttotal: 2m 8s\tremaining: 15.4s\n",
      "893:\tlearn: 0.3853817\ttest: 0.4609597\tbest: 0.4609597 (893)\ttotal: 2m 9s\tremaining: 15.3s\n",
      "894:\tlearn: 0.3852745\ttest: 0.4609047\tbest: 0.4609047 (894)\ttotal: 2m 9s\tremaining: 15.2s\n",
      "895:\tlearn: 0.3852221\ttest: 0.4608749\tbest: 0.4608749 (895)\ttotal: 2m 9s\tremaining: 15s\n",
      "896:\tlearn: 0.3851301\ttest: 0.4609253\tbest: 0.4608749 (895)\ttotal: 2m 9s\tremaining: 14.9s\n",
      "897:\tlearn: 0.3850966\ttest: 0.4609499\tbest: 0.4608749 (895)\ttotal: 2m 9s\tremaining: 14.7s\n",
      "898:\tlearn: 0.3850082\ttest: 0.4609245\tbest: 0.4608749 (895)\ttotal: 2m 9s\tremaining: 14.6s\n",
      "899:\tlearn: 0.3849603\ttest: 0.4609127\tbest: 0.4608749 (895)\ttotal: 2m 9s\tremaining: 14.4s\n",
      "900:\tlearn: 0.3848620\ttest: 0.4608612\tbest: 0.4608612 (900)\ttotal: 2m 10s\tremaining: 14.3s\n",
      "901:\tlearn: 0.3848053\ttest: 0.4608209\tbest: 0.4608209 (901)\ttotal: 2m 10s\tremaining: 14.1s\n",
      "902:\tlearn: 0.3847520\ttest: 0.4607792\tbest: 0.4607792 (902)\ttotal: 2m 10s\tremaining: 14s\n",
      "903:\tlearn: 0.3846844\ttest: 0.4607745\tbest: 0.4607745 (903)\ttotal: 2m 10s\tremaining: 13.9s\n",
      "904:\tlearn: 0.3846110\ttest: 0.4606766\tbest: 0.4606766 (904)\ttotal: 2m 10s\tremaining: 13.7s\n",
      "905:\tlearn: 0.3845484\ttest: 0.4606861\tbest: 0.4606766 (904)\ttotal: 2m 10s\tremaining: 13.6s\n",
      "906:\tlearn: 0.3845148\ttest: 0.4607014\tbest: 0.4606766 (904)\ttotal: 2m 10s\tremaining: 13.4s\n",
      "907:\tlearn: 0.3844273\ttest: 0.4607194\tbest: 0.4606766 (904)\ttotal: 2m 11s\tremaining: 13.3s\n",
      "908:\tlearn: 0.3843451\ttest: 0.4607256\tbest: 0.4606766 (904)\ttotal: 2m 11s\tremaining: 13.1s\n",
      "909:\tlearn: 0.3842910\ttest: 0.4607856\tbest: 0.4606766 (904)\ttotal: 2m 11s\tremaining: 13s\n",
      "910:\tlearn: 0.3842277\ttest: 0.4607759\tbest: 0.4606766 (904)\ttotal: 2m 11s\tremaining: 12.8s\n",
      "911:\tlearn: 0.3841483\ttest: 0.4606962\tbest: 0.4606766 (904)\ttotal: 2m 11s\tremaining: 12.7s\n",
      "912:\tlearn: 0.3841080\ttest: 0.4606224\tbest: 0.4606224 (912)\ttotal: 2m 11s\tremaining: 12.6s\n",
      "913:\tlearn: 0.3840309\ttest: 0.4606004\tbest: 0.4606004 (913)\ttotal: 2m 11s\tremaining: 12.4s\n",
      "914:\tlearn: 0.3839029\ttest: 0.4606328\tbest: 0.4606004 (913)\ttotal: 2m 12s\tremaining: 12.3s\n",
      "915:\tlearn: 0.3837930\ttest: 0.4605832\tbest: 0.4605832 (915)\ttotal: 2m 12s\tremaining: 12.1s\n",
      "916:\tlearn: 0.3837261\ttest: 0.4605837\tbest: 0.4605832 (915)\ttotal: 2m 12s\tremaining: 12s\n",
      "917:\tlearn: 0.3836511\ttest: 0.4605777\tbest: 0.4605777 (917)\ttotal: 2m 12s\tremaining: 11.8s\n"
     ]
    },
    {
     "name": "stdout",
     "output_type": "stream",
     "text": [
      "918:\tlearn: 0.3835952\ttest: 0.4606134\tbest: 0.4605777 (917)\ttotal: 2m 12s\tremaining: 11.7s\n",
      "919:\tlearn: 0.3835315\ttest: 0.4605957\tbest: 0.4605777 (917)\ttotal: 2m 12s\tremaining: 11.6s\n",
      "920:\tlearn: 0.3834664\ttest: 0.4605593\tbest: 0.4605593 (920)\ttotal: 2m 13s\tremaining: 11.4s\n",
      "921:\tlearn: 0.3833798\ttest: 0.4604235\tbest: 0.4604235 (921)\ttotal: 2m 13s\tremaining: 11.3s\n",
      "922:\tlearn: 0.3832990\ttest: 0.4604562\tbest: 0.4604235 (921)\ttotal: 2m 13s\tremaining: 11.1s\n",
      "923:\tlearn: 0.3832153\ttest: 0.4604910\tbest: 0.4604235 (921)\ttotal: 2m 13s\tremaining: 11s\n",
      "924:\tlearn: 0.3831473\ttest: 0.4605091\tbest: 0.4604235 (921)\ttotal: 2m 13s\tremaining: 10.8s\n",
      "925:\tlearn: 0.3830822\ttest: 0.4605565\tbest: 0.4604235 (921)\ttotal: 2m 13s\tremaining: 10.7s\n",
      "926:\tlearn: 0.3830268\ttest: 0.4604856\tbest: 0.4604235 (921)\ttotal: 2m 14s\tremaining: 10.6s\n",
      "927:\tlearn: 0.3829803\ttest: 0.4604738\tbest: 0.4604235 (921)\ttotal: 2m 14s\tremaining: 10.4s\n",
      "928:\tlearn: 0.3829158\ttest: 0.4604408\tbest: 0.4604235 (921)\ttotal: 2m 14s\tremaining: 10.3s\n",
      "929:\tlearn: 0.3828745\ttest: 0.4603921\tbest: 0.4603921 (929)\ttotal: 2m 14s\tremaining: 10.2s\n",
      "930:\tlearn: 0.3827712\ttest: 0.4603862\tbest: 0.4603862 (930)\ttotal: 2m 15s\tremaining: 10s\n",
      "931:\tlearn: 0.3826907\ttest: 0.4605244\tbest: 0.4603862 (930)\ttotal: 2m 15s\tremaining: 9.88s\n",
      "932:\tlearn: 0.3826528\ttest: 0.4605822\tbest: 0.4603862 (930)\ttotal: 2m 15s\tremaining: 9.74s\n",
      "933:\tlearn: 0.3825732\ttest: 0.4605996\tbest: 0.4603862 (930)\ttotal: 2m 15s\tremaining: 9.6s\n",
      "934:\tlearn: 0.3824937\ttest: 0.4606807\tbest: 0.4603862 (930)\ttotal: 2m 16s\tremaining: 9.46s\n",
      "935:\tlearn: 0.3824174\ttest: 0.4606639\tbest: 0.4603862 (930)\ttotal: 2m 16s\tremaining: 9.31s\n",
      "936:\tlearn: 0.3823689\ttest: 0.4605721\tbest: 0.4603862 (930)\ttotal: 2m 16s\tremaining: 9.17s\n",
      "937:\tlearn: 0.3823131\ttest: 0.4606599\tbest: 0.4603862 (930)\ttotal: 2m 16s\tremaining: 9.03s\n",
      "938:\tlearn: 0.3822666\ttest: 0.4606364\tbest: 0.4603862 (930)\ttotal: 2m 16s\tremaining: 8.89s\n",
      "939:\tlearn: 0.3822351\ttest: 0.4606283\tbest: 0.4603862 (930)\ttotal: 2m 17s\tremaining: 8.75s\n",
      "940:\tlearn: 0.3821699\ttest: 0.4606102\tbest: 0.4603862 (930)\ttotal: 2m 17s\tremaining: 8.6s\n",
      "941:\tlearn: 0.3820665\ttest: 0.4605650\tbest: 0.4603862 (930)\ttotal: 2m 17s\tremaining: 8.46s\n",
      "942:\tlearn: 0.3820026\ttest: 0.4605747\tbest: 0.4603862 (930)\ttotal: 2m 17s\tremaining: 8.31s\n",
      "943:\tlearn: 0.3819314\ttest: 0.4606003\tbest: 0.4603862 (930)\ttotal: 2m 17s\tremaining: 8.17s\n",
      "944:\tlearn: 0.3818507\ttest: 0.4604953\tbest: 0.4603862 (930)\ttotal: 2m 17s\tremaining: 8.02s\n",
      "945:\tlearn: 0.3818005\ttest: 0.4605179\tbest: 0.4603862 (930)\ttotal: 2m 18s\tremaining: 7.88s\n",
      "946:\tlearn: 0.3817138\ttest: 0.4605951\tbest: 0.4603862 (930)\ttotal: 2m 18s\tremaining: 7.74s\n",
      "947:\tlearn: 0.3816317\ttest: 0.4605469\tbest: 0.4603862 (930)\ttotal: 2m 18s\tremaining: 7.59s\n",
      "948:\tlearn: 0.3815791\ttest: 0.4605710\tbest: 0.4603862 (930)\ttotal: 2m 18s\tremaining: 7.45s\n",
      "949:\tlearn: 0.3815151\ttest: 0.4606931\tbest: 0.4603862 (930)\ttotal: 2m 18s\tremaining: 7.3s\n",
      "950:\tlearn: 0.3814619\ttest: 0.4607071\tbest: 0.4603862 (930)\ttotal: 2m 18s\tremaining: 7.16s\n",
      "951:\tlearn: 0.3813816\ttest: 0.4606140\tbest: 0.4603862 (930)\ttotal: 2m 19s\tremaining: 7.01s\n",
      "952:\tlearn: 0.3813369\ttest: 0.4605999\tbest: 0.4603862 (930)\ttotal: 2m 19s\tremaining: 6.87s\n",
      "953:\tlearn: 0.3812935\ttest: 0.4605133\tbest: 0.4603862 (930)\ttotal: 2m 19s\tremaining: 6.72s\n",
      "954:\tlearn: 0.3812465\ttest: 0.4605297\tbest: 0.4603862 (930)\ttotal: 2m 19s\tremaining: 6.58s\n",
      "955:\tlearn: 0.3811833\ttest: 0.4605056\tbest: 0.4603862 (930)\ttotal: 2m 19s\tremaining: 6.43s\n",
      "956:\tlearn: 0.3811396\ttest: 0.4605433\tbest: 0.4603862 (930)\ttotal: 2m 19s\tremaining: 6.28s\n",
      "957:\tlearn: 0.3810764\ttest: 0.4605512\tbest: 0.4603862 (930)\ttotal: 2m 19s\tremaining: 6.14s\n",
      "958:\tlearn: 0.3810505\ttest: 0.4605282\tbest: 0.4603862 (930)\ttotal: 2m 20s\tremaining: 5.99s\n",
      "959:\tlearn: 0.3810238\ttest: 0.4604775\tbest: 0.4603862 (930)\ttotal: 2m 20s\tremaining: 5.84s\n",
      "960:\tlearn: 0.3809826\ttest: 0.4603613\tbest: 0.4603613 (960)\ttotal: 2m 20s\tremaining: 5.7s\n",
      "961:\tlearn: 0.3809047\ttest: 0.4603229\tbest: 0.4603229 (961)\ttotal: 2m 20s\tremaining: 5.55s\n",
      "962:\tlearn: 0.3808167\ttest: 0.4603064\tbest: 0.4603064 (962)\ttotal: 2m 20s\tremaining: 5.41s\n",
      "963:\tlearn: 0.3807507\ttest: 0.4602021\tbest: 0.4602021 (963)\ttotal: 2m 20s\tremaining: 5.26s\n",
      "964:\tlearn: 0.3806887\ttest: 0.4601555\tbest: 0.4601555 (964)\ttotal: 2m 21s\tremaining: 5.12s\n",
      "965:\tlearn: 0.3806217\ttest: 0.4602081\tbest: 0.4601555 (964)\ttotal: 2m 21s\tremaining: 4.97s\n",
      "966:\tlearn: 0.3805721\ttest: 0.4602250\tbest: 0.4601555 (964)\ttotal: 2m 21s\tremaining: 4.82s\n",
      "967:\tlearn: 0.3804969\ttest: 0.4602121\tbest: 0.4601555 (964)\ttotal: 2m 21s\tremaining: 4.68s\n",
      "968:\tlearn: 0.3804597\ttest: 0.4601947\tbest: 0.4601555 (964)\ttotal: 2m 21s\tremaining: 4.53s\n",
      "969:\tlearn: 0.3803742\ttest: 0.4600695\tbest: 0.4600695 (969)\ttotal: 2m 21s\tremaining: 4.38s\n",
      "970:\tlearn: 0.3803286\ttest: 0.4599767\tbest: 0.4599767 (970)\ttotal: 2m 21s\tremaining: 4.24s\n",
      "971:\tlearn: 0.3802633\ttest: 0.4598624\tbest: 0.4598624 (971)\ttotal: 2m 21s\tremaining: 4.09s\n",
      "972:\tlearn: 0.3801956\ttest: 0.4598658\tbest: 0.4598624 (971)\ttotal: 2m 22s\tremaining: 3.94s\n",
      "973:\tlearn: 0.3801429\ttest: 0.4598783\tbest: 0.4598624 (971)\ttotal: 2m 22s\tremaining: 3.8s\n",
      "974:\tlearn: 0.3800879\ttest: 0.4598595\tbest: 0.4598595 (974)\ttotal: 2m 22s\tremaining: 3.65s\n",
      "975:\tlearn: 0.3799969\ttest: 0.4599720\tbest: 0.4598595 (974)\ttotal: 2m 22s\tremaining: 3.5s\n",
      "976:\tlearn: 0.3799110\ttest: 0.4598573\tbest: 0.4598573 (976)\ttotal: 2m 22s\tremaining: 3.36s\n",
      "977:\tlearn: 0.3798677\ttest: 0.4598062\tbest: 0.4598062 (977)\ttotal: 2m 22s\tremaining: 3.21s\n",
      "978:\tlearn: 0.3798143\ttest: 0.4597705\tbest: 0.4597705 (978)\ttotal: 2m 23s\tremaining: 3.07s\n",
      "979:\tlearn: 0.3797352\ttest: 0.4598113\tbest: 0.4597705 (978)\ttotal: 2m 23s\tremaining: 2.92s\n",
      "980:\tlearn: 0.3796510\ttest: 0.4598242\tbest: 0.4597705 (978)\ttotal: 2m 23s\tremaining: 2.78s\n",
      "981:\tlearn: 0.3796020\ttest: 0.4597946\tbest: 0.4597705 (978)\ttotal: 2m 23s\tremaining: 2.63s\n",
      "982:\tlearn: 0.3795314\ttest: 0.4598538\tbest: 0.4597705 (978)\ttotal: 2m 23s\tremaining: 2.49s\n",
      "983:\tlearn: 0.3794442\ttest: 0.4598535\tbest: 0.4597705 (978)\ttotal: 2m 23s\tremaining: 2.34s\n",
      "984:\tlearn: 0.3793929\ttest: 0.4597920\tbest: 0.4597705 (978)\ttotal: 2m 24s\tremaining: 2.19s\n",
      "985:\tlearn: 0.3792915\ttest: 0.4597877\tbest: 0.4597705 (978)\ttotal: 2m 24s\tremaining: 2.05s\n",
      "986:\tlearn: 0.3792365\ttest: 0.4597596\tbest: 0.4597596 (986)\ttotal: 2m 24s\tremaining: 1.9s\n",
      "987:\tlearn: 0.3791706\ttest: 0.4597624\tbest: 0.4597596 (986)\ttotal: 2m 24s\tremaining: 1.75s\n",
      "988:\tlearn: 0.3791246\ttest: 0.4597117\tbest: 0.4597117 (988)\ttotal: 2m 24s\tremaining: 1.61s\n",
      "989:\tlearn: 0.3790695\ttest: 0.4596647\tbest: 0.4596647 (989)\ttotal: 2m 24s\tremaining: 1.46s\n",
      "990:\tlearn: 0.3790096\ttest: 0.4596475\tbest: 0.4596475 (990)\ttotal: 2m 24s\tremaining: 1.32s\n",
      "991:\tlearn: 0.3789556\ttest: 0.4597054\tbest: 0.4596475 (990)\ttotal: 2m 25s\tremaining: 1.17s\n",
      "992:\tlearn: 0.3788489\ttest: 0.4597761\tbest: 0.4596475 (990)\ttotal: 2m 25s\tremaining: 1.02s\n",
      "993:\tlearn: 0.3787550\ttest: 0.4596572\tbest: 0.4596475 (990)\ttotal: 2m 25s\tremaining: 878ms\n",
      "994:\tlearn: 0.3786971\ttest: 0.4596666\tbest: 0.4596475 (990)\ttotal: 2m 25s\tremaining: 731ms\n",
      "995:\tlearn: 0.3786376\ttest: 0.4596486\tbest: 0.4596475 (990)\ttotal: 2m 25s\tremaining: 585ms\n",
      "996:\tlearn: 0.3785684\ttest: 0.4595682\tbest: 0.4595682 (996)\ttotal: 2m 25s\tremaining: 439ms\n",
      "997:\tlearn: 0.3785182\ttest: 0.4596580\tbest: 0.4595682 (996)\ttotal: 2m 25s\tremaining: 292ms\n",
      "998:\tlearn: 0.3784567\ttest: 0.4595758\tbest: 0.4595682 (996)\ttotal: 2m 26s\tremaining: 146ms\n",
      "999:\tlearn: 0.3784177\ttest: 0.4596192\tbest: 0.4595682 (996)\ttotal: 2m 26s\tremaining: 0us\n",
      "\n",
      "bestTest = 0.4595681726\n",
      "bestIteration = 996\n",
      "\n",
      "Shrink model to first 997 iterations.\n"
     ]
    },
    {
     "data": {
      "text/plain": [
       "<catboost.core.CatBoostClassifier at 0x1ad75c59160>"
      ]
     },
     "execution_count": 252,
     "metadata": {},
     "output_type": "execute_result"
    }
   ],
   "source": [
    "catboost.fit(X_train_resample,y_train_resample,eval_set=(X_test_resample,y_test_resample))"
   ]
  },
  {
   "cell_type": "code",
   "execution_count": 253,
   "metadata": {},
   "outputs": [
    {
     "data": {
      "text/plain": [
       "{'learn': {'Logloss': 0.3784177282709375},\n",
       " 'validation': {'Logloss': 0.45956817264000815}}"
      ]
     },
     "execution_count": 253,
     "metadata": {},
     "output_type": "execute_result"
    }
   ],
   "source": [
    "catboost.get_best_score()"
   ]
  },
  {
   "cell_type": "code",
   "execution_count": 254,
   "metadata": {},
   "outputs": [
    {
     "data": {
      "text/plain": [
       "0.799946648882961"
      ]
     },
     "execution_count": 254,
     "metadata": {},
     "output_type": "execute_result"
    }
   ],
   "source": [
    "catboost.score(X_test_resample,y_test_resample)"
   ]
  },
  {
   "cell_type": "code",
   "execution_count": 255,
   "metadata": {},
   "outputs": [
    {
     "data": {
      "text/plain": [
       "0.8362315312821983"
      ]
     },
     "execution_count": 255,
     "metadata": {},
     "output_type": "execute_result"
    }
   ],
   "source": [
    "catboost.score(X_train_resample,y_train_resample)"
   ]
  },
  {
   "cell_type": "code",
   "execution_count": 256,
   "metadata": {},
   "outputs": [],
   "source": [
    "cat_predictions = catboost.predict(X_test_resample)"
   ]
  },
  {
   "cell_type": "code",
   "execution_count": 257,
   "metadata": {},
   "outputs": [
    {
     "data": {
      "text/plain": [
       "0.7999775930185998"
      ]
     },
     "execution_count": 257,
     "metadata": {},
     "output_type": "execute_result"
    }
   ],
   "source": [
    "roc_auc_score(y_test_resample,cat_predictions)"
   ]
  },
  {
   "cell_type": "code",
   "execution_count": 113,
   "metadata": {},
   "outputs": [],
   "source": [
    "from sklearn.svm import SVC"
   ]
  },
  {
   "cell_type": "code",
   "execution_count": 114,
   "metadata": {},
   "outputs": [
    {
     "data": {
      "text/html": [
       "<div>\n",
       "<style scoped>\n",
       "    .dataframe tbody tr th:only-of-type {\n",
       "        vertical-align: middle;\n",
       "    }\n",
       "\n",
       "    .dataframe tbody tr th {\n",
       "        vertical-align: top;\n",
       "    }\n",
       "\n",
       "    .dataframe thead th {\n",
       "        text-align: right;\n",
       "    }\n",
       "</style>\n",
       "<table border=\"1\" class=\"dataframe\">\n",
       "  <thead>\n",
       "    <tr style=\"text-align: right;\">\n",
       "      <th></th>\n",
       "      <th>Age</th>\n",
       "      <th>Vintage</th>\n",
       "      <th>Avg_Account_Balance</th>\n",
       "      <th>Gender_Male</th>\n",
       "      <th>Occupation_Other</th>\n",
       "      <th>Occupation_Salaried</th>\n",
       "      <th>Occupation_Self_Employed</th>\n",
       "      <th>Channel_Code_X2</th>\n",
       "      <th>Channel_Code_X3</th>\n",
       "      <th>Channel_Code_X4</th>\n",
       "      <th>Credit_Product_Yes</th>\n",
       "      <th>Is_Active_Yes</th>\n",
       "    </tr>\n",
       "  </thead>\n",
       "  <tbody>\n",
       "    <tr>\n",
       "      <th>0</th>\n",
       "      <td>73</td>\n",
       "      <td>43</td>\n",
       "      <td>1045696</td>\n",
       "      <td>0</td>\n",
       "      <td>1</td>\n",
       "      <td>0</td>\n",
       "      <td>0</td>\n",
       "      <td>0</td>\n",
       "      <td>1</td>\n",
       "      <td>0</td>\n",
       "      <td>0</td>\n",
       "      <td>0</td>\n",
       "    </tr>\n",
       "    <tr>\n",
       "      <th>1</th>\n",
       "      <td>30</td>\n",
       "      <td>32</td>\n",
       "      <td>581988</td>\n",
       "      <td>0</td>\n",
       "      <td>0</td>\n",
       "      <td>1</td>\n",
       "      <td>0</td>\n",
       "      <td>0</td>\n",
       "      <td>0</td>\n",
       "      <td>0</td>\n",
       "      <td>0</td>\n",
       "      <td>0</td>\n",
       "    </tr>\n",
       "    <tr>\n",
       "      <th>2</th>\n",
       "      <td>56</td>\n",
       "      <td>26</td>\n",
       "      <td>1484315</td>\n",
       "      <td>0</td>\n",
       "      <td>0</td>\n",
       "      <td>0</td>\n",
       "      <td>1</td>\n",
       "      <td>0</td>\n",
       "      <td>1</td>\n",
       "      <td>0</td>\n",
       "      <td>0</td>\n",
       "      <td>1</td>\n",
       "    </tr>\n",
       "    <tr>\n",
       "      <th>3</th>\n",
       "      <td>34</td>\n",
       "      <td>19</td>\n",
       "      <td>470454</td>\n",
       "      <td>1</td>\n",
       "      <td>0</td>\n",
       "      <td>1</td>\n",
       "      <td>0</td>\n",
       "      <td>0</td>\n",
       "      <td>0</td>\n",
       "      <td>0</td>\n",
       "      <td>0</td>\n",
       "      <td>0</td>\n",
       "    </tr>\n",
       "    <tr>\n",
       "      <th>4</th>\n",
       "      <td>30</td>\n",
       "      <td>33</td>\n",
       "      <td>886787</td>\n",
       "      <td>0</td>\n",
       "      <td>0</td>\n",
       "      <td>1</td>\n",
       "      <td>0</td>\n",
       "      <td>0</td>\n",
       "      <td>0</td>\n",
       "      <td>0</td>\n",
       "      <td>0</td>\n",
       "      <td>0</td>\n",
       "    </tr>\n",
       "  </tbody>\n",
       "</table>\n",
       "</div>"
      ],
      "text/plain": [
       "   Age  Vintage  Avg_Account_Balance  Gender_Male  Occupation_Other  \\\n",
       "0   73       43              1045696            0                 1   \n",
       "1   30       32               581988            0                 0   \n",
       "2   56       26              1484315            0                 0   \n",
       "3   34       19               470454            1                 0   \n",
       "4   30       33               886787            0                 0   \n",
       "\n",
       "   Occupation_Salaried  Occupation_Self_Employed  Channel_Code_X2  \\\n",
       "0                    0                         0                0   \n",
       "1                    1                         0                0   \n",
       "2                    0                         1                0   \n",
       "3                    1                         0                0   \n",
       "4                    1                         0                0   \n",
       "\n",
       "   Channel_Code_X3  Channel_Code_X4  Credit_Product_Yes  Is_Active_Yes  \n",
       "0                1                0                   0              0  \n",
       "1                0                0                   0              0  \n",
       "2                1                0                   0              1  \n",
       "3                0                0                   0              0  \n",
       "4                0                0                   0              0  "
      ]
     },
     "execution_count": 114,
     "metadata": {},
     "output_type": "execute_result"
    }
   ],
   "source": [
    "X_train_res.head()"
   ]
  },
  {
   "cell_type": "code",
   "execution_count": 258,
   "metadata": {},
   "outputs": [],
   "source": [
    "X_train_resample_scale = scaler.fit_transform(X_train_resample)\n",
    "X_test_resample_scale = scaler.fit_transform(X_test_resample)"
   ]
  },
  {
   "cell_type": "code",
   "execution_count": 116,
   "metadata": {},
   "outputs": [],
   "source": [
    "#!pip install keras"
   ]
  },
  {
   "cell_type": "code",
   "execution_count": null,
   "metadata": {},
   "outputs": [],
   "source": []
  },
  {
   "cell_type": "code",
   "execution_count": 259,
   "metadata": {},
   "outputs": [],
   "source": [
    "#Deeplearning model ANN\n",
    "\n",
    "from tensorflow.keras.models import Sequential\n",
    "from tensorflow.keras.layers import Dense\n",
    "from keras.layers import LeakyReLU,PReLU,ELU\n",
    "from tensorflow.keras.layers import Dropout"
   ]
  },
  {
   "cell_type": "code",
   "execution_count": 268,
   "metadata": {},
   "outputs": [],
   "source": [
    "classifier = Sequential()\n",
    "classifier.add(Dense(units=12, kernel_initializer='he_normal',activation='relu',input_dim=12))\n",
    "#classifier.add(Dropout(0.3))\n",
    "classifier.add(Dense(units=64, kernel_initializer='he_normal',activation='relu'))\n",
    "#classifier.add(Dropout(0.4))\n",
    "classifier.add(Dense(units=128, kernel_initializer='he_normal',activation='relu'))\n",
    "classifier.add(Dense(units=256, kernel_initializer='he_normal',activation='relu'))\n",
    "classifier.add(Dense(units=32, kernel_initializer='he_normal',activation='relu'))\n",
    "\n",
    "#classifier.add(Dropout(0.2))\n",
    "classifier.add(Dense(units=1,kernel_initializer='glorot_uniform',activation='sigmoid'))"
   ]
  },
  {
   "cell_type": "code",
   "execution_count": 269,
   "metadata": {},
   "outputs": [
    {
     "name": "stdout",
     "output_type": "stream",
     "text": [
      "Model: \"sequential_2\"\n",
      "_________________________________________________________________\n",
      "Layer (type)                 Output Shape              Param #   \n",
      "=================================================================\n",
      "dense_8 (Dense)              (None, 12)                156       \n",
      "_________________________________________________________________\n",
      "dense_9 (Dense)              (None, 64)                832       \n",
      "_________________________________________________________________\n",
      "dense_10 (Dense)             (None, 128)               8320      \n",
      "_________________________________________________________________\n",
      "dense_11 (Dense)             (None, 256)               33024     \n",
      "_________________________________________________________________\n",
      "dense_12 (Dense)             (None, 32)                8224      \n",
      "_________________________________________________________________\n",
      "dense_13 (Dense)             (None, 1)                 33        \n",
      "=================================================================\n",
      "Total params: 50,589\n",
      "Trainable params: 50,589\n",
      "Non-trainable params: 0\n",
      "_________________________________________________________________\n"
     ]
    }
   ],
   "source": [
    "classifier.summary()"
   ]
  },
  {
   "cell_type": "code",
   "execution_count": 270,
   "metadata": {},
   "outputs": [],
   "source": [
    "classifier.compile(optimizer='adam', loss='binary_crossentropy',metrics=['accuracy'])"
   ]
  },
  {
   "cell_type": "code",
   "execution_count": 271,
   "metadata": {},
   "outputs": [
    {
     "name": "stdout",
     "output_type": "stream",
     "text": [
      "Epoch 1/10\n",
      "3140/3140 [==============================] - 19s 6ms/step - loss: 0.5019 - accuracy: 0.7786 - val_loss: 0.4942 - val_accuracy: 0.7826\n",
      "Epoch 2/10\n",
      "3140/3140 [==============================] - 17s 5ms/step - loss: 0.4888 - accuracy: 0.7853 - val_loss: 0.4917 - val_accuracy: 0.7837\n",
      "Epoch 3/10\n",
      "3140/3140 [==============================] - 17s 5ms/step - loss: 0.4848 - accuracy: 0.7862 - val_loss: 0.4848 - val_accuracy: 0.7842\n",
      "Epoch 4/10\n",
      "3140/3140 [==============================] - 17s 5ms/step - loss: 0.4811 - accuracy: 0.7867 - val_loss: 0.4834 - val_accuracy: 0.7835\n",
      "Epoch 5/10\n",
      "3140/3140 [==============================] - 19s 6ms/step - loss: 0.4786 - accuracy: 0.7877 - val_loss: 0.4807 - val_accuracy: 0.7853\n",
      "Epoch 6/10\n",
      "3140/3140 [==============================] - 17s 5ms/step - loss: 0.4773 - accuracy: 0.7884 - val_loss: 0.4803 - val_accuracy: 0.7861\n",
      "Epoch 7/10\n",
      "3140/3140 [==============================] - 17s 5ms/step - loss: 0.4764 - accuracy: 0.7890 - val_loss: 0.4808 - val_accuracy: 0.7852\n",
      "Epoch 8/10\n",
      "3140/3140 [==============================] - 17s 5ms/step - loss: 0.4756 - accuracy: 0.7890 - val_loss: 0.4786 - val_accuracy: 0.7867\n",
      "Epoch 9/10\n",
      "3140/3140 [==============================] - 17s 5ms/step - loss: 0.4750 - accuracy: 0.7895 - val_loss: 0.4795 - val_accuracy: 0.7867\n",
      "Epoch 10/10\n",
      "3140/3140 [==============================] - 17s 5ms/step - loss: 0.4745 - accuracy: 0.7894 - val_loss: 0.4780 - val_accuracy: 0.7869\n"
     ]
    }
   ],
   "source": [
    "model_history=classifier.fit(X_train_resample_scale,y_train_resample,validation_split=0.33, batch_size=64,epochs=10)"
   ]
  },
  {
   "cell_type": "code",
   "execution_count": 272,
   "metadata": {},
   "outputs": [
    {
     "name": "stdout",
     "output_type": "stream",
     "text": [
      "2343/2343 [==============================] - 5s 2ms/step - loss: 110862.1172 - accuracy: 0.5010\n",
      "[110862.1171875, 0.5009536743164062]\n"
     ]
    }
   ],
   "source": [
    "scores = classifier.evaluate(X_test_resample, y_test_resample)\n",
    "print(scores)"
   ]
  },
  {
   "cell_type": "code",
   "execution_count": 265,
   "metadata": {},
   "outputs": [],
   "source": [
    "ann_pred = classifier.predict(X_test_resample)\n",
    "ann_pred = (ann_pred > 0.5)"
   ]
  },
  {
   "cell_type": "code",
   "execution_count": 267,
   "metadata": {},
   "outputs": [
    {
     "data": {
      "text/plain": [
       "0.5"
      ]
     },
     "execution_count": 267,
     "metadata": {},
     "output_type": "execute_result"
    }
   ],
   "source": [
    "roc_auc_score(y_test_resample,ann_pred)"
   ]
  },
  {
   "cell_type": "code",
   "execution_count": 273,
   "metadata": {},
   "outputs": [],
   "source": [
    "##KNN\n",
    "from sklearn.neighbors import KNeighborsClassifier"
   ]
  },
  {
   "cell_type": "code",
   "execution_count": 276,
   "metadata": {},
   "outputs": [],
   "source": [
    "from sklearn.model_selection import cross_val_score\n",
    "from sklearn.model_selection import KFold"
   ]
  },
  {
   "cell_type": "code",
   "execution_count": null,
   "metadata": {},
   "outputs": [],
   "source": [
    "x_axis =[]\n",
    "y_axis =[]\n",
    "for i in range(1,28,2):\n",
    "    clf = KNeighborsClassifier(n_neighbors=i)\n",
    "    scr = cross_val_score(clf,X_train_resample_scale,y_train_resample)\n",
    "    x_axis.append(i)\n",
    "    y_axis.append(scr.mean())"
   ]
  },
  {
   "cell_type": "code",
   "execution_count": 281,
   "metadata": {},
   "outputs": [],
   "source": [
    "knn = KNeighborsClassifier(n_neighbors=2)"
   ]
  },
  {
   "cell_type": "code",
   "execution_count": 282,
   "metadata": {},
   "outputs": [
    {
     "data": {
      "text/plain": [
       "KNeighborsClassifier(n_neighbors=2)"
      ]
     },
     "execution_count": 282,
     "metadata": {},
     "output_type": "execute_result"
    }
   ],
   "source": [
    "knn.fit(X_train_resample_scale,y_train_resample)"
   ]
  },
  {
   "cell_type": "code",
   "execution_count": 283,
   "metadata": {},
   "outputs": [
    {
     "data": {
      "text/plain": [
       "0.5009536512170724"
      ]
     },
     "execution_count": 283,
     "metadata": {},
     "output_type": "execute_result"
    }
   ],
   "source": [
    "knn.score(X_test_resample,y_test_resample)"
   ]
  },
  {
   "cell_type": "code",
   "execution_count": 284,
   "metadata": {},
   "outputs": [],
   "source": [
    "knn_predict = knn.predict(X_test_resample)"
   ]
  },
  {
   "cell_type": "code",
   "execution_count": null,
   "metadata": {},
   "outputs": [],
   "source": []
  },
  {
   "cell_type": "code",
   "execution_count": null,
   "metadata": {},
   "outputs": [],
   "source": []
  },
  {
   "cell_type": "code",
   "execution_count": null,
   "metadata": {},
   "outputs": [],
   "source": []
  },
  {
   "cell_type": "code",
   "execution_count": null,
   "metadata": {},
   "outputs": [],
   "source": []
  },
  {
   "cell_type": "code",
   "execution_count": null,
   "metadata": {},
   "outputs": [],
   "source": []
  },
  {
   "cell_type": "code",
   "execution_count": null,
   "metadata": {},
   "outputs": [],
   "source": []
  },
  {
   "cell_type": "code",
   "execution_count": 125,
   "metadata": {},
   "outputs": [],
   "source": [
    "df_test = pd.read_csv('C:/Users/vikas/Downloads/test_mSzZ8RL.csv')"
   ]
  },
  {
   "cell_type": "code",
   "execution_count": 126,
   "metadata": {},
   "outputs": [
    {
     "data": {
      "text/html": [
       "<div>\n",
       "<style scoped>\n",
       "    .dataframe tbody tr th:only-of-type {\n",
       "        vertical-align: middle;\n",
       "    }\n",
       "\n",
       "    .dataframe tbody tr th {\n",
       "        vertical-align: top;\n",
       "    }\n",
       "\n",
       "    .dataframe thead th {\n",
       "        text-align: right;\n",
       "    }\n",
       "</style>\n",
       "<table border=\"1\" class=\"dataframe\">\n",
       "  <thead>\n",
       "    <tr style=\"text-align: right;\">\n",
       "      <th></th>\n",
       "      <th>ID</th>\n",
       "      <th>Gender</th>\n",
       "      <th>Age</th>\n",
       "      <th>Region_Code</th>\n",
       "      <th>Occupation</th>\n",
       "      <th>Channel_Code</th>\n",
       "      <th>Vintage</th>\n",
       "      <th>Credit_Product</th>\n",
       "      <th>Avg_Account_Balance</th>\n",
       "      <th>Is_Active</th>\n",
       "    </tr>\n",
       "  </thead>\n",
       "  <tbody>\n",
       "    <tr>\n",
       "      <th>0</th>\n",
       "      <td>VBENBARO</td>\n",
       "      <td>Male</td>\n",
       "      <td>29</td>\n",
       "      <td>RG254</td>\n",
       "      <td>Other</td>\n",
       "      <td>X1</td>\n",
       "      <td>25</td>\n",
       "      <td>Yes</td>\n",
       "      <td>742366</td>\n",
       "      <td>No</td>\n",
       "    </tr>\n",
       "    <tr>\n",
       "      <th>1</th>\n",
       "      <td>CCMEWNKY</td>\n",
       "      <td>Male</td>\n",
       "      <td>43</td>\n",
       "      <td>RG268</td>\n",
       "      <td>Other</td>\n",
       "      <td>X2</td>\n",
       "      <td>49</td>\n",
       "      <td>NaN</td>\n",
       "      <td>925537</td>\n",
       "      <td>No</td>\n",
       "    </tr>\n",
       "    <tr>\n",
       "      <th>2</th>\n",
       "      <td>VK3KGA9M</td>\n",
       "      <td>Male</td>\n",
       "      <td>31</td>\n",
       "      <td>RG270</td>\n",
       "      <td>Salaried</td>\n",
       "      <td>X1</td>\n",
       "      <td>14</td>\n",
       "      <td>No</td>\n",
       "      <td>215949</td>\n",
       "      <td>No</td>\n",
       "    </tr>\n",
       "    <tr>\n",
       "      <th>3</th>\n",
       "      <td>TT8RPZVC</td>\n",
       "      <td>Male</td>\n",
       "      <td>29</td>\n",
       "      <td>RG272</td>\n",
       "      <td>Other</td>\n",
       "      <td>X1</td>\n",
       "      <td>33</td>\n",
       "      <td>No</td>\n",
       "      <td>868070</td>\n",
       "      <td>No</td>\n",
       "    </tr>\n",
       "    <tr>\n",
       "      <th>4</th>\n",
       "      <td>SHQZEYTZ</td>\n",
       "      <td>Female</td>\n",
       "      <td>29</td>\n",
       "      <td>RG270</td>\n",
       "      <td>Other</td>\n",
       "      <td>X1</td>\n",
       "      <td>19</td>\n",
       "      <td>No</td>\n",
       "      <td>657087</td>\n",
       "      <td>No</td>\n",
       "    </tr>\n",
       "  </tbody>\n",
       "</table>\n",
       "</div>"
      ],
      "text/plain": [
       "         ID  Gender  Age Region_Code Occupation Channel_Code  Vintage  \\\n",
       "0  VBENBARO    Male   29       RG254      Other           X1       25   \n",
       "1  CCMEWNKY    Male   43       RG268      Other           X2       49   \n",
       "2  VK3KGA9M    Male   31       RG270   Salaried           X1       14   \n",
       "3  TT8RPZVC    Male   29       RG272      Other           X1       33   \n",
       "4  SHQZEYTZ  Female   29       RG270      Other           X1       19   \n",
       "\n",
       "  Credit_Product  Avg_Account_Balance Is_Active  \n",
       "0            Yes               742366        No  \n",
       "1            NaN               925537        No  \n",
       "2             No               215949        No  \n",
       "3             No               868070        No  \n",
       "4             No               657087        No  "
      ]
     },
     "execution_count": 126,
     "metadata": {},
     "output_type": "execute_result"
    }
   ],
   "source": [
    "df_test.head()"
   ]
  },
  {
   "cell_type": "code",
   "execution_count": 127,
   "metadata": {},
   "outputs": [
    {
     "data": {
      "text/plain": [
       "ID                         0\n",
       "Gender                     0\n",
       "Age                        0\n",
       "Region_Code                0\n",
       "Occupation                 0\n",
       "Channel_Code               0\n",
       "Vintage                    0\n",
       "Credit_Product         12522\n",
       "Avg_Account_Balance        0\n",
       "Is_Active                  0\n",
       "dtype: int64"
      ]
     },
     "execution_count": 127,
     "metadata": {},
     "output_type": "execute_result"
    }
   ],
   "source": [
    "df_test.isnull().sum()"
   ]
  },
  {
   "cell_type": "code",
   "execution_count": 128,
   "metadata": {},
   "outputs": [
    {
     "data": {
      "text/plain": [
       "(105312, 10)"
      ]
     },
     "execution_count": 128,
     "metadata": {},
     "output_type": "execute_result"
    }
   ],
   "source": [
    "df_test.shape"
   ]
  },
  {
   "cell_type": "code",
   "execution_count": 129,
   "metadata": {},
   "outputs": [
    {
     "data": {
      "text/plain": [
       "Male      57705\n",
       "Female    47607\n",
       "Name: Gender, dtype: int64"
      ]
     },
     "execution_count": 129,
     "metadata": {},
     "output_type": "execute_result"
    }
   ],
   "source": [
    "df_test.Gender.value_counts()"
   ]
  },
  {
   "cell_type": "code",
   "execution_count": 130,
   "metadata": {},
   "outputs": [
    {
     "data": {
      "text/plain": [
       "RG268    15125\n",
       "RG283    12881\n",
       "RG254    11737\n",
       "RG284     8173\n",
       "RG277     5596\n",
       "RG280     5529\n",
       "RG270     3440\n",
       "RG269     3288\n",
       "RG261     3286\n",
       "RG251     2678\n",
       "RG257     2588\n",
       "RG272     2338\n",
       "RG282     2337\n",
       "RG274     2208\n",
       "RG281     2144\n",
       "RG252     1811\n",
       "RG273     1803\n",
       "RG263     1615\n",
       "RG279     1600\n",
       "RG275     1383\n",
       "RG260     1300\n",
       "RG264     1241\n",
       "RG256     1194\n",
       "RG276     1185\n",
       "RG259     1102\n",
       "RG250     1048\n",
       "RG255      891\n",
       "RG278      824\n",
       "RG258      812\n",
       "RG253      810\n",
       "RG262      800\n",
       "RG265      668\n",
       "RG271      654\n",
       "RG266      631\n",
       "RG267      592\n",
       "Name: Region_Code, dtype: int64"
      ]
     },
     "execution_count": 130,
     "metadata": {},
     "output_type": "execute_result"
    }
   ],
   "source": [
    "df_test.Region_Code.value_counts()"
   ]
  },
  {
   "cell_type": "code",
   "execution_count": 131,
   "metadata": {},
   "outputs": [
    {
     "data": {
      "text/plain": [
       "Self_Employed    43192\n",
       "Salaried         30913\n",
       "Other            30131\n",
       "Entrepreneur      1076\n",
       "Name: Occupation, dtype: int64"
      ]
     },
     "execution_count": 131,
     "metadata": {},
     "output_type": "execute_result"
    }
   ],
   "source": [
    "df_test.Occupation.value_counts()"
   ]
  },
  {
   "cell_type": "code",
   "execution_count": 132,
   "metadata": {},
   "outputs": [
    {
     "data": {
      "text/plain": [
       "X1    44484\n",
       "X3    29269\n",
       "X2    29176\n",
       "X4     2383\n",
       "Name: Channel_Code, dtype: int64"
      ]
     },
     "execution_count": 132,
     "metadata": {},
     "output_type": "execute_result"
    }
   ],
   "source": [
    "df_test.Channel_Code.value_counts()"
   ]
  },
  {
   "cell_type": "code",
   "execution_count": 133,
   "metadata": {},
   "outputs": [
    {
     "data": {
      "text/plain": [
       "No     63797\n",
       "Yes    41515\n",
       "Name: Is_Active, dtype: int64"
      ]
     },
     "execution_count": 133,
     "metadata": {},
     "output_type": "execute_result"
    }
   ],
   "source": [
    "df_test.Is_Active.value_counts()"
   ]
  },
  {
   "cell_type": "code",
   "execution_count": null,
   "metadata": {},
   "outputs": [],
   "source": []
  },
  {
   "cell_type": "code",
   "execution_count": 134,
   "metadata": {},
   "outputs": [
    {
     "data": {
      "text/plain": [
       "No     61608\n",
       "Yes    31182\n",
       "Name: Credit_Product, dtype: int64"
      ]
     },
     "execution_count": 134,
     "metadata": {},
     "output_type": "execute_result"
    }
   ],
   "source": [
    "df_test.Credit_Product.value_counts()"
   ]
  },
  {
   "cell_type": "code",
   "execution_count": 135,
   "metadata": {},
   "outputs": [],
   "source": [
    "df_test['Credit_Product'].fillna(\"Yes\",inplace=True)"
   ]
  },
  {
   "cell_type": "code",
   "execution_count": 136,
   "metadata": {},
   "outputs": [
    {
     "data": {
      "text/plain": [
       "No     61608\n",
       "Yes    43704\n",
       "Name: Credit_Product, dtype: int64"
      ]
     },
     "execution_count": 136,
     "metadata": {},
     "output_type": "execute_result"
    }
   ],
   "source": [
    "df_test.Credit_Product.value_counts()"
   ]
  },
  {
   "cell_type": "code",
   "execution_count": 137,
   "metadata": {},
   "outputs": [
    {
     "name": "stderr",
     "output_type": "stream",
     "text": [
      "C:\\Users\\vikas\\anaconda3\\lib\\site-packages\\seaborn\\distributions.py:2557: FutureWarning: `distplot` is a deprecated function and will be removed in a future version. Please adapt your code to use either `displot` (a figure-level function with similar flexibility) or `histplot` (an axes-level function for histograms).\n",
      "  warnings.warn(msg, FutureWarning)\n"
     ]
    },
    {
     "data": {
      "text/plain": [
       "<matplotlib.axes._subplots.AxesSubplot at 0x1ad50dce3a0>"
      ]
     },
     "execution_count": 137,
     "metadata": {},
     "output_type": "execute_result"
    },
    {
     "data": {
      "image/png": "[encoded data removed]",
      "text/plain": [
       "<Figure size 432x288 with 1 Axes>"
      ]
     },
     "metadata": {
      "needs_background": "light"
     },
     "output_type": "display_data"
    }
   ],
   "source": [
    "sns.distplot(df_test['Age'])"
   ]
  },
  {
   "cell_type": "code",
   "execution_count": 138,
   "metadata": {},
   "outputs": [
    {
     "name": "stderr",
     "output_type": "stream",
     "text": [
      "C:\\Users\\vikas\\anaconda3\\lib\\site-packages\\seaborn\\_decorators.py:36: FutureWarning: Pass the following variable as a keyword arg: x. From version 0.12, the only valid positional argument will be `data`, and passing other arguments without an explicit keyword will result in an error or misinterpretation.\n",
      "  warnings.warn(\n"
     ]
    },
    {
     "data": {
      "text/plain": [
       "<matplotlib.axes._subplots.AxesSubplot at 0x1ad50e98b80>"
      ]
     },
     "execution_count": 138,
     "metadata": {},
     "output_type": "execute_result"
    },
    {
     "data": {
      "image/png": "[encoded data removed]",
      "text/plain": [
       "<Figure size 432x288 with 1 Axes>"
      ]
     },
     "metadata": {
      "needs_background": "light"
     },
     "output_type": "display_data"
    }
   ],
   "source": [
    "sns.boxplot('Age',data=df_test)"
   ]
  },
  {
   "cell_type": "code",
   "execution_count": 139,
   "metadata": {},
   "outputs": [
    {
     "data": {
      "text/plain": [
       "<matplotlib.axes._subplots.AxesSubplot at 0x1ad50edefd0>"
      ]
     },
     "execution_count": 139,
     "metadata": {},
     "output_type": "execute_result"
    },
    {
     "data": {
      "image/png": "[encoded data removed]",
      "text/plain": [
       "<Figure size 432x288 with 1 Axes>"
      ]
     },
     "metadata": {
      "needs_background": "light"
     },
     "output_type": "display_data"
    }
   ],
   "source": [
    "df_test['Vintage'].hist(bins=10)"
   ]
  },
  {
   "cell_type": "code",
   "execution_count": 140,
   "metadata": {},
   "outputs": [
    {
     "data": {
      "text/plain": [
       "<matplotlib.axes._subplots.AxesSubplot at 0x1ad4cdbfb20>"
      ]
     },
     "execution_count": 140,
     "metadata": {},
     "output_type": "execute_result"
    },
    {
     "data": {
      "image/png": "[encoded data removed]",
      "text/plain": [
       "<Figure size 432x288 with 1 Axes>"
      ]
     },
     "metadata": {
      "needs_background": "light"
     },
     "output_type": "display_data"
    }
   ],
   "source": [
    "sns.boxplot(x='Vintage',data=df_test)"
   ]
  },
  {
   "cell_type": "code",
   "execution_count": 141,
   "metadata": {},
   "outputs": [
    {
     "data": {
      "text/plain": [
       "<matplotlib.axes._subplots.AxesSubplot at 0x1ad484f8cd0>"
      ]
     },
     "execution_count": 141,
     "metadata": {},
     "output_type": "execute_result"
    },
    {
     "data": {
      "image/png": "[encoded data removed]",
      "text/plain": [
       "<Figure size 432x288 with 1 Axes>"
      ]
     },
     "metadata": {
      "needs_background": "light"
     },
     "output_type": "display_data"
    }
   ],
   "source": [
    "sns.boxplot(x='Avg_Account_Balance',data=df_test)"
   ]
  },
  {
   "cell_type": "code",
   "execution_count": 142,
   "metadata": {},
   "outputs": [],
   "source": [
    "df_test.set_index(\"ID\",inplace=True)"
   ]
  },
  {
   "cell_type": "code",
   "execution_count": 143,
   "metadata": {},
   "outputs": [],
   "source": [
    "test = df_test.copy()"
   ]
  },
  {
   "cell_type": "code",
   "execution_count": 144,
   "metadata": {},
   "outputs": [
    {
     "data": {
      "text/html": [
       "<div>\n",
       "<style scoped>\n",
       "    .dataframe tbody tr th:only-of-type {\n",
       "        vertical-align: middle;\n",
       "    }\n",
       "\n",
       "    .dataframe tbody tr th {\n",
       "        vertical-align: top;\n",
       "    }\n",
       "\n",
       "    .dataframe thead th {\n",
       "        text-align: right;\n",
       "    }\n",
       "</style>\n",
       "<table border=\"1\" class=\"dataframe\">\n",
       "  <thead>\n",
       "    <tr style=\"text-align: right;\">\n",
       "      <th></th>\n",
       "      <th>Gender</th>\n",
       "      <th>Age</th>\n",
       "      <th>Region_Code</th>\n",
       "      <th>Occupation</th>\n",
       "      <th>Channel_Code</th>\n",
       "      <th>Vintage</th>\n",
       "      <th>Credit_Product</th>\n",
       "      <th>Avg_Account_Balance</th>\n",
       "      <th>Is_Active</th>\n",
       "    </tr>\n",
       "    <tr>\n",
       "      <th>ID</th>\n",
       "      <th></th>\n",
       "      <th></th>\n",
       "      <th></th>\n",
       "      <th></th>\n",
       "      <th></th>\n",
       "      <th></th>\n",
       "      <th></th>\n",
       "      <th></th>\n",
       "      <th></th>\n",
       "    </tr>\n",
       "  </thead>\n",
       "  <tbody>\n",
       "    <tr>\n",
       "      <th>VBENBARO</th>\n",
       "      <td>Male</td>\n",
       "      <td>29</td>\n",
       "      <td>RG254</td>\n",
       "      <td>Other</td>\n",
       "      <td>X1</td>\n",
       "      <td>25</td>\n",
       "      <td>Yes</td>\n",
       "      <td>742366</td>\n",
       "      <td>No</td>\n",
       "    </tr>\n",
       "    <tr>\n",
       "      <th>CCMEWNKY</th>\n",
       "      <td>Male</td>\n",
       "      <td>43</td>\n",
       "      <td>RG268</td>\n",
       "      <td>Other</td>\n",
       "      <td>X2</td>\n",
       "      <td>49</td>\n",
       "      <td>Yes</td>\n",
       "      <td>925537</td>\n",
       "      <td>No</td>\n",
       "    </tr>\n",
       "    <tr>\n",
       "      <th>VK3KGA9M</th>\n",
       "      <td>Male</td>\n",
       "      <td>31</td>\n",
       "      <td>RG270</td>\n",
       "      <td>Salaried</td>\n",
       "      <td>X1</td>\n",
       "      <td>14</td>\n",
       "      <td>No</td>\n",
       "      <td>215949</td>\n",
       "      <td>No</td>\n",
       "    </tr>\n",
       "    <tr>\n",
       "      <th>TT8RPZVC</th>\n",
       "      <td>Male</td>\n",
       "      <td>29</td>\n",
       "      <td>RG272</td>\n",
       "      <td>Other</td>\n",
       "      <td>X1</td>\n",
       "      <td>33</td>\n",
       "      <td>No</td>\n",
       "      <td>868070</td>\n",
       "      <td>No</td>\n",
       "    </tr>\n",
       "    <tr>\n",
       "      <th>SHQZEYTZ</th>\n",
       "      <td>Female</td>\n",
       "      <td>29</td>\n",
       "      <td>RG270</td>\n",
       "      <td>Other</td>\n",
       "      <td>X1</td>\n",
       "      <td>19</td>\n",
       "      <td>No</td>\n",
       "      <td>657087</td>\n",
       "      <td>No</td>\n",
       "    </tr>\n",
       "  </tbody>\n",
       "</table>\n",
       "</div>"
      ],
      "text/plain": [
       "          Gender  Age Region_Code Occupation Channel_Code  Vintage  \\\n",
       "ID                                                                   \n",
       "VBENBARO    Male   29       RG254      Other           X1       25   \n",
       "CCMEWNKY    Male   43       RG268      Other           X2       49   \n",
       "VK3KGA9M    Male   31       RG270   Salaried           X1       14   \n",
       "TT8RPZVC    Male   29       RG272      Other           X1       33   \n",
       "SHQZEYTZ  Female   29       RG270      Other           X1       19   \n",
       "\n",
       "         Credit_Product  Avg_Account_Balance Is_Active  \n",
       "ID                                                      \n",
       "VBENBARO            Yes               742366        No  \n",
       "CCMEWNKY            Yes               925537        No  \n",
       "VK3KGA9M             No               215949        No  \n",
       "TT8RPZVC             No               868070        No  \n",
       "SHQZEYTZ             No               657087        No  "
      ]
     },
     "execution_count": 144,
     "metadata": {},
     "output_type": "execute_result"
    }
   ],
   "source": [
    "test.head()"
   ]
  },
  {
   "cell_type": "code",
   "execution_count": 145,
   "metadata": {},
   "outputs": [],
   "source": [
    "df_test_dummy = pd.get_dummies(test[[\"Gender\",\"Occupation\",\"Channel_Code\",\"Credit_Product\",\"Is_Active\"]],drop_first=True)"
   ]
  },
  {
   "cell_type": "code",
   "execution_count": 146,
   "metadata": {},
   "outputs": [],
   "source": [
    "test_dummy = pd.concat([test,df_test_dummy],axis=1)"
   ]
  },
  {
   "cell_type": "code",
   "execution_count": 147,
   "metadata": {},
   "outputs": [
    {
     "data": {
      "text/html": [
       "<div>\n",
       "<style scoped>\n",
       "    .dataframe tbody tr th:only-of-type {\n",
       "        vertical-align: middle;\n",
       "    }\n",
       "\n",
       "    .dataframe tbody tr th {\n",
       "        vertical-align: top;\n",
       "    }\n",
       "\n",
       "    .dataframe thead th {\n",
       "        text-align: right;\n",
       "    }\n",
       "</style>\n",
       "<table border=\"1\" class=\"dataframe\">\n",
       "  <thead>\n",
       "    <tr style=\"text-align: right;\">\n",
       "      <th></th>\n",
       "      <th>Gender</th>\n",
       "      <th>Age</th>\n",
       "      <th>Region_Code</th>\n",
       "      <th>Occupation</th>\n",
       "      <th>Channel_Code</th>\n",
       "      <th>Vintage</th>\n",
       "      <th>Credit_Product</th>\n",
       "      <th>Avg_Account_Balance</th>\n",
       "      <th>Is_Active</th>\n",
       "      <th>Gender_Male</th>\n",
       "      <th>Occupation_Other</th>\n",
       "      <th>Occupation_Salaried</th>\n",
       "      <th>Occupation_Self_Employed</th>\n",
       "      <th>Channel_Code_X2</th>\n",
       "      <th>Channel_Code_X3</th>\n",
       "      <th>Channel_Code_X4</th>\n",
       "      <th>Credit_Product_Yes</th>\n",
       "      <th>Is_Active_Yes</th>\n",
       "    </tr>\n",
       "    <tr>\n",
       "      <th>ID</th>\n",
       "      <th></th>\n",
       "      <th></th>\n",
       "      <th></th>\n",
       "      <th></th>\n",
       "      <th></th>\n",
       "      <th></th>\n",
       "      <th></th>\n",
       "      <th></th>\n",
       "      <th></th>\n",
       "      <th></th>\n",
       "      <th></th>\n",
       "      <th></th>\n",
       "      <th></th>\n",
       "      <th></th>\n",
       "      <th></th>\n",
       "      <th></th>\n",
       "      <th></th>\n",
       "      <th></th>\n",
       "    </tr>\n",
       "  </thead>\n",
       "  <tbody>\n",
       "    <tr>\n",
       "      <th>C3DFNBJL</th>\n",
       "      <td>Male</td>\n",
       "      <td>31</td>\n",
       "      <td>RG268</td>\n",
       "      <td>Self_Employed</td>\n",
       "      <td>X3</td>\n",
       "      <td>33</td>\n",
       "      <td>No</td>\n",
       "      <td>1579750</td>\n",
       "      <td>No</td>\n",
       "      <td>1</td>\n",
       "      <td>0</td>\n",
       "      <td>0</td>\n",
       "      <td>1</td>\n",
       "      <td>0</td>\n",
       "      <td>1</td>\n",
       "      <td>0</td>\n",
       "      <td>0</td>\n",
       "      <td>0</td>\n",
       "    </tr>\n",
       "    <tr>\n",
       "      <th>EXX5M5HZ</th>\n",
       "      <td>Male</td>\n",
       "      <td>30</td>\n",
       "      <td>RG250</td>\n",
       "      <td>Salaried</td>\n",
       "      <td>X1</td>\n",
       "      <td>25</td>\n",
       "      <td>Yes</td>\n",
       "      <td>562471</td>\n",
       "      <td>No</td>\n",
       "      <td>1</td>\n",
       "      <td>0</td>\n",
       "      <td>1</td>\n",
       "      <td>0</td>\n",
       "      <td>0</td>\n",
       "      <td>0</td>\n",
       "      <td>0</td>\n",
       "      <td>1</td>\n",
       "      <td>0</td>\n",
       "    </tr>\n",
       "    <tr>\n",
       "      <th>MC9I49JW</th>\n",
       "      <td>Female</td>\n",
       "      <td>30</td>\n",
       "      <td>RG254</td>\n",
       "      <td>Salaried</td>\n",
       "      <td>X1</td>\n",
       "      <td>13</td>\n",
       "      <td>No</td>\n",
       "      <td>532300</td>\n",
       "      <td>No</td>\n",
       "      <td>0</td>\n",
       "      <td>0</td>\n",
       "      <td>1</td>\n",
       "      <td>0</td>\n",
       "      <td>0</td>\n",
       "      <td>0</td>\n",
       "      <td>0</td>\n",
       "      <td>0</td>\n",
       "      <td>0</td>\n",
       "    </tr>\n",
       "    <tr>\n",
       "      <th>K3D9HWER</th>\n",
       "      <td>Female</td>\n",
       "      <td>26</td>\n",
       "      <td>RG280</td>\n",
       "      <td>Other</td>\n",
       "      <td>X1</td>\n",
       "      <td>21</td>\n",
       "      <td>No</td>\n",
       "      <td>939350</td>\n",
       "      <td>No</td>\n",
       "      <td>0</td>\n",
       "      <td>1</td>\n",
       "      <td>0</td>\n",
       "      <td>0</td>\n",
       "      <td>0</td>\n",
       "      <td>0</td>\n",
       "      <td>0</td>\n",
       "      <td>0</td>\n",
       "      <td>0</td>\n",
       "    </tr>\n",
       "    <tr>\n",
       "      <th>BPSQJYQZ</th>\n",
       "      <td>Female</td>\n",
       "      <td>53</td>\n",
       "      <td>RG268</td>\n",
       "      <td>Self_Employed</td>\n",
       "      <td>X3</td>\n",
       "      <td>91</td>\n",
       "      <td>Yes</td>\n",
       "      <td>1862120</td>\n",
       "      <td>Yes</td>\n",
       "      <td>0</td>\n",
       "      <td>0</td>\n",
       "      <td>0</td>\n",
       "      <td>1</td>\n",
       "      <td>0</td>\n",
       "      <td>1</td>\n",
       "      <td>0</td>\n",
       "      <td>1</td>\n",
       "      <td>1</td>\n",
       "    </tr>\n",
       "    <tr>\n",
       "      <th>BEOW9SDD</th>\n",
       "      <td>Male</td>\n",
       "      <td>63</td>\n",
       "      <td>RG270</td>\n",
       "      <td>Other</td>\n",
       "      <td>X1</td>\n",
       "      <td>33</td>\n",
       "      <td>No</td>\n",
       "      <td>501568</td>\n",
       "      <td>No</td>\n",
       "      <td>1</td>\n",
       "      <td>1</td>\n",
       "      <td>0</td>\n",
       "      <td>0</td>\n",
       "      <td>0</td>\n",
       "      <td>0</td>\n",
       "      <td>0</td>\n",
       "      <td>0</td>\n",
       "      <td>0</td>\n",
       "    </tr>\n",
       "    <tr>\n",
       "      <th>MR4ATCGV</th>\n",
       "      <td>Male</td>\n",
       "      <td>47</td>\n",
       "      <td>RG278</td>\n",
       "      <td>Self_Employed</td>\n",
       "      <td>X2</td>\n",
       "      <td>111</td>\n",
       "      <td>No</td>\n",
       "      <td>665639</td>\n",
       "      <td>Yes</td>\n",
       "      <td>1</td>\n",
       "      <td>0</td>\n",
       "      <td>0</td>\n",
       "      <td>1</td>\n",
       "      <td>1</td>\n",
       "      <td>0</td>\n",
       "      <td>0</td>\n",
       "      <td>0</td>\n",
       "      <td>1</td>\n",
       "    </tr>\n",
       "    <tr>\n",
       "      <th>KOYEQWCK</th>\n",
       "      <td>Female</td>\n",
       "      <td>64</td>\n",
       "      <td>RG284</td>\n",
       "      <td>Other</td>\n",
       "      <td>X3</td>\n",
       "      <td>91</td>\n",
       "      <td>Yes</td>\n",
       "      <td>670027</td>\n",
       "      <td>Yes</td>\n",
       "      <td>0</td>\n",
       "      <td>1</td>\n",
       "      <td>0</td>\n",
       "      <td>0</td>\n",
       "      <td>0</td>\n",
       "      <td>1</td>\n",
       "      <td>0</td>\n",
       "      <td>1</td>\n",
       "      <td>1</td>\n",
       "    </tr>\n",
       "    <tr>\n",
       "      <th>JFNRNXYQ</th>\n",
       "      <td>Male</td>\n",
       "      <td>25</td>\n",
       "      <td>RG254</td>\n",
       "      <td>Other</td>\n",
       "      <td>X1</td>\n",
       "      <td>21</td>\n",
       "      <td>No</td>\n",
       "      <td>746959</td>\n",
       "      <td>No</td>\n",
       "      <td>1</td>\n",
       "      <td>1</td>\n",
       "      <td>0</td>\n",
       "      <td>0</td>\n",
       "      <td>0</td>\n",
       "      <td>0</td>\n",
       "      <td>0</td>\n",
       "      <td>0</td>\n",
       "      <td>0</td>\n",
       "    </tr>\n",
       "    <tr>\n",
       "      <th>SLC7Z8FF</th>\n",
       "      <td>Female</td>\n",
       "      <td>30</td>\n",
       "      <td>RG268</td>\n",
       "      <td>Salaried</td>\n",
       "      <td>X2</td>\n",
       "      <td>33</td>\n",
       "      <td>Yes</td>\n",
       "      <td>1355683</td>\n",
       "      <td>No</td>\n",
       "      <td>0</td>\n",
       "      <td>0</td>\n",
       "      <td>1</td>\n",
       "      <td>0</td>\n",
       "      <td>1</td>\n",
       "      <td>0</td>\n",
       "      <td>0</td>\n",
       "      <td>1</td>\n",
       "      <td>0</td>\n",
       "    </tr>\n",
       "  </tbody>\n",
       "</table>\n",
       "</div>"
      ],
      "text/plain": [
       "          Gender  Age Region_Code     Occupation Channel_Code  Vintage  \\\n",
       "ID                                                                       \n",
       "C3DFNBJL    Male   31       RG268  Self_Employed           X3       33   \n",
       "EXX5M5HZ    Male   30       RG250       Salaried           X1       25   \n",
       "MC9I49JW  Female   30       RG254       Salaried           X1       13   \n",
       "K3D9HWER  Female   26       RG280          Other           X1       21   \n",
       "BPSQJYQZ  Female   53       RG268  Self_Employed           X3       91   \n",
       "BEOW9SDD    Male   63       RG270          Other           X1       33   \n",
       "MR4ATCGV    Male   47       RG278  Self_Employed           X2      111   \n",
       "KOYEQWCK  Female   64       RG284          Other           X3       91   \n",
       "JFNRNXYQ    Male   25       RG254          Other           X1       21   \n",
       "SLC7Z8FF  Female   30       RG268       Salaried           X2       33   \n",
       "\n",
       "         Credit_Product  Avg_Account_Balance Is_Active  Gender_Male  \\\n",
       "ID                                                                    \n",
       "C3DFNBJL             No              1579750        No            1   \n",
       "EXX5M5HZ            Yes               562471        No            1   \n",
       "MC9I49JW             No               532300        No            0   \n",
       "K3D9HWER             No               939350        No            0   \n",
       "BPSQJYQZ            Yes              1862120       Yes            0   \n",
       "BEOW9SDD             No               501568        No            1   \n",
       "MR4ATCGV             No               665639       Yes            1   \n",
       "KOYEQWCK            Yes               670027       Yes            0   \n",
       "JFNRNXYQ             No               746959        No            1   \n",
       "SLC7Z8FF            Yes              1355683        No            0   \n",
       "\n",
       "          Occupation_Other  Occupation_Salaried  Occupation_Self_Employed  \\\n",
       "ID                                                                          \n",
       "C3DFNBJL                 0                    0                         1   \n",
       "EXX5M5HZ                 0                    1                         0   \n",
       "MC9I49JW                 0                    1                         0   \n",
       "K3D9HWER                 1                    0                         0   \n",
       "BPSQJYQZ                 0                    0                         1   \n",
       "BEOW9SDD                 1                    0                         0   \n",
       "MR4ATCGV                 0                    0                         1   \n",
       "KOYEQWCK                 1                    0                         0   \n",
       "JFNRNXYQ                 1                    0                         0   \n",
       "SLC7Z8FF                 0                    1                         0   \n",
       "\n",
       "          Channel_Code_X2  Channel_Code_X3  Channel_Code_X4  \\\n",
       "ID                                                            \n",
       "C3DFNBJL                0                1                0   \n",
       "EXX5M5HZ                0                0                0   \n",
       "MC9I49JW                0                0                0   \n",
       "K3D9HWER                0                0                0   \n",
       "BPSQJYQZ                0                1                0   \n",
       "BEOW9SDD                0                0                0   \n",
       "MR4ATCGV                1                0                0   \n",
       "KOYEQWCK                0                1                0   \n",
       "JFNRNXYQ                0                0                0   \n",
       "SLC7Z8FF                1                0                0   \n",
       "\n",
       "          Credit_Product_Yes  Is_Active_Yes  \n",
       "ID                                           \n",
       "C3DFNBJL                   0              0  \n",
       "EXX5M5HZ                   1              0  \n",
       "MC9I49JW                   0              0  \n",
       "K3D9HWER                   0              0  \n",
       "BPSQJYQZ                   1              1  \n",
       "BEOW9SDD                   0              0  \n",
       "MR4ATCGV                   0              1  \n",
       "KOYEQWCK                   1              1  \n",
       "JFNRNXYQ                   0              0  \n",
       "SLC7Z8FF                   1              0  "
      ]
     },
     "execution_count": 147,
     "metadata": {},
     "output_type": "execute_result"
    }
   ],
   "source": [
    "test_dummy.sample(10)"
   ]
  },
  {
   "cell_type": "code",
   "execution_count": 148,
   "metadata": {},
   "outputs": [
    {
     "data": {
      "text/plain": [
       "<matplotlib.axes._subplots.AxesSubplot at 0x1ad484ec880>"
      ]
     },
     "execution_count": 148,
     "metadata": {},
     "output_type": "execute_result"
    },
    {
     "data": {
      "image/png": "[encoded data removed]",
      "text/plain": [
       "<Figure size 1152x720 with 2 Axes>"
      ]
     },
     "metadata": {
      "needs_background": "light"
     },
     "output_type": "display_data"
    }
   ],
   "source": [
    "plt.figure(figsize=(16,10))\n",
    "sns.heatmap(test_dummy.corr(),annot=True)"
   ]
  },
  {
   "cell_type": "code",
   "execution_count": 149,
   "metadata": {},
   "outputs": [],
   "source": [
    "f_test = test_dummy.drop(columns=[\"Gender\",\"Region_Code\",\"Occupation\",\"Channel_Code\",\"Credit_Product\",\"Is_Active\"])"
   ]
  },
  {
   "cell_type": "code",
   "execution_count": 150,
   "metadata": {},
   "outputs": [
    {
     "data": {
      "text/html": [
       "<div>\n",
       "<style scoped>\n",
       "    .dataframe tbody tr th:only-of-type {\n",
       "        vertical-align: middle;\n",
       "    }\n",
       "\n",
       "    .dataframe tbody tr th {\n",
       "        vertical-align: top;\n",
       "    }\n",
       "\n",
       "    .dataframe thead th {\n",
       "        text-align: right;\n",
       "    }\n",
       "</style>\n",
       "<table border=\"1\" class=\"dataframe\">\n",
       "  <thead>\n",
       "    <tr style=\"text-align: right;\">\n",
       "      <th></th>\n",
       "      <th>Age</th>\n",
       "      <th>Vintage</th>\n",
       "      <th>Avg_Account_Balance</th>\n",
       "      <th>Gender_Male</th>\n",
       "      <th>Occupation_Other</th>\n",
       "      <th>Occupation_Salaried</th>\n",
       "      <th>Occupation_Self_Employed</th>\n",
       "      <th>Channel_Code_X2</th>\n",
       "      <th>Channel_Code_X3</th>\n",
       "      <th>Channel_Code_X4</th>\n",
       "      <th>Credit_Product_Yes</th>\n",
       "      <th>Is_Active_Yes</th>\n",
       "    </tr>\n",
       "    <tr>\n",
       "      <th>ID</th>\n",
       "      <th></th>\n",
       "      <th></th>\n",
       "      <th></th>\n",
       "      <th></th>\n",
       "      <th></th>\n",
       "      <th></th>\n",
       "      <th></th>\n",
       "      <th></th>\n",
       "      <th></th>\n",
       "      <th></th>\n",
       "      <th></th>\n",
       "      <th></th>\n",
       "    </tr>\n",
       "  </thead>\n",
       "  <tbody>\n",
       "    <tr>\n",
       "      <th>TWURJLDO</th>\n",
       "      <td>27</td>\n",
       "      <td>20</td>\n",
       "      <td>970616</td>\n",
       "      <td>0</td>\n",
       "      <td>0</td>\n",
       "      <td>0</td>\n",
       "      <td>1</td>\n",
       "      <td>0</td>\n",
       "      <td>0</td>\n",
       "      <td>0</td>\n",
       "      <td>0</td>\n",
       "      <td>0</td>\n",
       "    </tr>\n",
       "    <tr>\n",
       "      <th>TJJUYHEA</th>\n",
       "      <td>27</td>\n",
       "      <td>25</td>\n",
       "      <td>516280</td>\n",
       "      <td>0</td>\n",
       "      <td>0</td>\n",
       "      <td>1</td>\n",
       "      <td>0</td>\n",
       "      <td>0</td>\n",
       "      <td>0</td>\n",
       "      <td>0</td>\n",
       "      <td>0</td>\n",
       "      <td>0</td>\n",
       "    </tr>\n",
       "    <tr>\n",
       "      <th>Z8CURS9F</th>\n",
       "      <td>45</td>\n",
       "      <td>20</td>\n",
       "      <td>527298</td>\n",
       "      <td>1</td>\n",
       "      <td>0</td>\n",
       "      <td>0</td>\n",
       "      <td>1</td>\n",
       "      <td>0</td>\n",
       "      <td>1</td>\n",
       "      <td>0</td>\n",
       "      <td>1</td>\n",
       "      <td>1</td>\n",
       "    </tr>\n",
       "    <tr>\n",
       "      <th>8VAN22XH</th>\n",
       "      <td>48</td>\n",
       "      <td>68</td>\n",
       "      <td>3767049</td>\n",
       "      <td>0</td>\n",
       "      <td>0</td>\n",
       "      <td>0</td>\n",
       "      <td>1</td>\n",
       "      <td>0</td>\n",
       "      <td>1</td>\n",
       "      <td>0</td>\n",
       "      <td>1</td>\n",
       "      <td>0</td>\n",
       "    </tr>\n",
       "    <tr>\n",
       "      <th>Y3SBQCSW</th>\n",
       "      <td>57</td>\n",
       "      <td>81</td>\n",
       "      <td>917002</td>\n",
       "      <td>1</td>\n",
       "      <td>0</td>\n",
       "      <td>0</td>\n",
       "      <td>1</td>\n",
       "      <td>0</td>\n",
       "      <td>1</td>\n",
       "      <td>0</td>\n",
       "      <td>0</td>\n",
       "      <td>1</td>\n",
       "    </tr>\n",
       "    <tr>\n",
       "      <th>TJSDRR8W</th>\n",
       "      <td>52</td>\n",
       "      <td>38</td>\n",
       "      <td>2298878</td>\n",
       "      <td>0</td>\n",
       "      <td>0</td>\n",
       "      <td>1</td>\n",
       "      <td>0</td>\n",
       "      <td>0</td>\n",
       "      <td>1</td>\n",
       "      <td>0</td>\n",
       "      <td>1</td>\n",
       "      <td>0</td>\n",
       "    </tr>\n",
       "    <tr>\n",
       "      <th>PHRNUCVX</th>\n",
       "      <td>46</td>\n",
       "      <td>98</td>\n",
       "      <td>540586</td>\n",
       "      <td>1</td>\n",
       "      <td>0</td>\n",
       "      <td>0</td>\n",
       "      <td>1</td>\n",
       "      <td>1</td>\n",
       "      <td>0</td>\n",
       "      <td>0</td>\n",
       "      <td>0</td>\n",
       "      <td>0</td>\n",
       "    </tr>\n",
       "    <tr>\n",
       "      <th>LNCH3YTV</th>\n",
       "      <td>28</td>\n",
       "      <td>20</td>\n",
       "      <td>706740</td>\n",
       "      <td>1</td>\n",
       "      <td>0</td>\n",
       "      <td>1</td>\n",
       "      <td>0</td>\n",
       "      <td>0</td>\n",
       "      <td>0</td>\n",
       "      <td>0</td>\n",
       "      <td>0</td>\n",
       "      <td>0</td>\n",
       "    </tr>\n",
       "    <tr>\n",
       "      <th>EJM3U2UQ</th>\n",
       "      <td>79</td>\n",
       "      <td>115</td>\n",
       "      <td>855014</td>\n",
       "      <td>1</td>\n",
       "      <td>1</td>\n",
       "      <td>0</td>\n",
       "      <td>0</td>\n",
       "      <td>0</td>\n",
       "      <td>1</td>\n",
       "      <td>0</td>\n",
       "      <td>1</td>\n",
       "      <td>1</td>\n",
       "    </tr>\n",
       "    <tr>\n",
       "      <th>P6O4H7PU</th>\n",
       "      <td>38</td>\n",
       "      <td>33</td>\n",
       "      <td>888762</td>\n",
       "      <td>0</td>\n",
       "      <td>0</td>\n",
       "      <td>0</td>\n",
       "      <td>1</td>\n",
       "      <td>1</td>\n",
       "      <td>0</td>\n",
       "      <td>0</td>\n",
       "      <td>1</td>\n",
       "      <td>1</td>\n",
       "    </tr>\n",
       "  </tbody>\n",
       "</table>\n",
       "</div>"
      ],
      "text/plain": [
       "          Age  Vintage  Avg_Account_Balance  Gender_Male  Occupation_Other  \\\n",
       "ID                                                                           \n",
       "TWURJLDO   27       20               970616            0                 0   \n",
       "TJJUYHEA   27       25               516280            0                 0   \n",
       "Z8CURS9F   45       20               527298            1                 0   \n",
       "8VAN22XH   48       68              3767049            0                 0   \n",
       "Y3SBQCSW   57       81               917002            1                 0   \n",
       "TJSDRR8W   52       38              2298878            0                 0   \n",
       "PHRNUCVX   46       98               540586            1                 0   \n",
       "LNCH3YTV   28       20               706740            1                 0   \n",
       "EJM3U2UQ   79      115               855014            1                 1   \n",
       "P6O4H7PU   38       33               888762            0                 0   \n",
       "\n",
       "          Occupation_Salaried  Occupation_Self_Employed  Channel_Code_X2  \\\n",
       "ID                                                                         \n",
       "TWURJLDO                    0                         1                0   \n",
       "TJJUYHEA                    1                         0                0   \n",
       "Z8CURS9F                    0                         1                0   \n",
       "8VAN22XH                    0                         1                0   \n",
       "Y3SBQCSW                    0                         1                0   \n",
       "TJSDRR8W                    1                         0                0   \n",
       "PHRNUCVX                    0                         1                1   \n",
       "LNCH3YTV                    1                         0                0   \n",
       "EJM3U2UQ                    0                         0                0   \n",
       "P6O4H7PU                    0                         1                1   \n",
       "\n",
       "          Channel_Code_X3  Channel_Code_X4  Credit_Product_Yes  Is_Active_Yes  \n",
       "ID                                                                             \n",
       "TWURJLDO                0                0                   0              0  \n",
       "TJJUYHEA                0                0                   0              0  \n",
       "Z8CURS9F                1                0                   1              1  \n",
       "8VAN22XH                1                0                   1              0  \n",
       "Y3SBQCSW                1                0                   0              1  \n",
       "TJSDRR8W                1                0                   1              0  \n",
       "PHRNUCVX                0                0                   0              0  \n",
       "LNCH3YTV                0                0                   0              0  \n",
       "EJM3U2UQ                1                0                   1              1  \n",
       "P6O4H7PU                0                0                   1              1  "
      ]
     },
     "execution_count": 150,
     "metadata": {},
     "output_type": "execute_result"
    }
   ],
   "source": [
    "f_test.sample(10)"
   ]
  },
  {
   "cell_type": "code",
   "execution_count": 151,
   "metadata": {},
   "outputs": [
    {
     "data": {
      "text/plain": [
       "(105312, 12)"
      ]
     },
     "execution_count": 151,
     "metadata": {},
     "output_type": "execute_result"
    }
   ],
   "source": [
    "f_test.shape"
   ]
  },
  {
   "cell_type": "code",
   "execution_count": 307,
   "metadata": {},
   "outputs": [],
   "source": [
    "rfc_test_predictions = rfc.predict(f_test)"
   ]
  },
  {
   "cell_type": "code",
   "execution_count": 308,
   "metadata": {},
   "outputs": [],
   "source": [
    "f_test[\"rfc_predictions\"] = rfc_test_predictions"
   ]
  },
  {
   "cell_type": "code",
   "execution_count": 309,
   "metadata": {},
   "outputs": [
    {
     "data": {
      "text/html": [
       "<div>\n",
       "<style scoped>\n",
       "    .dataframe tbody tr th:only-of-type {\n",
       "        vertical-align: middle;\n",
       "    }\n",
       "\n",
       "    .dataframe tbody tr th {\n",
       "        vertical-align: top;\n",
       "    }\n",
       "\n",
       "    .dataframe thead th {\n",
       "        text-align: right;\n",
       "    }\n",
       "</style>\n",
       "<table border=\"1\" class=\"dataframe\">\n",
       "  <thead>\n",
       "    <tr style=\"text-align: right;\">\n",
       "      <th></th>\n",
       "      <th>Age</th>\n",
       "      <th>Vintage</th>\n",
       "      <th>Avg_Account_Balance</th>\n",
       "      <th>Gender_Male</th>\n",
       "      <th>Occupation_Other</th>\n",
       "      <th>Occupation_Salaried</th>\n",
       "      <th>Occupation_Self_Employed</th>\n",
       "      <th>Channel_Code_X2</th>\n",
       "      <th>Channel_Code_X3</th>\n",
       "      <th>Channel_Code_X4</th>\n",
       "      <th>Credit_Product_Yes</th>\n",
       "      <th>Is_Active_Yes</th>\n",
       "      <th>rfc_predictions</th>\n",
       "    </tr>\n",
       "    <tr>\n",
       "      <th>ID</th>\n",
       "      <th></th>\n",
       "      <th></th>\n",
       "      <th></th>\n",
       "      <th></th>\n",
       "      <th></th>\n",
       "      <th></th>\n",
       "      <th></th>\n",
       "      <th></th>\n",
       "      <th></th>\n",
       "      <th></th>\n",
       "      <th></th>\n",
       "      <th></th>\n",
       "      <th></th>\n",
       "    </tr>\n",
       "  </thead>\n",
       "  <tbody>\n",
       "    <tr>\n",
       "      <th>VBENBARO</th>\n",
       "      <td>29</td>\n",
       "      <td>25</td>\n",
       "      <td>742366</td>\n",
       "      <td>1</td>\n",
       "      <td>1</td>\n",
       "      <td>0</td>\n",
       "      <td>0</td>\n",
       "      <td>0</td>\n",
       "      <td>0</td>\n",
       "      <td>0</td>\n",
       "      <td>1</td>\n",
       "      <td>0</td>\n",
       "      <td>0</td>\n",
       "    </tr>\n",
       "    <tr>\n",
       "      <th>CCMEWNKY</th>\n",
       "      <td>43</td>\n",
       "      <td>49</td>\n",
       "      <td>925537</td>\n",
       "      <td>1</td>\n",
       "      <td>1</td>\n",
       "      <td>0</td>\n",
       "      <td>0</td>\n",
       "      <td>1</td>\n",
       "      <td>0</td>\n",
       "      <td>0</td>\n",
       "      <td>1</td>\n",
       "      <td>0</td>\n",
       "      <td>1</td>\n",
       "    </tr>\n",
       "    <tr>\n",
       "      <th>VK3KGA9M</th>\n",
       "      <td>31</td>\n",
       "      <td>14</td>\n",
       "      <td>215949</td>\n",
       "      <td>1</td>\n",
       "      <td>0</td>\n",
       "      <td>1</td>\n",
       "      <td>0</td>\n",
       "      <td>0</td>\n",
       "      <td>0</td>\n",
       "      <td>0</td>\n",
       "      <td>0</td>\n",
       "      <td>0</td>\n",
       "      <td>0</td>\n",
       "    </tr>\n",
       "    <tr>\n",
       "      <th>TT8RPZVC</th>\n",
       "      <td>29</td>\n",
       "      <td>33</td>\n",
       "      <td>868070</td>\n",
       "      <td>1</td>\n",
       "      <td>1</td>\n",
       "      <td>0</td>\n",
       "      <td>0</td>\n",
       "      <td>0</td>\n",
       "      <td>0</td>\n",
       "      <td>0</td>\n",
       "      <td>0</td>\n",
       "      <td>0</td>\n",
       "      <td>0</td>\n",
       "    </tr>\n",
       "    <tr>\n",
       "      <th>SHQZEYTZ</th>\n",
       "      <td>29</td>\n",
       "      <td>19</td>\n",
       "      <td>657087</td>\n",
       "      <td>0</td>\n",
       "      <td>1</td>\n",
       "      <td>0</td>\n",
       "      <td>0</td>\n",
       "      <td>0</td>\n",
       "      <td>0</td>\n",
       "      <td>0</td>\n",
       "      <td>0</td>\n",
       "      <td>0</td>\n",
       "      <td>0</td>\n",
       "    </tr>\n",
       "  </tbody>\n",
       "</table>\n",
       "</div>"
      ],
      "text/plain": [
       "          Age  Vintage  Avg_Account_Balance  Gender_Male  Occupation_Other  \\\n",
       "ID                                                                           \n",
       "VBENBARO   29       25               742366            1                 1   \n",
       "CCMEWNKY   43       49               925537            1                 1   \n",
       "VK3KGA9M   31       14               215949            1                 0   \n",
       "TT8RPZVC   29       33               868070            1                 1   \n",
       "SHQZEYTZ   29       19               657087            0                 1   \n",
       "\n",
       "          Occupation_Salaried  Occupation_Self_Employed  Channel_Code_X2  \\\n",
       "ID                                                                         \n",
       "VBENBARO                    0                         0                0   \n",
       "CCMEWNKY                    0                         0                1   \n",
       "VK3KGA9M                    1                         0                0   \n",
       "TT8RPZVC                    0                         0                0   \n",
       "SHQZEYTZ                    0                         0                0   \n",
       "\n",
       "          Channel_Code_X3  Channel_Code_X4  Credit_Product_Yes  Is_Active_Yes  \\\n",
       "ID                                                                              \n",
       "VBENBARO                0                0                   1              0   \n",
       "CCMEWNKY                0                0                   1              0   \n",
       "VK3KGA9M                0                0                   0              0   \n",
       "TT8RPZVC                0                0                   0              0   \n",
       "SHQZEYTZ                0                0                   0              0   \n",
       "\n",
       "          rfc_predictions  \n",
       "ID                         \n",
       "VBENBARO                0  \n",
       "CCMEWNKY                1  \n",
       "VK3KGA9M                0  \n",
       "TT8RPZVC                0  \n",
       "SHQZEYTZ                0  "
      ]
     },
     "execution_count": 309,
     "metadata": {},
     "output_type": "execute_result"
    }
   ],
   "source": [
    "f_test.head()"
   ]
  },
  {
   "cell_type": "code",
   "execution_count": null,
   "metadata": {},
   "outputs": [],
   "source": []
  },
  {
   "cell_type": "code",
   "execution_count": 310,
   "metadata": {},
   "outputs": [],
   "source": [
    "output = f_test[\"rfc_predictions\"]"
   ]
  },
  {
   "cell_type": "code",
   "execution_count": 311,
   "metadata": {},
   "outputs": [
    {
     "data": {
      "text/plain": [
       "ID\n",
       "VBENBARO    0\n",
       "CCMEWNKY    1\n",
       "VK3KGA9M    0\n",
       "TT8RPZVC    0\n",
       "SHQZEYTZ    0\n",
       "           ..\n",
       "DBENJOYI    1\n",
       "CWQ72DWS    1\n",
       "HDESC8GU    0\n",
       "2PW4SFCA    0\n",
       "F2NOYPPZ    0\n",
       "Name: rfc_predictions, Length: 105312, dtype: int64"
      ]
     },
     "execution_count": 311,
     "metadata": {},
     "output_type": "execute_result"
    }
   ],
   "source": [
    "output"
   ]
  },
  {
   "cell_type": "code",
   "execution_count": 312,
   "metadata": {},
   "outputs": [],
   "source": [
    "output.to_csv('/Downloads/rfc_predictions3.csv')"
   ]
  },
  {
   "cell_type": "code",
   "execution_count": 158,
   "metadata": {},
   "outputs": [],
   "source": [
    "lgbc_predictions = lgbc.predict(f_test.drop(\"rfc_predictions\",axis=1))"
   ]
  },
  {
   "cell_type": "code",
   "execution_count": 159,
   "metadata": {},
   "outputs": [],
   "source": [
    "f_test[\"lgbc_predictions\"] = lgbc_predictions"
   ]
  },
  {
   "cell_type": "code",
   "execution_count": 160,
   "metadata": {},
   "outputs": [],
   "source": [
    "output_lgbc = f_test[\"lgbc_predictions\"]"
   ]
  },
  {
   "cell_type": "code",
   "execution_count": 161,
   "metadata": {},
   "outputs": [
    {
     "data": {
      "text/plain": [
       "ID\n",
       "VBENBARO    0.473552\n",
       "CCMEWNKY    0.502367\n",
       "VK3KGA9M    0.466725\n",
       "TT8RPZVC    0.459079\n",
       "SHQZEYTZ    0.459079\n",
       "              ...   \n",
       "DBENJOYI    0.547101\n",
       "CWQ72DWS    0.532310\n",
       "HDESC8GU    0.466725\n",
       "2PW4SFCA    0.490649\n",
       "F2NOYPPZ    0.466725\n",
       "Name: lgbc_predictions, Length: 105312, dtype: float64"
      ]
     },
     "execution_count": 161,
     "metadata": {},
     "output_type": "execute_result"
    }
   ],
   "source": [
    "output_lgbc"
   ]
  },
  {
   "cell_type": "code",
   "execution_count": 162,
   "metadata": {},
   "outputs": [],
   "source": [
    "output_lgbc.to_csv('/Downloads/lgbcc_predictions.csv')"
   ]
  },
  {
   "cell_type": "code",
   "execution_count": 163,
   "metadata": {},
   "outputs": [],
   "source": [
    "for i in range(0,len(f_test)):\n",
    "    if lgbc_predictions[i]>=0.5:\n",
    "        lgbc_predictions[i] = int(1.0)\n",
    "    else:\n",
    "        lgbc_predictions[i]=int(0.0)"
   ]
  },
  {
   "cell_type": "code",
   "execution_count": 164,
   "metadata": {},
   "outputs": [
    {
     "data": {
      "text/plain": [
       "array([0., 1., 0., ..., 0., 0., 0.])"
      ]
     },
     "execution_count": 164,
     "metadata": {},
     "output_type": "execute_result"
    }
   ],
   "source": [
    "lgbc_predictions"
   ]
  },
  {
   "cell_type": "code",
   "execution_count": 165,
   "metadata": {},
   "outputs": [],
   "source": [
    "f_test[\"lgbc_predictions_2\"] = lgbc_predictions"
   ]
  },
  {
   "cell_type": "code",
   "execution_count": 166,
   "metadata": {},
   "outputs": [
    {
     "data": {
      "text/plain": [
       "ID\n",
       "VBENBARO    0.0\n",
       "CCMEWNKY    1.0\n",
       "VK3KGA9M    0.0\n",
       "TT8RPZVC    0.0\n",
       "SHQZEYTZ    0.0\n",
       "           ... \n",
       "DBENJOYI    1.0\n",
       "CWQ72DWS    1.0\n",
       "HDESC8GU    0.0\n",
       "2PW4SFCA    0.0\n",
       "F2NOYPPZ    0.0\n",
       "Name: lgbc_predictions_2, Length: 105312, dtype: float64"
      ]
     },
     "execution_count": 166,
     "metadata": {},
     "output_type": "execute_result"
    }
   ],
   "source": [
    "output_lgbc = f_test[\"lgbc_predictions_2\"]\n",
    "output_lgbc"
   ]
  },
  {
   "cell_type": "code",
   "execution_count": 167,
   "metadata": {},
   "outputs": [],
   "source": [
    "output_lgbc.to_csv('/Downloads/lgbcc_predictions_2.csv')"
   ]
  },
  {
   "cell_type": "code",
   "execution_count": 168,
   "metadata": {},
   "outputs": [],
   "source": [
    "f_test = f_test.drop([\"rfc_predictions\",\"lgbc_predictions\",\"lgbc_predictions_2\"],axis=1)"
   ]
  },
  {
   "cell_type": "code",
   "execution_count": 169,
   "metadata": {},
   "outputs": [
    {
     "data": {
      "text/html": [
       "<div>\n",
       "<style scoped>\n",
       "    .dataframe tbody tr th:only-of-type {\n",
       "        vertical-align: middle;\n",
       "    }\n",
       "\n",
       "    .dataframe tbody tr th {\n",
       "        vertical-align: top;\n",
       "    }\n",
       "\n",
       "    .dataframe thead th {\n",
       "        text-align: right;\n",
       "    }\n",
       "</style>\n",
       "<table border=\"1\" class=\"dataframe\">\n",
       "  <thead>\n",
       "    <tr style=\"text-align: right;\">\n",
       "      <th></th>\n",
       "      <th>Age</th>\n",
       "      <th>Vintage</th>\n",
       "      <th>Avg_Account_Balance</th>\n",
       "      <th>Gender_Male</th>\n",
       "      <th>Occupation_Other</th>\n",
       "      <th>Occupation_Salaried</th>\n",
       "      <th>Occupation_Self_Employed</th>\n",
       "      <th>Channel_Code_X2</th>\n",
       "      <th>Channel_Code_X3</th>\n",
       "      <th>Channel_Code_X4</th>\n",
       "      <th>Credit_Product_Yes</th>\n",
       "      <th>Is_Active_Yes</th>\n",
       "    </tr>\n",
       "    <tr>\n",
       "      <th>ID</th>\n",
       "      <th></th>\n",
       "      <th></th>\n",
       "      <th></th>\n",
       "      <th></th>\n",
       "      <th></th>\n",
       "      <th></th>\n",
       "      <th></th>\n",
       "      <th></th>\n",
       "      <th></th>\n",
       "      <th></th>\n",
       "      <th></th>\n",
       "      <th></th>\n",
       "    </tr>\n",
       "  </thead>\n",
       "  <tbody>\n",
       "    <tr>\n",
       "      <th>VBENBARO</th>\n",
       "      <td>29</td>\n",
       "      <td>25</td>\n",
       "      <td>742366</td>\n",
       "      <td>1</td>\n",
       "      <td>1</td>\n",
       "      <td>0</td>\n",
       "      <td>0</td>\n",
       "      <td>0</td>\n",
       "      <td>0</td>\n",
       "      <td>0</td>\n",
       "      <td>1</td>\n",
       "      <td>0</td>\n",
       "    </tr>\n",
       "    <tr>\n",
       "      <th>CCMEWNKY</th>\n",
       "      <td>43</td>\n",
       "      <td>49</td>\n",
       "      <td>925537</td>\n",
       "      <td>1</td>\n",
       "      <td>1</td>\n",
       "      <td>0</td>\n",
       "      <td>0</td>\n",
       "      <td>1</td>\n",
       "      <td>0</td>\n",
       "      <td>0</td>\n",
       "      <td>1</td>\n",
       "      <td>0</td>\n",
       "    </tr>\n",
       "    <tr>\n",
       "      <th>VK3KGA9M</th>\n",
       "      <td>31</td>\n",
       "      <td>14</td>\n",
       "      <td>215949</td>\n",
       "      <td>1</td>\n",
       "      <td>0</td>\n",
       "      <td>1</td>\n",
       "      <td>0</td>\n",
       "      <td>0</td>\n",
       "      <td>0</td>\n",
       "      <td>0</td>\n",
       "      <td>0</td>\n",
       "      <td>0</td>\n",
       "    </tr>\n",
       "    <tr>\n",
       "      <th>TT8RPZVC</th>\n",
       "      <td>29</td>\n",
       "      <td>33</td>\n",
       "      <td>868070</td>\n",
       "      <td>1</td>\n",
       "      <td>1</td>\n",
       "      <td>0</td>\n",
       "      <td>0</td>\n",
       "      <td>0</td>\n",
       "      <td>0</td>\n",
       "      <td>0</td>\n",
       "      <td>0</td>\n",
       "      <td>0</td>\n",
       "    </tr>\n",
       "    <tr>\n",
       "      <th>SHQZEYTZ</th>\n",
       "      <td>29</td>\n",
       "      <td>19</td>\n",
       "      <td>657087</td>\n",
       "      <td>0</td>\n",
       "      <td>1</td>\n",
       "      <td>0</td>\n",
       "      <td>0</td>\n",
       "      <td>0</td>\n",
       "      <td>0</td>\n",
       "      <td>0</td>\n",
       "      <td>0</td>\n",
       "      <td>0</td>\n",
       "    </tr>\n",
       "  </tbody>\n",
       "</table>\n",
       "</div>"
      ],
      "text/plain": [
       "          Age  Vintage  Avg_Account_Balance  Gender_Male  Occupation_Other  \\\n",
       "ID                                                                           \n",
       "VBENBARO   29       25               742366            1                 1   \n",
       "CCMEWNKY   43       49               925537            1                 1   \n",
       "VK3KGA9M   31       14               215949            1                 0   \n",
       "TT8RPZVC   29       33               868070            1                 1   \n",
       "SHQZEYTZ   29       19               657087            0                 1   \n",
       "\n",
       "          Occupation_Salaried  Occupation_Self_Employed  Channel_Code_X2  \\\n",
       "ID                                                                         \n",
       "VBENBARO                    0                         0                0   \n",
       "CCMEWNKY                    0                         0                1   \n",
       "VK3KGA9M                    1                         0                0   \n",
       "TT8RPZVC                    0                         0                0   \n",
       "SHQZEYTZ                    0                         0                0   \n",
       "\n",
       "          Channel_Code_X3  Channel_Code_X4  Credit_Product_Yes  Is_Active_Yes  \n",
       "ID                                                                             \n",
       "VBENBARO                0                0                   1              0  \n",
       "CCMEWNKY                0                0                   1              0  \n",
       "VK3KGA9M                0                0                   0              0  \n",
       "TT8RPZVC                0                0                   0              0  \n",
       "SHQZEYTZ                0                0                   0              0  "
      ]
     },
     "execution_count": 169,
     "metadata": {},
     "output_type": "execute_result"
    }
   ],
   "source": [
    "f_test.head()"
   ]
  },
  {
   "cell_type": "code",
   "execution_count": 170,
   "metadata": {},
   "outputs": [],
   "source": [
    "dtc_predictions = dtc.predict(f_test)"
   ]
  },
  {
   "cell_type": "code",
   "execution_count": 171,
   "metadata": {},
   "outputs": [],
   "source": [
    "f_test[\"dtc_predictions\"] = dtc_predictions"
   ]
  },
  {
   "cell_type": "code",
   "execution_count": 172,
   "metadata": {},
   "outputs": [],
   "source": [
    "output_dtc = f_test[\"dtc_predictions\"]"
   ]
  },
  {
   "cell_type": "code",
   "execution_count": 173,
   "metadata": {},
   "outputs": [
    {
     "data": {
      "text/plain": [
       "ID\n",
       "VBENBARO    0\n",
       "CCMEWNKY    1\n",
       "VK3KGA9M    0\n",
       "TT8RPZVC    0\n",
       "SHQZEYTZ    0\n",
       "           ..\n",
       "DBENJOYI    1\n",
       "CWQ72DWS    0\n",
       "HDESC8GU    0\n",
       "2PW4SFCA    0\n",
       "F2NOYPPZ    0\n",
       "Name: dtc_predictions, Length: 105312, dtype: int64"
      ]
     },
     "execution_count": 173,
     "metadata": {},
     "output_type": "execute_result"
    }
   ],
   "source": [
    "output_dtc"
   ]
  },
  {
   "cell_type": "code",
   "execution_count": 174,
   "metadata": {},
   "outputs": [],
   "source": [
    "output_dtc.to_csv('/Downloads/dtc_predictions.csv')"
   ]
  },
  {
   "cell_type": "code",
   "execution_count": 175,
   "metadata": {},
   "outputs": [],
   "source": [
    "f_test = f_test.drop(\"dtc_predictions\",axis=1)"
   ]
  },
  {
   "cell_type": "code",
   "execution_count": 176,
   "metadata": {},
   "outputs": [],
   "source": [
    "xgb_predictions = xgboost.predict(f_test)"
   ]
  },
  {
   "cell_type": "code",
   "execution_count": 177,
   "metadata": {},
   "outputs": [],
   "source": [
    "adaboost_predictions = adab.predict(f_test)"
   ]
  },
  {
   "cell_type": "code",
   "execution_count": 178,
   "metadata": {},
   "outputs": [],
   "source": [
    "f_test[\"xgb_predictions\"] = xgb_predictions\n",
    "f_test[\"adaboost_predict\"] = adaboost_predictions"
   ]
  },
  {
   "cell_type": "code",
   "execution_count": 179,
   "metadata": {},
   "outputs": [
    {
     "data": {
      "text/plain": [
       "ID\n",
       "VBENBARO    0\n",
       "CCMEWNKY    1\n",
       "VK3KGA9M    0\n",
       "TT8RPZVC    0\n",
       "SHQZEYTZ    0\n",
       "           ..\n",
       "DBENJOYI    1\n",
       "CWQ72DWS    1\n",
       "HDESC8GU    0\n",
       "2PW4SFCA    0\n",
       "F2NOYPPZ    0\n",
       "Name: xgb_predictions, Length: 105312, dtype: int64"
      ]
     },
     "execution_count": 179,
     "metadata": {},
     "output_type": "execute_result"
    }
   ],
   "source": [
    "output_xgb = f_test[\"xgb_predictions\"]\n",
    "output_xgb"
   ]
  },
  {
   "cell_type": "code",
   "execution_count": 180,
   "metadata": {},
   "outputs": [],
   "source": [
    "output_xgb.to_csv('/Downloads/xgb_predictions.csv')"
   ]
  },
  {
   "cell_type": "code",
   "execution_count": 306,
   "metadata": {},
   "outputs": [],
   "source": [
    "f_test = f_test.drop([\"xgb_predictions\",\"adaboost_predict\"],axis=1)"
   ]
  },
  {
   "cell_type": "code",
   "execution_count": 314,
   "metadata": {},
   "outputs": [],
   "source": [
    "f_test = f_test.drop(\"rfc_predictions\",axis=1)"
   ]
  },
  {
   "cell_type": "code",
   "execution_count": 315,
   "metadata": {},
   "outputs": [],
   "source": [
    "catboost_predictions = catboost.predict(f_test)"
   ]
  },
  {
   "cell_type": "code",
   "execution_count": 316,
   "metadata": {},
   "outputs": [],
   "source": [
    "f_test[\"catboost_predictions\"] = catboost_predictions"
   ]
  },
  {
   "cell_type": "code",
   "execution_count": 317,
   "metadata": {},
   "outputs": [
    {
     "data": {
      "text/plain": [
       "ID\n",
       "VBENBARO    0\n",
       "CCMEWNKY    1\n",
       "VK3KGA9M    0\n",
       "TT8RPZVC    0\n",
       "SHQZEYTZ    0\n",
       "           ..\n",
       "DBENJOYI    1\n",
       "CWQ72DWS    1\n",
       "HDESC8GU    0\n",
       "2PW4SFCA    0\n",
       "F2NOYPPZ    0\n",
       "Name: catboost_predictions, Length: 105312, dtype: int64"
      ]
     },
     "execution_count": 317,
     "metadata": {},
     "output_type": "execute_result"
    }
   ],
   "source": [
    "output_cat = f_test[\"catboost_predictions\"]\n",
    "output_cat"
   ]
  },
  {
   "cell_type": "code",
   "execution_count": 319,
   "metadata": {},
   "outputs": [],
   "source": [
    "output_cat.to_csv(\"/Downloads/catboostpredictions.csv\")"
   ]
  },
  {
   "cell_type": "code",
   "execution_count": null,
   "metadata": {},
   "outputs": [],
   "source": []
  },
  {
   "cell_type": "code",
   "execution_count": null,
   "metadata": {},
   "outputs": [],
   "source": []
  },
  {
   "cell_type": "code",
   "execution_count": null,
   "metadata": {},
   "outputs": [],
   "source": []
  },
  {
   "cell_type": "code",
   "execution_count": 181,
   "metadata": {},
   "outputs": [
    {
     "data": {
      "text/html": [
       "<div>\n",
       "<style scoped>\n",
       "    .dataframe tbody tr th:only-of-type {\n",
       "        vertical-align: middle;\n",
       "    }\n",
       "\n",
       "    .dataframe tbody tr th {\n",
       "        vertical-align: top;\n",
       "    }\n",
       "\n",
       "    .dataframe thead th {\n",
       "        text-align: right;\n",
       "    }\n",
       "</style>\n",
       "<table border=\"1\" class=\"dataframe\">\n",
       "  <thead>\n",
       "    <tr style=\"text-align: right;\">\n",
       "      <th></th>\n",
       "      <th>Age</th>\n",
       "      <th>Vintage</th>\n",
       "      <th>Avg_Account_Balance</th>\n",
       "      <th>Gender_Male</th>\n",
       "      <th>Occupation_Other</th>\n",
       "      <th>Occupation_Salaried</th>\n",
       "      <th>Occupation_Self_Employed</th>\n",
       "      <th>Channel_Code_X2</th>\n",
       "      <th>Channel_Code_X3</th>\n",
       "      <th>Channel_Code_X4</th>\n",
       "      <th>Credit_Product_Yes</th>\n",
       "      <th>Is_Active_Yes</th>\n",
       "    </tr>\n",
       "  </thead>\n",
       "  <tbody>\n",
       "    <tr>\n",
       "      <th>0</th>\n",
       "      <td>73</td>\n",
       "      <td>43</td>\n",
       "      <td>1045696</td>\n",
       "      <td>0</td>\n",
       "      <td>1</td>\n",
       "      <td>0</td>\n",
       "      <td>0</td>\n",
       "      <td>0</td>\n",
       "      <td>1</td>\n",
       "      <td>0</td>\n",
       "      <td>0</td>\n",
       "      <td>0</td>\n",
       "    </tr>\n",
       "    <tr>\n",
       "      <th>1</th>\n",
       "      <td>30</td>\n",
       "      <td>32</td>\n",
       "      <td>581988</td>\n",
       "      <td>0</td>\n",
       "      <td>0</td>\n",
       "      <td>1</td>\n",
       "      <td>0</td>\n",
       "      <td>0</td>\n",
       "      <td>0</td>\n",
       "      <td>0</td>\n",
       "      <td>0</td>\n",
       "      <td>0</td>\n",
       "    </tr>\n",
       "    <tr>\n",
       "      <th>2</th>\n",
       "      <td>56</td>\n",
       "      <td>26</td>\n",
       "      <td>1484315</td>\n",
       "      <td>0</td>\n",
       "      <td>0</td>\n",
       "      <td>0</td>\n",
       "      <td>1</td>\n",
       "      <td>0</td>\n",
       "      <td>1</td>\n",
       "      <td>0</td>\n",
       "      <td>0</td>\n",
       "      <td>1</td>\n",
       "    </tr>\n",
       "    <tr>\n",
       "      <th>3</th>\n",
       "      <td>34</td>\n",
       "      <td>19</td>\n",
       "      <td>470454</td>\n",
       "      <td>1</td>\n",
       "      <td>0</td>\n",
       "      <td>1</td>\n",
       "      <td>0</td>\n",
       "      <td>0</td>\n",
       "      <td>0</td>\n",
       "      <td>0</td>\n",
       "      <td>0</td>\n",
       "      <td>0</td>\n",
       "    </tr>\n",
       "    <tr>\n",
       "      <th>4</th>\n",
       "      <td>30</td>\n",
       "      <td>33</td>\n",
       "      <td>886787</td>\n",
       "      <td>0</td>\n",
       "      <td>0</td>\n",
       "      <td>1</td>\n",
       "      <td>0</td>\n",
       "      <td>0</td>\n",
       "      <td>0</td>\n",
       "      <td>0</td>\n",
       "      <td>0</td>\n",
       "      <td>0</td>\n",
       "    </tr>\n",
       "  </tbody>\n",
       "</table>\n",
       "</div>"
      ],
      "text/plain": [
       "   Age  Vintage  Avg_Account_Balance  Gender_Male  Occupation_Other  \\\n",
       "0   73       43              1045696            0                 1   \n",
       "1   30       32               581988            0                 0   \n",
       "2   56       26              1484315            0                 0   \n",
       "3   34       19               470454            1                 0   \n",
       "4   30       33               886787            0                 0   \n",
       "\n",
       "   Occupation_Salaried  Occupation_Self_Employed  Channel_Code_X2  \\\n",
       "0                    0                         0                0   \n",
       "1                    1                         0                0   \n",
       "2                    0                         1                0   \n",
       "3                    1                         0                0   \n",
       "4                    1                         0                0   \n",
       "\n",
       "   Channel_Code_X3  Channel_Code_X4  Credit_Product_Yes  Is_Active_Yes  \n",
       "0                1                0                   0              0  \n",
       "1                0                0                   0              0  \n",
       "2                1                0                   0              1  \n",
       "3                0                0                   0              0  \n",
       "4                0                0                   0              0  "
      ]
     },
     "execution_count": 181,
     "metadata": {},
     "output_type": "execute_result"
    }
   ],
   "source": [
    "X_train_res.head()"
   ]
  },
  {
   "cell_type": "code",
   "execution_count": 182,
   "metadata": {},
   "outputs": [
    {
     "name": "stderr",
     "output_type": "stream",
     "text": [
      "C:\\Users\\vikas\\anaconda3\\lib\\site-packages\\seaborn\\_decorators.py:36: FutureWarning: Pass the following variable as a keyword arg: x. From version 0.12, the only valid positional argument will be `data`, and passing other arguments without an explicit keyword will result in an error or misinterpretation.\n",
      "  warnings.warn(\n"
     ]
    },
    {
     "data": {
      "text/plain": [
       "<matplotlib.axes._subplots.AxesSubplot at 0x1ad54dbda90>"
      ]
     },
     "execution_count": 182,
     "metadata": {},
     "output_type": "execute_result"
    },
    {
     "data": {
      "image/png": "[encoded data removed]",
      "text/plain": [
       "<Figure size 432x288 with 1 Axes>"
      ]
     },
     "metadata": {
      "needs_background": "light"
     },
     "output_type": "display_data"
    }
   ],
   "source": [
    "sns.boxplot(X_train_res['Avg_Account_Balance'])"
   ]
  },
  {
   "cell_type": "code",
   "execution_count": 183,
   "metadata": {},
   "outputs": [
    {
     "name": "stderr",
     "output_type": "stream",
     "text": [
      "C:\\Users\\vikas\\anaconda3\\lib\\site-packages\\seaborn\\_decorators.py:36: FutureWarning: Pass the following variable as a keyword arg: x. From version 0.12, the only valid positional argument will be `data`, and passing other arguments without an explicit keyword will result in an error or misinterpretation.\n",
      "  warnings.warn(\n"
     ]
    },
    {
     "data": {
      "text/plain": [
       "<matplotlib.axes._subplots.AxesSubplot at 0x1ad54da3640>"
      ]
     },
     "execution_count": 183,
     "metadata": {},
     "output_type": "execute_result"
    },
    {
     "data": {
      "image/png": "[encoded data removed]",
      "text/plain": [
       "<Figure size 432x288 with 1 Axes>"
      ]
     },
     "metadata": {
      "needs_background": "light"
     },
     "output_type": "display_data"
    }
   ],
   "source": [
    "sns.boxplot(X_test['Avg_Account_Balance'])"
   ]
  },
  {
   "cell_type": "code",
   "execution_count": 184,
   "metadata": {
    "scrolled": true
   },
   "outputs": [
    {
     "data": {
      "text/html": [
       "<div>\n",
       "<style scoped>\n",
       "    .dataframe tbody tr th:only-of-type {\n",
       "        vertical-align: middle;\n",
       "    }\n",
       "\n",
       "    .dataframe tbody tr th {\n",
       "        vertical-align: top;\n",
       "    }\n",
       "\n",
       "    .dataframe thead th {\n",
       "        text-align: right;\n",
       "    }\n",
       "</style>\n",
       "<table border=\"1\" class=\"dataframe\">\n",
       "  <thead>\n",
       "    <tr style=\"text-align: right;\">\n",
       "      <th></th>\n",
       "      <th>Age</th>\n",
       "      <th>Vintage</th>\n",
       "      <th>Avg_Account_Balance</th>\n",
       "      <th>Gender_Male</th>\n",
       "      <th>Occupation_Other</th>\n",
       "      <th>Occupation_Salaried</th>\n",
       "      <th>Occupation_Self_Employed</th>\n",
       "      <th>Channel_Code_X2</th>\n",
       "      <th>Channel_Code_X3</th>\n",
       "      <th>Channel_Code_X4</th>\n",
       "      <th>Credit_Product_Yes</th>\n",
       "      <th>Is_Active_Yes</th>\n",
       "    </tr>\n",
       "    <tr>\n",
       "      <th>ID</th>\n",
       "      <th></th>\n",
       "      <th></th>\n",
       "      <th></th>\n",
       "      <th></th>\n",
       "      <th></th>\n",
       "      <th></th>\n",
       "      <th></th>\n",
       "      <th></th>\n",
       "      <th></th>\n",
       "      <th></th>\n",
       "      <th></th>\n",
       "      <th></th>\n",
       "    </tr>\n",
       "  </thead>\n",
       "  <tbody>\n",
       "    <tr>\n",
       "      <th>FO27LBAN</th>\n",
       "      <td>82</td>\n",
       "      <td>51</td>\n",
       "      <td>441769</td>\n",
       "      <td>0</td>\n",
       "      <td>1</td>\n",
       "      <td>0</td>\n",
       "      <td>0</td>\n",
       "      <td>1</td>\n",
       "      <td>0</td>\n",
       "      <td>0</td>\n",
       "      <td>1</td>\n",
       "      <td>0</td>\n",
       "    </tr>\n",
       "    <tr>\n",
       "      <th>AJ9PANHI</th>\n",
       "      <td>52</td>\n",
       "      <td>62</td>\n",
       "      <td>661554</td>\n",
       "      <td>1</td>\n",
       "      <td>0</td>\n",
       "      <td>0</td>\n",
       "      <td>1</td>\n",
       "      <td>0</td>\n",
       "      <td>1</td>\n",
       "      <td>0</td>\n",
       "      <td>0</td>\n",
       "      <td>0</td>\n",
       "    </tr>\n",
       "    <tr>\n",
       "      <th>HY8ZRRB9</th>\n",
       "      <td>31</td>\n",
       "      <td>25</td>\n",
       "      <td>2151922</td>\n",
       "      <td>1</td>\n",
       "      <td>0</td>\n",
       "      <td>1</td>\n",
       "      <td>0</td>\n",
       "      <td>0</td>\n",
       "      <td>0</td>\n",
       "      <td>0</td>\n",
       "      <td>1</td>\n",
       "      <td>0</td>\n",
       "    </tr>\n",
       "    <tr>\n",
       "      <th>ORLPS7JG</th>\n",
       "      <td>33</td>\n",
       "      <td>27</td>\n",
       "      <td>2525072</td>\n",
       "      <td>0</td>\n",
       "      <td>0</td>\n",
       "      <td>0</td>\n",
       "      <td>1</td>\n",
       "      <td>0</td>\n",
       "      <td>0</td>\n",
       "      <td>0</td>\n",
       "      <td>0</td>\n",
       "      <td>0</td>\n",
       "    </tr>\n",
       "    <tr>\n",
       "      <th>D2JZQYRX</th>\n",
       "      <td>30</td>\n",
       "      <td>19</td>\n",
       "      <td>2156763</td>\n",
       "      <td>1</td>\n",
       "      <td>0</td>\n",
       "      <td>1</td>\n",
       "      <td>0</td>\n",
       "      <td>0</td>\n",
       "      <td>0</td>\n",
       "      <td>0</td>\n",
       "      <td>0</td>\n",
       "      <td>0</td>\n",
       "    </tr>\n",
       "  </tbody>\n",
       "</table>\n",
       "</div>"
      ],
      "text/plain": [
       "          Age  Vintage  Avg_Account_Balance  Gender_Male  Occupation_Other  \\\n",
       "ID                                                                           \n",
       "FO27LBAN   82       51               441769            0                 1   \n",
       "AJ9PANHI   52       62               661554            1                 0   \n",
       "HY8ZRRB9   31       25              2151922            1                 0   \n",
       "ORLPS7JG   33       27              2525072            0                 0   \n",
       "D2JZQYRX   30       19              2156763            1                 0   \n",
       "\n",
       "          Occupation_Salaried  Occupation_Self_Employed  Channel_Code_X2  \\\n",
       "ID                                                                         \n",
       "FO27LBAN                    0                         0                1   \n",
       "AJ9PANHI                    0                         1                0   \n",
       "HY8ZRRB9                    1                         0                0   \n",
       "ORLPS7JG                    0                         1                0   \n",
       "D2JZQYRX                    1                         0                0   \n",
       "\n",
       "          Channel_Code_X3  Channel_Code_X4  Credit_Product_Yes  Is_Active_Yes  \n",
       "ID                                                                             \n",
       "FO27LBAN                0                0                   1              0  \n",
       "AJ9PANHI                1                0                   0              0  \n",
       "HY8ZRRB9                0                0                   1              0  \n",
       "ORLPS7JG                0                0                   0              0  \n",
       "D2JZQYRX                0                0                   0              0  "
      ]
     },
     "execution_count": 184,
     "metadata": {},
     "output_type": "execute_result"
    }
   ],
   "source": [
    "X_test.head()"
   ]
  },
  {
   "cell_type": "code",
   "execution_count": 185,
   "metadata": {},
   "outputs": [
    {
     "data": {
      "text/html": [
       "<div>\n",
       "<style scoped>\n",
       "    .dataframe tbody tr th:only-of-type {\n",
       "        vertical-align: middle;\n",
       "    }\n",
       "\n",
       "    .dataframe tbody tr th {\n",
       "        vertical-align: top;\n",
       "    }\n",
       "\n",
       "    .dataframe thead th {\n",
       "        text-align: right;\n",
       "    }\n",
       "</style>\n",
       "<table border=\"1\" class=\"dataframe\">\n",
       "  <thead>\n",
       "    <tr style=\"text-align: right;\">\n",
       "      <th></th>\n",
       "      <th>Age</th>\n",
       "      <th>Vintage</th>\n",
       "      <th>Avg_Account_Balance</th>\n",
       "      <th>Gender_Male</th>\n",
       "      <th>Occupation_Other</th>\n",
       "      <th>Occupation_Salaried</th>\n",
       "      <th>Occupation_Self_Employed</th>\n",
       "      <th>Channel_Code_X2</th>\n",
       "      <th>Channel_Code_X3</th>\n",
       "      <th>Channel_Code_X4</th>\n",
       "      <th>Credit_Product_Yes</th>\n",
       "      <th>Is_Active_Yes</th>\n",
       "    </tr>\n",
       "  </thead>\n",
       "  <tbody>\n",
       "    <tr>\n",
       "      <th>count</th>\n",
       "      <td>374874.000000</td>\n",
       "      <td>374874.000000</td>\n",
       "      <td>3.748740e+05</td>\n",
       "      <td>374874.000000</td>\n",
       "      <td>374874.000000</td>\n",
       "      <td>374874.000000</td>\n",
       "      <td>374874.000000</td>\n",
       "      <td>374874.000000</td>\n",
       "      <td>374874.000000</td>\n",
       "      <td>374874.000000</td>\n",
       "      <td>374874.000000</td>\n",
       "      <td>374874.000000</td>\n",
       "    </tr>\n",
       "    <tr>\n",
       "      <th>mean</th>\n",
       "      <td>45.971967</td>\n",
       "      <td>52.543879</td>\n",
       "      <td>1.155649e+06</td>\n",
       "      <td>0.567609</td>\n",
       "      <td>0.288644</td>\n",
       "      <td>0.259994</td>\n",
       "      <td>0.433844</td>\n",
       "      <td>0.311990</td>\n",
       "      <td>0.332426</td>\n",
       "      <td>0.023152</td>\n",
       "      <td>0.552020</td>\n",
       "      <td>0.413579</td>\n",
       "    </tr>\n",
       "    <tr>\n",
       "      <th>std</th>\n",
       "      <td>14.489490</td>\n",
       "      <td>33.919745</td>\n",
       "      <td>8.563708e+05</td>\n",
       "      <td>0.495409</td>\n",
       "      <td>0.453132</td>\n",
       "      <td>0.438632</td>\n",
       "      <td>0.495605</td>\n",
       "      <td>0.463306</td>\n",
       "      <td>0.471084</td>\n",
       "      <td>0.150386</td>\n",
       "      <td>0.497287</td>\n",
       "      <td>0.492475</td>\n",
       "    </tr>\n",
       "    <tr>\n",
       "      <th>min</th>\n",
       "      <td>23.000000</td>\n",
       "      <td>7.000000</td>\n",
       "      <td>2.079000e+04</td>\n",
       "      <td>0.000000</td>\n",
       "      <td>0.000000</td>\n",
       "      <td>0.000000</td>\n",
       "      <td>0.000000</td>\n",
       "      <td>0.000000</td>\n",
       "      <td>0.000000</td>\n",
       "      <td>0.000000</td>\n",
       "      <td>0.000000</td>\n",
       "      <td>0.000000</td>\n",
       "    </tr>\n",
       "    <tr>\n",
       "      <th>25%</th>\n",
       "      <td>32.000000</td>\n",
       "      <td>21.000000</td>\n",
       "      <td>6.218892e+05</td>\n",
       "      <td>0.000000</td>\n",
       "      <td>0.000000</td>\n",
       "      <td>0.000000</td>\n",
       "      <td>0.000000</td>\n",
       "      <td>0.000000</td>\n",
       "      <td>0.000000</td>\n",
       "      <td>0.000000</td>\n",
       "      <td>0.000000</td>\n",
       "      <td>0.000000</td>\n",
       "    </tr>\n",
       "    <tr>\n",
       "      <th>50%</th>\n",
       "      <td>46.000000</td>\n",
       "      <td>39.000000</td>\n",
       "      <td>9.234640e+05</td>\n",
       "      <td>1.000000</td>\n",
       "      <td>0.000000</td>\n",
       "      <td>0.000000</td>\n",
       "      <td>0.000000</td>\n",
       "      <td>0.000000</td>\n",
       "      <td>0.000000</td>\n",
       "      <td>0.000000</td>\n",
       "      <td>1.000000</td>\n",
       "      <td>0.000000</td>\n",
       "    </tr>\n",
       "    <tr>\n",
       "      <th>75%</th>\n",
       "      <td>55.000000</td>\n",
       "      <td>85.000000</td>\n",
       "      <td>1.406111e+06</td>\n",
       "      <td>1.000000</td>\n",
       "      <td>1.000000</td>\n",
       "      <td>1.000000</td>\n",
       "      <td>1.000000</td>\n",
       "      <td>1.000000</td>\n",
       "      <td>1.000000</td>\n",
       "      <td>0.000000</td>\n",
       "      <td>1.000000</td>\n",
       "      <td>1.000000</td>\n",
       "    </tr>\n",
       "    <tr>\n",
       "      <th>max</th>\n",
       "      <td>85.000000</td>\n",
       "      <td>135.000000</td>\n",
       "      <td>1.035201e+07</td>\n",
       "      <td>1.000000</td>\n",
       "      <td>1.000000</td>\n",
       "      <td>1.000000</td>\n",
       "      <td>1.000000</td>\n",
       "      <td>1.000000</td>\n",
       "      <td>1.000000</td>\n",
       "      <td>1.000000</td>\n",
       "      <td>1.000000</td>\n",
       "      <td>1.000000</td>\n",
       "    </tr>\n",
       "  </tbody>\n",
       "</table>\n",
       "</div>"
      ],
      "text/plain": [
       "                 Age        Vintage  Avg_Account_Balance    Gender_Male  \\\n",
       "count  374874.000000  374874.000000         3.748740e+05  374874.000000   \n",
       "mean       45.971967      52.543879         1.155649e+06       0.567609   \n",
       "std        14.489490      33.919745         8.563708e+05       0.495409   \n",
       "min        23.000000       7.000000         2.079000e+04       0.000000   \n",
       "25%        32.000000      21.000000         6.218892e+05       0.000000   \n",
       "50%        46.000000      39.000000         9.234640e+05       1.000000   \n",
       "75%        55.000000      85.000000         1.406111e+06       1.000000   \n",
       "max        85.000000     135.000000         1.035201e+07       1.000000   \n",
       "\n",
       "       Occupation_Other  Occupation_Salaried  Occupation_Self_Employed  \\\n",
       "count     374874.000000        374874.000000             374874.000000   \n",
       "mean           0.288644             0.259994                  0.433844   \n",
       "std            0.453132             0.438632                  0.495605   \n",
       "min            0.000000             0.000000                  0.000000   \n",
       "25%            0.000000             0.000000                  0.000000   \n",
       "50%            0.000000             0.000000                  0.000000   \n",
       "75%            1.000000             1.000000                  1.000000   \n",
       "max            1.000000             1.000000                  1.000000   \n",
       "\n",
       "       Channel_Code_X2  Channel_Code_X3  Channel_Code_X4  Credit_Product_Yes  \\\n",
       "count    374874.000000    374874.000000    374874.000000       374874.000000   \n",
       "mean          0.311990         0.332426         0.023152            0.552020   \n",
       "std           0.463306         0.471084         0.150386            0.497287   \n",
       "min           0.000000         0.000000         0.000000            0.000000   \n",
       "25%           0.000000         0.000000         0.000000            0.000000   \n",
       "50%           0.000000         0.000000         0.000000            1.000000   \n",
       "75%           1.000000         1.000000         0.000000            1.000000   \n",
       "max           1.000000         1.000000         1.000000            1.000000   \n",
       "\n",
       "       Is_Active_Yes  \n",
       "count  374874.000000  \n",
       "mean        0.413579  \n",
       "std         0.492475  \n",
       "min         0.000000  \n",
       "25%         0.000000  \n",
       "50%         0.000000  \n",
       "75%         1.000000  \n",
       "max         1.000000  "
      ]
     },
     "execution_count": 185,
     "metadata": {},
     "output_type": "execute_result"
    }
   ],
   "source": [
    "X_train_res.describe()"
   ]
  },
  {
   "cell_type": "code",
   "execution_count": 186,
   "metadata": {},
   "outputs": [
    {
     "data": {
      "text/plain": [
       "(138217.0, 7741599.944000017)"
      ]
     },
     "execution_count": 186,
     "metadata": {},
     "output_type": "execute_result"
    }
   ],
   "source": [
    "#Outliers handling in Avg_Account_Balance\n",
    "min_thresold,max_thresold = X_train_res.Avg_Account_Balance.quantile([0.001,0.999])\n",
    "min_thresold,max_thresold"
   ]
  },
  {
   "cell_type": "code",
   "execution_count": 189,
   "metadata": {},
   "outputs": [
    {
     "data": {
      "text/plain": [
       "count    3.748740e+05\n",
       "mean     1.155649e+06\n",
       "std      8.563708e+05\n",
       "min      2.079000e+04\n",
       "25%      6.218892e+05\n",
       "50%      9.234640e+05\n",
       "75%      1.406111e+06\n",
       "max      1.035201e+07\n",
       "Name: Avg_Account_Balance, dtype: float64"
      ]
     },
     "execution_count": 189,
     "metadata": {},
     "output_type": "execute_result"
    }
   ],
   "source": [
    "X_train_res[\"Avg_Account_Balance\"].describe()"
   ]
  },
  {
   "cell_type": "code",
   "execution_count": 191,
   "metadata": {},
   "outputs": [
    {
     "data": {
      "text/plain": [
       "784221.75"
      ]
     },
     "execution_count": 191,
     "metadata": {},
     "output_type": "execute_result"
    }
   ],
   "source": [
    "IQR = X_train_res.Avg_Account_Balance.quantile(0.75)-X_train_res.Avg_Account_Balance.quantile(0.25)\n",
    "IQR"
   ]
  },
  {
   "cell_type": "code",
   "execution_count": 192,
   "metadata": {},
   "outputs": [
    {
     "name": "stdout",
     "output_type": "stream",
     "text": [
      "-554443.375\n",
      "2582443.625\n"
     ]
    },
    {
     "data": {
      "text/plain": [
       "(None, None)"
      ]
     },
     "execution_count": 192,
     "metadata": {},
     "output_type": "execute_result"
    }
   ],
   "source": [
    "lower_bridge=X_train_res['Avg_Account_Balance'].quantile(0.25)-(IQR*1.5)\n",
    "upper_bridge=X_train_res['Avg_Account_Balance'].quantile(0.75)+(IQR*1.5)\n",
    "print(lower_bridge), print(upper_bridge)"
   ]
  },
  {
   "cell_type": "code",
   "execution_count": 193,
   "metadata": {},
   "outputs": [
    {
     "name": "stdout",
     "output_type": "stream",
     "text": [
      "-1730776.0\n",
      "3758776.25\n"
     ]
    },
    {
     "data": {
      "text/plain": [
       "(None, None)"
      ]
     },
     "execution_count": 193,
     "metadata": {},
     "output_type": "execute_result"
    }
   ],
   "source": [
    "lower_bridge=X_train_res['Avg_Account_Balance'].quantile(0.25)-(IQR*3)\n",
    "upper_bridge=X_train_res['Avg_Account_Balance'].quantile(0.75)+(IQR*3)\n",
    "print(lower_bridge), print(upper_bridge)"
   ]
  },
  {
   "cell_type": "code",
   "execution_count": null,
   "metadata": {},
   "outputs": [],
   "source": []
  },
  {
   "cell_type": "code",
   "execution_count": 187,
   "metadata": {},
   "outputs": [
    {
     "data": {
      "text/html": [
       "<div>\n",
       "<style scoped>\n",
       "    .dataframe tbody tr th:only-of-type {\n",
       "        vertical-align: middle;\n",
       "    }\n",
       "\n",
       "    .dataframe tbody tr th {\n",
       "        vertical-align: top;\n",
       "    }\n",
       "\n",
       "    .dataframe thead th {\n",
       "        text-align: right;\n",
       "    }\n",
       "</style>\n",
       "<table border=\"1\" class=\"dataframe\">\n",
       "  <thead>\n",
       "    <tr style=\"text-align: right;\">\n",
       "      <th></th>\n",
       "      <th>Age</th>\n",
       "      <th>Vintage</th>\n",
       "      <th>Avg_Account_Balance</th>\n",
       "      <th>Gender_Male</th>\n",
       "      <th>Occupation_Other</th>\n",
       "      <th>Occupation_Salaried</th>\n",
       "      <th>Occupation_Self_Employed</th>\n",
       "      <th>Channel_Code_X2</th>\n",
       "      <th>Channel_Code_X3</th>\n",
       "      <th>Channel_Code_X4</th>\n",
       "      <th>Credit_Product_Yes</th>\n",
       "      <th>Is_Active_Yes</th>\n",
       "    </tr>\n",
       "  </thead>\n",
       "  <tbody>\n",
       "    <tr>\n",
       "      <th>3481</th>\n",
       "      <td>25</td>\n",
       "      <td>13</td>\n",
       "      <td>135475</td>\n",
       "      <td>0</td>\n",
       "      <td>0</td>\n",
       "      <td>1</td>\n",
       "      <td>0</td>\n",
       "      <td>0</td>\n",
       "      <td>0</td>\n",
       "      <td>0</td>\n",
       "      <td>0</td>\n",
       "      <td>1</td>\n",
       "    </tr>\n",
       "    <tr>\n",
       "      <th>4987</th>\n",
       "      <td>31</td>\n",
       "      <td>20</td>\n",
       "      <td>86169</td>\n",
       "      <td>1</td>\n",
       "      <td>0</td>\n",
       "      <td>1</td>\n",
       "      <td>0</td>\n",
       "      <td>0</td>\n",
       "      <td>0</td>\n",
       "      <td>0</td>\n",
       "      <td>0</td>\n",
       "      <td>0</td>\n",
       "    </tr>\n",
       "    <tr>\n",
       "      <th>6587</th>\n",
       "      <td>32</td>\n",
       "      <td>31</td>\n",
       "      <td>104690</td>\n",
       "      <td>0</td>\n",
       "      <td>0</td>\n",
       "      <td>1</td>\n",
       "      <td>0</td>\n",
       "      <td>0</td>\n",
       "      <td>0</td>\n",
       "      <td>0</td>\n",
       "      <td>0</td>\n",
       "      <td>0</td>\n",
       "    </tr>\n",
       "    <tr>\n",
       "      <th>6733</th>\n",
       "      <td>39</td>\n",
       "      <td>27</td>\n",
       "      <td>61187</td>\n",
       "      <td>1</td>\n",
       "      <td>0</td>\n",
       "      <td>0</td>\n",
       "      <td>1</td>\n",
       "      <td>0</td>\n",
       "      <td>0</td>\n",
       "      <td>0</td>\n",
       "      <td>1</td>\n",
       "      <td>0</td>\n",
       "    </tr>\n",
       "    <tr>\n",
       "      <th>7332</th>\n",
       "      <td>27</td>\n",
       "      <td>31</td>\n",
       "      <td>118619</td>\n",
       "      <td>1</td>\n",
       "      <td>1</td>\n",
       "      <td>0</td>\n",
       "      <td>0</td>\n",
       "      <td>0</td>\n",
       "      <td>0</td>\n",
       "      <td>0</td>\n",
       "      <td>0</td>\n",
       "      <td>0</td>\n",
       "    </tr>\n",
       "    <tr>\n",
       "      <th>...</th>\n",
       "      <td>...</td>\n",
       "      <td>...</td>\n",
       "      <td>...</td>\n",
       "      <td>...</td>\n",
       "      <td>...</td>\n",
       "      <td>...</td>\n",
       "      <td>...</td>\n",
       "      <td>...</td>\n",
       "      <td>...</td>\n",
       "      <td>...</td>\n",
       "      <td>...</td>\n",
       "      <td>...</td>\n",
       "    </tr>\n",
       "    <tr>\n",
       "      <th>360325</th>\n",
       "      <td>41</td>\n",
       "      <td>7</td>\n",
       "      <td>124074</td>\n",
       "      <td>1</td>\n",
       "      <td>0</td>\n",
       "      <td>0</td>\n",
       "      <td>1</td>\n",
       "      <td>0</td>\n",
       "      <td>0</td>\n",
       "      <td>1</td>\n",
       "      <td>1</td>\n",
       "      <td>0</td>\n",
       "    </tr>\n",
       "    <tr>\n",
       "      <th>362871</th>\n",
       "      <td>35</td>\n",
       "      <td>19</td>\n",
       "      <td>126940</td>\n",
       "      <td>1</td>\n",
       "      <td>0</td>\n",
       "      <td>0</td>\n",
       "      <td>1</td>\n",
       "      <td>1</td>\n",
       "      <td>0</td>\n",
       "      <td>0</td>\n",
       "      <td>1</td>\n",
       "      <td>0</td>\n",
       "    </tr>\n",
       "    <tr>\n",
       "      <th>370215</th>\n",
       "      <td>40</td>\n",
       "      <td>67</td>\n",
       "      <td>100934</td>\n",
       "      <td>1</td>\n",
       "      <td>0</td>\n",
       "      <td>0</td>\n",
       "      <td>1</td>\n",
       "      <td>1</td>\n",
       "      <td>0</td>\n",
       "      <td>0</td>\n",
       "      <td>1</td>\n",
       "      <td>0</td>\n",
       "    </tr>\n",
       "    <tr>\n",
       "      <th>372085</th>\n",
       "      <td>39</td>\n",
       "      <td>27</td>\n",
       "      <td>130741</td>\n",
       "      <td>0</td>\n",
       "      <td>0</td>\n",
       "      <td>1</td>\n",
       "      <td>0</td>\n",
       "      <td>0</td>\n",
       "      <td>0</td>\n",
       "      <td>0</td>\n",
       "      <td>1</td>\n",
       "      <td>0</td>\n",
       "    </tr>\n",
       "    <tr>\n",
       "      <th>372346</th>\n",
       "      <td>29</td>\n",
       "      <td>19</td>\n",
       "      <td>45950</td>\n",
       "      <td>1</td>\n",
       "      <td>0</td>\n",
       "      <td>1</td>\n",
       "      <td>0</td>\n",
       "      <td>0</td>\n",
       "      <td>0</td>\n",
       "      <td>0</td>\n",
       "      <td>1</td>\n",
       "      <td>1</td>\n",
       "    </tr>\n",
       "  </tbody>\n",
       "</table>\n",
       "<p>372 rows × 12 columns</p>\n",
       "</div>"
      ],
      "text/plain": [
       "        Age  Vintage  Avg_Account_Balance  Gender_Male  Occupation_Other  \\\n",
       "3481     25       13               135475            0                 0   \n",
       "4987     31       20                86169            1                 0   \n",
       "6587     32       31               104690            0                 0   \n",
       "6733     39       27                61187            1                 0   \n",
       "7332     27       31               118619            1                 1   \n",
       "...     ...      ...                  ...          ...               ...   \n",
       "360325   41        7               124074            1                 0   \n",
       "362871   35       19               126940            1                 0   \n",
       "370215   40       67               100934            1                 0   \n",
       "372085   39       27               130741            0                 0   \n",
       "372346   29       19                45950            1                 0   \n",
       "\n",
       "        Occupation_Salaried  Occupation_Self_Employed  Channel_Code_X2  \\\n",
       "3481                      1                         0                0   \n",
       "4987                      1                         0                0   \n",
       "6587                      1                         0                0   \n",
       "6733                      0                         1                0   \n",
       "7332                      0                         0                0   \n",
       "...                     ...                       ...              ...   \n",
       "360325                    0                         1                0   \n",
       "362871                    0                         1                1   \n",
       "370215                    0                         1                1   \n",
       "372085                    1                         0                0   \n",
       "372346                    1                         0                0   \n",
       "\n",
       "        Channel_Code_X3  Channel_Code_X4  Credit_Product_Yes  Is_Active_Yes  \n",
       "3481                  0                0                   0              1  \n",
       "4987                  0                0                   0              0  \n",
       "6587                  0                0                   0              0  \n",
       "6733                  0                0                   1              0  \n",
       "7332                  0                0                   0              0  \n",
       "...                 ...              ...                 ...            ...  \n",
       "360325                0                1                   1              0  \n",
       "362871                0                0                   1              0  \n",
       "370215                0                0                   1              0  \n",
       "372085                0                0                   1              0  \n",
       "372346                0                0                   1              1  \n",
       "\n",
       "[372 rows x 12 columns]"
      ]
     },
     "execution_count": 187,
     "metadata": {},
     "output_type": "execute_result"
    }
   ],
   "source": [
    "X_train_res[X_train_res.Avg_Account_Balance<min_thresold]"
   ]
  },
  {
   "cell_type": "code",
   "execution_count": 188,
   "metadata": {},
   "outputs": [
    {
     "data": {
      "text/html": [
       "<div>\n",
       "<style scoped>\n",
       "    .dataframe tbody tr th:only-of-type {\n",
       "        vertical-align: middle;\n",
       "    }\n",
       "\n",
       "    .dataframe tbody tr th {\n",
       "        vertical-align: top;\n",
       "    }\n",
       "\n",
       "    .dataframe thead th {\n",
       "        text-align: right;\n",
       "    }\n",
       "</style>\n",
       "<table border=\"1\" class=\"dataframe\">\n",
       "  <thead>\n",
       "    <tr style=\"text-align: right;\">\n",
       "      <th></th>\n",
       "      <th>Age</th>\n",
       "      <th>Vintage</th>\n",
       "      <th>Avg_Account_Balance</th>\n",
       "      <th>Gender_Male</th>\n",
       "      <th>Occupation_Other</th>\n",
       "      <th>Occupation_Salaried</th>\n",
       "      <th>Occupation_Self_Employed</th>\n",
       "      <th>Channel_Code_X2</th>\n",
       "      <th>Channel_Code_X3</th>\n",
       "      <th>Channel_Code_X4</th>\n",
       "      <th>Credit_Product_Yes</th>\n",
       "      <th>Is_Active_Yes</th>\n",
       "    </tr>\n",
       "  </thead>\n",
       "  <tbody>\n",
       "    <tr>\n",
       "      <th>461</th>\n",
       "      <td>41</td>\n",
       "      <td>19</td>\n",
       "      <td>7880380</td>\n",
       "      <td>1</td>\n",
       "      <td>1</td>\n",
       "      <td>0</td>\n",
       "      <td>0</td>\n",
       "      <td>1</td>\n",
       "      <td>0</td>\n",
       "      <td>0</td>\n",
       "      <td>0</td>\n",
       "      <td>1</td>\n",
       "    </tr>\n",
       "    <tr>\n",
       "      <th>1145</th>\n",
       "      <td>59</td>\n",
       "      <td>50</td>\n",
       "      <td>8256124</td>\n",
       "      <td>0</td>\n",
       "      <td>0</td>\n",
       "      <td>0</td>\n",
       "      <td>1</td>\n",
       "      <td>0</td>\n",
       "      <td>1</td>\n",
       "      <td>0</td>\n",
       "      <td>0</td>\n",
       "      <td>0</td>\n",
       "    </tr>\n",
       "    <tr>\n",
       "      <th>5804</th>\n",
       "      <td>50</td>\n",
       "      <td>50</td>\n",
       "      <td>7830985</td>\n",
       "      <td>1</td>\n",
       "      <td>0</td>\n",
       "      <td>0</td>\n",
       "      <td>1</td>\n",
       "      <td>0</td>\n",
       "      <td>0</td>\n",
       "      <td>0</td>\n",
       "      <td>0</td>\n",
       "      <td>1</td>\n",
       "    </tr>\n",
       "    <tr>\n",
       "      <th>6195</th>\n",
       "      <td>43</td>\n",
       "      <td>19</td>\n",
       "      <td>8588270</td>\n",
       "      <td>0</td>\n",
       "      <td>0</td>\n",
       "      <td>0</td>\n",
       "      <td>1</td>\n",
       "      <td>1</td>\n",
       "      <td>0</td>\n",
       "      <td>0</td>\n",
       "      <td>1</td>\n",
       "      <td>0</td>\n",
       "    </tr>\n",
       "    <tr>\n",
       "      <th>6648</th>\n",
       "      <td>53</td>\n",
       "      <td>110</td>\n",
       "      <td>7854226</td>\n",
       "      <td>0</td>\n",
       "      <td>0</td>\n",
       "      <td>0</td>\n",
       "      <td>1</td>\n",
       "      <td>0</td>\n",
       "      <td>1</td>\n",
       "      <td>0</td>\n",
       "      <td>1</td>\n",
       "      <td>0</td>\n",
       "    </tr>\n",
       "    <tr>\n",
       "      <th>...</th>\n",
       "      <td>...</td>\n",
       "      <td>...</td>\n",
       "      <td>...</td>\n",
       "      <td>...</td>\n",
       "      <td>...</td>\n",
       "      <td>...</td>\n",
       "      <td>...</td>\n",
       "      <td>...</td>\n",
       "      <td>...</td>\n",
       "      <td>...</td>\n",
       "      <td>...</td>\n",
       "      <td>...</td>\n",
       "    </tr>\n",
       "    <tr>\n",
       "      <th>372921</th>\n",
       "      <td>28</td>\n",
       "      <td>25</td>\n",
       "      <td>8924773</td>\n",
       "      <td>0</td>\n",
       "      <td>1</td>\n",
       "      <td>0</td>\n",
       "      <td>0</td>\n",
       "      <td>0</td>\n",
       "      <td>0</td>\n",
       "      <td>0</td>\n",
       "      <td>1</td>\n",
       "      <td>1</td>\n",
       "    </tr>\n",
       "    <tr>\n",
       "      <th>373348</th>\n",
       "      <td>49</td>\n",
       "      <td>97</td>\n",
       "      <td>8115829</td>\n",
       "      <td>0</td>\n",
       "      <td>0</td>\n",
       "      <td>0</td>\n",
       "      <td>1</td>\n",
       "      <td>1</td>\n",
       "      <td>0</td>\n",
       "      <td>0</td>\n",
       "      <td>1</td>\n",
       "      <td>1</td>\n",
       "    </tr>\n",
       "    <tr>\n",
       "      <th>374055</th>\n",
       "      <td>42</td>\n",
       "      <td>15</td>\n",
       "      <td>7945954</td>\n",
       "      <td>1</td>\n",
       "      <td>0</td>\n",
       "      <td>0</td>\n",
       "      <td>1</td>\n",
       "      <td>0</td>\n",
       "      <td>1</td>\n",
       "      <td>0</td>\n",
       "      <td>1</td>\n",
       "      <td>1</td>\n",
       "    </tr>\n",
       "    <tr>\n",
       "      <th>374387</th>\n",
       "      <td>72</td>\n",
       "      <td>103</td>\n",
       "      <td>8781245</td>\n",
       "      <td>1</td>\n",
       "      <td>1</td>\n",
       "      <td>0</td>\n",
       "      <td>0</td>\n",
       "      <td>0</td>\n",
       "      <td>1</td>\n",
       "      <td>0</td>\n",
       "      <td>1</td>\n",
       "      <td>1</td>\n",
       "    </tr>\n",
       "    <tr>\n",
       "      <th>374701</th>\n",
       "      <td>82</td>\n",
       "      <td>92</td>\n",
       "      <td>9023689</td>\n",
       "      <td>1</td>\n",
       "      <td>1</td>\n",
       "      <td>0</td>\n",
       "      <td>0</td>\n",
       "      <td>1</td>\n",
       "      <td>0</td>\n",
       "      <td>0</td>\n",
       "      <td>1</td>\n",
       "      <td>0</td>\n",
       "    </tr>\n",
       "  </tbody>\n",
       "</table>\n",
       "<p>375 rows × 12 columns</p>\n",
       "</div>"
      ],
      "text/plain": [
       "        Age  Vintage  Avg_Account_Balance  Gender_Male  Occupation_Other  \\\n",
       "461      41       19              7880380            1                 1   \n",
       "1145     59       50              8256124            0                 0   \n",
       "5804     50       50              7830985            1                 0   \n",
       "6195     43       19              8588270            0                 0   \n",
       "6648     53      110              7854226            0                 0   \n",
       "...     ...      ...                  ...          ...               ...   \n",
       "372921   28       25              8924773            0                 1   \n",
       "373348   49       97              8115829            0                 0   \n",
       "374055   42       15              7945954            1                 0   \n",
       "374387   72      103              8781245            1                 1   \n",
       "374701   82       92              9023689            1                 1   \n",
       "\n",
       "        Occupation_Salaried  Occupation_Self_Employed  Channel_Code_X2  \\\n",
       "461                       0                         0                1   \n",
       "1145                      0                         1                0   \n",
       "5804                      0                         1                0   \n",
       "6195                      0                         1                1   \n",
       "6648                      0                         1                0   \n",
       "...                     ...                       ...              ...   \n",
       "372921                    0                         0                0   \n",
       "373348                    0                         1                1   \n",
       "374055                    0                         1                0   \n",
       "374387                    0                         0                0   \n",
       "374701                    0                         0                1   \n",
       "\n",
       "        Channel_Code_X3  Channel_Code_X4  Credit_Product_Yes  Is_Active_Yes  \n",
       "461                   0                0                   0              1  \n",
       "1145                  1                0                   0              0  \n",
       "5804                  0                0                   0              1  \n",
       "6195                  0                0                   1              0  \n",
       "6648                  1                0                   1              0  \n",
       "...                 ...              ...                 ...            ...  \n",
       "372921                0                0                   1              1  \n",
       "373348                0                0                   1              1  \n",
       "374055                1                0                   1              1  \n",
       "374387                1                0                   1              1  \n",
       "374701                0                0                   1              0  \n",
       "\n",
       "[375 rows x 12 columns]"
      ]
     },
     "execution_count": 188,
     "metadata": {},
     "output_type": "execute_result"
    }
   ],
   "source": [
    "X_train_res[X_train_res.Avg_Account_Balance>max_thresold]"
   ]
  },
  {
   "cell_type": "code",
   "execution_count": 194,
   "metadata": {},
   "outputs": [
    {
     "data": {
      "text/plain": [
       "(374121, 12)"
      ]
     },
     "execution_count": 194,
     "metadata": {},
     "output_type": "execute_result"
    }
   ],
   "source": [
    "X_train_res_without_outliers = X_train_res[(X_train_res.Avg_Account_Balance<max_thresold) & (X_train_res.Avg_Account_Balance>min_thresold)]\n",
    "X_train_res_without_outliers.shape"
   ]
  },
  {
   "cell_type": "code",
   "execution_count": 195,
   "metadata": {},
   "outputs": [
    {
     "name": "stderr",
     "output_type": "stream",
     "text": [
      "C:\\Users\\vikas\\anaconda3\\lib\\site-packages\\pandas\\core\\indexing.py:1738: SettingWithCopyWarning: \n",
      "A value is trying to be set on a copy of a slice from a DataFrame.\n",
      "Try using .loc[row_indexer,col_indexer] = value instead\n",
      "\n",
      "See the caveats in the documentation: https://pandas.pydata.org/pandas-docs/stable/user_guide/indexing.html#returning-a-view-versus-a-copy\n",
      "  self._setitem_single_column(loc, value[:, i].tolist(), pi)\n"
     ]
    }
   ],
   "source": [
    "X_train_res_without_outliers.iloc[:,:3] = scaler.fit_transform(X_train_res_without_outliers.iloc[:,:3])"
   ]
  },
  {
   "cell_type": "code",
   "execution_count": 196,
   "metadata": {},
   "outputs": [
    {
     "data": {
      "text/html": [
       "<div>\n",
       "<style scoped>\n",
       "    .dataframe tbody tr th:only-of-type {\n",
       "        vertical-align: middle;\n",
       "    }\n",
       "\n",
       "    .dataframe tbody tr th {\n",
       "        vertical-align: top;\n",
       "    }\n",
       "\n",
       "    .dataframe thead th {\n",
       "        text-align: right;\n",
       "    }\n",
       "</style>\n",
       "<table border=\"1\" class=\"dataframe\">\n",
       "  <thead>\n",
       "    <tr style=\"text-align: right;\">\n",
       "      <th></th>\n",
       "      <th>Age</th>\n",
       "      <th>Vintage</th>\n",
       "      <th>Avg_Account_Balance</th>\n",
       "      <th>Gender_Male</th>\n",
       "      <th>Occupation_Other</th>\n",
       "      <th>Occupation_Salaried</th>\n",
       "      <th>Occupation_Self_Employed</th>\n",
       "      <th>Channel_Code_X2</th>\n",
       "      <th>Channel_Code_X3</th>\n",
       "      <th>Channel_Code_X4</th>\n",
       "      <th>Credit_Product_Yes</th>\n",
       "      <th>Is_Active_Yes</th>\n",
       "    </tr>\n",
       "  </thead>\n",
       "  <tbody>\n",
       "    <tr>\n",
       "      <th>0</th>\n",
       "      <td>0.806452</td>\n",
       "      <td>0.281250</td>\n",
       "      <td>0.119343</td>\n",
       "      <td>0</td>\n",
       "      <td>1</td>\n",
       "      <td>0</td>\n",
       "      <td>0</td>\n",
       "      <td>0</td>\n",
       "      <td>1</td>\n",
       "      <td>0</td>\n",
       "      <td>0</td>\n",
       "      <td>0</td>\n",
       "    </tr>\n",
       "    <tr>\n",
       "      <th>1</th>\n",
       "      <td>0.112903</td>\n",
       "      <td>0.195312</td>\n",
       "      <td>0.058354</td>\n",
       "      <td>0</td>\n",
       "      <td>0</td>\n",
       "      <td>1</td>\n",
       "      <td>0</td>\n",
       "      <td>0</td>\n",
       "      <td>0</td>\n",
       "      <td>0</td>\n",
       "      <td>0</td>\n",
       "      <td>0</td>\n",
       "    </tr>\n",
       "    <tr>\n",
       "      <th>2</th>\n",
       "      <td>0.532258</td>\n",
       "      <td>0.148438</td>\n",
       "      <td>0.177031</td>\n",
       "      <td>0</td>\n",
       "      <td>0</td>\n",
       "      <td>0</td>\n",
       "      <td>1</td>\n",
       "      <td>0</td>\n",
       "      <td>1</td>\n",
       "      <td>0</td>\n",
       "      <td>0</td>\n",
       "      <td>1</td>\n",
       "    </tr>\n",
       "    <tr>\n",
       "      <th>3</th>\n",
       "      <td>0.177419</td>\n",
       "      <td>0.093750</td>\n",
       "      <td>0.043685</td>\n",
       "      <td>1</td>\n",
       "      <td>0</td>\n",
       "      <td>1</td>\n",
       "      <td>0</td>\n",
       "      <td>0</td>\n",
       "      <td>0</td>\n",
       "      <td>0</td>\n",
       "      <td>0</td>\n",
       "      <td>0</td>\n",
       "    </tr>\n",
       "    <tr>\n",
       "      <th>4</th>\n",
       "      <td>0.112903</td>\n",
       "      <td>0.203125</td>\n",
       "      <td>0.098442</td>\n",
       "      <td>0</td>\n",
       "      <td>0</td>\n",
       "      <td>1</td>\n",
       "      <td>0</td>\n",
       "      <td>0</td>\n",
       "      <td>0</td>\n",
       "      <td>0</td>\n",
       "      <td>0</td>\n",
       "      <td>0</td>\n",
       "    </tr>\n",
       "  </tbody>\n",
       "</table>\n",
       "</div>"
      ],
      "text/plain": [
       "        Age   Vintage  Avg_Account_Balance  Gender_Male  Occupation_Other  \\\n",
       "0  0.806452  0.281250             0.119343            0                 1   \n",
       "1  0.112903  0.195312             0.058354            0                 0   \n",
       "2  0.532258  0.148438             0.177031            0                 0   \n",
       "3  0.177419  0.093750             0.043685            1                 0   \n",
       "4  0.112903  0.203125             0.098442            0                 0   \n",
       "\n",
       "   Occupation_Salaried  Occupation_Self_Employed  Channel_Code_X2  \\\n",
       "0                    0                         0                0   \n",
       "1                    1                         0                0   \n",
       "2                    0                         1                0   \n",
       "3                    1                         0                0   \n",
       "4                    1                         0                0   \n",
       "\n",
       "   Channel_Code_X3  Channel_Code_X4  Credit_Product_Yes  Is_Active_Yes  \n",
       "0                1                0                   0              0  \n",
       "1                0                0                   0              0  \n",
       "2                1                0                   0              1  \n",
       "3                0                0                   0              0  \n",
       "4                0                0                   0              0  "
      ]
     },
     "execution_count": 196,
     "metadata": {},
     "output_type": "execute_result"
    }
   ],
   "source": [
    "X_train_res_without_outliers.head()"
   ]
  },
  {
   "cell_type": "code",
   "execution_count": null,
   "metadata": {},
   "outputs": [],
   "source": []
  }
 ],
 "metadata": {
  "kernelspec": {
   "display_name": "Python 3",
   "language": "python",
   "name": "python3"
  }
 },
 "nbformat": 4,
 "nbformat_minor": 4
}
